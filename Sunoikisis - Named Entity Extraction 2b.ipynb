{
 "cells": [
  {
   "cell_type": "markdown",
   "metadata": {
    "toc": "true"
   },
   "source": [
    "# Table of Contents\n",
    " <p><div class=\"lev1 toc-item\"><a href=\"#Taking-it-from-where-we-left...\" data-toc-modified-id=\"Taking-it-from-where-we-left...-1\"><span class=\"toc-item-num\">1&nbsp;&nbsp;</span>Taking it from where we left...</a></div><div class=\"lev2 toc-item\"><a href=\"#Saving-Python-objects\" data-toc-modified-id=\"Saving-Python-objects-11\"><span class=\"toc-item-num\">1.1&nbsp;&nbsp;</span>Saving Python objects</a></div><div class=\"lev2 toc-item\"><a href=\"#Loading-Python-objects-back-into-memory\" data-toc-modified-id=\"Loading-Python-objects-back-into-memory-12\"><span class=\"toc-item-num\">1.2&nbsp;&nbsp;</span>Loading Python objects back into memory</a></div><div class=\"lev1 toc-item\"><a href=\"#Gathering-basic-statistics-about-the-extracted-NEs\" data-toc-modified-id=\"Gathering-basic-statistics-about-the-extracted-NEs-2\"><span class=\"toc-item-num\">2&nbsp;&nbsp;</span>Gathering basic statistics about the extracted NEs</a></div><div class=\"lev2 toc-item\"><a href=\"#Counting-entities-by-type\" data-toc-modified-id=\"Counting-entities-by-type-21\"><span class=\"toc-item-num\">2.1&nbsp;&nbsp;</span>Counting entities by type</a></div><div class=\"lev2 toc-item\"><a href=\"#Computing-entity-frequency\" data-toc-modified-id=\"Computing-entity-frequency-22\"><span class=\"toc-item-num\">2.2&nbsp;&nbsp;</span>Computing entity frequency</a></div><div class=\"lev1 toc-item\"><a href=\"#Counting,-sorting,-plotting\" data-toc-modified-id=\"Counting,-sorting,-plotting-3\"><span class=\"toc-item-num\">3&nbsp;&nbsp;</span>Counting, sorting, plotting</a></div><div class=\"lev1 toc-item\"><a href=\"#Evaluating-NER\" data-toc-modified-id=\"Evaluating-NER-4\"><span class=\"toc-item-num\">4&nbsp;&nbsp;</span>Evaluating NER</a></div><div class=\"lev2 toc-item\"><a href=\"#preparing-the-data\" data-toc-modified-id=\"preparing-the-data-41\"><span class=\"toc-item-num\">4.1&nbsp;&nbsp;</span>preparing the data</a></div><div class=\"lev2 toc-item\"><a href=\"#computing-error-types\" data-toc-modified-id=\"computing-error-types-42\"><span class=\"toc-item-num\">4.2&nbsp;&nbsp;</span>computing error types</a></div><div class=\"lev2 toc-item\"><a href=\"#computing-Precision,-Recall-and-F-score\" data-toc-modified-id=\"computing-Precision,-Recall-and-F-score-43\"><span class=\"toc-item-num\">4.3&nbsp;&nbsp;</span>computing Precision, Recall and F-score</a></div><div class=\"lev3 toc-item\"><a href=\"#Precision\" data-toc-modified-id=\"Precision-431\"><span class=\"toc-item-num\">4.3.1&nbsp;&nbsp;</span>Precision</a></div><div class=\"lev3 toc-item\"><a href=\"#Recall\" data-toc-modified-id=\"Recall-432\"><span class=\"toc-item-num\">4.3.2&nbsp;&nbsp;</span>Recall</a></div><div class=\"lev3 toc-item\"><a href=\"#F-1-Score\" data-toc-modified-id=\"F-1-Score-433\"><span class=\"toc-item-num\">4.3.3&nbsp;&nbsp;</span>F-1 Score</a></div><div class=\"lev3 toc-item\"><a href=\"#Accuracy\" data-toc-modified-id=\"Accuracy-434\"><span class=\"toc-item-num\">4.3.4&nbsp;&nbsp;</span>Accuracy</a></div><div class=\"lev2 toc-item\"><a href=\"#Using-sklearn\" data-toc-modified-id=\"Using-sklearn-44\"><span class=\"toc-item-num\">4.4&nbsp;&nbsp;</span>Using sklearn</a></div>"
   ]
  },
  {
   "cell_type": "markdown",
   "metadata": {},
   "source": [
    "# Taking it from where we left...\n"
   ]
  },
  {
   "cell_type": "markdown",
   "metadata": {},
   "source": [
    "## Saving Python objects"
   ]
  },
  {
   "cell_type": "markdown",
   "metadata": {},
   "source": [
    "\n",
    "\n",
    "```python\n",
    "import pickle\n",
    "\n",
    "with open('data/DBG_tagged_baseline.pickle','wb') as f:\n",
    "    pickle.dump(tagged_text_baseline, f)\n",
    "    \n",
    "with open('data/DBG_tagged_clkt.pickle','wb') as f:\n",
    "    pickle.dump(tagged_text_cltk, f)\n",
    "    \n",
    "with open('data/DBG_tagged_nltk.pickle','wb') as f:\n",
    "    pickle.dump(tagged_text_nltk, f)\n",
    "```\n"
   ]
  },
  {
   "cell_type": "markdown",
   "metadata": {},
   "source": [
    "## Loading Python objects back into memory "
   ]
  },
  {
   "cell_type": "code",
   "execution_count": 2,
   "metadata": {
    "collapsed": true
   },
   "outputs": [],
   "source": [
    "import pickle\n",
    "\n",
    "with open('data/DBG_tagged_baseline.pickle','rb') as f:\n",
    "    tagged_text_baseline = pickle.load(f)\n",
    "    \n",
    "with open('data/DBG_tagged_clkt.pickle','rb') as f:\n",
    "    tagged_text_cltk = pickle.load(f)\n",
    "    \n",
    "with open('data/DBG_tagged_nltk.pickle','rb') as f:\n",
    "    tagged_text_nltk = pickle.load(f)"
   ]
  },
  {
   "cell_type": "code",
   "execution_count": 5,
   "metadata": {
    "collapsed": false
   },
   "outputs": [
    {
     "name": "stdout",
     "output_type": "stream",
     "text": [
      "Baseline: ('COMMENTARIUS', 'O')\n",
      "CLTK: ('COMMENTARIUS', 'O')\n",
      "NLTK: ('COMMENTARIUS', 'LOC')\n",
      "\n",
      "Baseline: ('PRIMUS', 'O')\n",
      "CLTK: ('PRIMUS', 'O')\n",
      "NLTK: ('PRIMUS', 'LOC')\n",
      "\n",
      "Baseline: ('Gallia', 'Entity')\n",
      "CLTK: ('Gallia', 'Entity')\n",
      "NLTK: ('Gallia', 'LOC')\n",
      "\n",
      "Baseline: ('est', 'O')\n",
      "CLTK: ('est', 'O')\n",
      "NLTK: ('est', 'O')\n",
      "\n",
      "Baseline: ('omnis', 'O')\n",
      "CLTK: ('omnis', 'O')\n",
      "NLTK: ('omnis', 'O')\n",
      "\n",
      "Baseline: ('divisa', 'O')\n",
      "CLTK: ('divisa', 'O')\n",
      "NLTK: ('divisa', 'O')\n",
      "\n",
      "Baseline: ('in', 'O')\n",
      "CLTK: ('in', 'O')\n",
      "NLTK: ('in', 'O')\n",
      "\n",
      "Baseline: ('partes', 'O')\n",
      "CLTK: ('partes', 'O')\n",
      "NLTK: ('partes', 'O')\n",
      "\n",
      "Baseline: ('tres,', 'O')\n",
      "CLTK: ('tres,', 'O')\n",
      "NLTK: ('tres,', 'O')\n",
      "\n",
      "Baseline: ('quarum', 'O')\n",
      "CLTK: ('quarum', 'O')\n",
      "NLTK: ('quarum', 'O')\n",
      "\n",
      "Baseline: ('unam', 'O')\n",
      "CLTK: ('unam', 'O')\n",
      "NLTK: ('unam', 'O')\n",
      "\n",
      "Baseline: ('incolunt', 'O')\n",
      "CLTK: ('incolunt', 'O')\n",
      "NLTK: ('incolunt', 'O')\n",
      "\n",
      "Baseline: ('Belgae,', 'Entity')\n",
      "CLTK: ('Belgae,', 'O')\n",
      "NLTK: ('Belgae,', 'O')\n",
      "\n",
      "Baseline: ('aliam', 'O')\n",
      "CLTK: ('aliam', 'O')\n",
      "NLTK: ('aliam', 'O')\n",
      "\n",
      "Baseline: ('Aquitani,', 'Entity')\n",
      "CLTK: ('Aquitani,', 'O')\n",
      "NLTK: ('Aquitani,', 'O')\n",
      "\n",
      "Baseline: ('tertiam', 'O')\n",
      "CLTK: ('tertiam', 'O')\n",
      "NLTK: ('tertiam', 'O')\n",
      "\n",
      "Baseline: ('qui', 'O')\n",
      "CLTK: ('qui', 'O')\n",
      "NLTK: ('qui', 'O')\n",
      "\n",
      "Baseline: ('ipsorum', 'O')\n",
      "CLTK: ('ipsorum', 'O')\n",
      "NLTK: ('ipsorum', 'O')\n",
      "\n",
      "Baseline: ('lingua', 'O')\n",
      "CLTK: ('lingua', 'O')\n",
      "NLTK: ('lingua', 'O')\n",
      "\n",
      "Baseline: ('Celtae,', 'Entity')\n",
      "CLTK: ('Celtae,', 'O')\n",
      "NLTK: ('Celtae,', 'O')\n",
      "\n"
     ]
    }
   ],
   "source": [
    "for baseline_out, cltk_out, nltk_out in zip(tagged_text_baseline[:20], tagged_text_cltk[:20], tagged_text_nltk[:20]):\n",
    "    print(\"Baseline: %s\\nCLTK: %s\\nNLTK: %s\\n\"%(baseline_out, cltk_out, nltk_out))"
   ]
  },
  {
   "cell_type": "markdown",
   "metadata": {},
   "source": [
    "# Gathering basic statistics about the extracted NEs\n",
    "\n",
    "Let's say we want to:\n",
    "- know how entities by type were extracted\n",
    "- look at the most frequent NEs"
   ]
  },
  {
   "cell_type": "markdown",
   "metadata": {},
   "source": [
    "## Counting entities by type"
   ]
  },
  {
   "cell_type": "markdown",
   "metadata": {},
   "source": [
    "Of the three methods we used in the previous session to extract NEs from Caesar's *De Bello Gallico*, let's take the output of NLTK. In fact, this is the only one with more granulary entity types, where as the other two have just a generic `Entity` type."
   ]
  },
  {
   "cell_type": "code",
   "execution_count": 8,
   "metadata": {
    "collapsed": true
   },
   "outputs": [
    {
     "data": {
      "text/plain": [
       "[('COMMENTARIUS', 'LOC'),\n",
       " ('PRIMUS', 'LOC'),\n",
       " ('Gallia', 'LOC'),\n",
       " ('est', 'O'),\n",
       " ('omnis', 'O'),\n",
       " ('divisa', 'O'),\n",
       " ('in', 'O'),\n",
       " ('partes', 'O'),\n",
       " ('tres,', 'O'),\n",
       " ('quarum', 'O'),\n",
       " ('unam', 'O'),\n",
       " ('incolunt', 'O'),\n",
       " ('Belgae,', 'O'),\n",
       " ('aliam', 'O'),\n",
       " ('Aquitani,', 'O'),\n",
       " ('tertiam', 'O'),\n",
       " ('qui', 'O'),\n",
       " ('ipsorum', 'O'),\n",
       " ('lingua', 'O'),\n",
       " ('Celtae,', 'O'),\n",
       " ('nostra', 'O'),\n",
       " ('Galli', 'PER'),\n",
       " ('appellantur.', 'PER'),\n",
       " ('Hi', 'PER'),\n",
       " ('omnes', 'O'),\n",
       " ('lingua,', 'O'),\n",
       " ('institutis,', 'O'),\n",
       " ('legibus', 'O'),\n",
       " ('inter', 'O'),\n",
       " ('se', 'O'),\n",
       " ('differunt.', 'O'),\n",
       " ('Gallos', 'PER'),\n",
       " ('ab', 'O'),\n",
       " ('Aquitanis', 'O'),\n",
       " ('Garumna', 'O'),\n",
       " ('flumen,', 'O'),\n",
       " ('a', 'O'),\n",
       " ('Belgis', 'PER'),\n",
       " ('Matrona', 'PER'),\n",
       " ('et', 'O'),\n",
       " ('Sequana', 'O'),\n",
       " ('dividit.', 'O'),\n",
       " ('Horum', 'O'),\n",
       " ('omnium', 'O'),\n",
       " ('fortissimi', 'O'),\n",
       " ('sunt', 'O'),\n",
       " ('Belgae,', 'O'),\n",
       " ('propterea', 'O'),\n",
       " ('quod', 'O'),\n",
       " ('a', 'O'),\n",
       " ('cultu', 'O'),\n",
       " ('atque', 'O'),\n",
       " ('humanitate', 'O'),\n",
       " ('provinciae', 'O'),\n",
       " ('longissime', 'O'),\n",
       " ('absunt,', 'O'),\n",
       " ('minimeque', 'O'),\n",
       " ('ad', 'O'),\n",
       " ('eos', 'O'),\n",
       " ('mercatores', 'O'),\n",
       " ('saepe', 'O'),\n",
       " ('commeant', 'O'),\n",
       " ('atque', 'O'),\n",
       " ('ea', 'O'),\n",
       " ('quae', 'O'),\n",
       " ('ad', 'O'),\n",
       " ('effeminandos', 'O'),\n",
       " ('animos', 'O'),\n",
       " ('pertinent', 'O'),\n",
       " ('important,', 'O'),\n",
       " ('proximique', 'O'),\n",
       " ('sunt', 'O'),\n",
       " ('Germanis,', 'O'),\n",
       " ('qui', 'O'),\n",
       " ('trans', 'O'),\n",
       " ('Rhenum', 'O'),\n",
       " ('incolunt,', 'O'),\n",
       " ('quibuscum', 'O'),\n",
       " ('continenter', 'O'),\n",
       " ('bellum', 'O'),\n",
       " ('gerunt.', 'O'),\n",
       " ('Qua', 'O'),\n",
       " ('de', 'O'),\n",
       " ('causa', 'O'),\n",
       " ('Helvetii', 'O'),\n",
       " ('quoque', 'O'),\n",
       " ('reliquos', 'O'),\n",
       " ('Gallos', 'PER'),\n",
       " ('virtute', 'O'),\n",
       " ('praecedunt,', 'O'),\n",
       " ('quod', 'O'),\n",
       " ('fere', 'O'),\n",
       " ('cotidianis', 'O'),\n",
       " ('proeliis', 'O'),\n",
       " ('cum', 'O'),\n",
       " ('Germanis', 'O'),\n",
       " ('contendunt,', 'O'),\n",
       " ('cum', 'O'),\n",
       " ('aut', 'O'),\n",
       " ('suis', 'O'),\n",
       " ('finibus', 'O'),\n",
       " ('eos', 'O'),\n",
       " ('prohibent', 'O'),\n",
       " ('aut', 'O'),\n",
       " ('ipsi', 'O'),\n",
       " ('in', 'O'),\n",
       " ('eorum', 'O'),\n",
       " ('finibus', 'O'),\n",
       " ('bellum', 'O'),\n",
       " ('gerunt.', 'O'),\n",
       " ('[Eorum', 'O'),\n",
       " ('una,', 'O'),\n",
       " ('pars,', 'O'),\n",
       " ('quam', 'O'),\n",
       " ('Gallos', 'PER'),\n",
       " ('obtinere', 'O'),\n",
       " ('dictum', 'O'),\n",
       " ('est,', 'O'),\n",
       " ('initium', 'O'),\n",
       " ('capit', 'O'),\n",
       " ('a', 'O'),\n",
       " ('flumine', 'O'),\n",
       " ('Rhodano,', 'O'),\n",
       " ('continetur', 'O'),\n",
       " ('Garumna', 'O'),\n",
       " ('flumine,', 'O'),\n",
       " ('Oceano,', 'O'),\n",
       " ('finibus', 'O'),\n",
       " ('Belgarum,', 'O'),\n",
       " ('attingit', 'O'),\n",
       " ('etiam', 'O'),\n",
       " ('ab', 'O'),\n",
       " ('Sequanis', 'O'),\n",
       " ('et', 'O'),\n",
       " ('Helvetiis', 'O'),\n",
       " ('flumen', 'O'),\n",
       " ('Rhenum,', 'O'),\n",
       " ('vergit', 'O'),\n",
       " ('ad', 'O'),\n",
       " ('septentriones.', 'O'),\n",
       " ('Belgae', 'O'),\n",
       " ('ab', 'O'),\n",
       " ('extremis', 'O'),\n",
       " ('Galliae', 'O'),\n",
       " ('finibus', 'O'),\n",
       " ('oriuntur,', 'O'),\n",
       " ('pertinent', 'O'),\n",
       " ('ad', 'O'),\n",
       " ('inferiorem', 'O'),\n",
       " ('partem', 'O'),\n",
       " ('fluminis', 'O'),\n",
       " ('Rheni,', 'O'),\n",
       " ('spectant', 'O'),\n",
       " ('in', 'O'),\n",
       " ('septentrionem', 'O'),\n",
       " ('et', 'O'),\n",
       " ('orientem', 'O'),\n",
       " ('solem.', 'O'),\n",
       " ('Aquitania', 'LOC'),\n",
       " ('a', 'O'),\n",
       " ('Garumna', 'O'),\n",
       " ('flumine', 'O'),\n",
       " ('ad', 'O'),\n",
       " ('Pyrenaeos', 'O'),\n",
       " ('montes', 'O'),\n",
       " ('et', 'O'),\n",
       " ('eam', 'O'),\n",
       " ('partem', 'O'),\n",
       " ('Oceani', 'O'),\n",
       " ('quae', 'O'),\n",
       " ('est', 'O'),\n",
       " ('ad', 'O'),\n",
       " ('Hispaniam', 'O'),\n",
       " ('pertinet;', 'O'),\n",
       " ('spectat', 'O'),\n",
       " ('inter', 'O'),\n",
       " ('occasum', 'O'),\n",
       " ('solis', 'O'),\n",
       " ('et', 'O'),\n",
       " ('septentriones.]', 'O'),\n",
       " ('Apud', 'O'),\n",
       " ('Helvetios', 'O'),\n",
       " ('longe', 'O'),\n",
       " ('nobilissimus', 'O'),\n",
       " ('fuit', 'O'),\n",
       " ('et', 'O'),\n",
       " ('ditissimus', 'O'),\n",
       " ('Orgetorix.', 'O'),\n",
       " ('Is', 'O'),\n",
       " ('M.', 'O'),\n",
       " ('Messala,', 'O'),\n",
       " ('[et', 'O'),\n",
       " ('P.]', 'O'),\n",
       " ('M.', 'PER'),\n",
       " ('Pisone', 'PER'),\n",
       " ('consulibus', 'O'),\n",
       " ('regni', 'O'),\n",
       " ('cupiditate', 'O'),\n",
       " ('inductus', 'O'),\n",
       " ('coniurationem', 'O'),\n",
       " ('nobilitatis', 'O'),\n",
       " ('fecit', 'O'),\n",
       " ('et', 'O'),\n",
       " ('civitati', 'O'),\n",
       " ('persuasit', 'O'),\n",
       " ('ut', 'O'),\n",
       " ('de', 'O'),\n",
       " ('finibus', 'O'),\n",
       " ('suis', 'O'),\n",
       " ('cum', 'O'),\n",
       " ('omnibus', 'O'),\n",
       " ('copiis', 'O'),\n",
       " ('exirent:', 'O'),\n",
       " ('perfacile', 'O'),\n",
       " ('esse,', 'O'),\n",
       " ('cum', 'O'),\n",
       " ('virtute', 'O'),\n",
       " ('omnibus', 'O'),\n",
       " ('praestarent,', 'O'),\n",
       " ('totius', 'O'),\n",
       " ('Galliae', 'O'),\n",
       " ('imperio', 'O'),\n",
       " ('potiri.', 'O'),\n",
       " ('Id', 'O'),\n",
       " ('hoc', 'O'),\n",
       " ('facilius', 'O'),\n",
       " ('iis', 'O'),\n",
       " ('persuasit,', 'O'),\n",
       " ('quod', 'O'),\n",
       " ('undique', 'O'),\n",
       " ('loci', 'O'),\n",
       " ('natura', 'O'),\n",
       " ('Helvetii', 'O'),\n",
       " ('continentur:', 'O'),\n",
       " ('una', 'O'),\n",
       " ('ex', 'O'),\n",
       " ('parte', 'O'),\n",
       " ('flumine', 'O'),\n",
       " ('Rheno', 'O'),\n",
       " ('latissimo', 'O'),\n",
       " ('atque', 'O'),\n",
       " ('altissimo,', 'O'),\n",
       " ('qui', 'O'),\n",
       " ('agrum', 'O'),\n",
       " ('Helvetium', 'O'),\n",
       " ('a', 'O'),\n",
       " ('Germanis', 'O'),\n",
       " ('dividit;', 'O'),\n",
       " ('altera', 'O'),\n",
       " ('ex', 'O'),\n",
       " ('parte', 'O'),\n",
       " ('monte', 'O'),\n",
       " ('Iura', 'O'),\n",
       " ('altissimo,', 'O'),\n",
       " ('qui', 'O'),\n",
       " ('est', 'O'),\n",
       " ('inter', 'O'),\n",
       " ('Sequanos', 'O'),\n",
       " ('et', 'O'),\n",
       " ('Helvetios;', 'O'),\n",
       " ('tertia', 'O'),\n",
       " ('lacu', 'O'),\n",
       " ('Lemanno', 'O'),\n",
       " ('et', 'O'),\n",
       " ('flumine', 'O'),\n",
       " ('Rhodano,', 'O'),\n",
       " ('qui', 'O'),\n",
       " ('provinciam', 'O'),\n",
       " ('nostram', 'O'),\n",
       " ('ab', 'O'),\n",
       " ('Helvetiis', 'O'),\n",
       " ('dividit.', 'O'),\n",
       " ('His', 'O'),\n",
       " ('rebus', 'O'),\n",
       " ('fiebat', 'O'),\n",
       " ('ut', 'O'),\n",
       " ('et', 'O'),\n",
       " ('minus', 'O'),\n",
       " ('late', 'O'),\n",
       " ('vagarentur', 'O'),\n",
       " ('et', 'O'),\n",
       " ('minus', 'O'),\n",
       " ('facile', 'O'),\n",
       " ('finitimis', 'O'),\n",
       " ('bellum', 'O'),\n",
       " ('inferre', 'O'),\n",
       " ('possent;', 'O'),\n",
       " ('qua', 'O'),\n",
       " ('ex', 'O'),\n",
       " ('parte', 'O'),\n",
       " ('homines', 'O'),\n",
       " ('bellandi', 'O'),\n",
       " ('cupidi', 'O'),\n",
       " ('magno', 'O'),\n",
       " ('dolore', 'O'),\n",
       " ('adficiebantur.', 'O'),\n",
       " ('Pro', 'O'),\n",
       " ('multitudine', 'O'),\n",
       " ('autem', 'O'),\n",
       " ('hominum', 'O'),\n",
       " ('et', 'O'),\n",
       " ('pro', 'O'),\n",
       " ('gloria', 'O'),\n",
       " ('belli', 'O'),\n",
       " ('atque', 'O'),\n",
       " ('fortitudinis', 'O'),\n",
       " ('angustos', 'O'),\n",
       " ('se', 'O'),\n",
       " ('fines', 'O'),\n",
       " ('habere', 'O'),\n",
       " ('arbitrabantur,', 'O'),\n",
       " ('qui', 'O'),\n",
       " ('in', 'O'),\n",
       " ('longitudinem', 'O'),\n",
       " ('milia', 'O'),\n",
       " ('passuum', 'O'),\n",
       " ('CCXL,', 'O'),\n",
       " ('in', 'O'),\n",
       " ('latitudinem', 'O'),\n",
       " ('CLXXX', 'O'),\n",
       " ('patebant.', 'O'),\n",
       " ('His', 'O'),\n",
       " ('rebus', 'O'),\n",
       " ('adducti', 'O'),\n",
       " ('et', 'O'),\n",
       " ('auctoritate', 'O'),\n",
       " ('Orgetorigis', 'O'),\n",
       " ('permoti', 'O'),\n",
       " ('constituerunt', 'O'),\n",
       " ('ea', 'O'),\n",
       " ('quae', 'O'),\n",
       " ('ad', 'O'),\n",
       " ('proficiscendum', 'O'),\n",
       " ('pertinerent', 'O'),\n",
       " ('comparare,', 'O'),\n",
       " ('iumentorum', 'O'),\n",
       " ('et', 'O'),\n",
       " ('carrorum', 'O'),\n",
       " ('quam', 'O'),\n",
       " ('maximum', 'O'),\n",
       " ('numerum', 'O'),\n",
       " ('coemere,', 'O'),\n",
       " ('sementes', 'O'),\n",
       " ('quam', 'O'),\n",
       " ('maximas', 'O'),\n",
       " ('facere,', 'O'),\n",
       " ('ut', 'O'),\n",
       " ('in', 'O'),\n",
       " ('itinere', 'O'),\n",
       " ('copia', 'O'),\n",
       " ('frumenti', 'O'),\n",
       " ('suppeteret,', 'O'),\n",
       " ('cum', 'O'),\n",
       " ('proximis', 'O'),\n",
       " ('civitatibus', 'O'),\n",
       " ('pacem', 'O'),\n",
       " ('et', 'O'),\n",
       " ('amicitiam', 'O'),\n",
       " ('confirmare.', 'O'),\n",
       " ('Ad', 'O'),\n",
       " ('eas', 'O'),\n",
       " ('res', 'O'),\n",
       " ('conficiendas', 'O'),\n",
       " ('biennium', 'O'),\n",
       " ('sibi', 'O'),\n",
       " ('satis', 'O'),\n",
       " ('esse', 'O'),\n",
       " ('duxerunt;', 'O'),\n",
       " ('in', 'O'),\n",
       " ('tertium', 'O'),\n",
       " ('annum', 'O'),\n",
       " ('profectionem', 'O'),\n",
       " ('lege', 'O'),\n",
       " ('confirmant.', 'O'),\n",
       " ('Ad', 'O'),\n",
       " ('eas', 'O'),\n",
       " ('res', 'O'),\n",
       " ('conficiendas', 'O'),\n",
       " ('Orgetorix', 'O'),\n",
       " ('deligitur.', 'O'),\n",
       " ('Is', 'O'),\n",
       " ('sibi', 'O'),\n",
       " ('legationem', 'O'),\n",
       " ('ad', 'O'),\n",
       " ('civitates', 'O'),\n",
       " ('suscipit.', 'O'),\n",
       " ('In', 'O'),\n",
       " ('eo', 'O'),\n",
       " ('itinere', 'O'),\n",
       " ('persuadet', 'O'),\n",
       " ('Castico,', 'O'),\n",
       " ('Catamantaloedis', 'O'),\n",
       " ('filio,', 'O'),\n",
       " ('Sequano,', 'O'),\n",
       " ('cuius', 'O'),\n",
       " ('pater', 'O'),\n",
       " ('regnum', 'O'),\n",
       " ('in', 'O'),\n",
       " ('Sequanis', 'O'),\n",
       " ('multos', 'O'),\n",
       " ('annos', 'O'),\n",
       " ('obtinuerat', 'O'),\n",
       " ('et', 'O'),\n",
       " ('a', 'O'),\n",
       " ('senatu', 'O'),\n",
       " ('populi', 'O'),\n",
       " ('Romani', 'O'),\n",
       " ('amicus', 'O'),\n",
       " ('appellatus', 'O'),\n",
       " ('erat,', 'O'),\n",
       " ('ut', 'O'),\n",
       " ('regnum', 'O'),\n",
       " ('in', 'O'),\n",
       " ('civitate', 'O'),\n",
       " ('sua', 'O'),\n",
       " ('occuparet,', 'O'),\n",
       " ('quod', 'O'),\n",
       " ('pater', 'O'),\n",
       " ('ante', 'O'),\n",
       " ('habuerit;', 'O'),\n",
       " ('itemque', 'O'),\n",
       " ('Dumnorigi', 'O'),\n",
       " ('Haeduo,', 'O'),\n",
       " ('fratri', 'O'),\n",
       " ('Diviciaci,', 'O'),\n",
       " ('qui', 'O'),\n",
       " ('eo', 'O'),\n",
       " ('tempore', 'O'),\n",
       " ('principatum', 'O'),\n",
       " ('in', 'O'),\n",
       " ('civitate', 'O'),\n",
       " ('obtinebat', 'O'),\n",
       " ('ac', 'O'),\n",
       " ('maxime', 'O'),\n",
       " ('plebi', 'O'),\n",
       " ('acceptus', 'O'),\n",
       " ('erat,', 'O'),\n",
       " ('ut', 'O'),\n",
       " ('idem', 'O'),\n",
       " ('conaretur', 'O'),\n",
       " ('persuadet', 'O'),\n",
       " ('eique', 'O'),\n",
       " ('filiam', 'O'),\n",
       " ('suam', 'O'),\n",
       " ('in', 'O'),\n",
       " ('matrimonium', 'O'),\n",
       " ('dat.', 'O'),\n",
       " ('Perfacile', 'O'),\n",
       " ('factu', 'O'),\n",
       " ('esse', 'O'),\n",
       " ('illis', 'O'),\n",
       " ('probat', 'O'),\n",
       " ('conata', 'O'),\n",
       " ('perficere,', 'O'),\n",
       " ('propterea', 'O'),\n",
       " ('quod', 'O'),\n",
       " ('ipse', 'O'),\n",
       " ('suae', 'O'),\n",
       " ('civitatis', 'O'),\n",
       " ('imperium', 'O'),\n",
       " ('obtenturus', 'O'),\n",
       " ('esset:', 'O'),\n",
       " ('non', 'O'),\n",
       " ('esse', 'O'),\n",
       " ('dubium', 'O'),\n",
       " ('quin', 'O'),\n",
       " ('totius', 'O'),\n",
       " ('Galliae', 'O'),\n",
       " ('plurimum', 'O'),\n",
       " ('Helvetii', 'O'),\n",
       " ('possent;', 'O'),\n",
       " ('se', 'O'),\n",
       " ('suis', 'O'),\n",
       " ('copiis', 'O'),\n",
       " ('suoque', 'O'),\n",
       " ('exercitu', 'O'),\n",
       " ('illis', 'O'),\n",
       " ('regna', 'O'),\n",
       " ('conciliaturum', 'O'),\n",
       " ('confirmat.', 'O'),\n",
       " ('Hac', 'O'),\n",
       " ('oratione', 'O'),\n",
       " ('adducti', 'O'),\n",
       " ('inter', 'O'),\n",
       " ('se', 'O'),\n",
       " ('fidem', 'O'),\n",
       " ('et', 'O'),\n",
       " ('ius', 'O'),\n",
       " ('iurandum', 'O'),\n",
       " ('dant', 'O'),\n",
       " ('et', 'O'),\n",
       " ('regno', 'O'),\n",
       " ('occupato', 'O'),\n",
       " ('per', 'O'),\n",
       " ('tres', 'O'),\n",
       " ('potentissimos', 'O'),\n",
       " ('ac', 'O'),\n",
       " ('firmissimos', 'O'),\n",
       " ('populos', 'O'),\n",
       " ('totius', 'O'),\n",
       " ('Galliae', 'O'),\n",
       " ('sese', 'O'),\n",
       " ('potiri', 'O'),\n",
       " ('posse', 'O'),\n",
       " ('sperant.', 'O'),\n",
       " ('Ea', 'O'),\n",
       " ('res', 'O'),\n",
       " ('est', 'O'),\n",
       " ('Helvetiis', 'O'),\n",
       " ('per', 'O'),\n",
       " ('indicium', 'O'),\n",
       " ('enuntiata.', 'O'),\n",
       " ('Moribus', 'O'),\n",
       " ('suis', 'O'),\n",
       " ('Orgetoricem', 'O'),\n",
       " ('ex', 'O'),\n",
       " ('vinculis', 'O'),\n",
       " ('causam', 'O'),\n",
       " ('dicere', 'O'),\n",
       " ('coegerunt;', 'O'),\n",
       " ('damnatum', 'O'),\n",
       " ('poenam', 'O'),\n",
       " ('sequi', 'O'),\n",
       " ('oportebat,', 'O'),\n",
       " ('ut', 'O'),\n",
       " ('igni', 'O'),\n",
       " ('cremaretur.', 'O'),\n",
       " ('Die', 'O'),\n",
       " ('constituta', 'O'),\n",
       " ('causae', 'O'),\n",
       " ('dictionis', 'O'),\n",
       " ('Orgetorix', 'O'),\n",
       " ('ad', 'O'),\n",
       " ('iudicium', 'O'),\n",
       " ('omnem', 'O'),\n",
       " ('suam', 'O'),\n",
       " ('familiam,', 'O'),\n",
       " ('ad', 'O'),\n",
       " ('hominum', 'O'),\n",
       " ('milia', 'O'),\n",
       " ('decem,', 'O'),\n",
       " ('undique', 'O'),\n",
       " ('coegit,', 'O'),\n",
       " ('et', 'O'),\n",
       " ('omnes', 'O'),\n",
       " ('clientes', 'O'),\n",
       " ('obaeratosque', 'O'),\n",
       " ('suos,', 'O'),\n",
       " ('quorum', 'O'),\n",
       " ('magnum', 'O'),\n",
       " ('numerum', 'O'),\n",
       " ('habebat,', 'O'),\n",
       " ('eodem', 'O'),\n",
       " ('conduxit;', 'O'),\n",
       " ('per', 'O'),\n",
       " ('eos', 'O'),\n",
       " ('ne', 'O'),\n",
       " ('causam', 'O'),\n",
       " ('diceret', 'O'),\n",
       " ('se', 'O'),\n",
       " ('eripuit.', 'O'),\n",
       " ('Cum', 'O'),\n",
       " ('civitas', 'O'),\n",
       " ('ob', 'O'),\n",
       " ('eam', 'O'),\n",
       " ('rem', 'O'),\n",
       " ('incitata', 'O'),\n",
       " ('armis', 'O'),\n",
       " ('ius', 'O'),\n",
       " ('suum', 'O'),\n",
       " ('exequi', 'O'),\n",
       " ('conaretur', 'O'),\n",
       " ('multitudinemque', 'O'),\n",
       " ('hominum', 'O'),\n",
       " ('ex', 'O'),\n",
       " ('agris', 'O'),\n",
       " ('magistratus', 'O'),\n",
       " ('cogerent,', 'O'),\n",
       " ('Orgetorix', 'O'),\n",
       " ('mortuus', 'O'),\n",
       " ('est;', 'O'),\n",
       " ('neque', 'O'),\n",
       " ('abest', 'O'),\n",
       " ('suspicio,', 'O'),\n",
       " ('ut', 'O'),\n",
       " ('Helvetii', 'O'),\n",
       " ('arbitrantur,', 'O'),\n",
       " ('quin', 'O'),\n",
       " ('ipse', 'O'),\n",
       " ('sibi', 'O'),\n",
       " ('mortem', 'O'),\n",
       " ('consciverit.', 'O'),\n",
       " ('Post', 'O'),\n",
       " ('eius', 'O'),\n",
       " ('mortem', 'O'),\n",
       " ('nihilo', 'O'),\n",
       " ('minus', 'O'),\n",
       " ('Helvetii', 'O'),\n",
       " ('id', 'O'),\n",
       " ('quod', 'O'),\n",
       " ('constituerant', 'O'),\n",
       " ('facere', 'O'),\n",
       " ('conantur,', 'O'),\n",
       " ('ut', 'O'),\n",
       " ('e', 'O'),\n",
       " ('finibus', 'O'),\n",
       " ('suis', 'O'),\n",
       " ('exeant.', 'O'),\n",
       " ('Ubi', 'ORG'),\n",
       " ('iam', 'O'),\n",
       " ('se', 'O'),\n",
       " ('ad', 'O'),\n",
       " ('eam', 'O'),\n",
       " ('rem', 'O'),\n",
       " ('paratos', 'O'),\n",
       " ('esse', 'O'),\n",
       " ('arbitrati', 'O'),\n",
       " ('sunt,', 'O'),\n",
       " ('oppida', 'O'),\n",
       " ('sua', 'O'),\n",
       " ('omnia,', 'O'),\n",
       " ('numero', 'O'),\n",
       " ('ad', 'O'),\n",
       " ('duodecim,', 'O'),\n",
       " ('vicos', 'O'),\n",
       " ('ad', 'O'),\n",
       " ('quadringentos,', 'O'),\n",
       " ('reliqua', 'O'),\n",
       " ('privata', 'O'),\n",
       " ('aedificia', 'O'),\n",
       " ('incendunt;', 'O'),\n",
       " ('frumentum', 'O'),\n",
       " ('omne,', 'O'),\n",
       " ('praeter', 'O'),\n",
       " ('quod', 'O'),\n",
       " ('secum', 'O'),\n",
       " ('portaturi', 'O'),\n",
       " ('erant,', 'O'),\n",
       " ('comburunt,', 'O'),\n",
       " ('ut', 'O'),\n",
       " ('domum', 'O'),\n",
       " ('reditionis', 'O'),\n",
       " ('spe', 'O'),\n",
       " ('sublata', 'O'),\n",
       " ('paratiores', 'O'),\n",
       " ('ad', 'O'),\n",
       " ('omnia', 'O'),\n",
       " ('pericula', 'O'),\n",
       " ('subeunda', 'O'),\n",
       " ('essent;', 'O'),\n",
       " ('trium', 'O'),\n",
       " ('mensum', 'O'),\n",
       " ('molita', 'O'),\n",
       " ('cibaria', 'O'),\n",
       " ('sibi', 'O'),\n",
       " ('quemque', 'O'),\n",
       " ('domo', 'O'),\n",
       " ('efferre', 'O'),\n",
       " ('iubent.', 'O'),\n",
       " ('Persuadent', 'O'),\n",
       " ('Rauracis', 'O'),\n",
       " ('et', 'O'),\n",
       " ('Tulingis', 'O'),\n",
       " ('et', 'O'),\n",
       " ('Latobrigis', 'O'),\n",
       " ('finitimis,', 'O'),\n",
       " ('uti', 'O'),\n",
       " ('eodem', 'O'),\n",
       " ('usi', 'O'),\n",
       " ('consilio', 'O'),\n",
       " ('oppidis', 'O'),\n",
       " ('suis', 'O'),\n",
       " ('vicisque', 'O'),\n",
       " ('exustis', 'O'),\n",
       " ('una', 'O'),\n",
       " ('cum', 'O'),\n",
       " ('iis', 'O'),\n",
       " ('proficiscantur,', 'O'),\n",
       " ('Boiosque,', 'O'),\n",
       " ('qui', 'O'),\n",
       " ('trans', 'O'),\n",
       " ('Rhenum', 'O'),\n",
       " ('incoluerant', 'O'),\n",
       " ('et', 'O'),\n",
       " ('in', 'O'),\n",
       " ('agrum', 'O'),\n",
       " ('Noricum', 'O'),\n",
       " ('transierant', 'O'),\n",
       " ('Noreiamque', 'O'),\n",
       " ('oppugnabant,', 'O'),\n",
       " ('receptos', 'O'),\n",
       " ('ad', 'O'),\n",
       " ('se', 'O'),\n",
       " ('socios', 'O'),\n",
       " ('sibi', 'O'),\n",
       " ('adsciscunt.', 'O'),\n",
       " ('Erant', 'O'),\n",
       " ('omnino', 'O'),\n",
       " ('itinera', 'O'),\n",
       " ('duo,', 'O'),\n",
       " ('quibus', 'O'),\n",
       " ('itineribus', 'O'),\n",
       " ('domo', 'O'),\n",
       " ('exire', 'O'),\n",
       " ('possent:', 'O'),\n",
       " ('unum', 'O'),\n",
       " ('per', 'O'),\n",
       " ('Sequanos,', 'O'),\n",
       " ('angustum', 'O'),\n",
       " ('et', 'O'),\n",
       " ('difficile,', 'O'),\n",
       " ('inter', 'O'),\n",
       " ('montem', 'O'),\n",
       " ('Iuram', 'O'),\n",
       " ('et', 'O'),\n",
       " ('flumen', 'O'),\n",
       " ('Rhodanum,', 'O'),\n",
       " ('vix', 'O'),\n",
       " ('qua', 'O'),\n",
       " ('singuli', 'O'),\n",
       " ('carri', 'O'),\n",
       " ('ducerentur,', 'O'),\n",
       " ('mons', 'O'),\n",
       " ('autem', 'O'),\n",
       " ('altissimus', 'O'),\n",
       " ('impendebat,', 'O'),\n",
       " ('ut', 'O'),\n",
       " ('facile', 'O'),\n",
       " ('perpauci', 'O'),\n",
       " ('prohibere', 'O'),\n",
       " ('possent;', 'O'),\n",
       " ('alterum', 'O'),\n",
       " ('per', 'O'),\n",
       " ('provinciam', 'O'),\n",
       " ('nostram,', 'O'),\n",
       " ('multo', 'O'),\n",
       " ('facilius', 'O'),\n",
       " ('atque', 'O'),\n",
       " ('expeditius,', 'O'),\n",
       " ('propterea', 'O'),\n",
       " ('quod', 'O'),\n",
       " ('inter', 'O'),\n",
       " ('fines', 'O'),\n",
       " ('Helvetiorum', 'O'),\n",
       " ('et', 'O'),\n",
       " ('Allobrogum,', 'O'),\n",
       " ('qui', 'O'),\n",
       " ('nuper', 'O'),\n",
       " ('pacati', 'O'),\n",
       " ('erant,', 'O'),\n",
       " ('Rhodanus', 'O'),\n",
       " ('fluit', 'O'),\n",
       " ('isque', 'O'),\n",
       " ('non', 'O'),\n",
       " ('nullis', 'O'),\n",
       " ('locis', 'O'),\n",
       " ('vado', 'O'),\n",
       " ('transitur.', 'O'),\n",
       " ('Extremum', 'O'),\n",
       " ('oppidum', 'O'),\n",
       " ('Allobrogum', 'O'),\n",
       " ('est', 'O'),\n",
       " ('proximumque', 'O'),\n",
       " ('Helvetiorum', 'O'),\n",
       " ('finibus', 'O'),\n",
       " ('Genava.', 'O'),\n",
       " ('Ex', 'O'),\n",
       " ('eo', 'O'),\n",
       " ('oppido', 'O'),\n",
       " ('pons', 'O'),\n",
       " ('ad', 'O'),\n",
       " ('Helvetios', 'O'),\n",
       " ('pertinet.', 'O'),\n",
       " ('Allobrogibus', 'O'),\n",
       " ('sese', 'O'),\n",
       " ('vel', 'O'),\n",
       " ('persuasuros,', 'O'),\n",
       " ('quod', 'O'),\n",
       " ('nondum', 'O'),\n",
       " ('bono', 'O'),\n",
       " ('animo', 'O'),\n",
       " ('in', 'O'),\n",
       " ('populum', 'O'),\n",
       " ('Romanum', 'O'),\n",
       " ('viderentur,', 'O'),\n",
       " ('existimabant', 'O'),\n",
       " ('vel', 'O'),\n",
       " ('vi', 'O'),\n",
       " ('coacturos', 'O'),\n",
       " ('ut', 'O'),\n",
       " ('per', 'O'),\n",
       " ('suos', 'O'),\n",
       " ('fines', 'O'),\n",
       " ('eos', 'O'),\n",
       " ('ire', 'O'),\n",
       " ('paterentur.', 'O'),\n",
       " ('Omnibus', 'O'),\n",
       " ('rebus', 'O'),\n",
       " ('ad', 'O'),\n",
       " ('profectionem', 'O'),\n",
       " ('comparatis', 'O'),\n",
       " ('diem', 'O'),\n",
       " ('dicunt,', 'O'),\n",
       " ('qua', 'O'),\n",
       " ('die', 'O'),\n",
       " ('ad', 'O'),\n",
       " ('ripam', 'O'),\n",
       " ('Rhodani', 'O'),\n",
       " ('omnes', 'O'),\n",
       " ('conveniant.', 'O'),\n",
       " ('is', 'O'),\n",
       " ('dies', 'O'),\n",
       " ('erat', 'O'),\n",
       " ('a.', 'O'),\n",
       " ('d.', 'PER'),\n",
       " ('V.', 'PER'),\n",
       " ('Kal.', 'PER'),\n",
       " ('Apr.', 'PER'),\n",
       " ('L.', 'PER'),\n",
       " ('Pisone,', 'PER'),\n",
       " ('A.', 'PER'),\n",
       " ('Gabinio', 'PER'),\n",
       " ('consulibus.', 'PER'),\n",
       " ('Caesari', 'PER'),\n",
       " ('cum', 'O'),\n",
       " ('id', 'O'),\n",
       " ('nuntiatum', 'O'),\n",
       " ('esset,', 'O'),\n",
       " ('eos', 'O'),\n",
       " ('per', 'O'),\n",
       " ('provinciam', 'O'),\n",
       " ('nostram', 'O'),\n",
       " ('iter', 'O'),\n",
       " ('facere', 'O'),\n",
       " ('conari,', 'O'),\n",
       " ('maturat', 'O'),\n",
       " ('ab', 'O'),\n",
       " ('urbe', 'O'),\n",
       " ('proficisci', 'O'),\n",
       " ('et', 'O'),\n",
       " ('quam', 'O'),\n",
       " ('maximis', 'O'),\n",
       " ('potest', 'O'),\n",
       " ('itineribus', 'O'),\n",
       " ('in', 'O'),\n",
       " ('Galliam', 'O'),\n",
       " ('ulteriorem', 'O'),\n",
       " ('contendit', 'O'),\n",
       " ('et', 'O'),\n",
       " ('ad', 'O'),\n",
       " ('Genavam', 'O'),\n",
       " ('pervenit.', 'O'),\n",
       " ('Provinciae', 'O'),\n",
       " ('toti', 'O'),\n",
       " ('quam', 'O'),\n",
       " ('maximum', 'O'),\n",
       " ('potest', 'O'),\n",
       " ('militum', 'O'),\n",
       " ('numerum', 'O'),\n",
       " ('imperat', 'O'),\n",
       " ('(erat', 'O'),\n",
       " ('omnino', 'O'),\n",
       " ('in', 'O'),\n",
       " ('Gallia', 'LOC'),\n",
       " ('ulteriore', 'O'),\n",
       " ('legio', 'O'),\n",
       " ('una),', 'O'),\n",
       " ('pontem,', 'O'),\n",
       " ('qui', 'O'),\n",
       " ('erat', 'O'),\n",
       " ('ad', 'O'),\n",
       " ('Genavam,', 'O'),\n",
       " ('iubet', 'O'),\n",
       " ('rescindi.', 'O'),\n",
       " ('Ubi', 'ORG'),\n",
       " ('de', 'O'),\n",
       " ('eius', 'O'),\n",
       " ('aventu', 'O'),\n",
       " ('Helvetii', 'O'),\n",
       " ('certiores', 'O'),\n",
       " ('facti', 'O'),\n",
       " ('sunt,', 'O'),\n",
       " ('legatos', 'O'),\n",
       " ('ad', 'O'),\n",
       " ('eum', 'O'),\n",
       " ('mittunt', 'O'),\n",
       " ('nobilissimos', 'O'),\n",
       " ('civitatis,', 'O'),\n",
       " ('cuius', 'O'),\n",
       " ('legationis', 'O'),\n",
       " ('Nammeius', 'O'),\n",
       " ('et', 'O'),\n",
       " ('Verucloetius', 'O'),\n",
       " ('principem', 'O'),\n",
       " ('locum', 'O'),\n",
       " ('obtinebant,', 'O'),\n",
       " ('qui', 'O'),\n",
       " ('dicerent', 'O'),\n",
       " ('sibi', 'O'),\n",
       " ('esse', 'O'),\n",
       " ('in', 'O'),\n",
       " ('animo', 'O'),\n",
       " ('sine', 'O'),\n",
       " ('ullo', 'O'),\n",
       " ('maleficio', 'O'),\n",
       " ('iter', 'O'),\n",
       " ('per', 'O'),\n",
       " ('provinciam', 'O'),\n",
       " ('facere,', 'O'),\n",
       " ('propterea', 'O'),\n",
       " ('quod', 'O'),\n",
       " ('aliud', 'O'),\n",
       " ('iter', 'O'),\n",
       " ('haberent', 'O'),\n",
       " ('nullum:', 'O'),\n",
       " ('rogare', 'O'),\n",
       " ('ut', 'O'),\n",
       " ('eius', 'O'),\n",
       " ('voluntate', 'O'),\n",
       " ('id', 'O'),\n",
       " ('sibi', 'O'),\n",
       " ('facere', 'O'),\n",
       " ('liceat.', 'O'),\n",
       " ('Caesar,', 'O'),\n",
       " ('quod', 'O'),\n",
       " ('memoria', 'O'),\n",
       " ('tenebat', 'O'),\n",
       " ('L.', 'O'),\n",
       " ('Cassium', 'O'),\n",
       " ('consulem', 'O'),\n",
       " ('occisum', 'O'),\n",
       " ('exercitumque', 'O'),\n",
       " ('eius', 'O'),\n",
       " ('ab', 'O'),\n",
       " ('Helvetiis', 'O'),\n",
       " ('pulsum', 'O'),\n",
       " ('et', 'O'),\n",
       " ('sub', 'O'),\n",
       " ('iugum', 'O'),\n",
       " ('missum,', 'O'),\n",
       " ('concedendum', 'O'),\n",
       " ('non', 'O'),\n",
       " ('putabat;', 'O'),\n",
       " ('neque', 'O'),\n",
       " ('homines', 'O'),\n",
       " ('inimico', 'O'),\n",
       " ('animo,', 'O'),\n",
       " ('data', 'O'),\n",
       " ('facultate', 'O'),\n",
       " ('per', 'O'),\n",
       " ('provinciam', 'O'),\n",
       " ('itineris', 'O'),\n",
       " ('faciundi,', 'O'),\n",
       " ('temperaturos', 'O'),\n",
       " ('ab', 'O'),\n",
       " ('iniuria', 'O'),\n",
       " ('et', 'O'),\n",
       " ('maleficio', 'O'),\n",
       " ('existimabat.', 'O'),\n",
       " ('Tamen,', 'O'),\n",
       " ('ut', 'O'),\n",
       " ('spatium', 'O'),\n",
       " ('intercedere', 'O'),\n",
       " ('posset', 'O'),\n",
       " ('dum', 'O'),\n",
       " ('milites', 'O'),\n",
       " ('quos', 'O'),\n",
       " ('imperaverat', 'O'),\n",
       " ('convenirent,', 'O'),\n",
       " ('legatis', 'O'),\n",
       " ('respondit', 'O'),\n",
       " ('diem', 'O'),\n",
       " ('se', 'O'),\n",
       " ('ad', 'O'),\n",
       " ('deliberandum', 'O'),\n",
       " ('sumpturum:', 'O'),\n",
       " ('si', 'O'),\n",
       " ('quid', 'O'),\n",
       " ('vellent,', 'O'),\n",
       " ('ad', 'O'),\n",
       " ('Id.', 'O'),\n",
       " ('April.', 'O'),\n",
       " ('reverterentur.', 'O'),\n",
       " ('Interea', 'O'),\n",
       " ('ea', 'O'),\n",
       " ('legione', 'O'),\n",
       " ('quam', 'O'),\n",
       " ('secum', 'O'),\n",
       " ('habebat', 'O'),\n",
       " ('militibusque,', 'O'),\n",
       " ('qui', 'O'),\n",
       " ('ex', 'O'),\n",
       " ('provincia', 'O'),\n",
       " ('convenerant,', 'O'),\n",
       " ('a', 'O'),\n",
       " ('lacu', 'O'),\n",
       " ('Lemanno,', 'O'),\n",
       " ('qui', 'O'),\n",
       " ('in', 'O'),\n",
       " ('flumen', 'O'),\n",
       " ...]"
      ]
     },
     "execution_count": 8,
     "metadata": {},
     "output_type": "execute_result"
    }
   ],
   "source": [
    "tagged_text_nltk"
   ]
  },
  {
   "cell_type": "markdown",
   "metadata": {},
   "source": [
    "The first thing to do is to create a list of all named entity tags that were extracted by NLTK:"
   ]
  },
  {
   "cell_type": "code",
   "execution_count": 9,
   "metadata": {
    "collapsed": true
   },
   "outputs": [],
   "source": [
    "nltk_tags = []\n",
    "for token, tag in tagged_text_nltk:\n",
    "    nltk_tags.append(tag)"
   ]
  },
  {
   "cell_type": "code",
   "execution_count": 17,
   "metadata": {
    "collapsed": false
   },
   "outputs": [
    {
     "data": {
      "text/plain": [
       "['LOC', 'LOC', 'LOC', 'O', 'O', 'O', 'O', 'O', 'O', 'O']"
      ]
     },
     "execution_count": 17,
     "metadata": {},
     "output_type": "execute_result"
    }
   ],
   "source": [
    "nltk_tags[:10]"
   ]
  },
  {
   "cell_type": "markdown",
   "metadata": {},
   "source": [
    "A more elegant – that is, Pythonic – way of doing this is to use **list comprehension**:"
   ]
  },
  {
   "cell_type": "code",
   "execution_count": 32,
   "metadata": {
    "collapsed": false
   },
   "outputs": [],
   "source": [
    "nltk_tags = [tag for token, tag in tagged_text_nltk]"
   ]
  },
  {
   "cell_type": "code",
   "execution_count": 33,
   "metadata": {
    "collapsed": false
   },
   "outputs": [
    {
     "data": {
      "text/plain": [
       "['LOC', 'LOC', 'LOC', 'O', 'O', 'O', 'O', 'O', 'O', 'O']"
      ]
     },
     "execution_count": 33,
     "metadata": {},
     "output_type": "execute_result"
    }
   ],
   "source": [
    "nltk_tags[:10]"
   ]
  },
  {
   "cell_type": "markdown",
   "metadata": {},
   "source": [
    "Now we want to count how many times each token appears.\n",
    "\n",
    "A typical way of doing this is to use a dictionary to store the counts.\n",
    "\n",
    "Since in a dictionary, the keys are unique, we leverage this property to keep track of whether a given entity type was already encountered as we go through all extracted entities.\n",
    "\n",
    "The values in the dictionary are simply numbers (integers), that are increased of 1 any time a given type is found in the data."
   ]
  },
  {
   "cell_type": "code",
   "execution_count": 27,
   "metadata": {
    "collapsed": true
   },
   "outputs": [],
   "source": [
    "# we initialize an empty dictionary\n",
    "counts = {}\n",
    "\n",
    "# we iterate through all NE tags\n",
    "for tag in nltk_tags:\n",
    "    \n",
    "    # we check if our dictionary already contains an item\n",
    "    # for that specific entity type\n",
    "    if tag in counts:\n",
    "        # if it does, we just increase the counter of 1\n",
    "        counts[tag]+=1\n",
    "    else:\n",
    "        # otherwise we add it and set it to 1\n",
    "        counts[tag] = 1"
   ]
  },
  {
   "cell_type": "markdown",
   "metadata": {},
   "source": [
    "Let's look at the result:"
   ]
  },
  {
   "cell_type": "code",
   "execution_count": 24,
   "metadata": {
    "collapsed": false
   },
   "outputs": [
    {
     "data": {
      "text/plain": [
       "{'LOC': 22, 'O': 8001, 'ORG': 40, 'PER': 113}"
      ]
     },
     "execution_count": 24,
     "metadata": {},
     "output_type": "execute_result"
    }
   ],
   "source": [
    "counts"
   ]
  },
  {
   "cell_type": "markdown",
   "metadata": {},
   "source": [
    "Now that we have learned how to do this ourselves, it's important to know that the Python library `collections` already contains an objects that does exactly this: `Counter`."
   ]
  },
  {
   "cell_type": "markdown",
   "metadata": {},
   "source": [
    "Let's look at its documentation: "
   ]
  },
  {
   "cell_type": "code",
   "execution_count": 29,
   "metadata": {
    "collapsed": true
   },
   "outputs": [],
   "source": [
    "Counter?"
   ]
  },
  {
   "cell_type": "code",
   "execution_count": 13,
   "metadata": {
    "collapsed": true
   },
   "outputs": [],
   "source": [
    "from collections import Counter"
   ]
  },
  {
   "cell_type": "code",
   "execution_count": 14,
   "metadata": {
    "collapsed": true
   },
   "outputs": [],
   "source": [
    "nltk_tag_counts = Counter(nltk_tags)"
   ]
  },
  {
   "cell_type": "code",
   "execution_count": 15,
   "metadata": {
    "collapsed": false
   },
   "outputs": [
    {
     "data": {
      "text/plain": [
       "Counter({'LOC': 22, 'O': 8001, 'ORG': 40, 'PER': 113})"
      ]
     },
     "execution_count": 15,
     "metadata": {},
     "output_type": "execute_result"
    }
   ],
   "source": [
    "nltk_tag_counts"
   ]
  },
  {
   "cell_type": "markdown",
   "metadata": {},
   "source": [
    "As you can see, the output is identical to the one we had previously obtained!"
   ]
  },
  {
   "cell_type": "markdown",
   "metadata": {},
   "source": [
    "## Computing entity frequency"
   ]
  },
  {
   "cell_type": "code",
   "execution_count": 49,
   "metadata": {
    "collapsed": true
   },
   "outputs": [],
   "source": [
    "nltk_entities = []\n",
    "for token, tag in tagged_text_nltk:\n",
    "    if tag != \"O\":\n",
    "        nltk_entities.append(token)"
   ]
  },
  {
   "cell_type": "code",
   "execution_count": 50,
   "metadata": {
    "collapsed": false
   },
   "outputs": [],
   "source": [
    "nltk_entity_counts = Counter(nltk_entities)"
   ]
  },
  {
   "cell_type": "code",
   "execution_count": 51,
   "metadata": {
    "collapsed": false
   },
   "outputs": [
    {
     "data": {
      "text/plain": [
       "[('Caesar', 21),\n",
       " ('Gallia', 12),\n",
       " ('Ubi', 8),\n",
       " ('Caesaris', 7),\n",
       " ('Gallos', 4),\n",
       " ('M.', 4),\n",
       " ('Caesarem', 4),\n",
       " ('Ipse', 4),\n",
       " ('Caesari', 4),\n",
       " ('Germanos', 4),\n",
       " ('C.', 4),\n",
       " ('Diviciaco', 3),\n",
       " ('Romanis', 2),\n",
       " ('Pisone', 2),\n",
       " ('Romanus', 2),\n",
       " ('L.', 2),\n",
       " ('et', 2),\n",
       " ('Labieno', 2),\n",
       " ('Caesare', 2),\n",
       " ('exploratores', 2),\n",
       " ('Ariovistus', 2),\n",
       " ('Divico', 2),\n",
       " ('Rhodanus', 1),\n",
       " ('provincia', 1),\n",
       " ('Diviciacus', 1),\n",
       " ('V', 1),\n",
       " ('PRIMUS', 1),\n",
       " ('consulibus.', 1),\n",
       " ('Diem', 1),\n",
       " ('Dumnorigem', 1),\n",
       " ('esse.', 1),\n",
       " ('Bello', 1),\n",
       " ('C', 1),\n",
       " ('Metius', 1),\n",
       " ('Item', 1),\n",
       " ('per', 1),\n",
       " ('Matrona', 1),\n",
       " ('Valerio', 1),\n",
       " ('certiorem', 1),\n",
       " ('Fabio', 1),\n",
       " ('Galliam', 1),\n",
       " ('Sullae', 1),\n",
       " ('Haeduos', 1),\n",
       " ('Gabinio', 1),\n",
       " ('Messala,', 1),\n",
       " ('Genus', 1),\n",
       " ('V.', 1),\n",
       " ('Romanos', 1),\n",
       " ('Munitis', 1),\n",
       " ('Postero', 1),\n",
       " ('cognovit', 1),\n",
       " ('Hi', 1),\n",
       " ('Diviciacum', 1),\n",
       " ('COMMENTARIUS', 1),\n",
       " ('Summa', 1),\n",
       " ('Pisone,', 1),\n",
       " ('Dubis', 1),\n",
       " ('Galli', 1),\n",
       " ('Valerii', 1),\n",
       " ('autem', 1),\n",
       " ('Kal.', 1),\n",
       " ('Teutonis', 1),\n",
       " ('appellantur.', 1),\n",
       " ('Diu', 1),\n",
       " ('Huic', 1),\n",
       " ('Haeduorum', 1),\n",
       " ('citeriorem', 1),\n",
       " ('Magnam', 1),\n",
       " ('Cassiano', 1),\n",
       " ('Treveris', 1),\n",
       " ('Caburi', 1),\n",
       " ('renuntiatur', 1),\n",
       " ('Locutus', 1),\n",
       " ('Sequanis', 1),\n",
       " ('Belgis', 1),\n",
       " ('Sequanorum', 1),\n",
       " ('Mario', 1),\n",
       " ('His', 1),\n",
       " ('d.', 1),\n",
       " ('Petit', 1),\n",
       " ('exercitu', 1),\n",
       " ('Conloquendi', 1),\n",
       " ('A.', 1),\n",
       " ('legioni', 1),\n",
       " ('Aquitania', 1),\n",
       " ('Q.', 1),\n",
       " ('Flacco', 1),\n",
       " ('Valerius', 1),\n",
       " ('Italia', 1),\n",
       " ('De', 1),\n",
       " ('Helvetiis', 1),\n",
       " ('Cognito', 1),\n",
       " ('Huc', 1),\n",
       " ('Cimbris', 1),\n",
       " ('Apr.', 1),\n",
       " ('Nam', 1),\n",
       " ('Arari', 1),\n",
       " ('Praeterea', 1)]"
      ]
     },
     "execution_count": 51,
     "metadata": {},
     "output_type": "execute_result"
    }
   ],
   "source": [
    "nltk_entity_counts.most_common()"
   ]
  },
  {
   "cell_type": "code",
   "execution_count": 52,
   "metadata": {
    "collapsed": false
   },
   "outputs": [],
   "source": [
    "nltk_entity_counts = dict(nltk_entity_counts)"
   ]
  },
  {
   "cell_type": "code",
   "execution_count": 53,
   "metadata": {
    "collapsed": false
   },
   "outputs": [
    {
     "data": {
      "text/plain": [
       "[('Caesar', 21),\n",
       " ('Gallia', 12),\n",
       " ('Ubi', 8),\n",
       " ('Caesaris', 7),\n",
       " ('Caesari', 4),\n",
       " ('Gallos', 4),\n",
       " ('M.', 4),\n",
       " ('Caesarem', 4),\n",
       " ('Ipse', 4),\n",
       " ('C.', 4),\n",
       " ('Germanos', 4),\n",
       " ('Diviciaco', 3),\n",
       " ('Romanis', 2),\n",
       " ('Pisone', 2),\n",
       " ('Romanus', 2),\n",
       " ('Divico', 2),\n",
       " ('Ariovistus', 2),\n",
       " ('et', 2),\n",
       " ('Labieno', 2),\n",
       " ('Caesare', 2),\n",
       " ('L.', 2),\n",
       " ('exploratores', 2),\n",
       " ('Rhodanus', 1),\n",
       " ('provincia', 1),\n",
       " ('Diviciacus', 1),\n",
       " ('V', 1),\n",
       " ('PRIMUS', 1),\n",
       " ('consulibus.', 1),\n",
       " ('Diem', 1),\n",
       " ('Diu', 1),\n",
       " ('Dumnorigem', 1),\n",
       " ('esse.', 1),\n",
       " ('Bello', 1),\n",
       " ('C', 1),\n",
       " ('certiorem', 1),\n",
       " ('per', 1),\n",
       " ('Matrona', 1),\n",
       " ('Cognito', 1),\n",
       " ('Valerio', 1),\n",
       " ('Item', 1),\n",
       " ('Metius', 1),\n",
       " ('Sullae', 1),\n",
       " ('Haeduos', 1),\n",
       " ('Gabinio', 1),\n",
       " ('Genus', 1),\n",
       " ('V.', 1),\n",
       " ('Romanos', 1),\n",
       " ('Fabio', 1),\n",
       " ('Munitis', 1),\n",
       " ('cognovit', 1),\n",
       " ('Hi', 1),\n",
       " ('Diviciacum', 1),\n",
       " ('Valerii', 1),\n",
       " ('Postero', 1),\n",
       " ('Pisone,', 1),\n",
       " ('Dubis', 1),\n",
       " ('Galli', 1),\n",
       " ('autem', 1),\n",
       " ('Kal.', 1),\n",
       " ('Teutonis', 1),\n",
       " ('appellantur.', 1),\n",
       " ('Summa', 1),\n",
       " ('Huic', 1),\n",
       " ('Haeduorum', 1),\n",
       " ('citeriorem', 1),\n",
       " ('Magnam', 1),\n",
       " ('Cassiano', 1),\n",
       " ('Treveris', 1),\n",
       " ('Caburi', 1),\n",
       " ('renuntiatur', 1),\n",
       " ('Locutus', 1),\n",
       " ('Sequanis', 1),\n",
       " ('Belgis', 1),\n",
       " ('Sequanorum', 1),\n",
       " ('Mario', 1),\n",
       " ('De', 1),\n",
       " ('His', 1),\n",
       " ('COMMENTARIUS', 1),\n",
       " ('d.', 1),\n",
       " ('exercitu', 1),\n",
       " ('Arari', 1),\n",
       " ('Conloquendi', 1),\n",
       " ('A.', 1),\n",
       " ('legioni', 1),\n",
       " ('Aquitania', 1),\n",
       " ('Galliam', 1),\n",
       " ('Q.', 1),\n",
       " ('Flacco', 1),\n",
       " ('Valerius', 1),\n",
       " ('Italia', 1),\n",
       " ('Petit', 1),\n",
       " ('Helvetiis', 1),\n",
       " ('Huc', 1),\n",
       " ('Cimbris', 1),\n",
       " ('Praeterea', 1),\n",
       " ('Apr.', 1),\n",
       " ('Nam', 1),\n",
       " ('Messala,', 1)]"
      ]
     },
     "execution_count": 53,
     "metadata": {},
     "output_type": "execute_result"
    }
   ],
   "source": [
    "sorted(entity_counts.items(), key=lambda x: x[1], reverse=True)"
   ]
  },
  {
   "cell_type": "code",
   "execution_count": 56,
   "metadata": {
    "collapsed": false
   },
   "outputs": [],
   "source": [
    "nltk_entity_counts = sorted(entity_counts.items(), key=lambda x: x[1], reverse=True)"
   ]
  },
  {
   "cell_type": "code",
   "execution_count": 196,
   "metadata": {
    "collapsed": false
   },
   "outputs": [
    {
     "data": {
      "text/plain": [
       "list"
      ]
     },
     "execution_count": 196,
     "metadata": {},
     "output_type": "execute_result"
    }
   ],
   "source": [
    "type(nltk_entity_counts)"
   ]
  },
  {
   "cell_type": "markdown",
   "metadata": {},
   "source": [
    "As you will have noticed, one big limitation of counting entities this way, is that entities consisting of more than one token are treated as separate entities.\n",
    "\n",
    "What we'd need, instead, is a data format that allows for stating that two or more consecutive tokens are part of the same entity...\n",
    "\n",
    "Another limitation, is that we are actually counting surface forms of a given entity (TODO: elaborate)"
   ]
  },
  {
   "cell_type": "markdown",
   "metadata": {},
   "source": [
    "# Counting, sorting, plotting"
   ]
  },
  {
   "cell_type": "code",
   "execution_count": 166,
   "metadata": {
    "collapsed": false
   },
   "outputs": [],
   "source": [
    "import pandas as pd\n",
    "import seaborn as sns\n",
    "import matplotlib.pyplot as plt"
   ]
  },
  {
   "cell_type": "code",
   "execution_count": 62,
   "metadata": {
    "collapsed": true
   },
   "outputs": [],
   "source": [
    "%matplotlib inline"
   ]
  },
  {
   "cell_type": "code",
   "execution_count": 65,
   "metadata": {
    "collapsed": true
   },
   "outputs": [],
   "source": [
    "df = pd.DataFrame.from_dict(nltk_entity_counts)"
   ]
  },
  {
   "cell_type": "code",
   "execution_count": 75,
   "metadata": {
    "collapsed": false
   },
   "outputs": [],
   "source": [
    "df.columns = [\"entity\", \"count\"]"
   ]
  },
  {
   "cell_type": "code",
   "execution_count": 112,
   "metadata": {
    "collapsed": false
   },
   "outputs": [],
   "source": [
    "df = df.sort_values(by=\"count\", ascending=False)"
   ]
  },
  {
   "cell_type": "code",
   "execution_count": 179,
   "metadata": {
    "collapsed": false
   },
   "outputs": [
    {
     "data": {
      "text/plain": [
       "<matplotlib.axes._subplots.AxesSubplot at 0x7fd1d4572c18>"
      ]
     },
     "execution_count": 179,
     "metadata": {},
     "output_type": "execute_result"
    },
    {
     "name": "stderr",
     "output_type": "stream",
     "text": [
      "/home/mromanello/.pyenv/versions/3.5.0/envs/sunoikisis/lib/python3.5/site-packages/matplotlib/font_manager.py:1297: UserWarning: findfont: Font family ['sans-serif'] not found. Falling back to DejaVu Sans\n",
      "  (prop.get_family(), self.defaultFamily[fontext]))\n"
     ]
    },
    {
     "data": {
      "image/png": "[encoded data removed]",
      "text/plain": [
       "<matplotlib.figure.Figure at 0x7fd1d457b940>"
      ]
     },
     "metadata": {},
     "output_type": "display_data"
    }
   ],
   "source": [
    "sns.barplot(x=\"count\", y=\"entity\", data=df[:10])"
   ]
  },
  {
   "cell_type": "code",
   "execution_count": 178,
   "metadata": {
    "collapsed": false
   },
   "outputs": [
    {
     "data": {
      "text/plain": [
       "<matplotlib.axes._subplots.AxesSubplot at 0x7fd1d46901d0>"
      ]
     },
     "execution_count": 178,
     "metadata": {},
     "output_type": "execute_result"
    },
    {
     "name": "stderr",
     "output_type": "stream",
     "text": [
      "/home/mromanello/.pyenv/versions/3.5.0/envs/sunoikisis/lib/python3.5/site-packages/matplotlib/font_manager.py:1297: UserWarning: findfont: Font family ['sans-serif'] not found. Falling back to DejaVu Sans\n",
      "  (prop.get_family(), self.defaultFamily[fontext]))\n"
     ]
    },
    {
     "data": {
      "image/png": "[encoded data removed]",
      "text/plain": [
       "<matplotlib.figure.Figure at 0x7fd1d59e47b8>"
      ]
     },
     "metadata": {},
     "output_type": "display_data"
    }
   ],
   "source": [
    "sns.barplot(x=\"count\", y=\"entity\", data=df[:20])"
   ]
  },
  {
   "cell_type": "code",
   "execution_count": null,
   "metadata": {
    "collapsed": true
   },
   "outputs": [],
   "source": [
    "# we initialize an empty dictionary\n",
    "counts = {}\n",
    "\n",
    "# we iterate through all NE tags\n",
    "for tag in nltk_tags:\n",
    "    if tag != \"O\":\n",
    "        # we check if our dictionary already contains an item\n",
    "        # for that specific entity type\n",
    "        if tag in counts:\n",
    "            # if it does, we just increase the counter of 1\n",
    "            counts[tag]+=1\n",
    "        else:\n",
    "            # otherwise we add it and set it to 1\n",
    "            counts[tag] = 1"
   ]
  },
  {
   "cell_type": "code",
   "execution_count": 207,
   "metadata": {
    "collapsed": false
   },
   "outputs": [],
   "source": [
    "df_types = pd.DataFrame.from_dict(counts, orient=\"index\")"
   ]
  },
  {
   "cell_type": "code",
   "execution_count": 208,
   "metadata": {
    "collapsed": false
   },
   "outputs": [],
   "source": [
    "df_types.columns = [\"count\"]"
   ]
  },
  {
   "cell_type": "code",
   "execution_count": 209,
   "metadata": {
    "collapsed": false
   },
   "outputs": [
    {
     "data": {
      "text/html": [
       "<div>\n",
       "<table border=\"1\" class=\"dataframe\">\n",
       "  <thead>\n",
       "    <tr style=\"text-align: right;\">\n",
       "      <th></th>\n",
       "      <th>count</th>\n",
       "    </tr>\n",
       "  </thead>\n",
       "  <tbody>\n",
       "    <tr>\n",
       "      <th>LOC</th>\n",
       "      <td>22</td>\n",
       "    </tr>\n",
       "    <tr>\n",
       "      <th>ORG</th>\n",
       "      <td>40</td>\n",
       "    </tr>\n",
       "    <tr>\n",
       "      <th>PER</th>\n",
       "      <td>113</td>\n",
       "    </tr>\n",
       "  </tbody>\n",
       "</table>\n",
       "</div>"
      ],
      "text/plain": [
       "     count\n",
       "LOC     22\n",
       "ORG     40\n",
       "PER    113"
      ]
     },
     "execution_count": 209,
     "metadata": {},
     "output_type": "execute_result"
    }
   ],
   "source": [
    "df_types"
   ]
  },
  {
   "cell_type": "code",
   "execution_count": 210,
   "metadata": {
    "collapsed": false
   },
   "outputs": [
    {
     "data": {
      "text/plain": [
       "<matplotlib.axes._subplots.AxesSubplot at 0x7fd1d40da668>"
      ]
     },
     "execution_count": 210,
     "metadata": {},
     "output_type": "execute_result"
    },
    {
     "name": "stderr",
     "output_type": "stream",
     "text": [
      "/home/mromanello/.pyenv/versions/3.5.0/envs/sunoikisis/lib/python3.5/site-packages/matplotlib/font_manager.py:1297: UserWarning: findfont: Font family ['sans-serif'] not found. Falling back to DejaVu Sans\n",
      "  (prop.get_family(), self.defaultFamily[fontext]))\n"
     ]
    },
    {
     "data": {
      "image/png": "[encoded data removed]",
      "text/plain": [
       "<matplotlib.figure.Figure at 0x7fd1d4063518>"
      ]
     },
     "metadata": {},
     "output_type": "display_data"
    }
   ],
   "source": [
    "df_types.plot.pie(y=\"count\")"
   ]
  },
  {
   "cell_type": "code",
   "execution_count": 195,
   "metadata": {
    "collapsed": false
   },
   "outputs": [
    {
     "data": {
      "text/plain": [
       "{'LOC': 22, 'ORG': 40, 'PER': 113}"
      ]
     },
     "execution_count": 195,
     "metadata": {},
     "output_type": "execute_result"
    }
   ],
   "source": [
    "counts"
   ]
  },
  {
   "cell_type": "code",
   "execution_count": 198,
   "metadata": {
    "collapsed": false
   },
   "outputs": [],
   "source": [
    "df2 = pd.DataFrame.from_dict(dict(Counter(nltk_entities)), orient=\"index\")"
   ]
  },
  {
   "cell_type": "code",
   "execution_count": 200,
   "metadata": {
    "collapsed": false
   },
   "outputs": [],
   "source": [
    "df2.columns = [\"count\"]"
   ]
  },
  {
   "cell_type": "code",
   "execution_count": 202,
   "metadata": {
    "collapsed": false
   },
   "outputs": [],
   "source": [
    "df2 = df2.sort_values(by=\"count\", ascending=False)"
   ]
  },
  {
   "cell_type": "code",
   "execution_count": 213,
   "metadata": {
    "collapsed": false
   },
   "outputs": [
    {
     "data": {
      "text/html": [
       "<div>\n",
       "<table border=\"1\" class=\"dataframe\">\n",
       "  <thead>\n",
       "    <tr style=\"text-align: right;\">\n",
       "      <th></th>\n",
       "      <th>count</th>\n",
       "    </tr>\n",
       "  </thead>\n",
       "  <tbody>\n",
       "    <tr>\n",
       "      <th>Caesar</th>\n",
       "      <td>21</td>\n",
       "    </tr>\n",
       "    <tr>\n",
       "      <th>Gallia</th>\n",
       "      <td>12</td>\n",
       "    </tr>\n",
       "    <tr>\n",
       "      <th>Ubi</th>\n",
       "      <td>8</td>\n",
       "    </tr>\n",
       "    <tr>\n",
       "      <th>Caesaris</th>\n",
       "      <td>7</td>\n",
       "    </tr>\n",
       "    <tr>\n",
       "      <th>Germanos</th>\n",
       "      <td>4</td>\n",
       "    </tr>\n",
       "  </tbody>\n",
       "</table>\n",
       "</div>"
      ],
      "text/plain": [
       "          count\n",
       "Caesar       21\n",
       "Gallia       12\n",
       "Ubi           8\n",
       "Caesaris      7\n",
       "Germanos      4"
      ]
     },
     "execution_count": 213,
     "metadata": {},
     "output_type": "execute_result"
    }
   ],
   "source": [
    "df2.head()"
   ]
  },
  {
   "cell_type": "code",
   "execution_count": 214,
   "metadata": {
    "collapsed": false
   },
   "outputs": [
    {
     "data": {
      "text/html": [
       "<div>\n",
       "<table border=\"1\" class=\"dataframe\">\n",
       "  <thead>\n",
       "    <tr style=\"text-align: right;\">\n",
       "      <th></th>\n",
       "      <th>count</th>\n",
       "    </tr>\n",
       "  </thead>\n",
       "  <tbody>\n",
       "    <tr>\n",
       "      <th>Munitis</th>\n",
       "      <td>1</td>\n",
       "    </tr>\n",
       "    <tr>\n",
       "      <th>Fabio</th>\n",
       "      <td>1</td>\n",
       "    </tr>\n",
       "    <tr>\n",
       "      <th>Romanos</th>\n",
       "      <td>1</td>\n",
       "    </tr>\n",
       "    <tr>\n",
       "      <th>V.</th>\n",
       "      <td>1</td>\n",
       "    </tr>\n",
       "    <tr>\n",
       "      <th>Teutonis</th>\n",
       "      <td>1</td>\n",
       "    </tr>\n",
       "  </tbody>\n",
       "</table>\n",
       "</div>"
      ],
      "text/plain": [
       "          count\n",
       "Munitis       1\n",
       "Fabio         1\n",
       "Romanos       1\n",
       "V.            1\n",
       "Teutonis      1"
      ]
     },
     "execution_count": 214,
     "metadata": {},
     "output_type": "execute_result"
    }
   ],
   "source": [
    "df2.tail()"
   ]
  },
  {
   "cell_type": "code",
   "execution_count": 206,
   "metadata": {
    "collapsed": false
   },
   "outputs": [
    {
     "data": {
      "text/plain": [
       "<matplotlib.axes._subplots.AxesSubplot at 0x7fd1d41d9a20>"
      ]
     },
     "execution_count": 206,
     "metadata": {},
     "output_type": "execute_result"
    },
    {
     "name": "stderr",
     "output_type": "stream",
     "text": [
      "/home/mromanello/.pyenv/versions/3.5.0/envs/sunoikisis/lib/python3.5/site-packages/matplotlib/font_manager.py:1297: UserWarning: findfont: Font family ['sans-serif'] not found. Falling back to DejaVu Sans\n",
      "  (prop.get_family(), self.defaultFamily[fontext]))\n"
     ]
    },
    {
     "data": {
      "image/png": "[encoded data removed]",
      "text/plain": [
       "<matplotlib.figure.Figure at 0x7fd1d415f438>"
      ]
     },
     "metadata": {},
     "output_type": "display_data"
    }
   ],
   "source": [
    "sns.barplot(x=\"count\", y=df2[:20].index, data=df2[:20])"
   ]
  },
  {
   "cell_type": "markdown",
   "metadata": {},
   "source": [
    "# Evaluating NER"
   ]
  },
  {
   "cell_type": "markdown",
   "metadata": {},
   "source": [
    "## preparing the data"
   ]
  },
  {
   "cell_type": "code",
   "execution_count": 218,
   "metadata": {
    "collapsed": true
   },
   "outputs": [],
   "source": [
    "import codecs"
   ]
  },
  {
   "cell_type": "code",
   "execution_count": 219,
   "metadata": {
    "collapsed": true
   },
   "outputs": [],
   "source": [
    "with codecs.open(\"data/iob/article_446_date_aut.iob\",\"r\",\"utf-8\") as f:\n",
    "    data = f.read()"
   ]
  },
  {
   "cell_type": "code",
   "execution_count": 220,
   "metadata": {
    "collapsed": true
   },
   "outputs": [
    {
     "data": {
      "text/plain": [
       "'The\\tO\\tO\\nPraetorian\\tO\\tO\\nProconsuls\\tO\\tO\\nof\\tO\\tO\\nthe\\tO\\tO\\nRoman\\tO\\tO\\nRepublic\\tO\\tO\\n45\\tCD\\tB-DATE\\nFREDERIK\\tO\\tO\\nJULIAAN\\tO\\tO\\nVERVAET\\tO\\tO\\nThe\\tO\\tO\\nPraetorian\\tO\\tO\\nProconsuls\\tO\\tO\\nof\\tO\\tO\\nthe\\tO\\tO\\nRoman\\tO\\tO\\nRepublic\\tO\\tO\\n(\\tO\\tO\\n211–52\\tDate\\tB-DATE\\nBCE\\tO\\tO\\n)\\tO\\tO\\n.\\tO\\tO\\nA\\tO\\tO\\nConstitutional\\tO\\tO\\nSurvey\\tO\\tO\\n1\\tCD\\tB-DATE\\n.\\tO\\tO\\nIntroduction\\tO\\tO\\nThe\\tO\\tO\\nrepublican\\tO\\tO\\nadministrative\\tO\\tO\\nprocedure\\tO\\tO\\nof\\tO\\tO\\nsending\\tO\\tO\\nout\\tO\\tO\\npraetors\\tO\\tO\\nwith\\tO\\tO\\nconsular\\tO\\tO\\nimperium\\tO\\tO\\nis\\tO\\tO\\nreasonably\\tO\\tO\\nwell-known\\tO\\tO\\nbut\\tO\\tO\\nlittle\\tO\\tO\\nunderstood\\tO\\tO\\n.\\tO\\tO\\nTo\\tO\\tO\\nthe\\tO\\tO\\nbest\\tO\\tO\\nof\\tO\\tO\\nmy\\tO\\tO\\nknowledge\\tO\\tO\\n,\\tO\\tO\\nnot\\tO\\tO\\na\\tO\\tO\\nsingle\\tO\\tO\\nstudy\\tO\\tO\\nor\\tO\\tO\\nbook\\tO\\tO\\nchapter\\tO\\tO\\nhas\\tO\\tO\\nbeen\\tO\\tO\\ndevoted\\tO\\tO\\nexclusively\\tO\\tO\\nto\\tO\\tO\\na\\tO\\tO\\ngubernatorial\\tO\\tO\\npractice\\tO\\tO\\nthat\\tO\\tO\\nrapidly\\tO\\tO\\ngained\\tO\\tO\\nimportance\\tO\\tO\\nfrom\\tO\\tO\\nthe\\tO\\tO\\nSecond\\tO\\tO\\nPunic\\tO\\tO\\nWar\\tO\\tO\\n.\\tO\\tO\\nThis\\tO\\tO\\nbipartite\\tO\\tO\\nstudy\\tO\\tO\\naims\\tO\\tO\\nat\\tO\\tO\\nbridging\\tO\\tO\\nthis\\tO\\tO\\nremarkable\\tO\\tO\\ngap\\tO\\tO\\n.\\tO\\tO\\nThe\\tO\\tO\\nfirst\\tO\\tO\\ncomponent\\tO\\tO\\nof\\tO\\tO\\nthis\\tO\\tO\\ninquiry\\tO\\tO\\nendeavours\\tO\\tO\\nto\\tO\\tO\\noffer\\tO\\tO\\nan\\tO\\tO\\noverall\\tO\\tO\\nconstitutional\\tO\\tO\\nsurvey\\tO\\tO\\nof\\tO\\tO\\nthe\\tO\\tO\\ninstitutional\\tO\\tO\\nphenomenon\\tO\\tO\\nof\\tO\\tO\\nthe\\tO\\tO\\npraetura\\tO\\tO\\npro\\tO\\tO\\nconsule\\tO\\tO\\nby\\tO\\tO\\ndiscussing\\tO\\tO\\nits\\tO\\tO\\norigins\\tO\\tO\\n,\\tO\\tO\\nnature\\tO\\tO\\nand\\tO\\tO\\nhistorical\\tO\\tO\\ndevelopment\\tO\\tO\\n.\\tO\\tO\\nThe\\tO\\tO\\nsecond\\tO\\tO\\npart\\tO\\tO\\nis\\tO\\tO\\nconducted\\tO\\tO\\nby\\tO\\tO\\nF.\\tO\\tO\\nHurlet\\tO\\tO\\nand\\tO\\tO\\nscrutinizes\\tO\\tO\\nthis\\tO\\tO\\npractice\\tO\\tO\\nas\\tO\\tO\\nrecorded\\tO\\tO\\nin\\tO\\tO\\nthe\\tO\\tO\\nfasti\\tO\\tO\\nof\\tO\\tO\\nAfrica\\tO\\tO\\n,\\tO\\tO\\nSicily\\tO\\tO\\nand\\tO\\tO\\nCorsica-Sardinia\\tO\\tO\\n.\\tO\\tO\\nAfter\\tO\\tO\\nhighlighting\\tO\\tO\\nthe\\tO\\tO\\nsignificance\\tO\\tO\\nof\\tO\\tO\\nthe\\tO\\tO\\nMetilian\\tO\\tO\\nLaw\\tO\\tO\\nfrom\\tO\\tO\\n217\\tCD\\tB-DATE\\nBCE\\tO\\tO\\nas\\tO\\tO\\na\\tO\\tO\\nprecedent\\tO\\tO\\n,\\tO\\tO\\nthe\\tO\\tO\\nnext\\tO\\tO\\nsection\\tO\\tO\\nof\\tO\\tO\\nthis\\tO\\tO\\nstudy\\tO\\tO\\nprovides\\tO\\tO\\na\\tO\\tO\\ndetailed\\tO\\tO\\ndiscussion\\tO\\tO\\nof\\tO\\tO\\nthe\\tO\\tO\\n(\\tO\\tO\\nhistorical\\tO\\tO\\ncircumstances\\tO\\tO\\nof\\tO\\tO\\nthe\\tO\\tO\\n)\\tO\\tO\\ncreation\\tO\\tO\\nof\\tO\\tO\\nthe\\tO\\tO\\npraetorian\\tO\\tO\\nproconsulship\\tO\\tO\\n.\\tO\\tO\\nThis\\tO\\tO\\nis\\tO\\tO\\nfollowed\\tO\\tO\\nby\\tO\\tO\\na\\tO\\tO\\nbrief\\tO\\tO\\nassessment\\tO\\tO\\nof\\tO\\tO\\nthe\\tO\\tO\\nproliferation\\tO\\tO\\nof\\tO\\tO\\nthis\\tO\\tO\\nadministrative\\tO\\tO\\npractice\\tO\\tO\\nthroughout\\tO\\tO\\nthe\\tO\\tO\\nRepublic\\tO\\tO\\n’s\\tO\\tO\\ngrowing\\tO\\tO\\nnumber\\tO\\tO\\nof\\tO\\tO\\nprovinces\\tO\\tO\\n.\\tO\\tO\\nThe\\tO\\tO\\nsubsequent\\tO\\tO\\ntwo\\tO\\tO\\nsections\\tO\\tO\\nconcern\\tO\\tO\\nthe\\tO\\tO\\nofficial\\tO\\tO\\nauthority\\tO\\tO\\nand\\tO\\tO\\nnomenclature\\tO\\tO\\nof\\tO\\tO\\nthe\\tO\\tO\\npraetorian\\tO\\tO\\nproconsuls\\tO\\tO\\n,\\tO\\tO\\nfollowed\\tO\\tO\\nby\\tO\\tO\\na\\tO\\tO\\ndiscussion\\tO\\tO\\nof\\tO\\tO\\nthe\\tO\\tO\\nfrequency\\tO\\tO\\nand\\tO\\tO\\nrationale\\tO\\tO\\nof\\tO\\tO\\nthe\\tO\\tO\\npractice\\tO\\tO\\nas\\tO\\tO\\nwell\\tO\\tO\\nas\\tO\\tO\\nthe\\tO\\tO\\ndiscretion\\tO\\tO\\nexercised\\tO\\tO\\nby\\tO\\tO\\nthe\\tO\\tO\\nSenate\\tO\\tO\\nin\\tO\\tO\\nthe\\tO\\tO\\nrelevant\\tO\\tO\\ndecision-making\\tO\\tO\\nprocess\\tO\\tO\\n.\\tO\\tO\\nThe\\tO\\tO\\nfinal\\tO\\tO\\nsection\\tO\\tO\\n,\\tO\\tO\\nthen\\tO\\tO\\n,\\tO\\tO\\naddresses\\tO\\tO\\nthe\\tO\\tO\\ntemporary\\tO\\tO\\nabolition\\tO\\tO\\nas\\tO\\tO\\nwell\\tO\\tO\\nas\\tO\\tO\\nthe\\tO\\tO\\neventual\\tO\\tO\\ngeneralization\\tO\\tO\\nof\\tO\\tO\\nthe\\tO\\tO\\npraetorian\\tO\\tO\\nproconsulship\\tO\\tO\\nin\\tO\\tO\\nthe\\tO\\tO\\ntransitional\\tO\\tO\\nperiod\\tO\\tO\\n53/52–27\\tO\\tO\\nBCE\\tO\\tO\\n.\\tO\\tO\\nThe\\tO\\tO\\nepilogue\\tO\\tO\\nponders\\tO\\tO\\nthe\\tO\\tO\\nquestion\\tO\\tO\\nwhether\\tO\\tO\\nor\\tO\\tO\\nnot\\tO\\tO\\nthe\\tO\\tO\\ncommand\\tO\\tO\\nheld\\tO\\tO\\nin\\tO\\tO\\n215\\tCD\\tB-DATE\\nBCE\\tO\\tO\\nby\\tO\\tO\\nM.\\tO\\tO\\nClaudius\\tO\\tO\\nMarcellus\\tO\\tO\\n(\\tO\\tO\\ncos\\tO\\tO\\n.\\tO\\tO\\n222\\tCD\\tB-DATE\\n,\\tO\\tO\\npr\\tO\\tO\\n.\\tO\\tO\\nII\\tO\\tO\\n216\\tCD\\tB-DATE\\n)\\tO\\tO\\ncan\\tO\\tO\\nbe\\tO\\tO\\nconsidered\\tO\\tO\\nas\\tO\\tO\\nthe\\tO\\tO\\nfirst\\tO\\tO\\nhistorically\\tO\\tO\\nattested\\tO\\tO\\ncase\\tO\\tO\\nof\\tO\\tO\\na\\tO\\tO\\n(\\tO\\tO\\npro\\tO\\tO\\n)\\tO\\tO\\npraetor(e)\\tO\\tO\\npro\\tO\\tO\\nconsule\\tO\\tO\\n.\\tO\\tO\\nI\\tO\\tO\\nwould\\tO\\tO\\nlike\\tO\\tO\\nto\\tO\\tO\\nexpress\\tO\\tO\\nmy\\tO\\tO\\nprofound\\tO\\tO\\ngratitude\\tO\\tO\\nto\\tO\\tO\\nboth\\tO\\tO\\nanonymous\\tO\\tO\\nreferees\\tO\\tO\\nfor\\tO\\tO\\ntheir\\tO\\tO\\nextensive\\tO\\tO\\nand\\tO\\tO\\ndetailed\\tO\\tO\\ncomments\\tO\\tO\\nand\\tO\\tO\\nsuggestions\\tO\\tO\\nwhich\\tO\\tO\\nmuch\\tO\\tO\\nhelped\\tO\\tO\\nto\\tO\\tO\\nimprove\\tO\\tO\\nthis\\tO\\tO\\nstudy\\tO\\tO\\n.\\tO\\tO\\nAny\\tO\\tO\\nremaining\\tO\\tO\\nflaws\\tO\\tO\\nand\\tO\\tO\\nerrors\\tO\\tO\\nare\\tO\\tO\\nmy\\tO\\tO\\nown\\tO\\tO\\n.\\tO\\tO\\nI\\tO\\tO\\nalso\\tO\\tO\\nwish\\tO\\tO\\nto\\tO\\tO\\nthank\\tO\\tO\\nmy\\tO\\tO\\ncolleague\\tO\\tO\\nand\\tO\\tO\\nlong-standing\\tO\\tO\\nfriend\\tO\\tO\\n,\\tO\\tO\\nFrédéric\\tO\\tO\\nHurlet\\tO\\tO\\n,\\tO\\tO\\nfor\\tO\\tO\\nthe\\tO\\tO\\npleasant\\tO\\tO\\nand\\tO\\tO\\nrewarding\\tO\\tO\\ncollaboration\\tO\\tO\\n.\\tO\\tO\\n1\\tCD\\tB-DATE\\nFor\\tO\\tO\\na\\tO\\tO\\nrare\\tO\\tO\\nstudy\\tO\\tO\\ninto\\tO\\tO\\nthe\\tO\\tO\\npraetorian\\tO\\tO\\nproconsuls\\tO\\tO\\nof\\tO\\tO\\nthe\\tO\\tO\\nearly\\tO\\tO\\nEmpire\\tO\\tO\\n,\\tO\\tO\\nsee\\tO\\tO\\nEck\\tO\\tO\\n1972/1973\\tO\\tO\\n,\\tO\\tO\\n233–260\\tDate\\tB-DATE\\n.\\tO\\tO\\n46\\tCD\\tB-DATE\\n2\\tCD\\tI-DATE\\n.\\tO\\tO\\nThe\\tO\\tO\\nMetilian\\tO\\tO\\nLaw\\tO\\tO\\n(\\tO\\tO\\n217\\tCD\\tB-DATE\\nBCE\\tO\\tO\\n)\\tO\\tO\\nas\\tO\\tO\\na\\tO\\tO\\nprecedent\\tO\\tO\\nIn\\tO\\tO\\nthe\\tO\\tO\\naftermath\\tO\\tO\\nof\\tO\\tO\\nHannibal\\tO\\tO\\n’s\\tO\\tO\\ncrushing\\tO\\tO\\nvictory\\tO\\tO\\nat\\tO\\tO\\nLake\\tO\\tO\\nTrasimene\\tO\\tO\\nin\\tO\\tO\\n217\\tCD\\tB-DATE\\n,\\tO\\tO\\nSenate\\tO\\tO\\nand\\tO\\tO\\nPeople\\tO\\tO\\ndecided\\tO\\tO\\non\\tO\\tO\\na\\tO\\tO\\nseries\\tO\\tO\\nof\\tO\\tO\\nunprecedented\\tO\\tO\\nmeasures\\tO\\tO\\n.\\tO\\tO\\nFirst\\tO\\tO\\n,\\tO\\tO\\ncircumstances\\tO\\tO\\nled\\tO\\tO\\nthe\\tO\\tO\\nSenate\\tO\\tO\\nto\\tO\\tO\\narrange\\tO\\tO\\nfor\\tO\\tO\\na\\tO\\tO\\ndirect\\tO\\tO\\npopular\\tO\\tO\\nelection\\tO\\tO\\nof\\tO\\tO\\na\\tO\\tO\\ndictator\\tO\\tO\\nas\\tO\\tO\\nwell\\tO\\tO\\nas\\tO\\tO\\nhis\\tO\\tO\\nmagister\\tO\\tO\\nequitum\\tO\\tO\\n,\\tO\\tO\\nboth\\tO\\tO\\nkey\\tO\\tO\\npositions\\tO\\tO\\nbeing\\tO\\tO\\nwon\\tO\\tO\\nby\\tO\\tO\\nQ.\\tO\\tO\\nFabius\\tO\\tO\\nMaximus\\tO\\tO\\nVerrucosus\\tO\\tO\\n(\\tO\\tO\\ncos\\tO\\tO\\n.\\tO\\tO\\n233\\tCD\\tB-DATE\\n,\\tO\\tO\\nII\\tO\\tO\\n228\\tCD\\tB-DATE\\n,\\tO\\tO\\nIII\\tO\\tO\\n215\\tCD\\tB-DATE\\n,\\tO\\tO\\nIV\\tO\\tO\\n214\\tCD\\tB-DATE\\n,\\tO\\tO\\nV\\tO\\tO\\n209\\tCD\\tB-DATE\\n)\\tO\\tO\\nand\\tO\\tO\\nM.\\tO\\tO\\nMinucius\\tO\\tO\\nRufus\\tO\\tO\\n(\\tO\\tO\\ncos\\tO\\tO\\n.\\tO\\tO\\n221\\tCD\\tB-DATE\\n)\\tO\\tO\\nrespectively\\tO\\tO\\n.\\tO\\tO\\nSeveral\\tO\\tO\\nfactors\\tO\\tO\\ncombined\\tO\\tO\\nto\\tO\\tO\\nset\\tO\\tO\\nthe\\tO\\tO\\nstage\\tO\\tO\\nfor\\tO\\tO\\nyet\\tO\\tO\\nanother\\tO\\tO\\ndramatic\\tO\\tO\\nprecedent\\tO\\tO\\n:\\tO\\tO\\nwidespread\\tO\\tO\\npopular\\tO\\tO\\ndiscontent\\tO\\tO\\nat\\tO\\tO\\nHannibal\\tO\\tO\\n’s\\tO\\tO\\ntargeted\\tO\\tO\\ndestructions\\tO\\tO\\nand\\tO\\tO\\nFabius\\tO\\tO\\n’\\tO\\tO\\nevasive\\tO\\tO\\nstrategy\\tO\\tO\\n;\\tO\\tO\\nrelentless\\tO\\tO\\ncalls\\tO\\tO\\nfor\\tO\\tO\\na\\tO\\tO\\nmore\\tO\\tO\\naggressive\\tO\\tO\\napproach\\tO\\tO\\non\\tO\\tO\\nthe\\tO\\tO\\npart\\tO\\tO\\nof\\tO\\tO\\nthe\\tO\\tO\\nhawkish\\tO\\tO\\nmagister\\tO\\tO\\nequitum\\tO\\tO\\n;\\tO\\tO\\nand\\tO\\tO\\nprofound\\tO\\tO\\nsenatorial\\tO\\tO\\ndissatisfaction\\tO\\tO\\nat\\tO\\tO\\nthe\\tO\\tO\\ndictator\\tO\\tO\\n’s\\tO\\tO\\ndecision\\tO\\tO\\nto\\tO\\tO\\nexchange\\tO\\tO\\nprisoners\\tO\\tO\\nwithout\\tO\\tO\\nprior\\tO\\tO\\nsenatorial\\tO\\tO\\nconsent\\tO\\tO\\n.\\tO\\tO\\nFinally\\tO\\tO\\n,\\tO\\tO\\nnews\\tO\\tO\\nof\\tO\\tO\\na\\tO\\tO\\nsuccessful\\tO\\tO\\nengagement\\tO\\tO\\nbetween\\tO\\tO\\nthe\\tO\\tO\\nmagister\\tO\\tO\\nequitum\\tO\\tO\\nand\\tO\\tO\\nHannibal\\tO\\tO\\n’s\\tO\\tO\\nforces\\tO\\tO\\nprompted\\tO\\tO\\nthe\\tO\\tO\\nSenate\\tO\\tO\\nto\\tO\\tO\\ninstruct\\tO\\tO\\nthe\\tO\\tO\\ntribune\\tO\\tO\\nof\\tO\\tO\\nthe\\tO\\tO\\nplebs\\tO\\tO\\nM.\\tO\\tO\\nMetilius\\tO\\tO\\nto\\tO\\tO\\nput\\tO\\tO\\nforward\\tO\\tO\\na\\tO\\tO\\nrogatio\\tO\\tO\\nde\\tO\\tO\\naequando\\tO\\tO\\nM.\\tO\\tO\\nMinuci\\tO\\tO\\nmagistri\\tO\\tO\\nequitum\\tO\\tO\\net\\tO\\tO\\nQ.\\tO\\tO\\nFabi\\tO\\tO\\ndictatoris\\tO\\tO\\niure\\tO\\tO\\n.\\tO\\tO\\nIn\\tO\\tO\\nterms\\tO\\tO\\nof\\tO\\tO\\npublic\\tO\\tO\\nlaw\\tO\\tO\\n,\\tO\\tO\\nthe\\tO\\tO\\nresults\\tO\\tO\\nof\\tO\\tO\\nthis\\tO\\tO\\nMetilian\\tO\\tO\\nLaw\\tO\\tO\\nwere\\tO\\tO\\ntwofold\\tO\\tO\\n.\\tO\\tO\\nFirst\\tO\\tO\\n,\\tO\\tO\\nit\\tO\\tO\\nupgraded\\tO\\tO\\nthe\\tO\\tO\\nconsular\\tO\\tO\\nimperium\\tO\\tO\\nof\\tO\\tO\\nM.\\tO\\tO\\nMinucius\\tO\\tO\\nby\\tO\\tO\\nredefining\\tO\\tO\\nit\\tO\\tO\\nas\\tO\\tO\\ndictatorium\\tO\\tO\\n.\\tO\\tO\\nSecond\\tO\\tO\\n,\\tO\\tO\\nand\\tO\\tO\\njust\\tO\\tO\\nas\\tO\\tO\\nremarkably\\tO\\tO\\n,\\tO\\tO\\nit\\tO\\tO\\nprovided\\tO\\tO\\nthat\\tO\\tO\\nthe\\tO\\tO\\nmagister\\tO\\tO\\nequitum\\tO\\tO\\nwas\\tO\\tO\\nto\\tO\\tO\\ncommand\\tO\\tO\\non\\tO\\tO\\na\\tO\\tO\\nfooting\\tO\\tO\\nof\\tO\\tO\\nequality\\tO\\tO\\nwith\\tO\\tO\\nthe\\tO\\tO\\ndictator\\tO\\tO\\n,\\tO\\tO\\nvery\\tO\\tO\\nmuch\\tO\\tO\\non\\tO\\tO\\nthe\\tO\\tO\\nmodel\\tO\\tO\\nof\\tO\\tO\\na\\tO\\tO\\njoint\\tO\\tO\\nconsular\\tO\\tO\\ncommand\\tO\\tO\\n.\\tO\\tO\\nBy\\tO\\tO\\nvirtue\\tO\\tO\\nof\\tO\\tO\\nthe\\tO\\tO\\nMetilian\\tO\\tO\\nLaw\\tO\\tO\\n,\\tO\\tO\\neach\\tO\\tO\\nman\\tO\\tO\\nnow\\tO\\tO\\ncommanded\\tO\\tO\\nnot\\tO\\tO\\nonly\\tO\\tO\\neodem\\tO\\tO\\nimperio\\tO\\tO\\n,\\tO\\tO\\nbut\\tO\\tO\\nalso\\tO\\tO\\npari\\tO\\tO\\nimperio\\tO\\tO\\n.\\tO\\tO\\nUnsurprisingly\\tO\\tO\\n,\\tO\\tO\\nMinucius\\tO\\tO\\nimmediately\\tO\\tO\\ninsisted\\tO\\tO\\non\\tO\\tO\\ndividing\\tO\\tO\\nup\\tO\\tO\\nthe\\tO\\tO\\nlegions\\tO\\tO\\n,\\tO\\tO\\nwhich\\tO\\tO\\nwere\\tO\\tO\\nsaved\\tO\\tO\\nfrom\\tO\\tO\\nutter\\tO\\tO\\ndestruction\\tO\\tO\\nonly\\tO\\tO\\nby\\tO\\tO\\nthe\\tO\\tO\\ndictator\\tO\\tO\\n’s\\tO\\tO\\ntimely\\tO\\tO\\nintervention\\tO\\tO\\n.\\tO\\tO\\nAfter\\tO\\tO\\nMinucius\\tO\\tO\\nhimself\\tO\\tO\\nhad\\tO\\tO\\ndramatically\\tO\\tO\\nrenounced\\tO\\tO\\nthe\\tO\\tO\\nMetilian\\tO\\tO\\nLaw\\tO\\tO\\nby\\tO\\tO\\nsubmitting\\tO\\tO\\nhimself\\tO\\tO\\nagain\\tO\\tO\\nto\\tO\\tO\\nFabius\\tO\\tO\\n’\\tO\\tO\\nsupreme\\tO\\tO\\ncommand\\tO\\tO\\n,\\tO\\tO\\nSPQR\\tO\\tO\\nofficially\\tO\\tO\\nrepealed\\tO\\tO\\nthe\\tO\\tO\\nplebiscite\\tO\\tO\\n.\\tO\\tO\\nAlthough\\tO\\tO\\nthe\\tO\\tO\\nlegal\\tO\\tO\\neffect\\tO\\tO\\nof\\tO\\tO\\nthis\\tO\\tO\\nad\\tO\\tO\\nhoc\\tO\\tO\\nstatute\\tO\\tO\\nthus\\tO\\tO\\nwas\\tO\\tO\\nshortlived\\tO\\tO\\n,\\tO\\tO\\nthere\\tO\\tO\\nis\\tO\\tO\\n,\\tO\\tO\\nnonetheless\\tO\\tO\\n,\\tO\\tO\\nevery\\tO\\tO\\nindication\\tO\\tO\\nthat\\tO\\tO\\nits\\tO\\tO\\nhistoric\\tO\\tO\\nsignificance\\tO\\tO\\nwas\\tO\\tO\\ntremendous\\tO\\tO\\n.\\tO\\tO\\nAmongst\\tO\\tO\\nother\\tO\\tO\\nthings\\tO\\tO\\n,\\tO\\tO\\nit\\tO\\tO\\ndemonstrated\\tO\\tO\\nthat\\tO\\tO\\nit\\tO\\tO\\nwas\\tO\\tO\\nperfectly\\tO\\tO\\npossible\\tO\\tO\\nto\\tO\\tO\\nupgrade\\tO\\tO\\nthe\\tO\\tO\\ngenus\\tO\\tO\\nimperii\\tO\\tO\\nof\\tO\\tO\\na\\tO\\tO\\ncertain\\tO\\tO\\nofficial\\tO\\tO\\n(\\tO\\tO\\nwith\\tO\\tO\\nfull\\tO\\tO\\nimperium\\tO\\tO\\nauspiciumque\\tO\\tO\\n)\\tO\\tO\\nto\\tO\\tO\\nthe\\tO\\tO\\nlevel\\tO\\tO\\nof\\tO\\tO\\na\\tO\\tO\\ngenus\\tO\\tO\\nimperii\\tO\\tO\\nthat\\tO\\tO\\nwas\\tO\\tO\\n,\\tO\\tO\\nin\\tO\\tO\\nterms\\tO\\tO\\nof\\tO\\tO\\nrelative\\tO\\tO\\nstrength\\tO\\tO\\n,\\tO\\tO\\nmaius\\tO\\tO\\n.\\tO\\tO\\nThe\\tO\\tO\\nlex\\tO\\tO\\nMetilia\\tO\\tO\\ntherefore\\tO\\tO\\nset\\tO\\tO\\na\\tO\\tO\\nprecedent\\tO\\tO\\nfor\\tO\\tO\\nthe\\tO\\tO\\nprocedure\\tO\\tO\\nof\\tO\\tO\\nredefining\\tO\\tO\\nand\\tO\\tO\\nupgrading\\tO\\tO\\nthe\\tO\\tO\\npraetorium\\tO\\tO\\nimperium\\tO\\tO\\nof\\tO\\tO\\ncertain\\tO\\tO\\npraetors\\tO\\tO\\nto\\tO\\tO\\nconsulare\\tO\\tO\\nimperium\\tO\\tO\\n.\\tO\\tO\\nThe\\tO\\tO\\nnext\\tO\\tO\\nsection\\tO\\tO\\nof\\tO\\tO\\nthis\\tO\\tO\\nstudy\\tO\\tO\\nwill\\tO\\tO\\n2\\tCD\\tB-DATE\\nThe\\tO\\tO\\ntraditional\\tO\\tO\\ngenera\\tO\\tO\\nimperii\\tO\\tO\\nconsisted\\tO\\tO\\nof\\tO\\tO\\nthe\\tO\\tO\\npraetorium\\tO\\tO\\nimperium\\tO\\tO\\n(\\tO\\tO\\ncf.\\tO\\tO\\nCic\\tO\\tO\\n.\\tO\\tO\\nPis\\tO\\tO\\n.\\tO\\tO\\n38\\tCD\\tB-DATE\\n;\\tO\\tO\\nVerr\\tO\\tO\\n.\\tO\\tO\\n2.\\tO\\tO\\n.\\tO\\tO\\n;\\tO\\tO\\nDiu\\tO\\tO\\n.\\tO\\tO\\n1\\tCD\\tB-DATE\\n.\\tO\\tO\\n)\\tO\\tO\\n,\\tO\\tO\\nthe\\tO\\tO\\nconsulare\\tO\\tO\\nimperium\\tO\\tO\\n,\\tO\\tO\\nand\\tO\\tO\\nthe\\tO\\tO\\ndictatorium\\tO\\tO\\nimperium\\tO\\tO\\n(\\tO\\tO\\ncf.\\tO\\tO\\nLivy\\tO\\tO\\n22.\\tO\\tO\\n.\\tO\\tO\\n:\\tO\\tO\\ndictatorio\\tO\\tO\\nimperio\\tO\\tO\\n–\\tO\\tO\\nin\\tO\\tO\\nRep.\\tO\\tO\\n2\\tCD\\tB-DATE\\n.\\tO\\tO\\n,\\tO\\tO\\nCicero\\tO\\tO\\ndefines\\tO\\tO\\nthe\\tO\\tO\\nimperium\\tO\\tO\\nof\\tO\\tO\\nthe\\tO\\tO\\ndictatorship\\tO\\tO\\n,\\tO\\tO\\nwhich\\tO\\tO\\nwas\\tO\\tO\\nsupposedly\\tO\\tO\\ncreated\\tO\\tO\\nten\\tO\\tO\\nyears\\tO\\tO\\nafter\\tO\\tO\\nthe\\tO\\tO\\nestablishment\\tO\\tO\\nof\\tO\\tO\\nthe\\tO\\tO\\nconsulate\\tO\\tO\\n,\\tO\\tO\\nas\\tO\\tO\\na\\tO\\tO\\nnouum\\tO\\tO\\ngenus\\tO\\tO\\nimperii\\tO\\tO\\n[\\tO\\tO\\n…\\tO\\tO\\n]\\tO\\tO\\nproximum\\tO\\tO\\nsimilitudine\\tO\\tO\\nregiae\\tO\\tO\\n)\\tO\\tO\\n.\\tO\\tO\\n3\\tCD\\tB-DATE\\nFor\\tO\\tO\\na\\tO\\tO\\ncomprehensive\\tO\\tO\\nanalysis\\tO\\tO\\nof\\tO\\tO\\nthe\\tO\\tO\\nMetilian\\tO\\tO\\nLaw\\tO\\tO\\nand\\tO\\tO\\nits\\tO\\tO\\nhistoric\\tO\\tO\\nsignificance\\tO\\tO\\n,\\tO\\tO\\nsee\\tO\\tO\\nVervaet\\tO\\tO\\n2007\\tCD\\tB-DATE\\n,\\tO\\tO\\n197–232\\tDate\\tB-DATE\\n.\\tO\\tO\\nSee\\tO\\tO\\nesp\\tO\\tO\\n.\\tO\\tO\\n201–215\\tDate\\tB-DATE\\nfor\\tO\\tO\\nthe\\tO\\tO\\nargument\\tO\\tO\\nthat\\tO\\tO\\nMinucius\\tO\\tO\\n’\\tO\\tO\\nimperium\\tO\\tO\\nwas\\tO\\tO\\nfully\\tO\\tO\\nequated\\tO\\tO\\nwith\\tO\\tO\\nthat\\tO\\tO\\nof\\tO\\tO\\nthe\\tO\\tO\\ndictator\\tO\\tO\\nby\\tO\\tO\\nvirtue\\tO\\tO\\nof\\tO\\tO\\na\\tO\\tO\\nplebiscitum\\tO\\tO\\nMetilium\\tO\\tO\\npassed\\tO\\tO\\nex\\tO\\tO\\ns.c.\\tO\\tO\\nAlthough\\tO\\tO\\nLivy\\tO\\tO\\nclearly\\tO\\tO\\nalludes\\tO\\tO\\nto\\tO\\tO\\nthe\\tO\\tO\\nhostility\\tO\\tO\\nof\\tO\\tO\\nthe\\tO\\tO\\nSenate\\tO\\tO\\nagainst\\tO\\tO\\nthe\\tO\\tO\\ndictator\\tO\\tO\\n,\\tO\\tO\\nhis\\tO\\tO\\nnarrative\\tO\\tO\\nsuppressed\\tO\\tO\\nany\\tO\\tO\\ndirect\\tO\\tO\\nreference\\tO\\tO\\nto\\tO\\tO\\nthis\\tO\\tO\\nunprecedented\\tO\\tO\\ns.c.\\tO\\tO\\nin\\tO\\tO\\nan\\tO\\tO\\nattempt\\tO\\tO\\nto\\tO\\tO\\nshift\\tO\\tO\\nthe\\tO\\tO\\nblame\\tO\\tO\\nfor\\tO\\tO\\nthis\\tO\\tO\\ninfamous\\tO\\tO\\nmeasure\\tO\\tO\\nto\\tO\\tO\\nMetilius\\tO\\tO\\n’\\tO\\tO\\npopular\\tO\\tO\\nagitation\\tO\\tO\\nand\\tO\\tO\\nthe\\tO\\tO\\nconsular\\tO\\tO\\nambition\\tO\\tO\\nof\\tO\\tO\\nC.\\tO\\tO\\nTerentius\\tO\\tO\\nVarro\\tO\\tO\\n(\\tO\\tO\\npr\\tO\\tO\\n.\\tO\\tO\\n218\\tCD\\tB-DATE\\n,\\tO\\tO\\ncos\\tO\\tO\\n.\\tO\\tO\\n216\\tCD\\tB-DATE\\n)\\tO\\tO\\n,\\tO\\tO\\nthe\\tO\\tO\\nsingle\\tO\\tO\\nsenator\\tO\\tO\\nwho\\tO\\tO\\nventured\\tO\\tO\\nto\\tO\\tO\\ndefend\\tO\\tO\\nit\\tO\\tO\\npublicly\\tO\\tO\\nbefore\\tO\\tO\\nthe\\tO\\tO\\nPeople\\tO\\tO\\n.\\tO\\tO\\nThe\\tO\\tO\\nfirst\\tO\\tO\\nappendix\\tO\\tO\\non\\tO\\tO\\n47\\tCD\\tB-DATE\\nargue\\tO\\tO\\nthat\\tO\\tO\\n,\\tO\\tO\\non\\tO\\tO\\nthe\\tO\\tO\\nmodel\\tO\\tO\\nof\\tO\\tO\\nthe\\tO\\tO\\nclause\\tO\\tO\\nof\\tO\\tO\\nthe\\tO\\tO\\nMetilian\\tO\\tO\\nLaw\\tO\\tO\\nupgrading\\tO\\tO\\nMinucius\\tO\\tO\\n’\\tO\\tO\\nimperium\\tO\\tO\\n,\\tO\\tO\\nthe\\tO\\tO\\nSenate\\tO\\tO\\nsoon\\tO\\tO\\nalso\\tO\\tO\\nbegan\\tO\\tO\\nto\\tO\\tO\\nredefine\\tO\\tO\\ncertain\\tO\\tO\\npraetoria\\tO\\tO\\nimperia\\tO\\tO\\nas\\tO\\tO\\nconsularia\\tO\\tO\\nimperia\\tO\\tO\\n.\\tO\\tO\\n3\\tCD\\tB-DATE\\n.\\tO\\tO\\nThe\\tO\\tO\\ncreation\\tO\\tO\\nof\\tO\\tO\\nthe\\tO\\tO\\npraetura\\tO\\tO\\npro\\tO\\tO\\nconsule\\tO\\tO\\nThe\\tO\\tO\\nsuccessive\\tO\\tO\\ncrises\\tO\\tO\\nof\\tO\\tO\\nthe\\tO\\tO\\nSecond\\tO\\tO\\nPunic\\tO\\tO\\nWar\\tO\\tO\\nforced\\tO\\tO\\nthe\\tO\\tO\\nRomans\\tO\\tO\\nto\\tO\\tO\\nresort\\tO\\tO\\nto\\tO\\tO\\nmany\\tO\\tO\\nshort-lived\\tO\\tO\\nand\\tO\\tO\\nlasting\\tO\\tO\\nconstitutional\\tO\\tO\\ninnovations\\tO\\tO\\n.\\tO\\tO\\nIt\\tO\\tO\\nis\\tO\\tO\\nquite\\tO\\tO\\nlikely\\tO\\tO\\nthat\\tO\\tO\\n,\\tO\\tO\\namongst\\tO\\tO\\nother\\tO\\tO\\nthings\\tO\\tO\\n,\\tO\\tO\\nthis\\tO\\tO\\ntitanic\\tO\\tO\\nstruggle\\tO\\tO\\nalso\\tO\\tO\\nbrought\\tO\\tO\\nforth\\tO\\tO\\nthe\\tO\\tO\\nfirst\\tO\\tO\\nidentifiable\\tO\\tO\\ncase\\tO\\tO\\nof\\tO\\tO\\nthe\\tO\\tO\\nupgrading\\tO\\tO\\nof\\tO\\tO\\na\\tO\\tO\\npraetorian\\tO\\tO\\nimperium\\tO\\tO\\nto\\tO\\tO\\nconsular\\tO\\tO\\nlevel\\tO\\tO\\n.\\tO\\tO\\nGiven\\tO\\tO\\nthe\\tO\\tO\\nretrospective\\tO\\tO\\nimportance\\tO\\tO\\nof\\tO\\tO\\nthis\\tO\\tO\\nevolution\\tO\\tO\\nit\\tO\\tO\\nis\\tO\\tO\\nuseful\\tO\\tO\\nto\\tO\\tO\\nproduce\\tO\\tO\\na\\tO\\tO\\nbrief\\tO\\tO\\noutline\\tO\\tO\\nof\\tO\\tO\\nthe\\tO\\tO\\nprecise\\tO\\tO\\ncircumstances\\tO\\tO\\n.\\tO\\tO\\nDue\\tO\\tO\\nto\\tO\\tO\\nthe\\tO\\tO\\nfragmentary\\tO\\tO\\nand\\tO\\tO\\nlargely\\tO\\tO\\ncircumstantial\\tO\\tO\\nnature\\tO\\tO\\nof\\tO\\tO\\nthe\\tO\\tO\\nevidence\\tO\\tO\\n,\\tO\\tO\\nthe\\tO\\tO\\nfollowing\\tO\\tO\\nreconstruction\\tO\\tO\\nrepresents\\tO\\tO\\nan\\tO\\tO\\nattempt\\tO\\tO\\nat\\tO\\tO\\ndeveloping\\tO\\tO\\na\\tO\\tO\\nset\\tO\\tO\\nof\\tO\\tO\\nplausible\\tO\\tO\\nsolutions\\tO\\tO\\nto\\tO\\tO\\na\\tO\\tO\\nseries\\tO\\tO\\nof\\tO\\tO\\npersistent\\tO\\tO\\nproblems\\tO\\tO\\n.\\tO\\tO\\nIn\\tO\\tO\\n211\\tCD\\tB-DATE\\n,\\tO\\tO\\nin\\tO\\tO\\nconsequence\\tO\\tO\\nof\\tO\\tO\\nthe\\tO\\tO\\nsuccessive\\tO\\tO\\ndeaths\\tO\\tO\\nof\\tO\\tO\\nthe\\tO\\tO\\nproconsuls\\tO\\tO\\nP.\\tO\\tO\\n(\\tO\\tO\\ncos\\tO\\tO\\n.\\tO\\tO\\n218\\tCD\\tB-DATE\\n)\\tO\\tO\\nand\\tO\\tO\\nCn\\tO\\tO\\n.\\tO\\tO\\n(\\tO\\tO\\ncos\\tO\\tO\\n.\\tO\\tO\\n222\\tCD\\tB-DATE\\n)\\tO\\tO\\nCornelius\\tO\\tO\\nScipio\\tO\\tO\\n,\\tO\\tO\\nthe\\tO\\tO\\nSenate\\tO\\tO\\ninstructed\\tO\\tO\\nthe\\tO\\tO\\ntribunes\\tO\\tO\\nof\\tO\\tO\\nthe\\tO\\tO\\nplebs\\tO\\tO\\nto\\tO\\tO\\nask\\tO\\tO\\nthe\\tO\\tO\\ntribes\\tO\\tO\\nwhom\\tO\\tO\\nthey\\tO\\tO\\npreferred\\tO\\tO\\nto\\tO\\tO\\nsend\\tO\\tO\\nwith\\tO\\tO\\nimperium\\tO\\tO\\nto\\tO\\tO\\nSpain\\tO\\tO\\nto\\tO\\tO\\nthe\\tO\\tO\\narmy\\tO\\tO\\nof\\tO\\tO\\nwhich\\tO\\tO\\nCn\\tO\\tO\\n.\\tO\\tO\\nScipio\\tO\\tO\\nhad\\tO\\tO\\nbeen\\tO\\tO\\ncommander-in-chief\\tO\\tO\\n,\\tO\\tO\\nthe\\tO\\tO\\nappointee\\tO\\tO\\nbeing\\tO\\tO\\nthe\\tO\\tO\\npropraetor\\tO\\tO\\nC.\\tO\\tO\\nClaudius\\tO\\tO\\nNero\\tO\\tO\\n(\\tO\\tO\\npr\\tO\\tO\\n.\\tO\\tO\\n212\\tCD\\tB-DATE\\n)\\tO\\tO\\n.\\tO\\tO\\nHowever\\tO\\tO\\n,\\tO\\tO\\nafter\\tO\\tO\\nNero\\tO\\tO\\nhad\\tO\\tO\\nfailed\\tO\\tO\\nto\\tO\\tO\\nexploit\\tO\\tO\\nhis\\tO\\tO\\nstunning\\tO\\tO\\ninitial\\tO\\tO\\nsuccess\\tO\\tO\\nagainst\\tO\\tO\\nHasdrubal\\tO\\tO\\n,\\tO\\tO\\nthe\\tO\\tO\\nSenate\\tO\\tO\\ndecided\\tO\\tO\\nto\\tO\\tO\\nhave\\tO\\tO\\nhim\\tO\\tO\\nreplaced\\tO\\tO\\n.\\tO\\tO\\nAlthough\\tO\\tO\\nthere\\tO\\tO\\nwas\\tO\\tO\\nno\\tO\\tO\\nagreement\\tO\\tO\\nas\\tO\\tO\\nto\\tO\\tO\\nwho\\tO\\tO\\nwas\\tO\\tO\\nto\\tO\\tO\\nbe\\tO\\tO\\nsent\\tO\\tO\\nto\\tO\\tO\\nSpain\\tO\\tO\\n,\\tO\\tO\\nthere\\tO\\tO\\nwas\\tO\\tO\\nconsensus\\tO\\tO\\nthat\\tO\\tO\\na\\tO\\tO\\nsuccessor\\tO\\tO\\nto\\tO\\tO\\nthis\\tO\\tO\\nvital\\tO\\tO\\ncommand\\tO\\tO\\nwas\\tO\\tO\\nto\\tO\\tO\\nbe\\tO\\tO\\nchosen\\tO\\tO\\nwith\\tO\\tO\\nextraordinary\\tO\\tO\\ncare\\tO\\tO\\n(\\tO\\tO\\nextraordinaria\\tO\\tO\\ncura\\tO\\tO\\n)\\tO\\tO\\n.\\tO\\tO\\nAs\\tO\\tO\\nthe\\tO\\tO\\nSenate\\tO\\tO\\nfailed\\tO\\tO\\nto\\tO\\tO\\nagree\\tO\\tO\\non\\tO\\tO\\nthe\\tO\\tO\\nappointment\\tO\\tO\\nof\\tO\\tO\\nan\\tO\\tO\\nincumbent\\tO\\tO\\n(pro)magistrate\\tO\\tO\\n,\\tO\\tO\\nit\\tO\\tO\\neventually\\tO\\tO\\ndecided\\tO\\tO\\nthat\\tO\\tO\\nthe\\tO\\tO\\nconsuls\\tO\\tO\\nshould\\tO\\tO\\norganize\\tO\\tO\\nthe\\tO\\tO\\ndesignation\\tO\\tO\\nof\\tO\\tO\\na\\tO\\tO\\nproconsul\\tO\\tO\\nfor\\tO\\tO\\nHispania\\tO\\tO\\nin\\tO\\tO\\nthe\\tO\\tO\\ncomitia\\tO\\tO\\ncenturiata\\tO\\tO\\n.\\tO\\tO\\nWhen\\tO\\tO\\n,\\tO\\tO\\nsurprisingly\\tO\\tO\\nenough\\tO\\tO\\n,\\tO\\tO\\nonly\\tO\\tO\\nthe\\tO\\tO\\nyoung\\tO\\tO\\nbut\\tO\\tO\\ncharismatic\\tO\\tO\\nP.\\tO\\tO\\nCornelius\\tO\\tO\\nScipio\\tO\\tO\\n,\\tO\\tO\\nthe\\tO\\tO\\ntwenty-four\\tO\\tO\\nyear\\tO\\tO\\nold\\tO\\tO\\nson\\tO\\tO\\nof\\tO\\tO\\nthe\\tO\\tO\\nrecently\\tO\\tO\\nslain\\tO\\tO\\nP.\\tO\\tO\\nScipio\\tO\\tO\\n,\\tO\\tO\\noffered\\tO\\tO\\nhimself\\tO\\tO\\nas\\tO\\tO\\na\\tO\\tO\\ncandidate\\tO\\tO\\n,\\tO\\tO\\nall\\tO\\tO\\nthe\\tO\\tO\\ncenturiae\\tO\\tO\\nvoted\\tO\\tO\\nthat\\tO\\tO\\nhe\\tO\\tO\\nshould\\tO\\tO\\npro\\tO\\tO\\nconsule\\tO\\tO\\nhave\\tO\\tO\\nthe\\tO\\tO\\n(\\tO\\tO\\nsummum\\tO\\tO\\n)\\tO\\tO\\nimperium\\tO\\tO\\nin\\tO\\tO\\nSpain\\tO\\tO\\n.\\tO\\tO\\nThe\\tO\\tO\\nvaluable\\tO\\tO\\n,\\tO\\tO\\nif\\tO\\tO\\n‹\\tO\\tO\\nThe\\tO\\tO\\nimperium\\tO\\tO\\nof\\tO\\tO\\nthe\\tO\\tO\\nmagister\\tO\\tO\\nequitum\\tO\\tO\\n›\\tO\\tO\\n(\\tO\\tO\\n224–227\\tDate\\tB-DATE\\n)\\tO\\tO\\nargues\\tO\\tO\\nthat\\tO\\tO\\nthe\\tO\\tO\\nmagister\\tO\\tO\\nequitum\\tO\\tO\\nindeed\\tO\\tO\\nheld\\tO\\tO\\nconsular\\tO\\tO\\nrather\\tO\\tO\\nthan\\tO\\tO\\npraetorian\\tO\\tO\\nimperium\\tO\\tO\\n.\\tO\\tO\\n4\\tCD\\tB-DATE\\nCf\\tO\\tO\\n.\\tO\\tO\\ninfra\\tO\\tO\\nfor\\tO\\tO\\na\\tO\\tO\\nfull\\tO\\tO\\ndiscussion\\tO\\tO\\nof\\tO\\tO\\nNero\\tO\\tO\\n’s\\tO\\tO\\nSpanish\\tO\\tO\\ncommand\\tO\\tO\\n.\\tO\\tO\\nFor\\tO\\tO\\nthe\\tO\\tO\\nsuggestion\\tO\\tO\\nthat\\tO\\tO\\nCn\\tO\\tO\\n.\\tO\\tO\\nScipio\\tO\\tO\\n(\\tO\\tO\\ncos\\tO\\tO\\n.\\tO\\tO\\n222\\tCD\\tB-DATE\\n)\\tO\\tO\\nhad\\tO\\tO\\nbeen\\tO\\tO\\ninvested\\tO\\tO\\nwith\\tO\\tO\\nan\\tO\\tO\\nextraordinary\\tO\\tO\\nproconsulship\\tO\\tO\\nin\\tO\\tO\\n217\\tCD\\tB-DATE\\nand\\tO\\tO\\nthen\\tO\\tO\\nwent\\tO\\tO\\non\\tO\\tO\\nto\\tO\\tO\\ncommand\\tO\\tO\\nin\\tO\\tO\\nSpain\\tO\\tO\\non\\tO\\tO\\na\\tO\\tO\\nfooting\\tO\\tO\\nof\\tO\\tO\\nequality\\tO\\tO\\nwith\\tO\\tO\\nhis\\tO\\tO\\nbrother\\tO\\tO\\n(\\tO\\tO\\npari\\tO\\tO\\nimperio\\tO\\tO\\n)\\tO\\tO\\nuntil\\tO\\tO\\n211\\tCD\\tB-DATE\\n,\\tO\\tO\\nsee\\tO\\tO\\nJashemski\\tO\\tO\\n1950\\tCD\\tB-DATE\\n,\\tO\\tO\\n22f\\tO\\tO\\n.\\tO\\tO\\n;\\tO\\tO\\nBroughton\\tO\\tO\\n1951\\tCD\\tB-DATE\\n,\\tO\\tO\\n245\\tCD\\tB-DATE\\nand\\tO\\tO\\n247\\tCD\\tB-DATE\\nn.\\tO\\tO\\n10\\tCD\\tB-DATE\\n(\\tO\\tO\\ncompare\\tO\\tO\\nalso\\tO\\tO\\n250\\tCD\\tB-DATE\\nand\\tO\\tO\\n260\\tCD\\tB-DATE\\n)\\tO\\tO\\n;\\tO\\tO\\nSumner\\tO\\tO\\n1970\\tCD\\tB-DATE\\n,\\tO\\tO\\n86\\tCD\\tB-DATE\\nand\\tO\\tO\\n88\\tCD\\tB-DATE\\n;\\tO\\tO\\nRoddaz\\tO\\tO\\n,\\tO\\tO\\n1998\\tCD\\tB-DATE\\n,\\tO\\tO\\n343f\\tO\\tO\\n.\\tO\\tO\\n;\\tO\\tO\\nVervaet\\tO\\tO\\n–\\tO\\tO\\nÑaco\\tO\\tO\\ndel\\tO\\tO\\nHoyo\\tO\\tO\\n2007\\tCD\\tB-DATE\\n,\\tO\\tO\\n22f\\tO\\tO\\n.\\tO\\tO\\n5\\tCD\\tB-DATE\\nLivy\\tO\\tO\\n26..–10\\tO\\tO\\n,\\tO\\tO\\nwhere\\tO\\tO\\nLivy\\tO\\tO\\namongst\\tO\\tO\\nother\\tO\\tO\\nthings\\tO\\tO\\nrecords\\tO\\tO\\nthat\\tO\\tO\\nCum\\tO\\tO\\nalii\\tO\\tO\\nalium\\tO\\tO\\nnominarent\\tO\\tO\\n,\\tO\\tO\\npostremum\\tO\\tO\\neo\\tO\\tO\\ndecursum\\tO\\tO\\nest\\tO\\tO\\nut\\tO\\tO\\nproconsuli\\tO\\tO\\ncreando\\tO\\tO\\nin\\tO\\tO\\nHispaniam\\tO\\tO\\ncomitia\\tO\\tO\\nhaberentur\\tO\\tO\\n;\\tO\\tO\\ndiemque\\tO\\tO\\ncomitiis\\tO\\tO\\nconsules\\tO\\tO\\nedixerunt\\tO\\tO\\n[\\tO\\tO\\n…\\tO\\tO\\n]\\tO\\tO\\nIussi\\tO\\tO\\ndeinde\\tO\\tO\\ninire\\tO\\tO\\nsuffragium\\tO\\tO\\nad\\tO\\tO\\nunum\\tO\\tO\\nomnes\\tO\\tO\\nnon\\tO\\tO\\ncenturiae\\tO\\tO\\nmodo\\tO\\tO\\n,\\tO\\tO\\nsed\\tO\\tO\\netiam\\tO\\tO\\nhomines\\tO\\tO\\nP.\\tO\\tO\\nScipioni\\tO\\tO\\nimperium\\tO\\tO\\nesse\\tO\\tO\\nin\\tO\\tO\\nHispania\\tO\\tO\\niusserunt\\tO\\tO\\n.\\tO\\tO\\nSee\\tO\\tO\\nalso\\tO\\tO\\nLivy\\tO\\tO\\n26.\\tO\\tO\\n.\\tO\\tO\\nfor\\tO\\tO\\nScipio\\tO\\tO\\nAfricanus\\tO\\tO\\nreceiving\\tO\\tO\\nhis\\tO\\tO\\nextraordinary\\tO\\tO\\nconsulare\\tO\\tO\\nimperium\\tO\\tO\\nby\\tO\\tO\\nvirtue\\tO\\tO\\nof\\tO\\tO\\na\\tO\\tO\\nvote\\tO\\tO\\nby\\tO\\tO\\nthe\\tO\\tO\\ncomitia\\tO\\tO\\ncenturiata\\tO\\tO\\n:\\tO\\tO\\nNunc\\tO\\tO\\ndii\\tO\\tO\\nimmortales\\tO\\tO\\nimperii\\tO\\tO\\nRomani\\tO\\tO\\npraesides\\tO\\tO\\n,\\tO\\tO\\nqui\\tO\\tO\\ncenturiis\\tO\\tO\\nomnibus\\tO\\tO\\nut\\tO\\tO\\nmihi\\tO\\tO\\nimperium\\tO\\tO\\niuberent\\tO\\tO\\ndari\\tO\\tO\\nfuere\\tO\\tO\\nauctores\\tO\\tO\\n.\\tO\\tO\\nSince\\tO\\tO\\nScipio\\tO\\tO\\nwas\\tO\\tO\\nin\\tO\\tO\\nall\\tO\\tO\\nlikelihood\\tO\\tO\\nappointed\\tO\\tO\\nat\\tO\\tO\\nthe\\tO\\tO\\noutset\\tO\\tO\\nof\\tO\\tO\\nthe\\tO\\tO\\nconsular\\tO\\tO\\nyear\\tO\\tO\\n210\\tCD\\tB-DATE\\n(\\tO\\tO\\ncf.\\tO\\tO\\nalso\\tO\\tO\\nn.\\tO\\tO\\n27\\tCD\\tB-DATE\\ninfra\\tO\\tO\\n)\\tO\\tO\\n,\\tO\\tO\\nthe\\tO\\tO\\nconsuls\\tO\\tO\\nwho\\tO\\tO\\nconvened\\tO\\tO\\nthe\\tO\\tO\\ncomitia\\tO\\tO\\ncenturiata\\tO\\tO\\nat\\tO\\tO\\nthe\\tO\\tO\\nbehest\\tO\\tO\\n48\\tCD\\tB-DATE\\nconcise\\tO\\tO\\n,\\tO\\tO\\naccounts\\tO\\tO\\nof\\tO\\tO\\nAppian\\tO\\tO\\nand\\tO\\tO\\nZonaras\\tO\\tO\\nreveal\\tO\\tO\\nfurther\\tO\\tO\\ndetails\\tO\\tO\\nof\\tO\\tO\\nthe\\tO\\tO\\ncircumstances\\tO\\tO\\nand\\tO\\tO\\nprocedure\\tO\\tO\\nof\\tO\\tO\\nScipio\\tO\\tO\\n’s\\tO\\tO\\nappointment\\tO\\tO\\n.\\tO\\tO\\nBoth\\tO\\tO\\nsources\\tO\\tO\\nclearly\\tO\\tO\\nindicate\\tO\\tO\\nthat\\tO\\tO\\nHasdrubal\\tO\\tO\\n’s\\tO\\tO\\ncunning\\tO\\tO\\nescape\\tO\\tO\\nfrom\\tO\\tO\\nthe\\tO\\tO\\nBlack\\tO\\tO\\nRocks\\tO\\tO\\nand\\tO\\tO\\nthe\\tO\\tO\\nensuing\\tO\\tO\\nrecovery\\tO\\tO\\nof\\tO\\tO\\nCarthaginian\\tO\\tO\\npower\\tO\\tO\\nin\\tO\\tO\\nSpain\\tO\\tO\\nhad\\tO\\tO\\ncaused\\tO\\tO\\npanic\\tO\\tO\\nand\\tO\\tO\\ndissatisfaction\\tO\\tO\\nin\\tO\\tO\\nRome\\tO\\tO\\n.\\tO\\tO\\nLivy\\tO\\tO\\nrecounts\\tO\\tO\\nin\\tO\\tO\\n26..–4\\tO\\tO\\nthat\\tO\\tO\\nthe\\tO\\tO\\ninitiative\\tO\\tO\\nto\\tO\\tO\\nappoint\\tO\\tO\\na\\tO\\tO\\nsuccessor\\tO\\tO\\nto\\tO\\tO\\nthe\\tO\\tO\\ncommand\\tO\\tO\\nof\\tO\\tO\\nClaudius\\tO\\tO\\nNero\\tO\\tO\\nwas\\tO\\tO\\ntaken\\tO\\tO\\nby\\tO\\tO\\nthe\\tO\\tO\\nSenate\\tO\\tO\\nin\\tO\\tO\\nthe\\tO\\tO\\nfirst\\tO\\tO\\nplace\\tO\\tO\\n.\\tO\\tO\\nAccordingly\\tO\\tO\\n,\\tO\\tO\\nit\\tO\\tO\\nappears\\tO\\tO\\nthat\\tO\\tO\\nthe\\tO\\tO\\ngreater\\tO\\tO\\npart\\tO\\tO\\nof\\tO\\tO\\nthat\\tO\\tO\\nbody\\tO\\tO\\nwas\\tO\\tO\\ndispleased\\tO\\tO\\nwith\\tO\\tO\\nNero\\tO\\tO\\n’s\\tO\\tO\\nconduct\\tO\\tO\\nof\\tO\\tO\\noperations\\tO\\tO\\n.\\tO\\tO\\nAlthough\\tO\\tO\\nyoung\\tO\\tO\\nP.\\tO\\tO\\nScipio\\tO\\tO\\neventually\\tO\\tO\\nsecured\\tO\\tO\\nthe\\tO\\tO\\ncommand\\tO\\tO\\nin\\tO\\tO\\n210\\tCD\\tB-DATE\\n,\\tO\\tO\\n'"
      ]
     },
     "execution_count": 220,
     "metadata": {},
     "output_type": "execute_result"
    }
   ],
   "source": [
    "data"
   ]
  },
  {
   "cell_type": "markdown",
   "metadata": {},
   "source": [
    "We want to convert this into a list of tuples"
   ]
  },
  {
   "cell_type": "code",
   "execution_count": 241,
   "metadata": {
    "collapsed": false
   },
   "outputs": [],
   "source": [
    "iob_data_auto = [line.split(\"\\t\") for line in data.split(\"\\n\") if line!=\"\"]"
   ]
  },
  {
   "cell_type": "code",
   "execution_count": 258,
   "metadata": {
    "collapsed": true
   },
   "outputs": [],
   "source": [
    "with codecs.open(\"data/iob/article_446_date_GOLD.iob\",\"r\",\"utf-8\") as f:\n",
    "    data = f.read()"
   ]
  },
  {
   "cell_type": "code",
   "execution_count": 259,
   "metadata": {
    "collapsed": true
   },
   "outputs": [],
   "source": [
    "iob_data_gold = [line.split(\"\\t\") for line in data.split(\"\\n\") if line!=\"\"]"
   ]
  },
  {
   "cell_type": "code",
   "execution_count": 260,
   "metadata": {
    "collapsed": false
   },
   "outputs": [
    {
     "data": {
      "text/plain": [
       "[(['The', 'O', 'O'], ['The', 'O', 'O']),\n",
       " (['Praetorian', 'O', 'O'], ['Praetorian', 'O', 'O']),\n",
       " (['Proconsuls', 'O', 'O'], ['Proconsuls', 'O', 'O']),\n",
       " (['of', 'O', 'O'], ['of', 'O', 'O']),\n",
       " (['the', 'O', 'O'], ['the', 'O', 'O']),\n",
       " (['Roman', 'O', 'O'], ['Roman', 'O', 'O']),\n",
       " (['Republic', 'O', 'O'], ['Republic', 'O', 'O']),\n",
       " (['45', 'CD', 'B-DATE'], ['45', 'CD', 'B-DATE']),\n",
       " (['FREDERIK', 'O', 'O'], ['FREDERIK', 'O', 'O']),\n",
       " (['JULIAAN', 'O', 'O'], ['JULIAAN', 'O', 'O']),\n",
       " (['VERVAET', 'O', 'O'], ['VERVAET', 'O', 'O']),\n",
       " (['The', 'O', 'O'], ['The', 'O', 'O']),\n",
       " (['Praetorian', 'O', 'O'], ['Praetorian', 'O', 'O']),\n",
       " (['Proconsuls', 'O', 'O'], ['Proconsuls', 'O', 'O']),\n",
       " (['of', 'O', 'O'], ['of', 'O', 'O']),\n",
       " (['the', 'O', 'O'], ['the', 'O', 'O']),\n",
       " (['Roman', 'O', 'O'], ['Roman', 'O', 'O']),\n",
       " (['Republic', 'O', 'O'], ['Republic', 'O', 'O']),\n",
       " (['(', 'O', 'O'], ['(', 'O', 'O']),\n",
       " (['211–52', 'Date', 'B-DATE'], ['211–52', 'Date', 'B-DATE']),\n",
       " (['BCE', 'Date', 'I-DATE'], ['BCE', 'O', 'O']),\n",
       " ([')', 'O', 'O'], [')', 'O', 'O']),\n",
       " (['.', 'O', 'O'], ['.', 'O', 'O']),\n",
       " (['A', 'O', 'O'], ['A', 'O', 'O']),\n",
       " (['Constitutional', 'O', 'O'], ['Constitutional', 'O', 'O']),\n",
       " (['Survey', 'O', 'O'], ['Survey', 'O', 'O']),\n",
       " (['1', 'O', 'O'], ['1', 'CD', 'B-DATE']),\n",
       " (['.', 'O', 'O'], ['.', 'O', 'O']),\n",
       " (['Introduction', 'O', 'O'], ['Introduction', 'O', 'O']),\n",
       " (['The', 'O', 'O'], ['The', 'O', 'O']),\n",
       " (['republican', 'O', 'O'], ['republican', 'O', 'O']),\n",
       " (['administrative', 'O', 'O'], ['administrative', 'O', 'O']),\n",
       " (['procedure', 'O', 'O'], ['procedure', 'O', 'O']),\n",
       " (['of', 'O', 'O'], ['of', 'O', 'O']),\n",
       " (['sending', 'O', 'O'], ['sending', 'O', 'O']),\n",
       " (['out', 'O', 'O'], ['out', 'O', 'O']),\n",
       " (['praetors', 'O', 'O'], ['praetors', 'O', 'O']),\n",
       " (['with', 'O', 'O'], ['with', 'O', 'O']),\n",
       " (['consular', 'O', 'O'], ['consular', 'O', 'O']),\n",
       " (['imperium', 'O', 'O'], ['imperium', 'O', 'O']),\n",
       " (['is', 'O', 'O'], ['is', 'O', 'O']),\n",
       " (['reasonably', 'O', 'O'], ['reasonably', 'O', 'O']),\n",
       " (['well-known', 'O', 'O'], ['well-known', 'O', 'O']),\n",
       " (['but', 'O', 'O'], ['but', 'O', 'O']),\n",
       " (['little', 'O', 'O'], ['little', 'O', 'O']),\n",
       " (['understood', 'O', 'O'], ['understood', 'O', 'O']),\n",
       " (['.', 'O', 'O'], ['.', 'O', 'O']),\n",
       " (['To', 'O', 'O'], ['To', 'O', 'O']),\n",
       " (['the', 'O', 'O'], ['the', 'O', 'O']),\n",
       " (['best', 'O', 'O'], ['best', 'O', 'O'])]"
      ]
     },
     "execution_count": 260,
     "metadata": {},
     "output_type": "execute_result"
    }
   ],
   "source": [
    "list(zip(iob_data_gold[:50], iob_data_auto[:50]))"
   ]
  },
  {
   "cell_type": "code",
   "execution_count": 249,
   "metadata": {
    "collapsed": false
   },
   "outputs": [],
   "source": [
    "auto_labels = [line[2] for line in iob_data_auto]"
   ]
  },
  {
   "cell_type": "code",
   "execution_count": 250,
   "metadata": {
    "collapsed": false
   },
   "outputs": [
    {
     "data": {
      "text/plain": [
       "1789"
      ]
     },
     "execution_count": 250,
     "metadata": {},
     "output_type": "execute_result"
    }
   ],
   "source": [
    "len(auto_labels)"
   ]
  },
  {
   "cell_type": "code",
   "execution_count": 262,
   "metadata": {
    "collapsed": false
   },
   "outputs": [],
   "source": [
    "gold_labels = [line[2] for line in iob_data_gold]"
   ]
  },
  {
   "cell_type": "markdown",
   "metadata": {},
   "source": [
    "## computing error types"
   ]
  },
  {
   "cell_type": "code",
   "execution_count": 269,
   "metadata": {
    "collapsed": true
   },
   "outputs": [],
   "source": [
    "errors = {\n",
    "    \"tp\" : 0\n",
    "    , \"fp\": 0\n",
    "    , \"tn\" : 0\n",
    "    , \"fn\" : 0\n",
    "}"
   ]
  },
  {
   "cell_type": "code",
   "execution_count": 270,
   "metadata": {
    "collapsed": true
   },
   "outputs": [],
   "source": [
    "for gold_label, auto_label in list(zip(gold_labels, auto_labels)):\n",
    "    if gold_label == \"O\":\n",
    "        if gold_label == auto_label:\n",
    "            errors[\"tn\"]+=1\n",
    "        else:\n",
    "            errors[\"fp\"]+=1\n",
    "    else:\n",
    "        if gold_label == auto_label:\n",
    "            errors[\"tp\"]+=1\n",
    "        else:\n",
    "            errors[\"fn\"]+=1\n",
    "    "
   ]
  },
  {
   "cell_type": "code",
   "execution_count": 271,
   "metadata": {
    "collapsed": false
   },
   "outputs": [
    {
     "data": {
      "text/plain": [
       "{'fn': 7, 'fp': 25, 'tn': 1725, 'tp': 32}"
      ]
     },
     "execution_count": 271,
     "metadata": {},
     "output_type": "execute_result"
    }
   ],
   "source": [
    "errors"
   ]
  },
  {
   "cell_type": "markdown",
   "metadata": {},
   "source": [
    "## computing Precision, Recall and F-score"
   ]
  },
  {
   "cell_type": "markdown",
   "metadata": {},
   "source": [
    "### Precision"
   ]
  },
  {
   "cell_type": "markdown",
   "metadata": {},
   "source": [
    "$$p = \\frac{tp}{tp+fp}$$"
   ]
  },
  {
   "cell_type": "code",
   "execution_count": 372,
   "metadata": {
    "collapsed": false
   },
   "outputs": [],
   "source": [
    "def calc_precision(d_errors):\n",
    "    \"\"\"\n",
    "    Calculates the precision given the input error dictionary.\n",
    "    \"\"\"\n",
    "    if(d_errors[\"tp\"] + d_errors[\"fp\"] == 0):\n",
    "        return 0\n",
    "    else:\n",
    "        return d_errors[\"tp\"] / (d_errors[\"tp\"] + d_errors[\"fp\"])"
   ]
  },
  {
   "cell_type": "code",
   "execution_count": 376,
   "metadata": {
    "collapsed": false
   },
   "outputs": [
    {
     "data": {
      "text/plain": [
       "0.5614035087719298"
      ]
     },
     "execution_count": 376,
     "metadata": {},
     "output_type": "execute_result"
    }
   ],
   "source": [
    "calc_precision(errors)"
   ]
  },
  {
   "cell_type": "markdown",
   "metadata": {},
   "source": [
    "### Recall"
   ]
  },
  {
   "cell_type": "markdown",
   "metadata": {},
   "source": [
    "$$r = \\frac{tp}{tp+fn}$$"
   ]
  },
  {
   "cell_type": "code",
   "execution_count": 293,
   "metadata": {
    "collapsed": false
   },
   "outputs": [],
   "source": [
    "def calc_recall(d_errors):\n",
    "    \"\"\"\n",
    "    Calculates the recall given the input error dictionary.\n",
    "    \"\"\"\n",
    "    if(d_errors[\"tp\"] + d_errors[\"fn\"] == 0):\n",
    "        return 0\n",
    "    else:\n",
    "        return d_errors[\"tp\"] / (d_errors[\"tp\"] + d_errors[\"fn\"])"
   ]
  },
  {
   "cell_type": "code",
   "execution_count": 375,
   "metadata": {
    "collapsed": false
   },
   "outputs": [
    {
     "data": {
      "text/plain": [
       "0.8205128205128205"
      ]
     },
     "execution_count": 375,
     "metadata": {},
     "output_type": "execute_result"
    }
   ],
   "source": [
    "calc_recall(errors)"
   ]
  },
  {
   "cell_type": "markdown",
   "metadata": {},
   "source": [
    "### F-1 Score"
   ]
  },
  {
   "cell_type": "markdown",
   "metadata": {},
   "source": [
    "$$f1 = \\frac{2*p*r}{p+r}$$"
   ]
  },
  {
   "cell_type": "code",
   "execution_count": 297,
   "metadata": {
    "collapsed": true
   },
   "outputs": [],
   "source": [
    "def calc_fscore(d_errors):\n",
    "    \"\"\"\n",
    "    Calculates the f-score given the input error dictionary.\n",
    "    \"\"\"\n",
    "    prec = calc_precision(d_errors)\n",
    "    rec = calc_recall(d_errors)\n",
    "    if(prec == 0 and rec == 0):\n",
    "        return 0\n",
    "    else:\n",
    "        return 2*((prec * rec) / (prec + rec))"
   ]
  },
  {
   "cell_type": "code",
   "execution_count": 378,
   "metadata": {
    "collapsed": false
   },
   "outputs": [
    {
     "data": {
      "text/plain": [
       "0.6666666666666666"
      ]
     },
     "execution_count": 378,
     "metadata": {},
     "output_type": "execute_result"
    }
   ],
   "source": [
    "calc_fscore(errors)"
   ]
  },
  {
   "cell_type": "markdown",
   "metadata": {},
   "source": [
    "### Accuracy"
   ]
  },
  {
   "cell_type": "markdown",
   "metadata": {},
   "source": [
    "$$acc = \\frac{tp+tn}{fp+fn}$$"
   ]
  },
  {
   "cell_type": "code",
   "execution_count": 395,
   "metadata": {
    "collapsed": true
   },
   "outputs": [],
   "source": [
    "def calc_accuracy(d_errors):\n",
    "    \"\"\"\n",
    "    Calculates the accuracy given the input error dictionary.\n",
    "    \"\"\"\n",
    "    true_predictions = d_errors[\"tp\"] + d_errors[\"tn\"]\n",
    "    false_predictions = d_errors[\"fp\"] + d_errors[\"fn\"]\n",
    "    return true_predictions / (true_predictions + false_predictions)"
   ]
  },
  {
   "cell_type": "code",
   "execution_count": 396,
   "metadata": {
    "collapsed": false
   },
   "outputs": [
    {
     "data": {
      "text/plain": [
       "0.9821129122414757"
      ]
     },
     "execution_count": 396,
     "metadata": {},
     "output_type": "execute_result"
    }
   ],
   "source": [
    "calc_accuracy(errors)"
   ]
  },
  {
   "cell_type": "markdown",
   "metadata": {},
   "source": [
    "## Using sklearn"
   ]
  },
  {
   "cell_type": "code",
   "execution_count": 379,
   "metadata": {
    "collapsed": false
   },
   "outputs": [],
   "source": [
    "from sklearn.metrics import precision_recall_fscore_support"
   ]
  },
  {
   "cell_type": "code",
   "execution_count": 342,
   "metadata": {
    "collapsed": false
   },
   "outputs": [],
   "source": [
    "precision, recall, fscore, support = precision_recall_fscore_support(gold_labels, auto_labels\n",
    "                                , average=\"micro\"\n",
    "                                , labels=[\"B-DATE\",\"I-DATE\"])"
   ]
  },
  {
   "cell_type": "code",
   "execution_count": 343,
   "metadata": {
    "collapsed": false
   },
   "outputs": [
    {
     "data": {
      "text/plain": [
       "0.56140350877192979"
      ]
     },
     "execution_count": 343,
     "metadata": {},
     "output_type": "execute_result"
    }
   ],
   "source": [
    "precision"
   ]
  },
  {
   "cell_type": "code",
   "execution_count": 344,
   "metadata": {
    "collapsed": false
   },
   "outputs": [
    {
     "data": {
      "text/plain": [
       "0.82051282051282048"
      ]
     },
     "execution_count": 344,
     "metadata": {},
     "output_type": "execute_result"
    }
   ],
   "source": [
    "recall"
   ]
  },
  {
   "cell_type": "code",
   "execution_count": 345,
   "metadata": {
    "collapsed": false
   },
   "outputs": [
    {
     "data": {
      "text/plain": [
       "0.66666666666666663"
      ]
     },
     "execution_count": 345,
     "metadata": {},
     "output_type": "execute_result"
    }
   ],
   "source": [
    "fscore"
   ]
  }
 ],
 "metadata": {
  "kernelspec": {
   "display_name": "Python 3",
   "language": "python",
   "name": "python3"
  },
  "language_info": {
   "codemirror_mode": {
    "name": "ipython",
    "version": 3
   },
   "file_extension": ".py",
   "mimetype": "text/x-python",
   "name": "python",
   "nbconvert_exporter": "python",
   "pygments_lexer": "ipython3",
   "version": "3.5.0"
  },
  "toc": {
   "colors": {
    "hover_highlight": "#DAA520",
    "running_highlight": "#FF0000",
    "selected_highlight": "#FFD700"
   },
   "moveMenuLeft": true,
   "nav_menu": {
    "height": "300px",
    "width": "252px"
   },
   "navigate_menu": true,
   "number_sections": true,
   "sideBar": true,
   "threshold": 4,
   "toc_cell": true,
   "toc_section_display": "block",
   "toc_window_display": true
  }
 },
 "nbformat": 4,
 "nbformat_minor": 2
}

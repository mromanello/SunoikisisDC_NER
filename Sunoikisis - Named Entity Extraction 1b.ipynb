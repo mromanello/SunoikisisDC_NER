{
 "cells": [
  {
   "cell_type": "markdown",
   "metadata": {
    "deletable": true,
    "editable": true,
    "toc": "true"
   },
   "source": [
    "# Table of Contents\n",
    " <p><div class=\"lev1 toc-item\"><a href=\"#Description\" data-toc-modified-id=\"Description-1\"><span class=\"toc-item-num\">1&nbsp;&nbsp;</span>Description</a></div><div class=\"lev1 toc-item\"><a href=\"#Library-imports\" data-toc-modified-id=\"Library-imports-2\"><span class=\"toc-item-num\">2&nbsp;&nbsp;</span>Library imports</a></div><div class=\"lev1 toc-item\"><a href=\"#Let's-grab-some-text-to-process\" data-toc-modified-id=\"Let's-grab-some-text-to-process-3\"><span class=\"toc-item-num\">3&nbsp;&nbsp;</span>Let's grab some text to process</a></div><div class=\"lev2 toc-item\"><a href=\"#What's-CTS?\" data-toc-modified-id=\"What's-CTS?-31\"><span class=\"toc-item-num\">3.1&nbsp;&nbsp;</span>What's CTS?</a></div><div class=\"lev2 toc-item\"><a href=\"#Querying-a-CTS-API\" data-toc-modified-id=\"Querying-a-CTS-API-32\"><span class=\"toc-item-num\">3.2&nbsp;&nbsp;</span>Querying a CTS API</a></div><div class=\"lev1 toc-item\"><a href=\"#Very-simple-baseline\" data-toc-modified-id=\"Very-simple-baseline-4\"><span class=\"toc-item-num\">4&nbsp;&nbsp;</span>Very simple baseline</a></div><div class=\"lev1 toc-item\"><a href=\"#NER-with-CLTK\" data-toc-modified-id=\"NER-with-CLTK-5\"><span class=\"toc-item-num\">5&nbsp;&nbsp;</span>NER with CLTK</a></div><div class=\"lev1 toc-item\"><a href=\"#NER-with-NLTK\" data-toc-modified-id=\"NER-with-NLTK-6\"><span class=\"toc-item-num\">6&nbsp;&nbsp;</span>NER with NLTK</a></div><div class=\"lev1 toc-item\"><a href=\"#NER-with-NLTK-on-the-translation\" data-toc-modified-id=\"NER-with-NLTK-on-the-translation-7\"><span class=\"toc-item-num\">7&nbsp;&nbsp;</span>NER with NLTK on the translation</a></div><div class=\"lev1 toc-item\"><a href=\"#Let's-create-some-indices\" data-toc-modified-id=\"Let's-create-some-indices-8\"><span class=\"toc-item-num\">8&nbsp;&nbsp;</span>Let's create some <em>indices</em></a></div>"
   ]
  },
  {
   "cell_type": "markdown",
   "metadata": {
    "deletable": true,
    "editable": true
   },
   "source": [
    "# Description"
   ]
  },
  {
   "cell_type": "markdown",
   "metadata": {
    "deletable": true,
    "editable": true
   },
   "source": [
    "TODO"
   ]
  },
  {
   "cell_type": "markdown",
   "metadata": {
    "deletable": true,
    "editable": true
   },
   "source": [
    "# Library imports"
   ]
  },
  {
   "cell_type": "markdown",
   "metadata": {},
   "source": [
    "External modules and libraries can be imported using `import` statements.\n",
    "\n",
    "Let's the [Natural Language ToolKit (NLTK)](http://www.nltk.org/), the [Classical Language ToolKit (CLTK)](http://cltk.org/), [MyCapytain](http://mycapytain.readthedocs.io/en/latest/) and some local libraries that are used in this notebook."
   ]
  },
  {
   "cell_type": "code",
   "execution_count": 23,
   "metadata": {
    "collapsed": false,
    "deletable": true,
    "editable": true,
    "init_cell": true
   },
   "outputs": [],
   "source": [
    "import nltk\n",
    "from nltk.tag import StanfordNERTagger\n",
    "import cltk\n",
    "# install with `pip install https://github.com/Capitains/MyCapytain/archive/master.zip`\n",
    "# installing just with `pip install MyCapytain` won't work\n",
    "import MyCapytain\n",
    "import sys\n",
    "sys.path.append(\"/opt/nlp/pymodules/\")\n",
    "from idai_journals.nlp import sub_leaves"
   ]
  },
  {
   "cell_type": "markdown",
   "metadata": {},
   "source": [
    "And more precisely, we are using the following versions:"
   ]
  },
  {
   "cell_type": "code",
   "execution_count": 19,
   "metadata": {
    "collapsed": false
   },
   "outputs": [
    {
     "name": "stdout",
     "output_type": "stream",
     "text": [
      "3.2.2\n"
     ]
    }
   ],
   "source": [
    "print(nltk.__version__)"
   ]
  },
  {
   "cell_type": "code",
   "execution_count": 20,
   "metadata": {
    "collapsed": false
   },
   "outputs": [
    {
     "name": "stdout",
     "output_type": "stream",
     "text": [
      "0.1.47\n"
     ]
    }
   ],
   "source": [
    "print(cltk.__version__)"
   ]
  },
  {
   "cell_type": "code",
   "execution_count": 22,
   "metadata": {
    "collapsed": false
   },
   "outputs": [
    {
     "name": "stdout",
     "output_type": "stream",
     "text": [
      "2.0.0b18\n"
     ]
    }
   ],
   "source": [
    "print(MyCapytain.__version__)"
   ]
  },
  {
   "cell_type": "markdown",
   "metadata": {
    "collapsed": true,
    "deletable": true,
    "editable": true
   },
   "source": [
    "# Let's grab some text to process"
   ]
  },
  {
   "cell_type": "markdown",
   "metadata": {
    "deletable": true,
    "editable": true
   },
   "source": [
    "To start with, we need some text from which we'll try to extract named entities using various methods and libraries."
   ]
  },
  {
   "cell_type": "markdown",
   "metadata": {},
   "source": [
    "There are several ways of doing this e.g.:\n",
    "1. copy and paste the text from Perseus or the Latin Library into a text document, and read it into a variable\n",
    "2. load a text from one of the Latin corpora available via `cltk` (cfr. this [blog post](https://disiectamembra.wordpress.com/2016/05/29/cltk-importing-the-latin-library-as-a-corpus/))\n",
    "3. or load it from Perseus by leveraging its [Canonical Text Services]() API"
   ]
  },
  {
   "cell_type": "markdown",
   "metadata": {},
   "source": [
    "Let's gor for #3 :)"
   ]
  },
  {
   "cell_type": "markdown",
   "metadata": {},
   "source": [
    "## What's CTS?"
   ]
  },
  {
   "cell_type": "markdown",
   "metadata": {},
   "source": [
    "CTS URNs stand for Canonical Text Service Uniform Resource Names."
   ]
  },
  {
   "cell_type": "markdown",
   "metadata": {},
   "source": [
    "You can think of a CTS URN like a social security number for a text (or part of a text)."
   ]
  },
  {
   "cell_type": "markdown",
   "metadata": {},
   "source": [
    "**TODO**: insert image explaining CTS"
   ]
  },
  {
   "cell_type": "markdown",
   "metadata": {},
   "source": [
    "- `urn:cts:latinLit:phi0448` (Caesar)\n",
    "- `urn:cts:latinLit:phi0448.phi001` (Caesar's *De Bello Gallico*)\n",
    "- `urn:cts:latinLit:phi0448.phi001.perseus-lat2`\n",
    "- `urn:cts:latinLit:phi0448.phi001.perseus-lat2:1`\n",
    "- `urn:cts:latinLit:phi0448.phi001.perseus-lat2:1.1.1`"
   ]
  },
  {
   "cell_type": "markdown",
   "metadata": {},
   "source": [
    "How do I find out the CTS URN of a given author or text?"
   ]
  },
  {
   "cell_type": "markdown",
   "metadata": {},
   "source": [
    "The Perseus Catalog is your friend!"
   ]
  },
  {
   "cell_type": "markdown",
   "metadata": {},
   "source": [
    "## Querying a CTS API"
   ]
  },
  {
   "cell_type": "code",
   "execution_count": 59,
   "metadata": {
    "collapsed": false,
    "deletable": true,
    "editable": true
   },
   "outputs": [
    {
     "name": "stdout",
     "output_type": "stream",
     "text": [
      "['Book', 'Chapter', 'Section']\n"
     ]
    }
   ],
   "source": [
    "from MyCapytain.resolvers.cts.api import HttpCTSResolver\n",
    "from MyCapytain.retrievers.cts5 import CTS\n",
    "from MyCapytain.common.constants import Mimetypes\n",
    "\n",
    "# We set up a resolver which communicates with an API available in Leipzig\n",
    "resolver = HttpCTSResolver(CTS(\"http://cts.dh.uni-leipzig.de/api/cts/\"))\n",
    "\n",
    "# We require some metadata information\n",
    "textMetadata = resolver.getMetadata(\"urn:cts:latinLit:phi0448.phi001.perseus-lat2\")\n",
    "\n",
    "# Texts in CTS Metadata have one interesting property : its citation scheme.\n",
    "# Citation are embedded objects that carries information about how a text can be quoted, what depth it has\n",
    "print([citation.name for citation in textMetadata.citation])"
   ]
  },
  {
   "cell_type": "code",
   "execution_count": 56,
   "metadata": {
    "collapsed": false,
    "deletable": true,
    "editable": true
   },
   "outputs": [],
   "source": [
    "# Now, we want to retrieve the first book of the **De Bello Gallico**\n",
    "passage = resolver.getTextualNode(\"urn:cts:latinLit:phi0448.phi001.perseus-lat2\", subreference=\"1\")\n",
    "# And we want to have its content exported to plain text\n",
    "de_bello_gallico_book1 = passage.export(Mimetypes.PLAINTEXT)"
   ]
  },
  {
   "cell_type": "markdown",
   "metadata": {},
   "source": [
    "The text that we have just fetched by using a programming interface (API) can also be [viewed in the browser](http://cts.dh.uni-leipzig.de/read/latinLit/phi0448/phi001/perseus-lat2/1)."
   ]
  },
  {
   "cell_type": "markdown",
   "metadata": {},
   "source": [
    "Or even imported as an iframe into this notebook! "
   ]
  },
  {
   "cell_type": "code",
   "execution_count": 60,
   "metadata": {
    "collapsed": true
   },
   "outputs": [
    {
     "data": {
      "text/html": [
       "\n",
       "        <iframe\n",
       "            width=\"1000\"\n",
       "            height=\"350\"\n",
       "            src=\"http://cts.dh.uni-leipzig.de/read/latinLit/phi0448/phi001/perseus-lat2/1\"\n",
       "            frameborder=\"0\"\n",
       "            allowfullscreen\n",
       "        ></iframe>\n",
       "        "
      ],
      "text/plain": [
       "<IPython.lib.display.IFrame at 0x7f8a791747b8>"
      ]
     },
     "execution_count": 60,
     "metadata": {},
     "output_type": "execute_result"
    }
   ],
   "source": [
    "from IPython.display import IFrame\n",
    "IFrame('http://cts.dh.uni-leipzig.de/read/latinLit/phi0448/phi001/perseus-lat2/1', width=1000, height=350)"
   ]
  },
  {
   "cell_type": "markdown",
   "metadata": {
    "deletable": true,
    "editable": true
   },
   "source": [
    "Let's see how many words (tokens, more properly) there are in Caesar's *De Bello Gallico* I:"
   ]
  },
  {
   "cell_type": "code",
   "execution_count": 51,
   "metadata": {
    "collapsed": false,
    "deletable": true,
    "editable": true
   },
   "outputs": [
    {
     "data": {
      "text/plain": [
       "8176"
      ]
     },
     "execution_count": 51,
     "metadata": {},
     "output_type": "execute_result"
    }
   ],
   "source": [
    "len(de_bello_gallico_book1.split(\" \"))"
   ]
  },
  {
   "cell_type": "code",
   "execution_count": 53,
   "metadata": {
    "collapsed": false,
    "deletable": true,
    "editable": true
   },
   "outputs": [],
   "source": [
    "#de_bello_gallico_book1"
   ]
  },
  {
   "cell_type": "markdown",
   "metadata": {
    "deletable": true,
    "editable": true
   },
   "source": [
    "# Very simple baseline"
   ]
  },
  {
   "cell_type": "markdown",
   "metadata": {
    "deletable": true,
    "editable": true
   },
   "source": [
    "Rewrite code below as normal for loop, and then show how to do it in list comprehension (quotation from NLTK book?)"
   ]
  },
  {
   "cell_type": "code",
   "execution_count": 7,
   "metadata": {
    "collapsed": false,
    "deletable": true,
    "editable": true
   },
   "outputs": [],
   "source": [
    "baseline_named_entities = [{\"ne\": token, \n",
    "                      \"context\":\" \".join(de_bello_gallico_book1.split(\" \")[n-5:n+5])} \n",
    "                                          for n, token in enumerate(de_bello_gallico_book1.split(\" \")) \n",
    "                                                                                                  if(token.istitle())]"
   ]
  },
  {
   "cell_type": "code",
   "execution_count": 8,
   "metadata": {
    "collapsed": false,
    "deletable": true,
    "editable": true
   },
   "outputs": [
    {
     "data": {
      "text/plain": [
       "968"
      ]
     },
     "execution_count": 8,
     "metadata": {},
     "output_type": "execute_result"
    }
   ],
   "source": [
    "len(baseline_named_entities)"
   ]
  },
  {
   "cell_type": "code",
   "execution_count": 9,
   "metadata": {
    "collapsed": false,
    "deletable": true,
    "editable": true
   },
   "outputs": [
    {
     "data": {
      "text/plain": [
       "[{'context': '', 'ne': 'Gallia'},\n",
       " {'context': 'partes tres, quarum unam incolunt Belgae, aliam Aquitani, tertiam qui',\n",
       "  'ne': 'Belgae,'},\n",
       " {'context': 'quarum unam incolunt Belgae, aliam Aquitani, tertiam qui ipsorum lingua',\n",
       "  'ne': 'Aquitani,'},\n",
       " {'context': 'Aquitani, tertiam qui ipsorum lingua Celtae, nostra Galli appellantur. Hi',\n",
       "  'ne': 'Celtae,'},\n",
       " {'context': 'qui ipsorum lingua Celtae, nostra Galli appellantur. Hi omnes lingua,',\n",
       "  'ne': 'Galli'},\n",
       " {'context': 'lingua Celtae, nostra Galli appellantur. Hi omnes lingua, institutis, legibus',\n",
       "  'ne': 'Hi'},\n",
       " {'context': 'institutis, legibus inter se differunt. Gallos ab Aquitanis Garumna flumen,',\n",
       "  'ne': 'Gallos'},\n",
       " {'context': 'inter se differunt. Gallos ab Aquitanis Garumna flumen, a Belgis',\n",
       "  'ne': 'Aquitanis'},\n",
       " {'context': 'se differunt. Gallos ab Aquitanis Garumna flumen, a Belgis Matrona',\n",
       "  'ne': 'Garumna'},\n",
       " {'context': 'ab Aquitanis Garumna flumen, a Belgis Matrona et Sequana dividit.',\n",
       "  'ne': 'Belgis'},\n",
       " {'context': 'Aquitanis Garumna flumen, a Belgis Matrona et Sequana dividit. Horum',\n",
       "  'ne': 'Matrona'},\n",
       " {'context': 'flumen, a Belgis Matrona et Sequana dividit. Horum omnium fortissimi',\n",
       "  'ne': 'Sequana'},\n",
       " {'context': 'Belgis Matrona et Sequana dividit. Horum omnium fortissimi sunt Belgae,',\n",
       "  'ne': 'Horum'},\n",
       " {'context': 'dividit. Horum omnium fortissimi sunt Belgae, propterea quod a cultu',\n",
       "  'ne': 'Belgae,'},\n",
       " {'context': 'animos pertinent important, proximique sunt Germanis, qui trans Rhenum incolunt,',\n",
       "  'ne': 'Germanis,'},\n",
       " {'context': 'proximique sunt Germanis, qui trans Rhenum incolunt, quibuscum continenter bellum',\n",
       "  'ne': 'Rhenum'},\n",
       " {'context': 'incolunt, quibuscum continenter bellum gerunt. Qua de causa Helvetii quoque',\n",
       "  'ne': 'Qua'},\n",
       " {'context': 'bellum gerunt. Qua de causa Helvetii quoque reliquos Gallos virtute',\n",
       "  'ne': 'Helvetii'},\n",
       " {'context': 'de causa Helvetii quoque reliquos Gallos virtute praecedunt, quod fere',\n",
       "  'ne': 'Gallos'},\n",
       " {'context': 'quod fere cotidianis proeliis cum Germanis contendunt, cum aut suis',\n",
       "  'ne': 'Germanis'},\n",
       " {'context': 'in eorum finibus bellum gerunt. [Eorum una, pars, quam Gallos',\n",
       "  'ne': '[Eorum'},\n",
       " {'context': 'gerunt. [Eorum una, pars, quam Gallos obtinere dictum est, initium',\n",
       "  'ne': 'Gallos'},\n",
       " {'context': 'est, initium capit a flumine Rhodano, continetur Garumna flumine, Oceano,',\n",
       "  'ne': 'Rhodano,'},\n",
       " {'context': 'capit a flumine Rhodano, continetur Garumna flumine, Oceano, finibus Belgarum,',\n",
       "  'ne': 'Garumna'},\n",
       " {'context': 'flumine Rhodano, continetur Garumna flumine, Oceano, finibus Belgarum, attingit etiam',\n",
       "  'ne': 'Oceano,'},\n",
       " {'context': 'continetur Garumna flumine, Oceano, finibus Belgarum, attingit etiam ab Sequanis',\n",
       "  'ne': 'Belgarum,'},\n",
       " {'context': 'finibus Belgarum, attingit etiam ab Sequanis et Helvetiis flumen Rhenum,',\n",
       "  'ne': 'Sequanis'},\n",
       " {'context': 'attingit etiam ab Sequanis et Helvetiis flumen Rhenum, vergit ad',\n",
       "  'ne': 'Helvetiis'},\n",
       " {'context': 'ab Sequanis et Helvetiis flumen Rhenum, vergit ad septentriones. Belgae',\n",
       "  'ne': 'Rhenum,'},\n",
       " {'context': 'flumen Rhenum, vergit ad septentriones. Belgae ab extremis Galliae finibus',\n",
       "  'ne': 'Belgae'},\n",
       " {'context': 'ad septentriones. Belgae ab extremis Galliae finibus oriuntur, pertinent ad',\n",
       "  'ne': 'Galliae'},\n",
       " {'context': 'pertinent ad inferiorem partem fluminis Rheni, spectant in septentrionem et',\n",
       "  'ne': 'Rheni,'},\n",
       " {'context': 'in septentrionem et orientem solem. Aquitania a Garumna flumine ad',\n",
       "  'ne': 'Aquitania'},\n",
       " {'context': 'et orientem solem. Aquitania a Garumna flumine ad Pyrenaeos montes',\n",
       "  'ne': 'Garumna'},\n",
       " {'context': 'Aquitania a Garumna flumine ad Pyrenaeos montes et eam partem',\n",
       "  'ne': 'Pyrenaeos'},\n",
       " {'context': 'Pyrenaeos montes et eam partem Oceani quae est ad Hispaniam',\n",
       "  'ne': 'Oceani'},\n",
       " {'context': 'partem Oceani quae est ad Hispaniam pertinet; spectat inter occasum',\n",
       "  'ne': 'Hispaniam'},\n",
       " {'context': 'inter occasum solis et septentriones.] Apud Helvetios longe nobilissimus fuit',\n",
       "  'ne': 'Apud'},\n",
       " {'context': 'occasum solis et septentriones.] Apud Helvetios longe nobilissimus fuit et',\n",
       "  'ne': 'Helvetios'},\n",
       " {'context': 'longe nobilissimus fuit et ditissimus Orgetorix. Is M. Messala, [et',\n",
       "  'ne': 'Orgetorix.'},\n",
       " {'context': 'nobilissimus fuit et ditissimus Orgetorix. Is M. Messala, [et P.]',\n",
       "  'ne': 'Is'},\n",
       " {'context': 'fuit et ditissimus Orgetorix. Is M. Messala, [et P.] M.',\n",
       "  'ne': 'M.'},\n",
       " {'context': 'et ditissimus Orgetorix. Is M. Messala, [et P.] M. Pisone',\n",
       "  'ne': 'Messala,'},\n",
       " {'context': 'Orgetorix. Is M. Messala, [et P.] M. Pisone consulibus regni',\n",
       "  'ne': 'P.]'},\n",
       " {'context': 'Is M. Messala, [et P.] M. Pisone consulibus regni cupiditate',\n",
       "  'ne': 'M.'},\n",
       " {'context': 'M. Messala, [et P.] M. Pisone consulibus regni cupiditate inductus',\n",
       "  'ne': 'Pisone'},\n",
       " {'context': 'cum virtute omnibus praestarent, totius Galliae imperio potiri. Id hoc',\n",
       "  'ne': 'Galliae'},\n",
       " {'context': 'praestarent, totius Galliae imperio potiri. Id hoc facilius iis persuasit,',\n",
       "  'ne': 'Id'},\n",
       " {'context': 'persuasit, quod undique loci natura Helvetii continentur: una ex parte',\n",
       "  'ne': 'Helvetii'},\n",
       " {'context': 'continentur: una ex parte flumine Rheno latissimo atque altissimo, qui',\n",
       "  'ne': 'Rheno'},\n",
       " {'context': 'latissimo atque altissimo, qui agrum Helvetium a Germanis dividit; altera',\n",
       "  'ne': 'Helvetium'},\n",
       " {'context': 'altissimo, qui agrum Helvetium a Germanis dividit; altera ex parte',\n",
       "  'ne': 'Germanis'},\n",
       " {'context': 'dividit; altera ex parte monte Iura altissimo, qui est inter',\n",
       "  'ne': 'Iura'},\n",
       " {'context': 'Iura altissimo, qui est inter Sequanos et Helvetios; tertia lacu',\n",
       "  'ne': 'Sequanos'},\n",
       " {'context': 'qui est inter Sequanos et Helvetios; tertia lacu Lemanno et',\n",
       "  'ne': 'Helvetios;'},\n",
       " {'context': 'Sequanos et Helvetios; tertia lacu Lemanno et flumine Rhodano, qui',\n",
       "  'ne': 'Lemanno'},\n",
       " {'context': 'tertia lacu Lemanno et flumine Rhodano, qui provinciam nostram ab',\n",
       "  'ne': 'Rhodano,'},\n",
       " {'context': 'Rhodano, qui provinciam nostram ab Helvetiis dividit. His rebus fiebat',\n",
       "  'ne': 'Helvetiis'},\n",
       " {'context': 'provinciam nostram ab Helvetiis dividit. His rebus fiebat ut et',\n",
       "  'ne': 'His'},\n",
       " {'context': 'bellandi cupidi magno dolore adficiebantur. Pro multitudine autem hominum et',\n",
       "  'ne': 'Pro'},\n",
       " {'context': 'CCXL, in latitudinem CLXXX patebant. His rebus adducti et auctoritate',\n",
       "  'ne': 'His'},\n",
       " {'context': 'His rebus adducti et auctoritate Orgetorigis permoti constituerunt ea quae',\n",
       "  'ne': 'Orgetorigis'},\n",
       " {'context': 'civitatibus pacem et amicitiam confirmare. Ad eas res conficiendas biennium',\n",
       "  'ne': 'Ad'},\n",
       " {'context': 'tertium annum profectionem lege confirmant. Ad eas res conficiendas Orgetorix',\n",
       "  'ne': 'Ad'},\n",
       " {'context': 'confirmant. Ad eas res conficiendas Orgetorix deligitur. Is sibi legationem',\n",
       "  'ne': 'Orgetorix'},\n",
       " {'context': 'eas res conficiendas Orgetorix deligitur. Is sibi legationem ad civitates',\n",
       "  'ne': 'Is'},\n",
       " {'context': 'sibi legationem ad civitates suscipit. In eo itinere persuadet Castico,',\n",
       "  'ne': 'In'},\n",
       " {'context': 'suscipit. In eo itinere persuadet Castico, Catamantaloedis filio, Sequano, cuius',\n",
       "  'ne': 'Castico,'},\n",
       " {'context': 'In eo itinere persuadet Castico, Catamantaloedis filio, Sequano, cuius pater',\n",
       "  'ne': 'Catamantaloedis'},\n",
       " {'context': 'itinere persuadet Castico, Catamantaloedis filio, Sequano, cuius pater regnum in',\n",
       "  'ne': 'Sequano,'},\n",
       " {'context': 'Sequano, cuius pater regnum in Sequanis multos annos obtinuerat et',\n",
       "  'ne': 'Sequanis'},\n",
       " {'context': 'obtinuerat et a senatu populi Romani amicus appellatus erat, ut',\n",
       "  'ne': 'Romani'},\n",
       " {'context': 'quod pater ante habuerit; itemque Dumnorigi Haeduo, fratri Diviciaci, qui',\n",
       "  'ne': 'Dumnorigi'},\n",
       " {'context': 'pater ante habuerit; itemque Dumnorigi Haeduo, fratri Diviciaci, qui eo',\n",
       "  'ne': 'Haeduo,'},\n",
       " {'context': 'habuerit; itemque Dumnorigi Haeduo, fratri Diviciaci, qui eo tempore principatum',\n",
       "  'ne': 'Diviciaci,'},\n",
       " {'context': 'filiam suam in matrimonium dat. Perfacile factu esse illis probat',\n",
       "  'ne': 'Perfacile'},\n",
       " {'context': 'non esse dubium quin totius Galliae plurimum Helvetii possent; se',\n",
       "  'ne': 'Galliae'},\n",
       " {'context': 'dubium quin totius Galliae plurimum Helvetii possent; se suis copiis',\n",
       "  'ne': 'Helvetii'},\n",
       " {'context': 'exercitu illis regna conciliaturum confirmat. Hac oratione adducti inter se',\n",
       "  'ne': 'Hac'},\n",
       " {'context': 'potentissimos ac firmissimos populos totius Galliae sese potiri posse sperant.',\n",
       "  'ne': 'Galliae'},\n",
       " {'context': 'Galliae sese potiri posse sperant. Ea res est Helvetiis per',\n",
       "  'ne': 'Ea'},\n",
       " {'context': 'posse sperant. Ea res est Helvetiis per indicium enuntiata. Moribus',\n",
       "  'ne': 'Helvetiis'},\n",
       " {'context': 'est Helvetiis per indicium enuntiata. Moribus suis Orgetoricem ex vinculis',\n",
       "  'ne': 'Moribus'},\n",
       " {'context': 'per indicium enuntiata. Moribus suis Orgetoricem ex vinculis causam dicere',\n",
       "  'ne': 'Orgetoricem'},\n",
       " {'context': 'sequi oportebat, ut igni cremaretur. Die constituta causae dictionis Orgetorix',\n",
       "  'ne': 'Die'},\n",
       " {'context': 'cremaretur. Die constituta causae dictionis Orgetorix ad iudicium omnem suam',\n",
       "  'ne': 'Orgetorix'},\n",
       " {'context': 'ne causam diceret se eripuit. Cum civitas ob eam rem',\n",
       "  'ne': 'Cum'},\n",
       " {'context': 'hominum ex agris magistratus cogerent, Orgetorix mortuus est; neque abest',\n",
       "  'ne': 'Orgetorix'},\n",
       " {'context': 'est; neque abest suspicio, ut Helvetii arbitrantur, quin ipse sibi',\n",
       "  'ne': 'Helvetii'},\n",
       " {'context': 'quin ipse sibi mortem consciverit. Post eius mortem nihilo minus',\n",
       "  'ne': 'Post'},\n",
       " {'context': 'Post eius mortem nihilo minus Helvetii id quod constituerant facere',\n",
       "  'ne': 'Helvetii'},\n",
       " {'context': 'ut e finibus suis exeant. Ubi iam se ad eam', 'ne': 'Ubi'},\n",
       " {'context': 'sibi quemque domo efferre iubent. Persuadent Rauracis et Tulingis et',\n",
       "  'ne': 'Persuadent'},\n",
       " {'context': 'quemque domo efferre iubent. Persuadent Rauracis et Tulingis et Latobrigis',\n",
       "  'ne': 'Rauracis'},\n",
       " {'context': 'efferre iubent. Persuadent Rauracis et Tulingis et Latobrigis finitimis, uti',\n",
       "  'ne': 'Tulingis'},\n",
       " {'context': 'Persuadent Rauracis et Tulingis et Latobrigis finitimis, uti eodem usi',\n",
       "  'ne': 'Latobrigis'},\n",
       " {'context': 'exustis una cum iis proficiscantur, Boiosque, qui trans Rhenum incoluerant',\n",
       "  'ne': 'Boiosque,'},\n",
       " {'context': 'iis proficiscantur, Boiosque, qui trans Rhenum incoluerant et in agrum',\n",
       "  'ne': 'Rhenum'},\n",
       " {'context': 'Rhenum incoluerant et in agrum Noricum transierant Noreiamque oppugnabant, receptos',\n",
       "  'ne': 'Noricum'},\n",
       " {'context': 'et in agrum Noricum transierant Noreiamque oppugnabant, receptos ad se',\n",
       "  'ne': 'Noreiamque'}]"
      ]
     },
     "execution_count": 9,
     "metadata": {},
     "output_type": "execute_result"
    }
   ],
   "source": [
    "baseline_named_entities[:100]"
   ]
  },
  {
   "cell_type": "markdown",
   "metadata": {
    "deletable": true,
    "editable": true
   },
   "source": [
    "# NER with CLTK"
   ]
  },
  {
   "cell_type": "markdown",
   "metadata": {},
   "source": [
    "**TODO**: explain briefly the method used by CLTK (dictionary lookup)"
   ]
  },
  {
   "cell_type": "code",
   "execution_count": 10,
   "metadata": {
    "collapsed": true,
    "deletable": true,
    "editable": true
   },
   "outputs": [],
   "source": [
    "from cltk.tag.ner import tag_ner"
   ]
  },
  {
   "cell_type": "code",
   "execution_count": 11,
   "metadata": {
    "collapsed": true,
    "deletable": true,
    "editable": true
   },
   "outputs": [],
   "source": [
    "tagged_text = tag_ner('latin', input_text=de_bello_gallico_book1)"
   ]
  },
  {
   "cell_type": "code",
   "execution_count": 12,
   "metadata": {
    "collapsed": false,
    "deletable": true,
    "editable": true
   },
   "outputs": [],
   "source": [
    "named_entities = [tagged_token for tagged_token in tagged_text if len(tagged_token)>1]"
   ]
  },
  {
   "cell_type": "code",
   "execution_count": 13,
   "metadata": {
    "collapsed": false,
    "deletable": true,
    "editable": true
   },
   "outputs": [
    {
     "data": {
      "text/plain": [
       "603"
      ]
     },
     "execution_count": 13,
     "metadata": {},
     "output_type": "execute_result"
    }
   ],
   "source": [
    "len(named_entities)"
   ]
  },
  {
   "cell_type": "code",
   "execution_count": 14,
   "metadata": {
    "collapsed": false,
    "deletable": true,
    "editable": true
   },
   "outputs": [
    {
     "data": {
      "text/plain": [
       "[('Gallia', 'Entity'),\n",
       " ('Belgae', 'Entity'),\n",
       " ('Aquitani', 'Entity'),\n",
       " ('Celtae', 'Entity'),\n",
       " ('Galli', 'Entity'),\n",
       " ('Hi', 'Entity'),\n",
       " ('Gallos', 'Entity'),\n",
       " ('Aquitanis', 'Entity'),\n",
       " ('Belgis', 'Entity'),\n",
       " ('Matrona', 'Entity'),\n",
       " ('Sequana', 'Entity'),\n",
       " ('Belgae', 'Entity'),\n",
       " ('Germanis', 'Entity'),\n",
       " ('Rhenum', 'Entity'),\n",
       " ('Gallos', 'Entity'),\n",
       " ('Germanis', 'Entity'),\n",
       " ('Eorum', 'Entity'),\n",
       " ('Gallos', 'Entity'),\n",
       " ('Rhodano', 'Entity'),\n",
       " ('Oceano', 'Entity'),\n",
       " ('Belgarum', 'Entity'),\n",
       " ('Sequanis', 'Entity'),\n",
       " ('Rhenum', 'Entity'),\n",
       " ('Belgae', 'Entity'),\n",
       " ('Galliae', 'Entity'),\n",
       " ('Rheni', 'Entity'),\n",
       " ('Aquitania', 'Entity'),\n",
       " ('Pyrenaeos', 'Entity'),\n",
       " ('Oceani', 'Entity'),\n",
       " ('Hispaniam', 'Entity'),\n",
       " ('Orgetorix', 'Entity'),\n",
       " ('Is', 'Entity'),\n",
       " ('Messala', 'Entity'),\n",
       " ('Pisone', 'Entity'),\n",
       " ('Galliae', 'Entity'),\n",
       " ('Id', 'Entity'),\n",
       " ('Rheno', 'Entity'),\n",
       " ('Germanis', 'Entity'),\n",
       " ('Iura', 'Entity'),\n",
       " ('Sequanos', 'Entity'),\n",
       " ('Lemanno', 'Entity'),\n",
       " ('Rhodano', 'Entity'),\n",
       " ('His', 'Entity'),\n",
       " ('Pro', 'Entity'),\n",
       " ('His', 'Entity'),\n",
       " ('Orgetorigis', 'Entity'),\n",
       " ('Orgetorix', 'Entity'),\n",
       " ('Is', 'Entity'),\n",
       " ('In', 'Entity'),\n",
       " ('Castico', 'Entity'),\n",
       " ('Sequano', 'Entity'),\n",
       " ('Sequanis', 'Entity'),\n",
       " ('Romani', 'Entity'),\n",
       " ('Dumnorigi', 'Entity'),\n",
       " ('Haeduo', 'Entity'),\n",
       " ('Galliae', 'Entity'),\n",
       " ('Hac', 'Entity'),\n",
       " ('Galliae', 'Entity'),\n",
       " ('Ea', 'Entity'),\n",
       " ('Die', 'Entity'),\n",
       " ('Orgetorix', 'Entity'),\n",
       " ('Cum', 'Entity'),\n",
       " ('Orgetorix', 'Entity'),\n",
       " ('Rauracis', 'Entity'),\n",
       " ('Latobrigis', 'Entity'),\n",
       " ('Rhenum', 'Entity'),\n",
       " ('Noricum', 'Entity'),\n",
       " ('Noreiamque', 'Entity'),\n",
       " ('Sequanos', 'Entity'),\n",
       " ('Iuram', 'Entity'),\n",
       " ('Rhodanum', 'Entity'),\n",
       " ('Allobrogum', 'Entity'),\n",
       " ('Rhodanus', 'Entity'),\n",
       " ('Allobrogum', 'Entity'),\n",
       " ('Ex', 'Entity'),\n",
       " ('Allobrogibus', 'Entity'),\n",
       " ('Romanum', 'Entity'),\n",
       " ('Rhodani', 'Entity'),\n",
       " ('Kal', 'Entity'),\n",
       " ('Pisone', 'Entity'),\n",
       " ('Gabinio', 'Entity'),\n",
       " ('Caesari', 'Entity'),\n",
       " ('Galliam', 'Entity'),\n",
       " ('Gallia', 'Entity'),\n",
       " ('Nammeius', 'Entity'),\n",
       " ('Caesar', 'Entity'),\n",
       " ('Cassium', 'Entity'),\n",
       " ('Id', 'Entity'),\n",
       " ('April', 'Entity'),\n",
       " ('Interea', 'Entity'),\n",
       " ('Lemanno', 'Entity'),\n",
       " ('Rhodanum', 'Entity'),\n",
       " ('Iuram', 'Entity'),\n",
       " ('Sequanorum', 'Entity'),\n",
       " ('Eo', 'Entity'),\n",
       " ('Romani', 'Entity'),\n",
       " ('Rhodani', 'Entity'),\n",
       " ('Sequanos', 'Entity'),\n",
       " ('Sequanis', 'Entity'),\n",
       " ('His', 'Entity')]"
      ]
     },
     "execution_count": 14,
     "metadata": {},
     "output_type": "execute_result"
    }
   ],
   "source": [
    "named_entities[:100]"
   ]
  },
  {
   "cell_type": "markdown",
   "metadata": {
    "deletable": true,
    "editable": true
   },
   "source": [
    "# NER with NLTK"
   ]
  },
  {
   "cell_type": "code",
   "execution_count": 15,
   "metadata": {
    "collapsed": true,
    "deletable": true,
    "editable": true
   },
   "outputs": [],
   "source": [
    "stanford_model_italian = \"/opt/nlp/stanford-tools/stanford-ner-2015-12-09/classifiers/ner-ita-nogpe-noiob_gaz_wikipedia_sloppy.ser.gz\""
   ]
  },
  {
   "cell_type": "code",
   "execution_count": 17,
   "metadata": {
    "collapsed": false,
    "deletable": true,
    "editable": true
   },
   "outputs": [],
   "source": [
    "ner_tagger = StanfordNERTagger(stanford_model_italian)"
   ]
  },
  {
   "cell_type": "code",
   "execution_count": 18,
   "metadata": {
    "collapsed": false,
    "deletable": true,
    "editable": true
   },
   "outputs": [],
   "source": [
    "nltk_tagged_text = ner_tagger.tag(de_bello_gallico_book1.split(\" \"))"
   ]
  },
  {
   "cell_type": "code",
   "execution_count": 19,
   "metadata": {
    "collapsed": true,
    "deletable": true,
    "editable": true
   },
   "outputs": [],
   "source": [
    "nltk_named_entities = [(token, ne_tag) for token, ne_tag in nltk_tagged_text if ne_tag !=\"O\"]"
   ]
  },
  {
   "cell_type": "code",
   "execution_count": 20,
   "metadata": {
    "collapsed": false,
    "deletable": true,
    "editable": true
   },
   "outputs": [
    {
     "data": {
      "text/plain": [
       "175"
      ]
     },
     "execution_count": 20,
     "metadata": {},
     "output_type": "execute_result"
    }
   ],
   "source": [
    "len(nltk_named_entities)"
   ]
  },
  {
   "cell_type": "code",
   "execution_count": 21,
   "metadata": {
    "collapsed": false,
    "deletable": true,
    "editable": true
   },
   "outputs": [
    {
     "data": {
      "text/plain": [
       "[('COMMENTARIUS', 'LOC'),\n",
       " ('PRIMUS', 'LOC'),\n",
       " ('Gallia', 'LOC'),\n",
       " ('Galli', 'PER'),\n",
       " ('appellantur.', 'PER'),\n",
       " ('Hi', 'PER'),\n",
       " ('Gallos', 'PER'),\n",
       " ('Belgis', 'PER'),\n",
       " ('Matrona', 'PER'),\n",
       " ('Gallos', 'PER'),\n",
       " ('Gallos', 'PER'),\n",
       " ('Aquitania', 'LOC'),\n",
       " ('M.', 'PER'),\n",
       " ('Pisone', 'PER'),\n",
       " ('Ubi', 'ORG'),\n",
       " ('d.', 'PER'),\n",
       " ('V.', 'PER'),\n",
       " ('Kal.', 'PER'),\n",
       " ('Apr.', 'PER'),\n",
       " ('L.', 'PER'),\n",
       " ('Pisone,', 'PER'),\n",
       " ('A.', 'PER'),\n",
       " ('Gabinio', 'PER'),\n",
       " ('consulibus.', 'PER'),\n",
       " ('Caesari', 'PER'),\n",
       " ('Gallia', 'LOC'),\n",
       " ('Ubi', 'ORG'),\n",
       " ('Ubi', 'ORG'),\n",
       " ('Sequanis', 'ORG'),\n",
       " ('Caesari', 'ORG'),\n",
       " ('renuntiatur', 'ORG'),\n",
       " ('Helvetiis', 'ORG'),\n",
       " ('Sequanorum', 'ORG'),\n",
       " ('et', 'ORG'),\n",
       " ('Haeduorum', 'ORG'),\n",
       " ('Caesarem', 'ORG'),\n",
       " ('certiorem', 'ORG'),\n",
       " ('Caesar', 'PER'),\n",
       " ('Ubi', 'ORG'),\n",
       " ('per', 'ORG'),\n",
       " ('exploratores', 'ORG'),\n",
       " ('Caesar', 'ORG'),\n",
       " ('Caesar', 'PER'),\n",
       " ('Arari', 'LOC'),\n",
       " ('Divico', 'PER'),\n",
       " ('Cassiano', 'PER'),\n",
       " ('Romanus', 'PER'),\n",
       " ('His', 'PER'),\n",
       " ('Caesar', 'PER'),\n",
       " ('Divico', 'PER'),\n",
       " ('Postero', 'PER'),\n",
       " ('Caesar', 'PER'),\n",
       " ('Gallia', 'LOC'),\n",
       " ('Diem', 'PER'),\n",
       " ('Ubi', 'ORG'),\n",
       " ('Diviciaco', 'PER'),\n",
       " ('Caesaris', 'PER'),\n",
       " ('Caesar', 'PER'),\n",
       " ('Caesarem', 'PER'),\n",
       " ('Diviciacum', 'PER'),\n",
       " ('Petit', 'PER'),\n",
       " ('Diviciacus', 'PER'),\n",
       " ('Dumnorigem', 'PER'),\n",
       " ('Diviciaco', 'PER'),\n",
       " ('esse.', 'PER'),\n",
       " ('De', 'PER'),\n",
       " ('Ipse', 'ORG'),\n",
       " ('exercitu', 'LOC'),\n",
       " ('L.', 'LOC'),\n",
       " ('Sullae', 'LOC'),\n",
       " ('Labieno', 'PER'),\n",
       " ('Labieno', 'PER'),\n",
       " ('Caesar', 'PER'),\n",
       " ('Caesare', 'PER'),\n",
       " ('exploratores', 'ORG'),\n",
       " ('Caesar', 'ORG'),\n",
       " ('cognovit', 'ORG'),\n",
       " ('Romanos', 'LOC'),\n",
       " ('Caesar', 'PER'),\n",
       " ('Ipse', 'ORG'),\n",
       " ('Gallia', 'LOC'),\n",
       " ('Caesar', 'PER'),\n",
       " ('Nam', 'ORG'),\n",
       " ('Diu', 'ORG'),\n",
       " ('Caesar', 'PER'),\n",
       " ('Ipse', 'ORG'),\n",
       " ('Summa', 'PER'),\n",
       " ('Gallia', 'LOC'),\n",
       " ('Caesaris', 'PER'),\n",
       " ('Caesari', 'PER'),\n",
       " ('Locutus', 'PER'),\n",
       " ('Gallia', 'LOC'),\n",
       " ('C', 'ORG'),\n",
       " ('Gallia', 'LOC'),\n",
       " ('Caesarem', 'PER'),\n",
       " ('Diviciaco', 'PER'),\n",
       " ('Germanos', 'PER'),\n",
       " ('provincia', 'LOC'),\n",
       " ('Rhodanus', 'PER'),\n",
       " ('Ipse', 'ORG'),\n",
       " ('autem', 'ORG'),\n",
       " ('Ariovistus', 'ORG'),\n",
       " ('Praeterea', 'PER'),\n",
       " ('M.', 'PER'),\n",
       " ('Messala,', 'PER'),\n",
       " ('M.', 'PER'),\n",
       " ('Pisone', 'PER'),\n",
       " ('Magnam', 'PER'),\n",
       " ('Caesarem', 'PER'),\n",
       " ('Treveris', 'LOC'),\n",
       " ('Caesar', 'PER'),\n",
       " ('Dubis', 'PER'),\n",
       " ('Huc', 'PER'),\n",
       " ('Caesar', 'PER'),\n",
       " ('Cimbris', 'ORG'),\n",
       " ('et', 'ORG'),\n",
       " ('Teutonis', 'ORG'),\n",
       " ('C.', 'PER'),\n",
       " ('Mario', 'PER'),\n",
       " ('Italia', 'LOC'),\n",
       " ('Germanos', 'PER'),\n",
       " ('Huic', 'ORG'),\n",
       " ('legioni', 'ORG'),\n",
       " ('Caesar', 'ORG'),\n",
       " ('Cognito', 'PER'),\n",
       " ('Caesaris', 'PER'),\n",
       " ('Caesar', 'PER'),\n",
       " ('Caesaris', 'PER'),\n",
       " ('Ubi', 'ORG'),\n",
       " ('Caesar', 'PER'),\n",
       " ('Ariovistus', 'PER'),\n",
       " ('Caesaris', 'PER'),\n",
       " ('Gallia', 'LOC'),\n",
       " ('Gallos', 'PER'),\n",
       " ('Haeduos', 'PER'),\n",
       " ('Romanis', 'PER'),\n",
       " ('Gallia', 'LOC'),\n",
       " ('Caesare', 'PER'),\n",
       " ('Bello', 'PER'),\n",
       " ('Q.', 'PER'),\n",
       " ('Fabio', 'PER'),\n",
       " ('Romanus', 'PER'),\n",
       " ('Gallia', 'LOC'),\n",
       " ('Caesar', 'PER'),\n",
       " ('Gallia', 'PER'),\n",
       " ('Romanis', 'PER'),\n",
       " ('Conloquendi', 'PER'),\n",
       " ('Caesari', 'PER'),\n",
       " ('C.', 'PER'),\n",
       " ('Valerii', 'PER'),\n",
       " ('Caburi', 'PER'),\n",
       " ('C.', 'PER'),\n",
       " ('Valerio', 'PER'),\n",
       " ('Flacco', 'PER'),\n",
       " ('Caesaris', 'PER'),\n",
       " ('Caesaris', 'PER'),\n",
       " ('V', 'PER'),\n",
       " ('Caesar', 'PER'),\n",
       " ('Genus', 'PER'),\n",
       " ('Ubi', 'ORG'),\n",
       " ('Caesar', 'PER'),\n",
       " ('Munitis', 'PER'),\n",
       " ('Caesar', 'PER'),\n",
       " ('Ubi', 'ORG'),\n",
       " ('Germanos', 'PER'),\n",
       " ('Germanos', 'PER'),\n",
       " ('Caesar', 'PER'),\n",
       " ('Gallia', 'LOC'),\n",
       " ('C.', 'PER'),\n",
       " ('Valerius', 'PER'),\n",
       " ('Item', 'PER'),\n",
       " ('M.', 'PER'),\n",
       " ('Metius', 'PER'),\n",
       " ('citeriorem', 'ORG'),\n",
       " ('Galliam', 'ORG')]"
      ]
     },
     "execution_count": 21,
     "metadata": {},
     "output_type": "execute_result"
    }
   ],
   "source": [
    "nltk_named_entities"
   ]
  },
  {
   "cell_type": "code",
   "execution_count": 22,
   "metadata": {
    "collapsed": true,
    "deletable": true,
    "editable": true
   },
   "outputs": [],
   "source": [
    "from nltk.chunk import RegexpParser"
   ]
  },
  {
   "cell_type": "code",
   "execution_count": 23,
   "metadata": {
    "collapsed": true,
    "deletable": true,
    "editable": true
   },
   "outputs": [],
   "source": [
    "italian_chunker = RegexpParser(r'''\n",
    "PER:\n",
    "    {<PER><(PER|LOC|MISC|ORG)>*}\n",
    "LOC:\n",
    "    {<LOC><(PER|LOC|MISC|ORG)>*}\n",
    "ORG:\n",
    "    {<ORG><(PER|LOC|MISC|ORG)>*}\n",
    "MISC:\n",
    "    {<MISC><(PER|LOC|MISC|ORG)>*}\n",
    "''')"
   ]
  },
  {
   "cell_type": "code",
   "execution_count": 24,
   "metadata": {
    "collapsed": false,
    "deletable": true,
    "editable": true
   },
   "outputs": [],
   "source": [
    "trees = italian_chunker.parse(nltk_tagged_text)"
   ]
  },
  {
   "cell_type": "code",
   "execution_count": 25,
   "metadata": {
    "collapsed": true,
    "deletable": true,
    "editable": true
   },
   "outputs": [
    {
     "name": "stderr",
     "output_type": "stream",
     "text": [
      "/home/mromanello/.pyenv/versions/3.5.0/envs/sunoikisis/lib/python3.5/site-packages/nltk/draw/__init__.py:15: UserWarning: nltk.draw package not loaded (please install Tkinter library).\n",
      "  warnings.warn(\"nltk.draw package not loaded \"\n"
     ]
    },
    {
     "ename": "ImportError",
     "evalue": "No module named '_tkinter'",
     "output_type": "error",
     "traceback": [
      "\u001b[0;31m---------------------------------------------------------------------------\u001b[0m",
      "\u001b[0;31mImportError\u001b[0m                               Traceback (most recent call last)",
      "\u001b[0;32m/home/mromanello/.pyenv/versions/3.5.0/envs/sunoikisis/lib/python3.5/site-packages/IPython/core/formatters.py\u001b[0m in \u001b[0;36m__call__\u001b[0;34m(self, obj)\u001b[0m\n\u001b[1;32m    309\u001b[0m             \u001b[0mmethod\u001b[0m \u001b[0;34m=\u001b[0m \u001b[0mget_real_method\u001b[0m\u001b[0;34m(\u001b[0m\u001b[0mobj\u001b[0m\u001b[0;34m,\u001b[0m \u001b[0mself\u001b[0m\u001b[0;34m.\u001b[0m\u001b[0mprint_method\u001b[0m\u001b[0;34m)\u001b[0m\u001b[0;34m\u001b[0m\u001b[0m\n\u001b[1;32m    310\u001b[0m             \u001b[0;32mif\u001b[0m \u001b[0mmethod\u001b[0m \u001b[0;32mis\u001b[0m \u001b[0;32mnot\u001b[0m \u001b[0;32mNone\u001b[0m\u001b[0;34m:\u001b[0m\u001b[0;34m\u001b[0m\u001b[0m\n\u001b[0;32m--> 311\u001b[0;31m                 \u001b[0;32mreturn\u001b[0m \u001b[0mmethod\u001b[0m\u001b[0;34m(\u001b[0m\u001b[0;34m)\u001b[0m\u001b[0;34m\u001b[0m\u001b[0m\n\u001b[0m\u001b[1;32m    312\u001b[0m             \u001b[0;32mreturn\u001b[0m \u001b[0;32mNone\u001b[0m\u001b[0;34m\u001b[0m\u001b[0m\n\u001b[1;32m    313\u001b[0m         \u001b[0;32melse\u001b[0m\u001b[0;34m:\u001b[0m\u001b[0;34m\u001b[0m\u001b[0m\n",
      "\u001b[0;32m/home/mromanello/.pyenv/versions/3.5.0/envs/sunoikisis/lib/python3.5/site-packages/nltk/tree.py\u001b[0m in \u001b[0;36m_repr_png_\u001b[0;34m(self)\u001b[0m\n\u001b[1;32m    710\u001b[0m         \u001b[0;32mimport\u001b[0m \u001b[0msubprocess\u001b[0m\u001b[0;34m\u001b[0m\u001b[0m\n\u001b[1;32m    711\u001b[0m         \u001b[0;32mimport\u001b[0m \u001b[0mtempfile\u001b[0m\u001b[0;34m\u001b[0m\u001b[0m\n\u001b[0;32m--> 712\u001b[0;31m         \u001b[0;32mfrom\u001b[0m \u001b[0mnltk\u001b[0m\u001b[0;34m.\u001b[0m\u001b[0mdraw\u001b[0m\u001b[0;34m.\u001b[0m\u001b[0mtree\u001b[0m \u001b[0;32mimport\u001b[0m \u001b[0mtree_to_treesegment\u001b[0m\u001b[0;34m\u001b[0m\u001b[0m\n\u001b[0m\u001b[1;32m    713\u001b[0m         \u001b[0;32mfrom\u001b[0m \u001b[0mnltk\u001b[0m\u001b[0;34m.\u001b[0m\u001b[0mdraw\u001b[0m\u001b[0;34m.\u001b[0m\u001b[0mutil\u001b[0m \u001b[0;32mimport\u001b[0m \u001b[0mCanvasFrame\u001b[0m\u001b[0;34m\u001b[0m\u001b[0m\n\u001b[1;32m    714\u001b[0m         \u001b[0;32mfrom\u001b[0m \u001b[0mnltk\u001b[0m\u001b[0;34m.\u001b[0m\u001b[0minternals\u001b[0m \u001b[0;32mimport\u001b[0m \u001b[0mfind_binary\u001b[0m\u001b[0;34m\u001b[0m\u001b[0m\n",
      "\u001b[0;32m/home/mromanello/.pyenv/versions/3.5.0/envs/sunoikisis/lib/python3.5/site-packages/nltk/draw/tree.py\u001b[0m in \u001b[0;36m<module>\u001b[0;34m()\u001b[0m\n\u001b[1;32m     13\u001b[0m \u001b[0;32mimport\u001b[0m \u001b[0msys\u001b[0m\u001b[0;34m\u001b[0m\u001b[0m\n\u001b[1;32m     14\u001b[0m \u001b[0;34m\u001b[0m\u001b[0m\n\u001b[0;32m---> 15\u001b[0;31m \u001b[0;32mfrom\u001b[0m \u001b[0mtkinter\u001b[0m \u001b[0;32mimport\u001b[0m \u001b[0mIntVar\u001b[0m\u001b[0;34m,\u001b[0m \u001b[0mMenu\u001b[0m\u001b[0;34m,\u001b[0m \u001b[0mTk\u001b[0m\u001b[0;34m\u001b[0m\u001b[0m\n\u001b[0m\u001b[1;32m     16\u001b[0m \u001b[0;34m\u001b[0m\u001b[0m\n\u001b[1;32m     17\u001b[0m \u001b[0;32mfrom\u001b[0m \u001b[0mnltk\u001b[0m\u001b[0;34m.\u001b[0m\u001b[0mutil\u001b[0m \u001b[0;32mimport\u001b[0m \u001b[0min_idle\u001b[0m\u001b[0;34m\u001b[0m\u001b[0m\n",
      "\u001b[0;32m/home/mromanello/.pyenv/versions/3.5.0/lib/python3.5/tkinter/__init__.py\u001b[0m in \u001b[0;36m<module>\u001b[0;34m()\u001b[0m\n\u001b[1;32m     33\u001b[0m \u001b[0;32mimport\u001b[0m \u001b[0msys\u001b[0m\u001b[0;34m\u001b[0m\u001b[0m\n\u001b[1;32m     34\u001b[0m \u001b[0;34m\u001b[0m\u001b[0m\n\u001b[0;32m---> 35\u001b[0;31m \u001b[0;32mimport\u001b[0m \u001b[0m_tkinter\u001b[0m \u001b[0;31m# If this fails your Python may not be configured for Tk\u001b[0m\u001b[0;34m\u001b[0m\u001b[0m\n\u001b[0m\u001b[1;32m     36\u001b[0m \u001b[0mTclError\u001b[0m \u001b[0;34m=\u001b[0m \u001b[0m_tkinter\u001b[0m\u001b[0;34m.\u001b[0m\u001b[0mTclError\u001b[0m\u001b[0;34m\u001b[0m\u001b[0m\n\u001b[1;32m     37\u001b[0m \u001b[0;32mfrom\u001b[0m \u001b[0mtkinter\u001b[0m\u001b[0;34m.\u001b[0m\u001b[0mconstants\u001b[0m \u001b[0;32mimport\u001b[0m \u001b[0;34m*\u001b[0m\u001b[0;34m\u001b[0m\u001b[0m\n",
      "\u001b[0;31mImportError\u001b[0m: No module named '_tkinter'"
     ]
    },
    {
     "data": {
      "text/plain": [
       "Tree('S', [Tree('LOC', [('COMMENTARIUS', 'LOC'), ('PRIMUS', 'LOC'), ('Gallia', 'LOC')]), ('est', 'O'), ('omnis', 'O'), ('divisa', 'O'), ('in', 'O'), ('partes', 'O'), ('tres,', 'O'), ('quarum', 'O'), ('unam', 'O'), ('incolunt', 'O'), ('Belgae,', 'O'), ('aliam', 'O'), ('Aquitani,', 'O'), ('tertiam', 'O'), ('qui', 'O'), ('ipsorum', 'O'), ('lingua', 'O'), ('Celtae,', 'O'), ('nostra', 'O'), Tree('PER', [('Galli', 'PER'), ('appellantur.', 'PER'), ('Hi', 'PER')]), ('omnes', 'O'), ('lingua,', 'O'), ('institutis,', 'O'), ('legibus', 'O'), ('inter', 'O'), ('se', 'O'), ('differunt.', 'O'), Tree('PER', [('Gallos', 'PER')]), ('ab', 'O'), ('Aquitanis', 'O'), ('Garumna', 'O'), ('flumen,', 'O'), ('a', 'O'), Tree('PER', [('Belgis', 'PER'), ('Matrona', 'PER')]), ('et', 'O'), ('Sequana', 'O'), ('dividit.', 'O'), ('Horum', 'O'), ('omnium', 'O'), ('fortissimi', 'O'), ('sunt', 'O'), ('Belgae,', 'O'), ('propterea', 'O'), ('quod', 'O'), ('a', 'O'), ('cultu', 'O'), ('atque', 'O'), ('humanitate', 'O'), ('provinciae', 'O'), ('longissime', 'O'), ('absunt,', 'O'), ('minimeque', 'O'), ('ad', 'O'), ('eos', 'O'), ('mercatores', 'O'), ('saepe', 'O'), ('commeant', 'O'), ('atque', 'O'), ('ea', 'O'), ('quae', 'O'), ('ad', 'O'), ('effeminandos', 'O'), ('animos', 'O'), ('pertinent', 'O'), ('important,', 'O'), ('proximique', 'O'), ('sunt', 'O'), ('Germanis,', 'O'), ('qui', 'O'), ('trans', 'O'), ('Rhenum', 'O'), ('incolunt,', 'O'), ('quibuscum', 'O'), ('continenter', 'O'), ('bellum', 'O'), ('gerunt.', 'O'), ('Qua', 'O'), ('de', 'O'), ('causa', 'O'), ('Helvetii', 'O'), ('quoque', 'O'), ('reliquos', 'O'), Tree('PER', [('Gallos', 'PER')]), ('virtute', 'O'), ('praecedunt,', 'O'), ('quod', 'O'), ('fere', 'O'), ('cotidianis', 'O'), ('proeliis', 'O'), ('cum', 'O'), ('Germanis', 'O'), ('contendunt,', 'O'), ('cum', 'O'), ('aut', 'O'), ('suis', 'O'), ('finibus', 'O'), ('eos', 'O'), ('prohibent', 'O'), ('aut', 'O'), ('ipsi', 'O'), ('in', 'O'), ('eorum', 'O'), ('finibus', 'O'), ('bellum', 'O'), ('gerunt.', 'O'), ('[Eorum', 'O'), ('una,', 'O'), ('pars,', 'O'), ('quam', 'O'), Tree('PER', [('Gallos', 'PER')]), ('obtinere', 'O'), ('dictum', 'O'), ('est,', 'O'), ('initium', 'O'), ('capit', 'O'), ('a', 'O'), ('flumine', 'O'), ('Rhodano,', 'O'), ('continetur', 'O'), ('Garumna', 'O'), ('flumine,', 'O'), ('Oceano,', 'O'), ('finibus', 'O'), ('Belgarum,', 'O'), ('attingit', 'O'), ('etiam', 'O'), ('ab', 'O'), ('Sequanis', 'O'), ('et', 'O'), ('Helvetiis', 'O'), ('flumen', 'O'), ('Rhenum,', 'O'), ('vergit', 'O'), ('ad', 'O'), ('septentriones.', 'O'), ('Belgae', 'O'), ('ab', 'O'), ('extremis', 'O'), ('Galliae', 'O'), ('finibus', 'O'), ('oriuntur,', 'O'), ('pertinent', 'O'), ('ad', 'O'), ('inferiorem', 'O'), ('partem', 'O'), ('fluminis', 'O'), ('Rheni,', 'O'), ('spectant', 'O'), ('in', 'O'), ('septentrionem', 'O'), ('et', 'O'), ('orientem', 'O'), ('solem.', 'O'), Tree('LOC', [('Aquitania', 'LOC')]), ('a', 'O'), ('Garumna', 'O'), ('flumine', 'O'), ('ad', 'O'), ('Pyrenaeos', 'O'), ('montes', 'O'), ('et', 'O'), ('eam', 'O'), ('partem', 'O'), ('Oceani', 'O'), ('quae', 'O'), ('est', 'O'), ('ad', 'O'), ('Hispaniam', 'O'), ('pertinet;', 'O'), ('spectat', 'O'), ('inter', 'O'), ('occasum', 'O'), ('solis', 'O'), ('et', 'O'), ('septentriones.]', 'O'), ('Apud', 'O'), ('Helvetios', 'O'), ('longe', 'O'), ('nobilissimus', 'O'), ('fuit', 'O'), ('et', 'O'), ('ditissimus', 'O'), ('Orgetorix.', 'O'), ('Is', 'O'), ('M.', 'O'), ('Messala,', 'O'), ('[et', 'O'), ('P.]', 'O'), Tree('PER', [('M.', 'PER'), ('Pisone', 'PER')]), ('consulibus', 'O'), ('regni', 'O'), ('cupiditate', 'O'), ('inductus', 'O'), ('coniurationem', 'O'), ('nobilitatis', 'O'), ('fecit', 'O'), ('et', 'O'), ('civitati', 'O'), ('persuasit', 'O'), ('ut', 'O'), ('de', 'O'), ('finibus', 'O'), ('suis', 'O'), ('cum', 'O'), ('omnibus', 'O'), ('copiis', 'O'), ('exirent:', 'O'), ('perfacile', 'O'), ('esse,', 'O'), ('cum', 'O'), ('virtute', 'O'), ('omnibus', 'O'), ('praestarent,', 'O'), ('totius', 'O'), ('Galliae', 'O'), ('imperio', 'O'), ('potiri.', 'O'), ('Id', 'O'), ('hoc', 'O'), ('facilius', 'O'), ('iis', 'O'), ('persuasit,', 'O'), ('quod', 'O'), ('undique', 'O'), ('loci', 'O'), ('natura', 'O'), ('Helvetii', 'O'), ('continentur:', 'O'), ('una', 'O'), ('ex', 'O'), ('parte', 'O'), ('flumine', 'O'), ('Rheno', 'O'), ('latissimo', 'O'), ('atque', 'O'), ('altissimo,', 'O'), ('qui', 'O'), ('agrum', 'O'), ('Helvetium', 'O'), ('a', 'O'), ('Germanis', 'O'), ('dividit;', 'O'), ('altera', 'O'), ('ex', 'O'), ('parte', 'O'), ('monte', 'O'), ('Iura', 'O'), ('altissimo,', 'O'), ('qui', 'O'), ('est', 'O'), ('inter', 'O'), ('Sequanos', 'O'), ('et', 'O'), ('Helvetios;', 'O'), ('tertia', 'O'), ('lacu', 'O'), ('Lemanno', 'O'), ('et', 'O'), ('flumine', 'O'), ('Rhodano,', 'O'), ('qui', 'O'), ('provinciam', 'O'), ('nostram', 'O'), ('ab', 'O'), ('Helvetiis', 'O'), ('dividit.', 'O'), ('His', 'O'), ('rebus', 'O'), ('fiebat', 'O'), ('ut', 'O'), ('et', 'O'), ('minus', 'O'), ('late', 'O'), ('vagarentur', 'O'), ('et', 'O'), ('minus', 'O'), ('facile', 'O'), ('finitimis', 'O'), ('bellum', 'O'), ('inferre', 'O'), ('possent;', 'O'), ('qua', 'O'), ('ex', 'O'), ('parte', 'O'), ('homines', 'O'), ('bellandi', 'O'), ('cupidi', 'O'), ('magno', 'O'), ('dolore', 'O'), ('adficiebantur.', 'O'), ('Pro', 'O'), ('multitudine', 'O'), ('autem', 'O'), ('hominum', 'O'), ('et', 'O'), ('pro', 'O'), ('gloria', 'O'), ('belli', 'O'), ('atque', 'O'), ('fortitudinis', 'O'), ('angustos', 'O'), ('se', 'O'), ('fines', 'O'), ('habere', 'O'), ('arbitrabantur,', 'O'), ('qui', 'O'), ('in', 'O'), ('longitudinem', 'O'), ('milia', 'O'), ('passuum', 'O'), ('CCXL,', 'O'), ('in', 'O'), ('latitudinem', 'O'), ('CLXXX', 'O'), ('patebant.', 'O'), ('His', 'O'), ('rebus', 'O'), ('adducti', 'O'), ('et', 'O'), ('auctoritate', 'O'), ('Orgetorigis', 'O'), ('permoti', 'O'), ('constituerunt', 'O'), ('ea', 'O'), ('quae', 'O'), ('ad', 'O'), ('proficiscendum', 'O'), ('pertinerent', 'O'), ('comparare,', 'O'), ('iumentorum', 'O'), ('et', 'O'), ('carrorum', 'O'), ('quam', 'O'), ('maximum', 'O'), ('numerum', 'O'), ('coemere,', 'O'), ('sementes', 'O'), ('quam', 'O'), ('maximas', 'O'), ('facere,', 'O'), ('ut', 'O'), ('in', 'O'), ('itinere', 'O'), ('copia', 'O'), ('frumenti', 'O'), ('suppeteret,', 'O'), ('cum', 'O'), ('proximis', 'O'), ('civitatibus', 'O'), ('pacem', 'O'), ('et', 'O'), ('amicitiam', 'O'), ('confirmare.', 'O'), ('Ad', 'O'), ('eas', 'O'), ('res', 'O'), ('conficiendas', 'O'), ('biennium', 'O'), ('sibi', 'O'), ('satis', 'O'), ('esse', 'O'), ('duxerunt;', 'O'), ('in', 'O'), ('tertium', 'O'), ('annum', 'O'), ('profectionem', 'O'), ('lege', 'O'), ('confirmant.', 'O'), ('Ad', 'O'), ('eas', 'O'), ('res', 'O'), ('conficiendas', 'O'), ('Orgetorix', 'O'), ('deligitur.', 'O'), ('Is', 'O'), ('sibi', 'O'), ('legationem', 'O'), ('ad', 'O'), ('civitates', 'O'), ('suscipit.', 'O'), ('In', 'O'), ('eo', 'O'), ('itinere', 'O'), ('persuadet', 'O'), ('Castico,', 'O'), ('Catamantaloedis', 'O'), ('filio,', 'O'), ('Sequano,', 'O'), ('cuius', 'O'), ('pater', 'O'), ('regnum', 'O'), ('in', 'O'), ('Sequanis', 'O'), ('multos', 'O'), ('annos', 'O'), ('obtinuerat', 'O'), ('et', 'O'), ('a', 'O'), ('senatu', 'O'), ('populi', 'O'), ('Romani', 'O'), ('amicus', 'O'), ('appellatus', 'O'), ('erat,', 'O'), ('ut', 'O'), ('regnum', 'O'), ('in', 'O'), ('civitate', 'O'), ('sua', 'O'), ('occuparet,', 'O'), ('quod', 'O'), ('pater', 'O'), ('ante', 'O'), ('habuerit;', 'O'), ('itemque', 'O'), ('Dumnorigi', 'O'), ('Haeduo,', 'O'), ('fratri', 'O'), ('Diviciaci,', 'O'), ('qui', 'O'), ('eo', 'O'), ('tempore', 'O'), ('principatum', 'O'), ('in', 'O'), ('civitate', 'O'), ('obtinebat', 'O'), ('ac', 'O'), ('maxime', 'O'), ('plebi', 'O'), ('acceptus', 'O'), ('erat,', 'O'), ('ut', 'O'), ('idem', 'O'), ('conaretur', 'O'), ('persuadet', 'O'), ('eique', 'O'), ('filiam', 'O'), ('suam', 'O'), ('in', 'O'), ('matrimonium', 'O'), ('dat.', 'O'), ('Perfacile', 'O'), ('factu', 'O'), ('esse', 'O'), ('illis', 'O'), ('probat', 'O'), ('conata', 'O'), ('perficere,', 'O'), ('propterea', 'O'), ('quod', 'O'), ('ipse', 'O'), ('suae', 'O'), ('civitatis', 'O'), ('imperium', 'O'), ('obtenturus', 'O'), ('esset:', 'O'), ('non', 'O'), ('esse', 'O'), ('dubium', 'O'), ('quin', 'O'), ('totius', 'O'), ('Galliae', 'O'), ('plurimum', 'O'), ('Helvetii', 'O'), ('possent;', 'O'), ('se', 'O'), ('suis', 'O'), ('copiis', 'O'), ('suoque', 'O'), ('exercitu', 'O'), ('illis', 'O'), ('regna', 'O'), ('conciliaturum', 'O'), ('confirmat.', 'O'), ('Hac', 'O'), ('oratione', 'O'), ('adducti', 'O'), ('inter', 'O'), ('se', 'O'), ('fidem', 'O'), ('et', 'O'), ('ius', 'O'), ('iurandum', 'O'), ('dant', 'O'), ('et', 'O'), ('regno', 'O'), ('occupato', 'O'), ('per', 'O'), ('tres', 'O'), ('potentissimos', 'O'), ('ac', 'O'), ('firmissimos', 'O'), ('populos', 'O'), ('totius', 'O'), ('Galliae', 'O'), ('sese', 'O'), ('potiri', 'O'), ('posse', 'O'), ('sperant.', 'O'), ('Ea', 'O'), ('res', 'O'), ('est', 'O'), ('Helvetiis', 'O'), ('per', 'O'), ('indicium', 'O'), ('enuntiata.', 'O'), ('Moribus', 'O'), ('suis', 'O'), ('Orgetoricem', 'O'), ('ex', 'O'), ('vinculis', 'O'), ('causam', 'O'), ('dicere', 'O'), ('coegerunt;', 'O'), ('damnatum', 'O'), ('poenam', 'O'), ('sequi', 'O'), ('oportebat,', 'O'), ('ut', 'O'), ('igni', 'O'), ('cremaretur.', 'O'), ('Die', 'O'), ('constituta', 'O'), ('causae', 'O'), ('dictionis', 'O'), ('Orgetorix', 'O'), ('ad', 'O'), ('iudicium', 'O'), ('omnem', 'O'), ('suam', 'O'), ('familiam,', 'O'), ('ad', 'O'), ('hominum', 'O'), ('milia', 'O'), ('decem,', 'O'), ('undique', 'O'), ('coegit,', 'O'), ('et', 'O'), ('omnes', 'O'), ('clientes', 'O'), ('obaeratosque', 'O'), ('suos,', 'O'), ('quorum', 'O'), ('magnum', 'O'), ('numerum', 'O'), ('habebat,', 'O'), ('eodem', 'O'), ('conduxit;', 'O'), ('per', 'O'), ('eos', 'O'), ('ne', 'O'), ('causam', 'O'), ('diceret', 'O'), ('se', 'O'), ('eripuit.', 'O'), ('Cum', 'O'), ('civitas', 'O'), ('ob', 'O'), ('eam', 'O'), ('rem', 'O'), ('incitata', 'O'), ('armis', 'O'), ('ius', 'O'), ('suum', 'O'), ('exequi', 'O'), ('conaretur', 'O'), ('multitudinemque', 'O'), ('hominum', 'O'), ('ex', 'O'), ('agris', 'O'), ('magistratus', 'O'), ('cogerent,', 'O'), ('Orgetorix', 'O'), ('mortuus', 'O'), ('est;', 'O'), ('neque', 'O'), ('abest', 'O'), ('suspicio,', 'O'), ('ut', 'O'), ('Helvetii', 'O'), ('arbitrantur,', 'O'), ('quin', 'O'), ('ipse', 'O'), ('sibi', 'O'), ('mortem', 'O'), ('consciverit.', 'O'), ('Post', 'O'), ('eius', 'O'), ('mortem', 'O'), ('nihilo', 'O'), ('minus', 'O'), ('Helvetii', 'O'), ('id', 'O'), ('quod', 'O'), ('constituerant', 'O'), ('facere', 'O'), ('conantur,', 'O'), ('ut', 'O'), ('e', 'O'), ('finibus', 'O'), ('suis', 'O'), ('exeant.', 'O'), Tree('ORG', [('Ubi', 'ORG')]), ('iam', 'O'), ('se', 'O'), ('ad', 'O'), ('eam', 'O'), ('rem', 'O'), ('paratos', 'O'), ('esse', 'O'), ('arbitrati', 'O'), ('sunt,', 'O'), ('oppida', 'O'), ('sua', 'O'), ('omnia,', 'O'), ('numero', 'O'), ('ad', 'O'), ('duodecim,', 'O'), ('vicos', 'O'), ('ad', 'O'), ('quadringentos,', 'O'), ('reliqua', 'O'), ('privata', 'O'), ('aedificia', 'O'), ('incendunt;', 'O'), ('frumentum', 'O'), ('omne,', 'O'), ('praeter', 'O'), ('quod', 'O'), ('secum', 'O'), ('portaturi', 'O'), ('erant,', 'O'), ('comburunt,', 'O'), ('ut', 'O'), ('domum', 'O'), ('reditionis', 'O'), ('spe', 'O'), ('sublata', 'O'), ('paratiores', 'O'), ('ad', 'O'), ('omnia', 'O'), ('pericula', 'O'), ('subeunda', 'O'), ('essent;', 'O'), ('trium', 'O'), ('mensum', 'O'), ('molita', 'O'), ('cibaria', 'O'), ('sibi', 'O'), ('quemque', 'O'), ('domo', 'O'), ('efferre', 'O'), ('iubent.', 'O'), ('Persuadent', 'O'), ('Rauracis', 'O'), ('et', 'O'), ('Tulingis', 'O'), ('et', 'O'), ('Latobrigis', 'O'), ('finitimis,', 'O'), ('uti', 'O'), ('eodem', 'O'), ('usi', 'O'), ('consilio', 'O'), ('oppidis', 'O'), ('suis', 'O'), ('vicisque', 'O'), ('exustis', 'O'), ('una', 'O'), ('cum', 'O'), ('iis', 'O'), ('proficiscantur,', 'O'), ('Boiosque,', 'O'), ('qui', 'O'), ('trans', 'O'), ('Rhenum', 'O'), ('incoluerant', 'O'), ('et', 'O'), ('in', 'O'), ('agrum', 'O'), ('Noricum', 'O'), ('transierant', 'O'), ('Noreiamque', 'O'), ('oppugnabant,', 'O'), ('receptos', 'O'), ('ad', 'O'), ('se', 'O'), ('socios', 'O'), ('sibi', 'O'), ('adsciscunt.', 'O'), ('Erant', 'O'), ('omnino', 'O'), ('itinera', 'O'), ('duo,', 'O'), ('quibus', 'O'), ('itineribus', 'O'), ('domo', 'O'), ('exire', 'O'), ('possent:', 'O'), ('unum', 'O'), ('per', 'O'), ('Sequanos,', 'O'), ('angustum', 'O'), ('et', 'O'), ('difficile,', 'O'), ('inter', 'O'), ('montem', 'O'), ('Iuram', 'O'), ('et', 'O'), ('flumen', 'O'), ('Rhodanum,', 'O'), ('vix', 'O'), ('qua', 'O'), ('singuli', 'O'), ('carri', 'O'), ('ducerentur,', 'O'), ('mons', 'O'), ('autem', 'O'), ('altissimus', 'O'), ('impendebat,', 'O'), ('ut', 'O'), ('facile', 'O'), ('perpauci', 'O'), ('prohibere', 'O'), ('possent;', 'O'), ('alterum', 'O'), ('per', 'O'), ('provinciam', 'O'), ('nostram,', 'O'), ('multo', 'O'), ('facilius', 'O'), ('atque', 'O'), ('expeditius,', 'O'), ('propterea', 'O'), ('quod', 'O'), ('inter', 'O'), ('fines', 'O'), ('Helvetiorum', 'O'), ('et', 'O'), ('Allobrogum,', 'O'), ('qui', 'O'), ('nuper', 'O'), ('pacati', 'O'), ('erant,', 'O'), ('Rhodanus', 'O'), ('fluit', 'O'), ('isque', 'O'), ('non', 'O'), ('nullis', 'O'), ('locis', 'O'), ('vado', 'O'), ('transitur.', 'O'), ('Extremum', 'O'), ('oppidum', 'O'), ('Allobrogum', 'O'), ('est', 'O'), ('proximumque', 'O'), ('Helvetiorum', 'O'), ('finibus', 'O'), ('Genava.', 'O'), ('Ex', 'O'), ('eo', 'O'), ('oppido', 'O'), ('pons', 'O'), ('ad', 'O'), ('Helvetios', 'O'), ('pertinet.', 'O'), ('Allobrogibus', 'O'), ('sese', 'O'), ('vel', 'O'), ('persuasuros,', 'O'), ('quod', 'O'), ('nondum', 'O'), ('bono', 'O'), ('animo', 'O'), ('in', 'O'), ('populum', 'O'), ('Romanum', 'O'), ('viderentur,', 'O'), ('existimabant', 'O'), ('vel', 'O'), ('vi', 'O'), ('coacturos', 'O'), ('ut', 'O'), ('per', 'O'), ('suos', 'O'), ('fines', 'O'), ('eos', 'O'), ('ire', 'O'), ('paterentur.', 'O'), ('Omnibus', 'O'), ('rebus', 'O'), ('ad', 'O'), ('profectionem', 'O'), ('comparatis', 'O'), ('diem', 'O'), ('dicunt,', 'O'), ('qua', 'O'), ('die', 'O'), ('ad', 'O'), ('ripam', 'O'), ('Rhodani', 'O'), ('omnes', 'O'), ('conveniant.', 'O'), ('is', 'O'), ('dies', 'O'), ('erat', 'O'), ('a.', 'O'), Tree('PER', [('d.', 'PER'), ('V.', 'PER'), ('Kal.', 'PER'), ('Apr.', 'PER'), ('L.', 'PER'), ('Pisone,', 'PER'), ('A.', 'PER'), ('Gabinio', 'PER'), ('consulibus.', 'PER'), ('Caesari', 'PER')]), ('cum', 'O'), ('id', 'O'), ('nuntiatum', 'O'), ('esset,', 'O'), ('eos', 'O'), ('per', 'O'), ('provinciam', 'O'), ('nostram', 'O'), ('iter', 'O'), ('facere', 'O'), ('conari,', 'O'), ('maturat', 'O'), ('ab', 'O'), ('urbe', 'O'), ('proficisci', 'O'), ('et', 'O'), ('quam', 'O'), ('maximis', 'O'), ('potest', 'O'), ('itineribus', 'O'), ('in', 'O'), ('Galliam', 'O'), ('ulteriorem', 'O'), ('contendit', 'O'), ('et', 'O'), ('ad', 'O'), ('Genavam', 'O'), ('pervenit.', 'O'), ('Provinciae', 'O'), ('toti', 'O'), ('quam', 'O'), ('maximum', 'O'), ('potest', 'O'), ('militum', 'O'), ('numerum', 'O'), ('imperat', 'O'), ('(erat', 'O'), ('omnino', 'O'), ('in', 'O'), Tree('LOC', [('Gallia', 'LOC')]), ('ulteriore', 'O'), ('legio', 'O'), ('una),', 'O'), ('pontem,', 'O'), ('qui', 'O'), ('erat', 'O'), ('ad', 'O'), ('Genavam,', 'O'), ('iubet', 'O'), ('rescindi.', 'O'), Tree('ORG', [('Ubi', 'ORG')]), ('de', 'O'), ('eius', 'O'), ('aventu', 'O'), ('Helvetii', 'O'), ('certiores', 'O'), ('facti', 'O'), ('sunt,', 'O'), ('legatos', 'O'), ('ad', 'O'), ('eum', 'O'), ('mittunt', 'O'), ('nobilissimos', 'O'), ('civitatis,', 'O'), ('cuius', 'O'), ('legationis', 'O'), ('Nammeius', 'O'), ('et', 'O'), ('Verucloetius', 'O'), ('principem', 'O'), ('locum', 'O'), ('obtinebant,', 'O'), ('qui', 'O'), ('dicerent', 'O'), ('sibi', 'O'), ('esse', 'O'), ('in', 'O'), ('animo', 'O'), ('sine', 'O'), ('ullo', 'O'), ('maleficio', 'O'), ('iter', 'O'), ('per', 'O'), ('provinciam', 'O'), ('facere,', 'O'), ('propterea', 'O'), ('quod', 'O'), ('aliud', 'O'), ('iter', 'O'), ('haberent', 'O'), ('nullum:', 'O'), ('rogare', 'O'), ('ut', 'O'), ('eius', 'O'), ('voluntate', 'O'), ('id', 'O'), ('sibi', 'O'), ('facere', 'O'), ('liceat.', 'O'), ('Caesar,', 'O'), ('quod', 'O'), ('memoria', 'O'), ('tenebat', 'O'), ('L.', 'O'), ('Cassium', 'O'), ('consulem', 'O'), ('occisum', 'O'), ('exercitumque', 'O'), ('eius', 'O'), ('ab', 'O'), ('Helvetiis', 'O'), ('pulsum', 'O'), ('et', 'O'), ('sub', 'O'), ('iugum', 'O'), ('missum,', 'O'), ('concedendum', 'O'), ('non', 'O'), ('putabat;', 'O'), ('neque', 'O'), ('homines', 'O'), ('inimico', 'O'), ('animo,', 'O'), ('data', 'O'), ('facultate', 'O'), ('per', 'O'), ('provinciam', 'O'), ('itineris', 'O'), ('faciundi,', 'O'), ('temperaturos', 'O'), ('ab', 'O'), ('iniuria', 'O'), ('et', 'O'), ('maleficio', 'O'), ('existimabat.', 'O'), ('Tamen,', 'O'), ('ut', 'O'), ('spatium', 'O'), ('intercedere', 'O'), ('posset', 'O'), ('dum', 'O'), ('milites', 'O'), ('quos', 'O'), ('imperaverat', 'O'), ('convenirent,', 'O'), ('legatis', 'O'), ('respondit', 'O'), ('diem', 'O'), ('se', 'O'), ('ad', 'O'), ('deliberandum', 'O'), ('sumpturum:', 'O'), ('si', 'O'), ('quid', 'O'), ('vellent,', 'O'), ('ad', 'O'), ('Id.', 'O'), ('April.', 'O'), ('reverterentur.', 'O'), ('Interea', 'O'), ('ea', 'O'), ('legione', 'O'), ('quam', 'O'), ('secum', 'O'), ('habebat', 'O'), ('militibusque,', 'O'), ('qui', 'O'), ('ex', 'O'), ('provincia', 'O'), ('convenerant,', 'O'), ('a', 'O'), ('lacu', 'O'), ('Lemanno,', 'O'), ('qui', 'O'), ('in', 'O'), ('flumen', 'O'), ('Rhodanum', 'O'), ('influit,', 'O'), ('ad', 'O'), ('montem', 'O'), ('Iuram,', 'O'), ('qui', 'O'), ('fines', 'O'), ('Sequanorum', 'O'), ('ab', 'O'), ('Helvetiis', 'O'), ('dividit,', 'O'), ('milia', 'O'), ('passuum', 'O'), ('XVIIII', 'O'), ('murum', 'O'), ('in', 'O'), ('altitudinem', 'O'), ('pedum', 'O'), ('sedecim', 'O'), ('fossamque', 'O'), ('perducit.', 'O'), ('Eo', 'O'), ('opere', 'O'), ('perfecto', 'O'), ('praesidia', 'O'), ('disponit,', 'O'), ('castella', 'O'), ('communit,', 'O'), ('quo', 'O'), ('facilius,', 'O'), ('si', 'O'), ('se', 'O'), ('invito', 'O'), ('transire', 'O'), ('conentur,', 'O'), ('prohibere', 'O'), ('possit.', 'O'), Tree('ORG', [('Ubi', 'ORG')]), ('ea', 'O'), ('dies', 'O'), ('quam', 'O'), ('constituerat', 'O'), ('cum', 'O'), ('legatis', 'O'), ('venit', 'O'), ('et', 'O'), ('legati', 'O'), ('ad', 'O'), ('eum', 'O'), ('reverterunt,', 'O'), ('negat', 'O'), ('se', 'O'), ('more', 'O'), ('et', 'O'), ('exemplo', 'O'), ('populi', 'O'), ('Romani', 'O'), ('posse', 'O'), ('iter', 'O'), ('ulli', 'O'), ('per', 'O'), ('provinciam', 'O'), ('dare', 'O'), ('et,', 'O'), ('si', 'O'), ('vim', 'O'), ('facere', 'O'), ('conentur,', 'O'), ('prohibiturum', 'O'), ('ostendit.', 'O'), ('Helvetii', 'O'), ('ea', 'O'), ('spe', 'O'), ('deiecti', 'O'), ('navibus', 'O'), ('iunctis', 'O'), ('ratibusque', 'O'), ('compluribus', 'O'), ('factis,', 'O'), ('alii', 'O'), ('vadis', 'O'), ('Rhodani,', 'O'), ('qua', 'O'), ('minima', 'O'), ('altitudo', 'O'), ('fluminis', 'O'), ('erat,', 'O'), ('non', 'O'), ('numquam', 'O'), ('interdiu,', 'O'), ('saepius', 'O'), ('noctu', 'O'), ('si', 'O'), ('perrumpere', 'O'), ('possent', 'O'), ('conati,', 'O'), ('operis', 'O'), ('munitione', 'O'), ('et', 'O'), ('militum', 'O'), ('concursu', 'O'), ('et', 'O'), ('telis', 'O'), ('repulsi,', 'O'), ('hoc', 'O'), ('conatu', 'O'), ('destiterunt.', 'O'), ('Relinquebatur', 'O'), ('una', 'O'), ('per', 'O'), ('Sequanos', 'O'), ('via,', 'O'), ('qua', 'O'), ('Sequanis', 'O'), ('invitis', 'O'), ('propter', 'O'), ('angustias', 'O'), ('ire', 'O'), ('non', 'O'), ('poterant.', 'O'), ('His', 'O'), ('cum', 'O'), ('sua', 'O'), ('sponte', 'O'), ('persuadere', 'O'), ('non', 'O'), ('possent,', 'O'), ('legatos', 'O'), ('ad', 'O'), ('Dumnorigem', 'O'), ('Haeduum', 'O'), ('mittunt,', 'O'), ('ut', 'O'), ('eo', 'O'), ('deprecatore', 'O'), ('a', 'O'), ('Sequanis', 'O'), ('impetrarent.', 'O'), ('Dumnorix', 'O'), ('gratia', 'O'), ('et', 'O'), ('largitione', 'O'), ('apud', 'O'), ('Sequanos', 'O'), ('plurimum', 'O'), ('poterat', 'O'), ('et', 'O'), ('Helvetiis', 'O'), ('erat', 'O'), ('amicus,', 'O'), ('quod', 'O'), ('ex', 'O'), ('ea', 'O'), ('civitate', 'O'), ('Orgetorigis', 'O'), ('filiam', 'O'), ('in', 'O'), ('matrimonium', 'O'), ('duxerat,', 'O'), ('et', 'O'), ('cupiditate', 'O'), ('regni', 'O'), ('adductus', 'O'), ('novis', 'O'), ('rebus', 'O'), ('studebat', 'O'), ('et', 'O'), ('quam', 'O'), ('plurimas', 'O'), ('civitates', 'O'), ('suo', 'O'), ('beneficio', 'O'), ('habere', 'O'), ('obstrictas', 'O'), ('volebat.', 'O'), ('Itaque', 'O'), ('rem', 'O'), ('suscipit', 'O'), ('et', 'O'), ('a', 'O'), Tree('ORG', [('Sequanis', 'ORG')]), ('impetrat', 'O'), ('ut', 'O'), ('per', 'O'), ('fines', 'O'), ('suos', 'O'), ('Helvetios', 'O'), ('ire', 'O'), ('patiantur,', 'O'), ('obsidesque', 'O'), ('uti', 'O'), ('inter', 'O'), ('sese', 'O'), ('dent', 'O'), ('perficit:', 'O'), ('Sequani,', 'O'), ('ne', 'O'), ('itinere', 'O'), ('Helvetios', 'O'), ('prohibeant,', 'O'), ('Helvetii,', 'O'), ('ut', 'O'), ('sine', 'O'), ('maleficio', 'O'), ('et', 'O'), ('iniuria', 'O'), ('transeant.', 'O'), Tree('ORG', [('Caesari', 'ORG'), ('renuntiatur', 'ORG'), ('Helvetiis', 'ORG')]), ('esse', 'O'), ('in', 'O'), ('animo', 'O'), ('per', 'O'), ('agrum', 'O'), Tree('ORG', [('Sequanorum', 'ORG'), ('et', 'ORG'), ('Haeduorum', 'ORG')]), ('iter', 'O'), ('in', 'O'), ('Santonum', 'O'), ('fines', 'O'), ('facere,', 'O'), ('qui', 'O'), ('non', 'O'), ('longe', 'O'), ('a', 'O'), ('Tolosatium', 'O'), ('finibus', 'O'), ('absunt,', 'O'), ('quae', 'O'), ('civitas', 'O'), ('est', 'O'), ('in', 'O'), ('provincia.', 'O'), ('Id', 'O'), ('si', 'O'), ('fieret,', 'O'), ('intellegebat', 'O'), ('magno', 'O'), ('cum', 'O'), ('periculo', 'O'), ('provinciae', 'O'), ('futurum', 'O'), ('ut', 'O'), ('homines', 'O'), ('bellicosos,', 'O'), ('populi', 'O'), ('Romani', 'O'), ('inimicos,', 'O'), ('locis', 'O'), ('patentibus', 'O'), ('maximeque', 'O'), ('frumentariis', 'O'), ('finitimos', 'O'), ('haberet.', 'O'), ('Ob', 'O'), ('eas', 'O'), ('causas', 'O'), ('ei', 'O'), ('munitioni', 'O'), ('quam', 'O'), ('fecerat', 'O'), ('T.', 'O'), ('Labienum', 'O'), ('legatum', 'O'), ('praeficit;', 'O'), ('ipse', 'O'), ('in', 'O'), ('Italiam', 'O'), ('magnis', 'O'), ('itineribus', 'O'), ('contendit', 'O'), ('duasque', 'O'), ('ibi', 'O'), ('legiones', 'O'), ('conscribit', 'O'), ('et', 'O'), ('tres,', 'O'), ('quae', 'O'), ('circum', 'O'), ('Aquileiam', 'O'), ('hiemabant,', 'O'), ('ex', 'O'), ('hibernis', 'O'), ('educit', 'O'), ('et,', 'O'), ('qua', 'O'), ('proximum', 'O'), ('iter', 'O'), ('in', 'O'), ('ulteriorem', 'O'), ('Galliam', 'O'), ('per', 'O'), ('Alpes', 'O'), ('erat,', 'O'), ('cum', 'O'), ('his', 'O'), ('quinque', 'O'), ('legionibus', 'O'), ('ire', 'O'), ('contendit.', 'O'), ('Ibi', 'O'), ('Ceutrones', 'O'), ('et', 'O'), ('Graioceli', 'O'), ('et', 'O'), ('Caturiges', 'O'), ('locis', 'O'), ('superioribus', 'O'), ('occupatis', 'O'), ('itinere', 'O'), ('exercitum', 'O'), ('prohibere', 'O'), ('conantur.', 'O'), ('Compluribus', 'O'), ('his', 'O'), ('proeliis', 'O'), ('pulsis', 'O'), ('ab', 'O'), ('Ocelo,', 'O'), ('quod', 'O'), ('est', 'O'), ('oppidum', 'O'), ('citerioris', 'O'), ('provinciae', 'O'), ('extremum,', 'O'), ('in', 'O'), ('fines', 'O'), ('Vocontiorum', 'O'), ('ulterioris', 'O'), ('provinciae', 'O'), ('die', 'O'), ('septimo', 'O'), ('pervenit;', 'O'), ('inde', 'O'), ('in', 'O'), ('Allobrogum', 'O'), ('fines,', 'O'), ('ab', 'O'), ('Allobrogibus', 'O'), ('in', 'O'), ('Segusiavos', 'O'), ('exercitum', 'O'), ('ducit.', 'O'), ('Hi', 'O'), ('sunt', 'O'), ('extra', 'O'), ('provinciam', 'O'), ('trans', 'O'), ('Rhodanum', 'O'), ('primi.', 'O'), ('Helvetii', 'O'), ('iam', 'O'), ('per', 'O'), ('angustias', 'O'), ('et', 'O'), ('fines', 'O'), ('Sequanorum', 'O'), ('suas', 'O'), ('copias', 'O'), ('traduxerant', 'O'), ('et', 'O'), ('in', 'O'), ('Haeduorum', 'O'), ('fines', 'O'), ('pervenerant', 'O'), ('eorumque', 'O'), ('agros', 'O'), ('populabantur.', 'O'), ('Haedui,', 'O'), ('cum', 'O'), ('se', 'O'), ('suaque', 'O'), ('ab', 'O'), ('iis', 'O'), ('defendere', 'O'), ('non', 'O'), ('possent,', 'O'), ('legatos', 'O'), ('ad', 'O'), ('Caesarem', 'O'), ('mittunt', 'O'), ('rogatum', 'O'), ('auxilium:', 'O'), ('ita', 'O'), ('se', 'O'), ('omni', 'O'), ('tempore', 'O'), ('de', 'O'), ('populo', 'O'), ('Romano', 'O'), ('meritos', 'O'), ('esse', 'O'), ('ut', 'O'), ('paene', 'O'), ('in', 'O'), ('conspectu', 'O'), ('exercitus', 'O'), ('nostri', 'O'), ('agri', 'O'), ('vastari,', 'O'), ('liberi', 'O'), ('[eorum]', 'O'), ('in', 'O'), ('servitutem', 'O'), ('abduci,', 'O'), ('oppida', 'O'), ('expugnari', 'O'), ('non', 'O'), ('debuerint.', 'O'), ('Eodem', 'O'), ('tempore', 'O'), ('quo', 'O'), ('Haedui', 'O'), ('Ambarri,', 'O'), ('necessarii', 'O'), ('et', 'O'), ('consanguinei', 'O'), ('Haeduorum,', 'O'), Tree('ORG', [('Caesarem', 'ORG'), ('certiorem', 'ORG')]), ('faciunt', 'O'), ('sese', 'O'), ('depopulatis', 'O'), ('agris', 'O'), ('non', 'O'), ('facile', 'O'), ('ab', 'O'), ('oppidis', 'O'), ('vim', 'O'), ('hostium', 'O'), ('prohibere.', 'O'), ('Item', 'O'), ('Allobroges,', 'O'), ('qui', 'O'), ('trans', 'O'), ('Rhodanum', 'O'), ('vicos', 'O'), ('possessionesque', 'O'), ('habebant,', 'O'), ('fuga', 'O'), ('se', 'O'), ('ad', 'O'), ('Caesarem', 'O'), ('recipiunt', 'O'), ('et', 'O'), ('demonstrant', 'O'), ('sibi', 'O'), ('praeter', 'O'), ('agri', 'O'), ('solum', 'O'), ('nihil', 'O'), ('esse', 'O'), ('reliqui.', 'O'), ('Quibus', 'O'), ('rebus', 'O'), ('adductus', 'O'), Tree('PER', [('Caesar', 'PER')]), ('non', 'O'), ('expectandum', 'O'), ('sibi', 'O'), ('statuit', 'O'), ('dum,', 'O'), ('omnibus,', 'O'), ('fortunis', 'O'), ('sociorum', 'O'), ('consumptis,', 'O'), ('in', 'O'), ('Santonos', 'O'), ('Helvetii', 'O'), ('pervenirent.', 'O'), ('Flumen', 'O'), ('est', 'O'), ('Arar,', 'O'), ('quod', 'O'), ('per', 'O'), ('fines', 'O'), ('Haeduorum', 'O'), ('et', 'O'), ('Sequanorum', 'O'), ('in', 'O'), ('Rhodanum', 'O'), ('influit,', 'O'), ('incredibili', 'O'), ('lenitate,', 'O'), ('ita', 'O'), ('ut', 'O'), ('oculis', 'O'), ('in', 'O'), ('utram', 'O'), ('partem', 'O'), ('fluat', 'O'), ('iudicari', 'O'), ('non', 'O'), ('possit.', 'O'), ('Id', 'O'), ('Helvetii', 'O'), ('ratibus', 'O'), ('ac', 'O'), ('lintribus', 'O'), ('iunctis', 'O'), ('transibant.', 'O'), Tree('ORG', [('Ubi', 'ORG'), ('per', 'ORG'), ('exploratores', 'ORG'), ('Caesar', 'ORG')]), ('certior', 'O'), ('factus', 'O'), ('est', 'O'), ('tres', 'O'), ('iam', 'O'), ('partes', 'O'), ('copiarum', 'O'), ('Helvetios', 'O'), ('id', 'O'), ('flumen', 'O'), ('traduxisse,', 'O'), ('quartam', 'O'), ('vero', 'O'), ('partem', 'O'), ('citra', 'O'), ('flumen', 'O'), ('Ararim', 'O'), ('reliquam', 'O'), ('esse,', 'O'), ('de', 'O'), ('tertia', 'O'), ('vigilia', 'O'), ('cum', 'O'), ('legionibus', 'O'), ('tribus', 'O'), ('e', 'O'), ('castris', 'O'), ('profectus', 'O'), ('ad', 'O'), ('eam', 'O'), ('partem', 'O'), ('pervenit', 'O'), ('quae', 'O'), ('nondum', 'O'), ('flumen', 'O'), ('transierat.', 'O'), ('Eos', 'O'), ('impeditos', 'O'), ('et', 'O'), ('inopinantes', 'O'), ('adgressus', 'O'), ('magnam', 'O'), ('partem', 'O'), ('eorum', 'O'), ('concidit;', 'O'), ('reliqui', 'O'), ('sese', 'O'), ('fugae', 'O'), ('mandarunt', 'O'), ('atque', 'O'), ('in', 'O'), ('proximas', 'O'), ('silvas', 'O'), ('abdiderunt.', 'O'), ('Is', 'O'), ('pagus', 'O'), ('appellabatur', 'O'), ('Tigurinus;', 'O'), ('nam', 'O'), ('omnis', 'O'), ('civitas', 'O'), ('Helvetia', 'O'), ('in', 'O'), ('quattuor', 'O'), ('pagos', 'O'), ('divisa', 'O'), ('est.', 'O'), ('Hic', 'O'), ('pagus', 'O'), ('unus,', 'O'), ('cum', 'O'), ('domo', 'O'), ('exisset,', 'O'), ('patrum', 'O'), ('nostrorum', 'O'), ('memoria', 'O'), ('L.', 'O'), ('Cassium', 'O'), ('consulem', 'O'), ('interfecerat', 'O'), ('et', 'O'), ('eius', 'O'), ('exercitum', 'O'), ('sub', 'O'), ('iugum', 'O'), ('miserat.', 'O'), ('Ita', 'O'), ('sive', 'O'), ('casu', 'O'), ('sive', 'O'), ('consilio', 'O'), ('deorum', 'O'), ('immortalium', 'O'), ('quae', 'O'), ('pars', 'O'), ('civitatis', 'O'), ('Helvetiae', 'O'), ('insignem', 'O'), ('calamitatem', 'O'), ('populo', 'O'), ('Romano', 'O'), ('intulerat,', 'O'), ('ea', 'O'), ('princeps', 'O'), ('poenam', 'O'), ('persolvit.', 'O'), ('Qua', 'O'), ('in', 'O'), ('re', 'O'), Tree('PER', [('Caesar', 'PER')]), ('non', 'O'), ('solum', 'O'), ('publicas,', 'O'), ('sed', 'O'), ('etiam', 'O'), ('privatas', 'O'), ('iniurias', 'O'), ('ultus', 'O'), ('est,', 'O'), ('quod', 'O'), ('eius', 'O'), ('soceri', 'O'), ('L.', 'O'), ('Pisonis', 'O'), ('avum,', 'O'), ('L.', 'O'), ('Pisonem', 'O'), ('legatum,', 'O'), ('Tigurini', 'O'), ('eodem', 'O'), ('proelio', 'O'), ('quo', 'O'), ('Cassium', 'O'), ('interfecerant.', 'O'), ('Hoc', 'O'), ('proelio', 'O'), ('facto,', 'O'), ('reliquas', 'O'), ('copias', 'O'), ('Helvetiorum', 'O'), ('ut', 'O'), ('consequi', 'O'), ('posset,', 'O'), ('pontem', 'O'), ('in', 'O'), Tree('LOC', [('Arari', 'LOC')]), ('faciendum', 'O'), ('curat', 'O'), ('atque', 'O'), ('ita', 'O'), ('exercitum', 'O'), ('traducit.', 'O'), ('Helvetii', 'O'), ('repentino', 'O'), ('eius', 'O'), ('adventu', 'O'), ('commoti', 'O'), ('cum', 'O'), ('id', 'O'), ('quod', 'O'), ('ipsi', 'O'), ('diebus', 'O'), ('XX', 'O'), ('aegerrime', 'O'), ('confecerant,', 'O'), ('ut', 'O'), ('flumen', 'O'), ('transirent,', 'O'), ('illum', 'O'), ('uno', 'O'), ('die', 'O'), ('fecisse', 'O'), ('intellegerent,', 'O'), ('legatos', 'O'), ('ad', 'O'), ('eum', 'O'), ('mittunt;', 'O'), ('cuius', 'O'), ('legationis', 'O'), Tree('PER', [('Divico', 'PER')]), ('princeps', 'O'), ('fuit,', 'O'), ('qui', 'O'), ('bello', 'O'), Tree('PER', [('Cassiano', 'PER')]), ('dux', 'O'), ('Helvetiorum', 'O'), ('fuerat.', 'O'), ('Is', 'O'), ('ita', 'O'), ('cum', 'O'), ('Caesare', 'O'), ('egit:', 'O'), ('si', 'O'), ('pacem', 'O'), ('populus', 'O'), Tree('PER', [('Romanus', 'PER')]), ('cum', 'O'), ('Helvetiis', 'O'), ('faceret,', 'O'), ('in', 'O'), ('eam', 'O'), ('partem', 'O'), ('ituros', 'O'), ('atque', 'O'), ('ibi', 'O'), ('futuros', 'O'), ('Helvetios', 'O'), ('ubi', 'O'), ('eos', 'O'), ('Caesar', 'O'), ('constituisset', 'O'), ('atque', 'O'), ('esse', 'O'), ('voluisset;', 'O'), ('sin', 'O'), ('bello', 'O'), ('persequi', 'O'), ('perseveraret,', 'O'), ('reminisceretur', 'O'), ('et', 'O'), ('veteris', 'O'), ('incommodi', 'O'), ('populi', 'O'), ('Romani', 'O'), ('et', 'O'), ('pristinae', 'O'), ('virtutis', 'O'), ('Helvetiorum.', 'O'), ('Quod', 'O'), ('improviso', 'O'), ('unum', 'O'), ('pagum', 'O'), ('adortus', 'O'), ('esset,', 'O'), ('cum', 'O'), ('ii', 'O'), ('qui', 'O'), ('flumen', 'O'), ('transissent', 'O'), ('suis', 'O'), ('auxilium', 'O'), ('ferre', 'O'), ('non', 'O'), ('possent,', 'O'), ('ne', 'O'), ('ob', 'O'), ('eam', 'O'), ('rem', 'O'), ('aut', 'O'), ('suae', 'O'), ('magnopere', 'O'), ('virtuti', 'O'), ('tribueret', 'O'), ('aut', 'O'), ('ipsos', 'O'), ('despiceret.', 'O'), ('Se', 'O'), ('ita', 'O'), ('a', 'O'), ('patribus', 'O'), ('maioribusque', 'O'), ('suis', 'O'), ('didicisse,', 'O'), ('ut', 'O'), ('magis', 'O'), ('virtute', 'O'), ('contenderent', 'O'), ('quam', 'O'), ('dolo', 'O'), ('aut', 'O'), ('insidiis', 'O'), ('niterentur.', 'O'), ('Quare', 'O'), ('ne', 'O'), ('committeret', 'O'), ('ut', 'O'), ('is', 'O'), ('locus', 'O'), ('ubi', 'O'), ('constitissent', 'O'), ('ex', 'O'), ('calamitate', 'O'), ('populi', 'O'), ('Romani', 'O'), ('et', 'O'), ('internecione', 'O'), ('exercitus', 'O'), ('nomen', 'O'), ('caperet', 'O'), ('aut', 'O'), ('memoriam', 'O'), ('proderet.', 'O'), Tree('PER', [('His', 'PER'), ('Caesar', 'PER')]), ('ita', 'O'), ('respondit:', 'O'), ('eo', 'O'), ('sibi', 'O'), ('minus', 'O'), ('dubitationis', 'O'), ('dari,', 'O'), ('quod', 'O'), ('eas', 'O'), ('res', 'O'), ('quas', 'O'), ('legati', 'O'), ('Helvetii', 'O'), ('commemorassent', 'O'), ('memoria', 'O'), ('teneret,', 'O'), ('atque', 'O'), ('eo', 'O'), ('gravius', 'O'), ('ferre', 'O'), ('quo', 'O'), ('minus', 'O'), ('merito', 'O'), ('populi', 'O'), ('Romani', 'O'), ('accidissent;', 'O'), ('qui', 'O'), ('si', 'O'), ('alicuius', 'O'), ('iniuriae', 'O'), ('sibi', 'O'), ('conscius', 'O'), ('fuisset,', 'O'), ('non', 'O'), ('fuisse', 'O'), ('difficile', 'O'), ('cavere;', 'O'), ('sed', 'O'), ('eo', 'O'), ('deceptum,', 'O'), ('quod', 'O'), ('neque', 'O'), ('commissum', 'O'), ('a', 'O'), ('se', 'O'), ('intellegeret', 'O'), ('quare', 'O'), ('timeret', 'O'), ('neque', 'O'), ('sine', 'O'), ('causa', 'O'), ('timendum', 'O'), ('putaret.', 'O'), ('Quod', 'O'), ('si', 'O'), ('veteris', 'O'), ('contumeliae', 'O'), ('oblivisci', 'O'), ('vellet,', 'O'), ('num', 'O'), ('etiam', 'O'), ('recentium', 'O'), ('iniuriarum,', 'O'), ('quod', 'O'), ('eo', 'O'), ('invito', 'O'), ('iter', 'O'), ('per', 'O'), ('provinciam', 'O'), ('per', 'O'), ('vim', 'O'), ('temptassent,', 'O'), ('quod', 'O'), ('Haeduos,', 'O'), ('quod', 'O'), ('Ambarros,', 'O'), ('quod', 'O'), ('Allobrogas', 'O'), ('vexassent,', 'O'), ('memoriam', 'O'), ('deponere', 'O'), ('posse?', 'O'), ('Quod', 'O'), ('sua', 'O'), ('victoria', 'O'), ('tam', 'O'), ('insolenter', 'O'), ('gloriarentur', 'O'), ('quodque', 'O'), ('tam', 'O'), ('diu', 'O'), ('se', 'O'), ('impune', 'O'), ('iniurias', 'O'), ('tulisse', 'O'), ('admirarentur,', 'O'), ('eodem', 'O'), ('pertinere.', 'O'), ('Consuesse', 'O'), ('enim', 'O'), ('deos', 'O'), ('immortales,', 'O'), ('quo', 'O'), ('gravius', 'O'), ('homines', 'O'), ('ex', 'O'), ('commutatione', 'O'), ('rerum', 'O'), ('doleant,', 'O'), ('quos', 'O'), ('pro', 'O'), ('scelere', 'O'), ('eorum', 'O'), ('ulcisci', 'O'), ('velint,', 'O'), ('his', 'O'), ('secundiores', 'O'), ('interdum', 'O'), ('res', 'O'), ('et', 'O'), ('diuturniorem', 'O'), ('impunitatem', 'O'), ('concedere.', 'O'), ('Cum', 'O'), ('ea', 'O'), ('ita', 'O'), ('sint,', 'O'), ('tamen,', 'O'), ('si', 'O'), ('obsides', 'O'), ('ab', 'O'), ('iis', 'O'), ('sibi', 'O'), ('dentur,', 'O'), ('uti', 'O'), ('ea', 'O'), ('quae', 'O'), ('polliceantur', 'O'), ('facturos', 'O'), ('intellegat,', 'O'), ('et', 'O'), ('si', 'O'), ('Haeduis', 'O'), ('de', 'O'), ('iniuriis', 'O'), ('quas', 'O'), ('ipsis', 'O'), ('sociisque', 'O'), ('eorum', 'O'), ('intulerint,', 'O'), ('item', 'O'), ('si', 'O'), ('Allobrogibus', 'O'), ('satis', 'O'), ('faciunt,', 'O'), ('sese', 'O'), ('cum', 'O'), ('iis', 'O'), ('pacem', 'O'), ('esse', 'O'), ('facturum.', 'O'), Tree('PER', [('Divico', 'PER')]), ('respondit:', 'O'), ('ita', 'O'), ('Helvetios', 'O'), ('a', 'O'), ('maioribus', 'O'), ('suis', 'O'), ('institutos', 'O'), ('esse', 'O'), ('uti', 'O'), ('obsides', 'O'), ('accipere,', 'O'), ('non', 'O'), ('dare,', 'O'), ('consuerint;', 'O'), ('eius', 'O'), ('rei', 'O'), ('populum', 'O'), ('Romanum', 'O'), ('esse', 'O'), ('testem.', 'O'), ('Hoc', 'O'), ('responso', 'O'), ('dato', 'O'), ('discessit.', 'O'), Tree('PER', [('Postero', 'PER')]), ('die', 'O'), ('castra', 'O'), ('ex', 'O'), ('eo', 'O'), ('loco', 'O'), ('movent.', 'O'), ('Idem', 'O'), ('facit', 'O'), ('Caesar', 'O'), ('equitatumque', 'O'), ('omnem,', 'O'), ('ad', 'O'), ('numerum', 'O'), ('quattuor', 'O'), ('milium,', 'O'), ('quem', 'O'), ('ex', 'O'), ('omni', 'O'), ('provincia', 'O'), ('et', 'O'), ('Haeduis', 'O'), ('atque', 'O'), ('eorum', 'O'), ('sociis', 'O'), ('coactum', 'O'), ('habebat,', 'O'), ('praemittit,', 'O'), ('qui', 'O'), ('videant', 'O'), ('quas', 'O'), ('in', 'O'), ('partes', 'O'), ('hostes', 'O'), ('iter', 'O'), ('faciant.', 'O'), ('Qui', 'O'), ('cupidius', 'O'), ('novissimum', 'O'), ('agmen', 'O'), ('insecuti', 'O'), ('alieno', 'O'), ('loco', 'O'), ('cum', 'O'), ('equitatu', 'O'), ('Helvetiorum', 'O'), ('proelium', 'O'), ('committunt;', 'O'), ('et', 'O'), ('pauci', 'O'), ('de', 'O'), ('nostris', 'O'), ('cadunt.', 'O'), ('Quo', 'O'), ('proelio', 'O'), ('sublati', 'O'), ('Helvetii,', 'O'), ('quod', 'O'), ('quingentis', 'O'), ('equitibus', 'O'), ('tantam', 'O'), ('multitudinem', 'O'), ('equitum', 'O'), ('propulerant,', 'O'), ('audacius', 'O'), ('subsistere', 'O'), ('non', 'O'), ('numquam', 'O'), ('et', 'O'), ('novissimo', 'O'), ('agmine', 'O'), ('proelio', 'O'), ('nostros', 'O'), ('lacessere', 'O'), ('coeperunt.', 'O'), Tree('PER', [('Caesar', 'PER')]), ('suos', 'O'), ('a', 'O'), ('proelio', 'O'), ('continebat,', 'O'), ('ac', 'O'), ('satis', 'O'), ('habebat', 'O'), ('in', 'O'), ('praesentia', 'O'), ('hostem', 'O'), ('rapinis,', 'O'), ('pabulationibus', 'O'), ('populationibusque', 'O'), ('prohibere.', 'O'), ('Ita', 'O'), ('dies', 'O'), ('circiter', 'O'), ('XV', 'O'), ('iter', 'O'), ('fecerunt', 'O'), ('uti', 'O'), ('inter', 'O'), ('novissimum', 'O'), ('hostium', 'O'), ('agmen', 'O'), ('et', 'O'), ('nostrum', 'O'), ('primum', 'O'), ('non', 'O'), ('amplius', 'O'), ('quinis', 'O'), ('aut', 'O'), ('senis', 'O'), ('milibus', 'O'), ('passuum', 'O'), ('interesset.', 'O'), ('Interim', 'O'), ('cotidie', 'O'), ('Caesar', 'O'), ('Haeduos', 'O'), ('frumentum,', 'O'), ('quod', 'O'), ('essent', 'O'), ('publice', 'O'), ('polliciti,', 'O'), ('flagitare.', 'O'), ('Nam', 'O'), ('propter', 'O'), ('frigora', 'O'), ('[quod', 'O'), Tree('LOC', [('Gallia', 'LOC')]), ('sub', 'O'), ('septentrionibus,', 'O'), ('ut', 'O'), ('ante', 'O'), ('dictum', 'O'), ('est,', 'O'), ('posita', 'O'), ('est,]', 'O'), ('non', 'O'), ('modo', 'O'), ('frumenta', 'O'), ('in', 'O'), ('agris', 'O'), ('matura', 'O'), ('non', 'O'), ('erant,', 'O'), ('sed', 'O'), ('ne', 'O'), ('pabuli', 'O'), ('quidem', 'O'), ('satis', 'O'), ('magna', 'O'), ('copia', 'O'), ('suppetebat;', 'O'), ('eo', 'O'), ('autem', 'O'), ('frumento', 'O'), ('quod', 'O'), ('flumine', 'O'), ('Arari', 'O'), ('navibus', 'O'), ('subvexerat', 'O'), ('propterea', 'O'), ('uti', 'O'), ('minus', 'O'), ('poterat', 'O'), ('quod', 'O'), ('iter', 'O'), ('ab', 'O'), ('Arari', 'O'), ('Helvetii', 'O'), ('averterant,', 'O'), ('a', 'O'), ('quibus', 'O'), ('discedere', 'O'), ('nolebat.', 'O'), Tree('PER', [('Diem', 'PER')]), ('ex', 'O'), ('die', 'O'), ('ducere', 'O'), ('Haedui:', 'O'), ('conferri,', 'O'), ('comportari,', 'O'), ('adesse', 'O'), ('dicere.', 'O'), Tree('ORG', [('Ubi', 'ORG')]), ('se', 'O'), ('diutius', 'O'), ('duci', 'O'), ('intellexit', 'O'), ('et', 'O'), ('diem', 'O'), ('instare', 'O'), ('quo', 'O'), ('die', 'O'), ('frumentum', 'O'), ('militibus', 'O'), ('metiri', 'O'), ('oporteret,', 'O'), ('convocatis', 'O'), ('eorum', 'O'), ('principibus,', 'O'), ('quorum', 'O'), ('magnam', 'O'), ('copiam', 'O'), ('in', 'O'), ('castris', 'O'), ('habebat,', 'O'), ('in', 'O'), ('his', 'O'), Tree('PER', [('Diviciaco', 'PER')]), ('et', 'O'), ('Lisco,', 'O'), ('qui', 'O'), ('summo', 'O'), ('magistratui', 'O'), ('praeerat,', 'O'), ('quem', 'O'), ('vergobretum', 'O'), ('appellant', 'O'), ('Haedui,', 'O'), ('qui', 'O'), ('creatur', 'O'), ('annuus', 'O'), ('et', 'O'), ('vitae', 'O'), ('necisque', 'O'), ('in', 'O'), ('suos', 'O'), ('habet', 'O'), ('potestatem,', 'O'), ('graviter', 'O'), ('eos', 'O'), ('accusat,', 'O'), ('quod,', 'O'), ('cum', 'O'), ('neque', 'O'), ('emi', 'O'), ('neque', 'O'), ('ex', 'O'), ('agris', 'O'), ('sumi', 'O'), ('possit,', 'O'), ('tam', 'O'), ('necessario', 'O'), ('tempore,', 'O'), ('tam', 'O'), ('propinquis', 'O'), ('hostibus', 'O'), ('ab', 'O'), ('iis', 'O'), ('non', 'O'), ('sublevetur,', 'O'), ('praesertim', 'O'), ('cum', 'O'), ('magna', 'O'), ('ex', 'O'), ('parte', 'O'), ('eorum', 'O'), ('precibus', 'O'), ('adductus', 'O'), ('bellum', 'O'), ('susceperit[;', 'O'), ('multo', 'O'), ('etiam', 'O'), ('gravius', 'O'), ('quod', 'O'), ('sit', 'O'), ('destitutus', 'O'), ('queritur].', 'O'), ('Tum', 'O'), ('demum', 'O'), ('Liscus', 'O'), ('oratione', 'O'), Tree('PER', [('Caesaris', 'PER')]), ('adductus', 'O'), ('quod', 'O'), ('antea', 'O'), ('tacuerat', 'O'), ('proponit:', 'O'), ('esse', 'O'), ('non', 'O'), ('nullos,', 'O'), ('quorum', 'O'), ('auctoritas', 'O'), ('apud', 'O'), ('plebem', 'O'), ('plurimum', 'O'), ('valeat,', 'O'), ('qui', 'O'), ('privatim', 'O'), ('plus', 'O'), ('possint', 'O'), ('quam', 'O'), ('ipsi', 'O'), ('magistratus.', 'O'), ('Hos', 'O'), ('seditiosa', 'O'), ('atque', 'O'), ('improba', 'O'), ('oratione', 'O'), ('multitudinem', 'O'), ('deterrere,', 'O'), ('ne', 'O'), ('frumentum', 'O'), ('conferant', 'O'), ('quod', 'O'), ('debeant:', 'O'), ('praestare,', 'O'), ('si', 'O'), ('iam', 'O'), ('principatum', 'O'), ('Galliae', 'O'), ('obtinere', 'O'), ('non', 'O'), ('possint,', 'O'), ('Gallorum', 'O'), ('quam', 'O'), ('Romanorum', 'O'), ('imperia', 'O'), ('perferre,', 'O'), ('neque', 'O'), ('dubitare', 'O'), ('[debeant]', 'O'), ('quin,', 'O'), ('si', 'O'), ('Helvetios', 'O'), ('superaverint', 'O'), ('Romani,', 'O'), ('una', 'O'), ('cum', 'O'), ('reliqua', 'O'), ('Gallia', 'O'), ('Haeduis', 'O'), ('libertatem', 'O'), ('sint', 'O'), ('erepturi.', 'O'), ('Ab', 'O'), ('isdem', 'O'), ('nostra', 'O'), ('consilia', 'O'), ('quaeque', 'O'), ('in', 'O'), ('castris', 'O'), ('gerantur', 'O'), ('hostibus', 'O'), ('enuntiari;', 'O'), ('hos', 'O'), ('a', 'O'), ('se', 'O'), ('coerceri', 'O'), ('non', 'O'), ('posse.', 'O'), ('Quin', 'O'), ('etiam,', 'O'), ('quod', 'O'), ('necessariam', 'O'), ('rem', 'O'), ('coactus', 'O'), ('Caesari', 'O'), ('enuntiarit,', 'O'), ('intellegere', 'O'), ('sese', 'O'), ('quanto', 'O'), ('id', 'O'), ('cum', 'O'), ('periculo', 'O'), ('fecerit,', 'O'), ('et', 'O'), ('ob', 'O'), ('eam', 'O'), ('causam', 'O'), ('quam', 'O'), ('diu', 'O'), ('potuerit', 'O'), ('tacuisse.', 'O'), Tree('PER', [('Caesar', 'PER')]), ('hac', 'O'), ('oratione', 'O'), ('Lisci', 'O'), ('Dumnorigem,', 'O'), ('Diviciaci', 'O'), ('fratrem,', 'O'), ('designari', 'O'), ('sentiebat,', 'O'), ('sed,', 'O'), ('quod', 'O'), ('pluribus', 'O'), ('praesentibus', 'O'), ('eas', 'O'), ('res', 'O'), ('iactari', 'O'), ('nolebat,', 'O'), ('celeriter', 'O'), ('concilium', 'O'), ('dimittit,', 'O'), ('Liscum', 'O'), ('retinet.', 'O'), ('Quaerit', 'O'), ('ex', 'O'), ('solo', 'O'), ('ea', 'O'), ('quae', 'O'), ('in', 'O'), ('conventu', 'O'), ('dixerat.', 'O'), ('Dicit', 'O'), ('liberius', 'O'), ('atque', 'O'), ('audacius.', 'O'), ('Eadem', 'O'), ('secreto', 'O'), ('ab', 'O'), ('aliis', 'O'), ('quaerit;', 'O'), ('reperit', 'O'), ('esse', 'O'), ('vera:', 'O'), ('ipsum', 'O'), ('esse', 'O'), ('Dumnorigem,', 'O'), ('summa', 'O'), ('audacia,', 'O'), ('magna', 'O'), ('apud', 'O'), ('plebem', 'O'), ('propter', 'O'), ('liberalitatem', 'O'), ('gratia,', 'O'), ('cupidum', 'O'), ('rerum', 'O'), ('novarum.', 'O'), ('Complures', 'O'), ('annos', 'O'), ('portoria', 'O'), ('reliquaque', 'O'), ('omnia', 'O'), ('Haeduorum', 'O'), ('vectigalia', 'O'), ('parvo', 'O'), ('pretio', 'O'), ('redempta', 'O'), ('habere,', 'O'), ('propterea', 'O'), ('quod', 'O'), ('illo', 'O'), ('licente', 'O'), ('contra', 'O'), ('liceri', 'O'), ('audeat', 'O'), ('nemo.', 'O'), ('His', 'O'), ('rebus', 'O'), ('et', 'O'), ('suam', 'O'), ('rem', 'O'), ('familiarem', 'O'), ('auxisse', 'O'), ('et', 'O'), ('facultates', 'O'), ('ad', 'O'), ('largiendum', 'O'), ('magnas', 'O'), ('comparasse;', 'O'), ('magnum', 'O'), ('numerum', 'O'), ('equitatus', 'O'), ('suo', 'O'), ('sumptu', 'O'), ('semper', 'O'), ('alere', 'O'), ('et', 'O'), ('circum', 'O'), ('se', 'O'), ('habere,', 'O'), ('neque', 'O'), ('solum', 'O'), ('domi,', 'O'), ('sed', 'O'), ('etiam', 'O'), ('apud', 'O'), ('finitimas', 'O'), ('civitates', 'O'), ('largiter', 'O'), ('posse,', 'O'), ('atque', 'O'), ('huius', 'O'), ('potentiae', 'O'), ('causa', 'O'), ('matrem', 'O'), ('in', 'O'), ('Biturigibus', 'O'), ('homini', 'O'), ('illic', 'O'), ('nobilissimo', 'O'), ('ac', 'O'), ('potentissimo', 'O'), ('conlocasse;', 'O'), ('ipsum', 'O'), ('ex', 'O'), ('Helvetiis', 'O'), ('uxorem', 'O'), ('habere,', 'O'), ('sororum', 'O'), ('ex', 'O'), ('matre', 'O'), ('et', 'O'), ('propinquas', 'O'), ('suas', 'O'), ('nuptum', 'O'), ('in', 'O'), ('alias', 'O'), ('civitates', 'O'), ('conlocasse.', 'O'), ('Favere', 'O'), ('et', 'O'), ('cupere', 'O'), ('Helvetiis', 'O'), ('propter', 'O'), ('eam', 'O'), ('adfinitatem,', 'O'), ('odisse', 'O'), ('etiam', 'O'), ('suo', 'O'), ('nomine', 'O'), Tree('PER', [('Caesarem', 'PER')]), ('et', 'O'), ('Romanos,', 'O'), ('quod', 'O'), ('eorum', 'O'), ('adventu', 'O'), ('potentia', 'O'), ('eius', 'O'), ('deminuta', 'O'), ('et', 'O'), ('Diviciacus', 'O'), ('frater', 'O'), ('in', 'O'), ('antiquum', 'O'), ('locum', 'O'), ('gratiae', 'O'), ('atque', 'O'), ('honoris', 'O'), ('sit', 'O'), ('restitutus.', 'O'), ('Si', 'O'), ('quid', 'O'), ('accidat', 'O'), ('Romanis,', 'O'), ('summam', 'O'), ('in', 'O'), ('spem', 'O'), ('per', 'O'), ('Helvetios', 'O'), ('regni', 'O'), ('obtinendi', 'O'), ('venire;', 'O'), ('imperio', 'O'), ('populi', 'O'), ('Romani', 'O'), ('non', 'O'), ('modo', 'O'), ('de', 'O'), ('regno,', 'O'), ('sed', 'O'), ('etiam', 'O'), ('de', 'O'), ('ea', 'O'), ('quam', 'O'), ('habeat', 'O'), ('gratia', 'O'), ('desperare.', 'O'), ('Reperiebat', 'O'), ('etiam', 'O'), ('in', 'O'), ('quaerendo', 'O'), ('Caesar,', 'O'), ('quod', 'O'), ('proelium', 'O'), ('equestre', 'O'), ('adversum', 'O'), ('paucis', 'O'), ('ante', 'O'), ('diebus', 'O'), ('esset', 'O'), ('factum,', 'O'), ('initium', 'O'), ('eius', 'O'), ('fugae', 'O'), ('factum', 'O'), ('a', 'O'), ('Dumnorige', 'O'), ('atque', 'O'), ('eius', 'O'), ('equitibus', 'O'), ('(nam', 'O'), ('equitatui,', 'O'), ('quem', 'O'), ('auxilio', 'O'), ('Caesari', 'O'), ('Haedui', 'O'), ('miserant,', 'O'), ('Dumnorix', 'O'), ('praeerat):', 'O'), ('eorum', 'O'), ('fuga', 'O'), ('reliquum', 'O'), ('esse', 'O'), ('equitatum', 'O'), ('perterritum.', 'O'), ('Quibus', 'O'), ('rebus', 'O'), ('cognitis,', 'O'), ('cum', 'O'), ('ad', 'O'), ('has', 'O'), ('suspiciones', 'O'), ('certissimae', 'O'), ('res', 'O'), ('accederent,', 'O'), ('quod', 'O'), ('per', 'O'), ('fines', 'O'), ('Sequanorum', 'O'), ('Helvetios', 'O'), ('traduxisset,', 'O'), ('quod', 'O'), ('obsides', 'O'), ('inter', 'O'), ('eos', 'O'), ('dandos', 'O'), ('curasset,', 'O'), ('quod', 'O'), ('ea', 'O'), ('omnia', 'O'), ('non', 'O'), ('modo', 'O'), ('iniussu', 'O'), ('suo', 'O'), ('et', 'O'), ('civitatis', 'O'), ('sed', 'O'), ('etiam', 'O'), ('inscientibus', 'O'), ('ipsis', 'O'), ('fecisset,', 'O'), ('quod', 'O'), ('a', 'O'), ('magistratu', 'O'), ('Haeduorum', 'O'), ('accusaretur,', 'O'), ('satis', 'O'), ('esse', 'O'), ('causae', 'O'), ('arbitrabatur', 'O'), ('quare', 'O'), ('in', 'O'), ('eum', 'O'), ('aut', 'O'), ('ipse', 'O'), ('animadverteret', 'O'), ('aut', 'O'), ('civitatem', 'O'), ('animadvertere', 'O'), ('iuberet.', 'O'), ('His', 'O'), ('omnibus', 'O'), ('rebus', 'O'), ('unum', 'O'), ('repugnabat,', 'O'), ('quod', 'O'), ('Diviciaci', 'O'), ('fratris', 'O'), ('summum', 'O'), ('in', 'O'), ('populum', 'O'), ('Romanum', 'O'), ('studium,', 'O'), ('summum', 'O'), ('in', 'O'), ('se', 'O'), ('voluntatem,', 'O'), ('egregiam', 'O'), ('fidem,', 'O'), ('iustitiam,', 'O'), ('temperantiam', 'O'), ('cognoverat;', 'O'), ('nam', 'O'), ('ne', 'O'), ('eius', 'O'), ('supplicio', 'O'), ('Diviciaci', 'O'), ('animum', 'O'), ('offenderet', 'O'), ('verebatur.', 'O'), ('Itaque', 'O'), ('prius', 'O'), ('quam', 'O'), ('quicquam', 'O'), ('conaretur,', 'O'), Tree('PER', [('Diviciacum', 'PER')]), ('ad', 'O'), ('se', 'O'), ('vocari', 'O'), ('iubet', 'O'), ('et,', 'O'), ('cotidianis', 'O'), ('interpretibus', 'O'), ('remotis,', 'O'), ('per', 'O'), ('C.', 'O'), ('Valerium', 'O'), ('Troucillum,', 'O'), ('principem', 'O'), ('Galliae', 'O'), ('provinciae,', 'O'), ('familiarem', 'O'), ('suum,', 'O'), ('cui', 'O'), ('summam', 'O'), ('omnium', 'O'), ('rerum', 'O'), ('fidem', 'O'), ('habebat,', 'O'), ('cum', 'O'), ('eo', 'O'), ('conloquitur;', 'O'), ('simul', 'O'), ('commonefacit', 'O'), ('quae', 'O'), ('ipso', 'O'), ('praesente', 'O'), ('in', 'O'), ('concilio', 'O'), ('[Gallorum]', 'O'), ('de', 'O'), ('Dumnorige', 'O'), ('sint', 'O'), ('dicta,', 'O'), ('et', 'O'), ('ostendit', 'O'), ('quae', 'O'), ('separatim', 'O'), ('quisque', 'O'), ('de', 'O'), ('eo', 'O'), ('apud', 'O'), ('se', 'O'), ('dixerit.', 'O'), Tree('PER', [('Petit', 'PER')]), ('atque', 'O'), ('hortatur', 'O'), ('ut', 'O'), ('sine', 'O'), ('eius', 'O'), ('offensione', 'O'), ('animi', 'O'), ('vel', 'O'), ('ipse', 'O'), ('de', 'O'), ('eo', 'O'), ('causa', 'O'), ('cognita', 'O'), ('statuat', 'O'), ('vel', 'O'), ('civitatem', 'O'), ('statuere', 'O'), ('iubeat.', 'O'), Tree('PER', [('Diviciacus', 'PER')]), ('multis', 'O'), ('cum', 'O'), ('lacrimis', 'O'), ('Caesarem', 'O'), ('complexus', 'O'), ('obsecrare', 'O'), ('coepit', 'O'), ('ne', 'O'), ('quid', 'O'), ('gravius', 'O'), ('in', 'O'), ('fratrem', 'O'), ('statueret:', 'O'), ('scire', 'O'), ('se', 'O'), ('illa', 'O'), ('esse', 'O'), ('vera,', 'O'), ('nec', 'O'), ('quemquam', 'O'), ('ex', 'O'), ('eo', 'O'), ('plus', 'O'), ('quam', 'O'), ('se', 'O'), ('doloris', 'O'), ('capere,', 'O'), ('propterea', 'O'), ('quod,', 'O'), ('cum', 'O'), ('ipse', 'O'), ('gratia', 'O'), ('plurimum', 'O'), ('domi', 'O'), ('atque', 'O'), ('in', 'O'), ('reliqua', 'O'), ('Gallia,', 'O'), ('ille', 'O'), ('minimum', 'O'), ('propter', 'O'), ('adulescentiam', 'O'), ('posset,', 'O'), ('per', 'O'), ('se', 'O'), ('crevisset;', 'O'), ('quibus', 'O'), ('opibus', 'O'), ('ac', 'O'), ('nervis', 'O'), ('non', 'O'), ('solum', 'O'), ('ad', 'O'), ('minuendam', 'O'), ('gratiam,', 'O'), ('sed', 'O'), ('paene', 'O'), ('ad', 'O'), ('perniciem', 'O'), ('suam', 'O'), ('uteretur.', 'O'), ('Sese', 'O'), ('tamen', 'O'), ('et', 'O'), ('amore', 'O'), ('fraterno', 'O'), ('et', 'O'), ('existimatione', 'O'), ('vulgi', 'O'), ('commoveri.', 'O'), ('Quod', 'O'), ('si', 'O'), ('quid', 'O'), ('ei', 'O'), ('a', 'O'), ('Caesare', 'O'), ('gravius', 'O'), ('accidisset,', 'O'), ('cum', 'O'), ('ipse', 'O'), ('eum', 'O'), ('locum', 'O'), ('amicitiae', 'O'), ('apud', 'O'), ('eum', 'O'), ('teneret,', 'O'), ('neminem', 'O'), ('existimaturum', 'O'), ('non', 'O'), ('sua', 'O'), ('voluntate', 'O'), ('factum;', 'O'), ('qua', 'O'), ('ex', 'O'), ('re', 'O'), ('futurum', 'O'), ('uti', 'O'), ('totius', 'O'), ('Galliae', 'O'), ('animi', 'O'), ('a', 'O'), ('se', 'O'), ('averterentur.', 'O'), ('Haec', 'O'), ('cum', 'O'), ('pluribus', 'O'), ('verbis', 'O'), ('flens', 'O'), ('a', 'O'), ('Caesare', 'O'), ('peteret,', 'O'), ('Caesar', 'O'), ('eius', 'O'), ('dextram', 'O'), ('prendit;', 'O'), ('consolatus', 'O'), ('rogat', 'O'), ('finem', 'O'), ('orandi', 'O'), ('faciat;', 'O'), ('tanti', 'O'), ('eius', 'O'), ('apud', 'O'), ('se', 'O'), ('gratiam', 'O'), ('esse', 'O'), ('ostendit', 'O'), ('uti', 'O'), ('et', 'O'), ('rei', 'O'), ('publicae', 'O'), ('iniuriam', 'O'), ('et', 'O'), ('suum', 'O'), ('dolorem', 'O'), ('eius', 'O'), ('voluntati', 'O'), ('ac', 'O'), ('precibus', 'O'), ('condonet.', 'O'), Tree('PER', [('Dumnorigem', 'PER')]), ('ad', 'O'), ('se', 'O'), ('vocat,', 'O'), ('fratrem', 'O'), ('adhibet;', 'O'), ('quae', 'O'), ('in', 'O'), ('eo', 'O'), ('reprehendat', 'O'), ('ostendit;', 'O'), ('quae', 'O'), ('ipse', 'O'), ('intellegat,', 'O'), ('quae', 'O'), ('civitas', 'O'), ('queratur', 'O'), ('proponit;', 'O'), ('monet', 'O'), ('ut', 'O'), ('in', 'O'), ('reliquum', 'O'), ('tempus', 'O'), ('omnes', 'O'), ('suspiciones', 'O'), ('vitet;', 'O'), ('praeterita', 'O'), ('se', 'O'), Tree('PER', [('Diviciaco', 'PER')]), ('fratri', 'O'), ('condonare', 'O'), ('dicit.', 'O'), ('Dumnorigi', 'O'), ('custodes', 'O'), ('ponit,', 'O'), ('ut', 'O'), ('quae', 'O'), ('agat,', 'O'), ('quibuscum', 'O'), ('loquatur', 'O'), ('scire', 'O'), ('possit.', 'O'), ('Eodem', 'O'), ('die', 'O'), ('ab', 'O'), ('exploratoribus', 'O'), ('certior', 'O'), ('factus', 'O'), ('hostes', 'O'), ('sub', 'O'), ('monte', 'O'), ('consedisse', 'O'), ('milia', 'O'), ('passuum', 'O'), ('ab', 'O'), ('ipsius', 'O'), ('castris', 'O'), ('octo,', 'O'), ('qualis', 'O'), ('esset', 'O'), ('natura', 'O'), ('montis', 'O'), ('et', 'O'), ('qualis', 'O'), ('in', 'O'), ('circuitu', 'O'), ('ascensus', 'O'), ('qui', 'O'), ('cognoscerent', 'O'), ('misit.', 'O'), ('Renuntiatum', 'O'), ('est', 'O'), ('facilem', 'O'), Tree('PER', [('esse.', 'PER'), ('De', 'PER')]), ('tertia', 'O'), ('vigilia', 'O'), ('T.', 'O'), ('Labienum,', 'O'), ('legatum', 'O'), ('pro', 'O'), ('praetore,', 'O'), ('cum', 'O'), ('duabus', 'O'), ('legionibus', 'O'), ('et', 'O'), ('iis', 'O'), ('ducibus', 'O'), ('qui', 'O'), ('iter', 'O'), ('cognoverant', 'O'), ('summum', 'O'), ('iugum', 'O'), ('montis', 'O'), ('ascendere', 'O'), ('iubet;', 'O'), ('quid', 'O'), ('sui', 'O'), ('consilii', 'O'), ('sit', 'O'), ('ostendit.', 'O'), Tree('ORG', [('Ipse', 'ORG')]), ('de', 'O'), ('quarta', 'O'), ('vigilia', 'O'), ('eodem', 'O'), ('itinere', 'O'), ('quo', 'O'), ('hostes', 'O'), ('ierant', 'O'), ('ad', 'O'), ('eos', 'O'), ('contendit', 'O'), ('equitatumque', 'O'), ('omnem', 'O'), ('ante', 'O'), ('se', 'O'), ('mittit.', 'O'), ('P.', 'O'), ('Considius,', 'O'), ('qui', 'O'), ('rei', 'O'), ('militaris', 'O'), ('peritissimus', 'O'), ('habebatur', 'O'), ('et', 'O'), ('in', 'O'), Tree('LOC', [('exercitu', 'LOC'), ('L.', 'LOC'), ('Sullae', 'LOC')]), ('et', 'O'), ('postea', 'O'), ('in', 'O'), ('M.', 'O'), ('Crassi', 'O'), ('fuerat,', 'O'), ('cum', 'O'), ('exploratoribus', 'O'), ('praemittitur.', 'O'), ('Prima', 'O'), ('luce,', 'O'), ('cum', 'O'), ('summus', 'O'), ('mons', 'O'), ('a', 'O'), ('[Lucio]', 'O'), Tree('PER', [('Labieno', 'PER')]), ('teneretur,', 'O'), ('ipse', 'O'), ('ab', 'O'), ('hostium', 'O'), ('castris', 'O'), ('non', 'O'), ('longius', 'O'), ('mille', 'O'), ('et', 'O'), ('quingentis', 'O'), ('passibus', 'O'), ('abesset', 'O'), ('neque,', 'O'), ('ut', 'O'), ('postea', 'O'), ('ex', 'O'), ('captivis', 'O'), ('comperit,', 'O'), ('aut', 'O'), ('ipsius', 'O'), ('adventus', 'O'), ('aut', 'O'), ('Labieni', 'O'), ('cognitus', 'O'), ('esset,', 'O'), ('Considius', 'O'), ('equo', 'O'), ('admisso', 'O'), ('ad', 'O'), ('eum', 'O'), ('accurrit,', 'O'), ('dicit', 'O'), ('montem,', 'O'), ('quem', 'O'), ('a', 'O'), Tree('PER', [('Labieno', 'PER')]), ('occupari', 'O'), ('voluerit,', 'O'), ('ab', 'O'), ('hostibus', 'O'), ('teneri:', 'O'), ('id', 'O'), ('se', 'O'), ('a', 'O'), ('Gallicis', 'O'), ('armis', 'O'), ('atque', 'O'), ('insignibus', 'O'), ('cognovisse.', 'O'), Tree('PER', [('Caesar', 'PER')]), ('suas', 'O'), ('copias', 'O'), ('in', 'O'), ('proximum', 'O'), ('collem', 'O'), ('subducit,', 'O'), ('aciem', 'O'), ('instruit.', 'O'), ('Labienus,', 'O'), ('ut', 'O'), ('erat', 'O'), ('ei', 'O'), ('praeceptum', 'O'), ('a', 'O'), Tree('PER', [('Caesare', 'PER')]), ('ne', 'O'), ('proelium', 'O'), ('committeret,', 'O'), ('nisi', 'O'), ('ipsius', 'O'), ('copiae', 'O'), ('prope', 'O'), ('hostium', 'O'), ('castra', 'O'), ('visae', 'O'), ('essent,', 'O'), ('ut', 'O'), ('undique', 'O'), ('uno', 'O'), ('tempore', 'O'), ('in', 'O'), ('hostes', 'O'), ('impetus', 'O'), ('fieret,', 'O'), ('monte', 'O'), ('occupato', 'O'), ('nostros', 'O'), ('expectabat', 'O'), ('proelioque', 'O'), ('abstinebat.', 'O'), ('Multo', 'O'), ('denique', 'O'), ('die', 'O'), ('per', 'O'), Tree('ORG', [('exploratores', 'ORG'), ('Caesar', 'ORG'), ('cognovit', 'ORG')]), ('et', 'O'), ('montem', 'O'), ('a', 'O'), ('suis', 'O'), ('teneri', 'O'), ('et', 'O'), ('Helvetios', 'O'), ('castra,', 'O'), ('movisse', 'O'), ('et', 'O'), ('Considium', 'O'), ('timore', 'O'), ('perterritum', 'O'), ('quod', 'O'), ('non', 'O'), ('vidisset', 'O'), ('pro', 'O'), ('viso', 'O'), ('sibi', 'O'), ('renuntiavisse.', 'O'), ('Eo', 'O'), ('die', 'O'), ('quo', 'O'), ('consuerat', 'O'), ('intervallo', 'O'), ('hostes', 'O'), ('sequitur', 'O'), ('et', 'O'), ('milia', 'O'), ('passuum', 'O'), ('tria', 'O'), ('ab', 'O'), ('eorum', 'O'), ('castris', 'O'), ('castra', 'O'), ('ponit.', 'O'), ('Postridie', 'O'), ('eius', 'O'), ('diei,', 'O'), ('quod', 'O'), ('omnino', 'O'), ('biduum', 'O'), ('supererat,', 'O'), ('cum', 'O'), ('exercitui', 'O'), ('frumentum', 'O'), ('metiri', 'O'), ('oporteret,', 'O'), ('et', 'O'), ('quod', 'O'), ('a', 'O'), ('Bibracte,', 'O'), ('oppido', 'O'), ('Haeduorum', 'O'), ('longe', 'O'), ('maximo', 'O'), ('et', 'O'), ('copiosissimo,', 'O'), ('non', 'O'), ('amplius', 'O'), ('milibus', 'O'), ('passuum', 'O'), ('XVIII', 'O'), ('aberat,', 'O'), ('rei', 'O'), ('frumentariae', 'O'), ('prospiciendum', 'O'), ('existimavit;', 'O'), ('itaque', 'O'), ('iter', 'O'), ('ab', 'O'), ('Helvetiis', 'O'), ('avertit', 'O'), ('ac', 'O'), ('Bibracte', 'O'), ('ire', 'O'), ('contendit.', 'O'), ('Ea', 'O'), ('res', 'O'), ('per', 'O'), ('fugitivos', 'O'), ('L.', 'O'), ('Aemilii,', 'O'), ('decurionis', 'O'), ('equitum', 'O'), ('Gallorum,', 'O'), ('hostibus', 'O'), ('nuntiatur.', 'O'), ('Helvetii,', 'O'), ('seu', 'O'), ('quod', 'O'), ('timore', 'O'), ('perterritos', 'O'), Tree('LOC', [('Romanos', 'LOC')]), ('discedere', 'O'), ('a', 'O'), ('se', 'O'), ('existimarent,', 'O'), ('eo', 'O'), ('magis', 'O'), ('quod', 'O'), ('pridie', 'O'), ('superioribus', 'O'), ('locis', 'O'), ('occupatis', 'O'), ('proelium', 'O'), ('non', 'O'), ('commisissent,', 'O'), ('sive', 'O'), ('eo', 'O'), ('quod', 'O'), ('re', 'O'), ('frumentaria', 'O'), ('intercludi', 'O'), ('posse', 'O'), ('confiderent,', 'O'), ('commutato', 'O'), ('consilio', 'O'), ('atque', 'O'), ('itinere', 'O'), ('converso', 'O'), ('nostros', 'O'), ('a', 'O'), ('novissimo', 'O'), ('agmine', 'O'), ('insequi', 'O'), ('ac', 'O'), ('lacessere', 'O'), ('coeperunt.', 'O'), ('Postquam', 'O'), ('id', 'O'), ('animum', 'O'), ('advertit,', 'O'), ('copias', 'O'), ('suas', 'O'), Tree('PER', [('Caesar', 'PER')]), ('in', 'O'), ('proximum', 'O'), ('collem', 'O'), ('subduxit', 'O'), ('equitatumque,', 'O'), ('qui', 'O'), ('sustineret', 'O'), ('hostium', 'O'), ('petum,', 'O'), ('misit.', 'O'), Tree('ORG', [('Ipse', 'ORG')]), ('interim', 'O'), ('in', 'O'), ('colle', 'O'), ('medio', 'O'), ('triplicem', 'O'), ('aciem', 'O'), ('instruxit', 'O'), ('legionum', 'O'), ('quattuor', 'O'), ('veteranarum;', 'O'), ('in', 'O'), ('summo', 'O'), ('iugo', 'O'), ('duas', 'O'), ('legiones', 'O'), ('quas', 'O'), ('in', 'O'), Tree('LOC', [('Gallia', 'LOC')]), ('citeriore', 'O'), ('proxime', 'O'), ('conscripserat', 'O'), ('et', 'O'), ('omnia', 'O'), ('auxilia', 'O'), ('conlocavit,', 'O'), ('ita', 'O'), ('ut', 'O'), ('supra', 'O'), ('se', 'O'), ('totum', 'O'), ('montem', 'O'), ('hominibus', 'O'), ('compleret;', 'O'), ('impedimenta', 'O'), ('sarcinasque', 'O'), ('in', 'O'), ('unum', 'O'), ('locum', 'O'), ('conferri', 'O'), ('et', 'O'), ('eum', 'O'), ('ab', 'O'), ('iis', 'O'), ('qui', 'O'), ('in', 'O'), ('superiore', 'O'), ('acie', 'O'), ('constiterant', 'O'), ('muniri', 'O'), ('iussit.', 'O'), ('Helvetii', 'O'), ('cum', 'O'), ('omnibus', 'O'), ('suis', 'O'), ('carris', 'O'), ('secuti', 'O'), ('impedimenta', 'O'), ('in', 'O'), ('unum', 'O'), ('locum', 'O'), ('contulerunt;', 'O'), ('ipsi', 'O'), ('confertissima', 'O'), ('acie,', 'O'), ('reiecto', 'O'), ('nostro', 'O'), ('equitatu,', 'O'), ('phalange', 'O'), ('facta', 'O'), ('sub', 'O'), ('primam', 'O'), ('nostram', 'O'), ('aciem', 'O'), ('successerunt.', 'O'), Tree('PER', [('Caesar', 'PER')]), ('primum', 'O'), ('suo,', 'O'), ('deinde', 'O'), ('omnium', 'O'), ('ex', 'O'), ('conspectu', 'O'), ('remotis', 'O'), ('equis,', 'O'), ('ut', 'O'), ('aequato', 'O'), ('omnium', 'O'), ('periculo', 'O'), ('spem', 'O'), ('fugae', 'O'), ('tolleret,', 'O'), ('cohortatus', 'O'), ('suos', 'O'), ('proelium', 'O'), ('commisit.', 'O'), ('Milites', 'O'), ('loco', 'O'), ('superiore', 'O'), ('pilis', 'O'), ('missis', 'O'), ('facile', 'O'), ('hostium', 'O'), ('phalangem', 'O'), ('perfregerunt.', 'O'), ('Ea', 'O'), ('disiecta', 'O'), ('gladiis', 'O'), ('destrictis', 'O'), ('in', 'O'), ('eos', 'O'), ('impetum', 'O'), ('fecerunt.', 'O'), ('Gallis', 'O'), ('magno', 'O'), ('ad', 'O'), ('pugnam', 'O'), ('erat', 'O'), ('impedimento', 'O'), ('quod', 'O'), ('pluribus', 'O'), ('eorum', 'O'), ('scutis', 'O'), ('uno', 'O'), ('ictu', 'O'), ('pilorum', 'O'), ('transfixis', 'O'), ('et', 'O'), ('conligatis,', 'O'), ('cum', 'O'), ('ferrum', 'O'), ('se', 'O'), ('inflexisset,', 'O'), ('neque', 'O'), ('evellere', 'O'), ('neque', 'O'), ('sinistra', 'O'), ('impedita', 'O'), ('satis', 'O'), ('commode', 'O'), ('pugnare', 'O'), ('poterant,', 'O'), ('multi', 'O'), ('ut', 'O'), ('diu', 'O'), ('iactato', 'O'), ('bracchio', 'O'), ('praeoptarent', 'O'), ('scutum', 'O'), ('manu', 'O'), ('emittere', 'O'), ('et', 'O'), ('nudo', 'O'), ('corpore', 'O'), ('pugnare.', 'O'), ('Tandem', 'O'), ('vulneribus', 'O'), ('defessi', 'O'), ('et', 'O'), ('pedem', 'O'), ('referre', 'O'), ('et,', 'O'), ('quod', 'O'), ('mons', 'O'), ('suberit', 'O'), ('circiter', 'O'), ('mille', 'O'), ('passuum', 'O'), ('spatio', 'O'), (',', 'O'), ('eo', 'O'), ('se', 'O'), ('recipere', 'O'), ('coeperunt.', 'O'), ('Capto', 'O'), ('monte', 'O'), ('et', 'O'), ('succedentibus', 'O'), ('nostris,', 'O'), ('Boi', 'O'), ('et', 'O'), ('Tulingi,', 'O'), ('qui', 'O'), ('hominum', 'O'), ('milibus', 'O'), ('circiter', 'O'), ('XV', 'O'), ('agmen', 'O'), ('hostium', 'O'), ('claudebant', 'O'), ('et', 'O'), ('novissimis', 'O'), ('praesidio', 'O'), ('erant,', 'O'), ('ex', 'O'), ('itinere', 'O'), ('nostros', 'O'), ('ab', 'O'), ('latere', 'O'), ('aperto', 'O'), ('adgressi', 'O'), ('circumvenire,', 'O'), ('et', 'O'), ('id', 'O'), ('conspicati', 'O'), ('Helvetii,', 'O'), ('qui', 'O'), ('in', 'O'), ('montem', 'O'), ('sese', 'O'), ('receperant,', 'O'), ('rursus', 'O'), ('instare', 'O'), ('et', 'O'), ('proelium', 'O'), ('redintegrare', 'O'), ('coeperunt.', 'O'), ('Romani', 'O'), ('[conversa]', 'O'), ('signa', 'O'), ('bipertito', 'O'), ('intulerunt:', 'O'), ('prima', 'O'), ('et', 'O'), ('secunda', 'O'), ('acies,', 'O'), ('ut', 'O'), ('victis', 'O'), ('ac', 'O'), ('submotis', 'O'), ('resisteret,', 'O'), ('tertia,', 'O'), ('ut', 'O'), ('venientes', 'O'), ('sustineret.', 'O'), ('Ita', 'O'), ('ancipiti', 'O'), ('proelio', 'O'), ('diu', 'O'), ('atque', 'O'), ('acriter', 'O'), ('pugnatum', 'O'), ('est.', 'O'), ('Diutius', 'O'), ('cum', 'O'), ('sustinere', 'O'), ('nostrorum', 'O'), ('impetus', 'O'), ('non', 'O'), ('possent,', 'O'), ('alteri', 'O'), ('se,', 'O'), ('ut', 'O'), ('coeperant,', 'O'), ('in', 'O'), ('montem', 'O'), ('receperunt,', 'O'), ('alteri', 'O'), ('ad', 'O'), ('impedimenta', 'O'), ('et', 'O'), ('carros', 'O'), ('suos', 'O'), ('se', 'O'), ('contulerunt.', 'O'), Tree('ORG', [('Nam', 'ORG')]), ('hoc', 'O'), ('toto', 'O'), ('proelio,', 'O'), ('cum', 'O'), ('ab', 'O'), ('hora', 'O'), ('septima', 'O'), ('ad', 'O'), ('vesperum', 'O'), ('pugnatum', 'O'), ('sit,', 'O'), ('aversum', 'O'), ('hostem', 'O'), ('videre', 'O'), ('nemo', 'O'), ('potuit.', 'O'), ('Ad', 'O'), ('multam', 'O'), ('noctem', 'O'), ('etiam', 'O'), ('ad', 'O'), ('impedimenta', 'O'), ('pugnatum', 'O'), ('est,', 'O'), ('propterea', 'O'), ('quod', 'O'), ('pro', 'O'), ('vallo', 'O'), ('carros', 'O'), ('obiecerunt', 'O'), ('et', 'O'), ('e', 'O'), ('loco', 'O'), ('superiore', 'O'), ('in', 'O'), ('nostros', 'O'), ('venientes', 'O'), ('tela', 'O'), ('coiciebant', 'O'), ('et', 'O'), ('non', 'O'), ('nulli', 'O'), ('inter', 'O'), ('carros', 'O'), ('rotasque', 'O'), ('mataras', 'O'), ('ac', 'O'), ('tragulas', 'O'), ('subiciebant', 'O'), ('nostrosque', 'O'), ('vulnerabant.', 'O'), Tree('ORG', [('Diu', 'ORG')]), ('cum', 'O'), ('esset', 'O'), ('pugnatum,', 'O'), ('impedimentis', 'O'), ('castrisque', 'O'), ('nostri', 'O'), ('potiti', 'O'), ('sunt.', 'O'), ('Ibi', 'O'), ('Orgetorigis', 'O'), ('filia', 'O'), ('atque', 'O'), ('unus', 'O'), ('e', 'O'), ('filiis', 'O'), ('captus', 'O'), ('est.', 'O'), ('Ex', 'O'), ('eo', 'O'), ('proelio', 'O'), ('circiter', 'O'), ('hominum', 'O'), ('milia', 'O'), ('CXXX', 'O'), ('superfuerunt', 'O'), ('eaque', 'O'), ('tota', 'O'), ('nocte', 'O'), ('continenter', 'O'), ('ierunt', 'O'), ('[nullam', 'O'), ('partem', 'O'), ('noctis', 'O'), ('itinere', 'O'), ('intermisso];', 'O'), ('in', 'O'), ('fines', 'O'), ('Lingonum', 'O'), ('die', 'O'), ('quarto', 'O'), ('pervenerunt,', 'O'), ('cum', 'O'), ('et', 'O'), ('propter', 'O'), ('vulnera', 'O'), ('militum', 'O'), ('et', 'O'), ('propter', 'O'), ('sepulturam', 'O'), ('occisorum', 'O'), ('nostri', 'O'), ('[triduum', 'O'), ('morati]', 'O'), ('eos', 'O'), ('sequi', 'O'), ('non', 'O'), ('potuissent.', 'O'), Tree('PER', [('Caesar', 'PER')]), ('ad', 'O'), ('Lingonas', 'O'), ('litteras', 'O'), ('nuntiosque', 'O'), ('misit,', 'O'), ('ne', 'O'), ('eos', 'O'), ('frumento', 'O'), ('neve', 'O'), ('alia', 'O'), ('re', 'O'), ('iuvarent:', 'O'), ('qui', 'O'), ('si', 'O'), ('iuvissent,', 'O'), ('se', 'O'), ('eodem', 'O'), ('loco', 'O'), ('quo', 'O'), ('Helvetios', 'O'), ('habiturum.', 'O'), Tree('ORG', [('Ipse', 'ORG')]), ('triduo', 'O'), ('intermisso', 'O'), ('cum', 'O'), ('omnibus', 'O'), ('copiis', 'O'), ('eos', 'O'), ('sequi', 'O'), ('coepit.', 'O'), ('Helvetii', 'O'), ('omnium', 'O'), ('rerum', 'O'), ('inopia', 'O'), ('adducti', 'O'), ('legatos', 'O'), ('de', 'O'), ('deditione', 'O'), ('ad', 'O'), ('eum', 'O'), ('miserunt.', 'O'), ('Qui', 'O'), ('cum', 'O'), ('eum', 'O'), ('in', 'O'), ('itinere', 'O'), ('convenissent', 'O'), ('seque', 'O'), ('ad', 'O'), ('pedes', 'O'), ('proiecissent', 'O'), ('suppliciterque', 'O'), ('locuti', 'O'), ('flentes', 'O'), ('pacem', 'O'), ('petissent,', 'O'), ('atque', 'O'), ('eos', 'O'), ('in', 'O'), ('eo', 'O'), ('loco', 'O'), ('quo', 'O'), ('tum', 'O'), ('essent', 'O'), ('suum', 'O'), ('adventum', 'O'), ('expectare', 'O'), ('iussisset,', 'O'), ('paruerunt.', 'O'), ('Eo', 'O'), ('postquam', 'O'), ('Caesar', 'O'), ('pervenit,', 'O'), ('obsides,', 'O'), ('arma,', 'O'), ('servos', 'O'), ('qui', 'O'), ('ad', 'O'), ('eos', 'O'), ('perfugissent,', 'O'), ('poposcit.', 'O'), ('Dum', 'O'), ('ea', 'O'), ('conquiruntur', 'O'), ('et', 'O'), ('conferuntur,', 'O'), ('[nocte', 'O'), ('intermissa]', 'O'), ('circiter', 'O'), ('hominum', 'O'), ('milia', 'O'), ('VI', 'O'), ('eius', 'O'), ('pagi', 'O'), ('qui', 'O'), ('Verbigenus', 'O'), ('appellatur,', 'O'), ('sive', 'O'), ('timore', 'O'), ('perterriti,', 'O'), ('ne', 'O'), ('armis', 'O'), ('traditis', 'O'), ('supplicio', 'O'), ('adficerentur,', 'O'), ('sive', 'O'), ('spe', 'O'), ('salutis', 'O'), ('inducti,', 'O'), ('quod', 'O'), ('in', 'O'), ('tanta', 'O'), ('multitudine', 'O'), ('dediticiorum', 'O'), ('suam', 'O'), ('fugam', 'O'), ('aut', 'O'), ('occultari', 'O'), ('aut', 'O'), ('omnino', 'O'), ('ignorari', 'O'), ('posse', 'O'), ('existimarent,', 'O'), ('prima', 'O'), ('nocte', 'O'), ('e', 'O'), ('castris', 'O'), ('Helvetiorum', 'O'), ('egressi', 'O'), ('ad', 'O'), ('Rhenum', 'O'), ('finesque', 'O'), ('Germanorum', 'O'), ('contenderunt.', 'O'), ('Quod', 'O'), ('ubi', 'O'), ('Caesar', 'O'), ('resciit,', 'O'), ('quorum', 'O'), ('per', 'O'), ('fines', 'O'), ('ierant', 'O'), ('his', 'O'), ('uti', 'O'), ('conquirerent', 'O'), ('et', 'O'), ('reducerent,', 'O'), ('si', 'O'), ('sibi', 'O'), ('purgati', 'O'), ('esse', 'O'), ('vellent,', 'O'), ('imperavit;', 'O'), ('reductos', 'O'), ('in', 'O'), ('hostium', 'O'), ('numero', 'O'), ('habuit;', 'O'), ('reliquos', 'O'), ('omnes', 'O'), ('obsidibus,', 'O'), ('armis,', 'O'), ('perfugis', 'O'), ('traditis', 'O'), ('in', 'O'), ('deditionem', 'O'), ('accepit.', 'O'), ('Helvetios,', 'O'), ('Tulingos,', 'O'), ('Latobrigos', 'O'), ('in', 'O'), ('fines', 'O'), ('suos,', 'O'), ('unde', 'O'), ('erant', 'O'), ('profecti,', 'O'), ('reverti', 'O'), ('iussit,', 'O'), ('et,', 'O'), ('quod', 'O'), ('omnibus', 'O'), ('frugibus', 'O'), ('amissis', 'O'), ('domi', 'O'), ('nihil', 'O'), ('erat', 'O'), ('quo', 'O'), ('famem', 'O'), ('tolerarent,', 'O'), ('Allobrogibus', 'O'), ('imperavit', 'O'), ('ut', 'O'), ('iis', 'O'), ('frumenti', 'O'), ('copiam', 'O'), ('facerent;', 'O'), ('ipsos', 'O'), ('oppida', 'O'), ('vicosque,', 'O'), ('quos', 'O'), ('incenderant,', 'O'), ('restituere', 'O'), ('iussit.', 'O'), ('Id', 'O'), ('ea', 'O'), ('maxime', 'O'), ('ratione', 'O'), ('fecit,', 'O'), ('quod', 'O'), ('noluit', 'O'), ('eum', 'O'), ('locum', 'O'), ('unde', 'O'), ('Helvetii', 'O'), ('discesserant', 'O'), ('vacare,', 'O'), ('ne', 'O'), ('propter', 'O'), ('bonitatem', 'O'), ('agrorum', 'O'), ('Germani,', 'O'), ('qui', 'O'), ('trans', 'O'), ('Rhenum', 'O'), ('incolunt,', 'O'), ('ex', 'O'), ('suis', 'O'), ('finibus', 'O'), ('in', 'O'), ('Helvetiorum', 'O'), ('fines', 'O'), ('transirent', 'O'), ('et', 'O'), ('finitimi', 'O'), ('Galliae', 'O'), ('provinciae', 'O'), ('Allobrogibusque', 'O'), ('essent.', 'O'), ('Boios', 'O'), ('petentibus', 'O'), ('Haeduis,', 'O'), ('quod', 'O'), ('egregia', 'O'), ('virtute', 'O'), ('erant', 'O'), ('cogniti,', 'O'), ('ut', 'O'), ('in', 'O'), ('finibus', 'O'), ('suis', 'O'), ('conlocarent,', 'O'), ('concessit;', 'O'), ('quibus', 'O'), ('illi', 'O'), ('agros', 'O'), ('dederunt', 'O'), ('quosque', 'O'), ('postea', 'O'), ('in', 'O'), ('parem', 'O'), ('iuris', 'O'), ('libertatisque', 'O'), ('condicionem', 'O'), ('atque', 'O'), ('ipsi', 'O'), ('erant', 'O'), ('receperunt.', 'O'), ('In', 'O'), ('castris', 'O'), ('Helvetiorum', 'O'), ('tabulae', 'O'), ('repertae', 'O'), ('sunt', 'O'), ('litteris', 'O'), ('Graecis', 'O'), ('confectae', 'O'), ('et', 'O'), ('ad', 'O'), ('Caesarem', 'O'), ('relatae,', 'O'), ('quibus', 'O'), ('in', 'O'), ('tabulis', 'O'), ('nominatim', 'O'), ('ratio', 'O'), ('confecta', 'O'), ('erat,', 'O'), ('qui', 'O'), ('numerus', 'O'), ('domo', 'O'), ('exisset', 'O'), ('eorum', 'O'), ('qui', 'O'), ('arma', 'O'), ('ferre', 'O'), ('possent,', 'O'), ('et', 'O'), ('item', 'O'), ('separatim,', 'O'), ('quot', 'O'), ('pueri,', 'O'), ('senes', 'O'), ('mulieresque.', 'O'), ('[Quarum', 'O'), ('omnium', 'O'), ('rerum]', 'O'), ('summa', 'O'), ('erat', 'O'), ('capitum', 'O'), ('Helvetiorum', 'O'), ('milium', 'O'), ('CCLXIII,', 'O'), ('Tulingorum', 'O'), ('milium', 'O'), ('XXXVI,', 'O'), ('Latobrigorum', 'O'), ('XIIII,', 'O'), ('Rauracorum', 'O'), ('XXIII,', 'O'), ('Boiorum', 'O'), ('XXXII;', 'O'), ('ex', 'O'), ('his', 'O'), ('qui', 'O'), ('arma', 'O'), ('ferre', 'O'), ('possent', 'O'), ('ad', 'O'), ('milia', 'O'), ('nonaginta', 'O'), ('duo.', 'O'), Tree('PER', [('Summa', 'PER')]), ('omnium', 'O'), ('fuerunt', 'O'), ('ad', 'O'), ('milia', 'O'), ('CCCLXVIII.', 'O'), ('Eorum', 'O'), ('qui', 'O'), ('domum', 'O'), ('redierunt', 'O'), ('censu', 'O'), ('habito,', 'O'), ('ut', 'O'), ('Caesar', 'O'), ('imperaverat,', 'O'), ('repertus', 'O'), ('est', 'O'), ('numerus', 'O'), ('milium', 'O'), ('C', 'O'), ('et', 'O'), ('X.', 'O'), ('Bello', 'O'), ('Helvetiorum', 'O'), ('confecto', 'O'), ('totius', 'O'), ('fere', 'O'), ('Galliae', 'O'), ('legati,', 'O'), ('principes', 'O'), ('civitatum,', 'O'), ('ad', 'O'), ('Caesarem', 'O'), ('gratulatum', 'O'), ('convenerunt:', 'O'), ('intellegere', 'O'), ('sese,', 'O'), ('tametsi', 'O'), ('pro', 'O'), ('veteribus', 'O'), ('Helvetiorum', 'O'), ('iniuriis', 'O'), ('populi', 'O'), ('Romani', 'O'), ('ab', 'O'), ('his', 'O'), ('poenas', 'O'), ('bello', 'O'), ('repetisset,', 'O'), ('tamen', 'O'), ('eam', 'O'), ('rem', 'O'), ('non', 'O'), ('minus', 'O'), ('ex', 'O'), ('usu', 'O'), ('[terrae]', 'O'), ('Galliae', 'O'), ('quam', 'O'), ('populi', 'O'), ('Romani', 'O'), ('accidisse,', 'O'), ('propterea', 'O'), ('quod', 'O'), ('eo', 'O'), ('consilio', 'O'), ('florentissimis', 'O'), ('rebus', 'O'), ('domos', 'O'), ('suas', 'O'), ('Helvetii', 'O'), ('reliquissent', 'O'), ('uti', 'O'), ('toti', 'O'), ('Galliae', 'O'), ('bellum', 'O'), ('inferrent', 'O'), ('imperioque', 'O'), ('potirentur,', 'O'), ('locumque', 'O'), ('domicilio', 'O'), ('ex', 'O'), ('magna', 'O'), ('copia', 'O'), ('deligerent', 'O'), ('quem', 'O'), ('ex', 'O'), ('omni', 'O'), Tree('LOC', [('Gallia', 'LOC')]), ('oportunissimum', 'O'), ('ac', 'O'), ('fructuosissimum', 'O'), ('iudicassent,', 'O'), ('reliquasque', 'O'), ('civitates', 'O'), ('stipendiarias', 'O'), ('haberent.', 'O'), ('Petierunt', 'O'), ('uti', 'O'), ('sibi', 'O'), ('concilium', 'O'), ('totius', 'O'), ('Galliae', 'O'), ('in', 'O'), ('diem', 'O'), ('certam', 'O'), ('indicere', 'O'), ('idque', 'O'), Tree('PER', [('Caesaris', 'PER')]), ('facere', 'O'), ('voluntate', 'O'), ('liceret:', 'O'), ('sese', 'O'), ('habere', 'O'), ('quasdam', 'O'), ('res', 'O'), ('quas', 'O'), ('ex', 'O'), ('communi', 'O'), ('consensu', 'O'), ('ab', 'O'), ('eo', 'O'), ('petere', 'O'), ('vellent.', 'O'), ('Ea', 'O'), ('re', 'O'), ('permissa', 'O'), ('diem', 'O'), ('concilio', 'O'), ('constituerunt', 'O'), ('et', 'O'), ('iure', 'O'), ('iurando', 'O'), ('ne', 'O'), ('quis', 'O'), ('enuntiaret,', 'O'), ('nisi', 'O'), ('quibus', 'O'), ('communi', 'O'), ('consilio', 'O'), ('mandatum', 'O'), ('esset,', 'O'), ('inter', 'O'), ('se', 'O'), ('sanxerunt.', 'O'), ('Eo', 'O'), ('concilio', 'O'), ('dimisso,', 'O'), ('idem', 'O'), ('princeps', 'O'), ('civitatum', 'O'), ('qui', 'O'), ('ante', 'O'), ('fuerant', 'O'), ('ad', 'O'), ('Caesarem', 'O'), ('reverterunt', 'O'), ('petieruntque', 'O'), ('uti', 'O'), ('sibi', 'O'), ('secreto', 'O'), ('in', 'O'), ('occulto', 'O'), ('de', 'O'), ('sua', 'O'), ('omniumque', 'O'), ('salute', 'O'), ('cum', 'O'), ('eo', 'O'), ('agere', 'O'), ('liceret.', 'O'), ('Ea', 'O'), ('re', 'O'), ('impetrata', 'O'), ('sese', 'O'), ('omnes', 'O'), ('flentes', 'O'), Tree('PER', [('Caesari', 'PER')]), ('ad', 'O'), ('pedes', 'O'), ('proiecerunt:', 'O'), ('non', 'O'), ('minus', 'O'), ('se', 'O'), ('id', 'O'), ('contendere', 'O'), ('et', 'O'), ('laborare', 'O'), ('ne', 'O'), ('ea', 'O'), ('quae', 'O'), ('dixissent', 'O'), ('enuntiarentur', 'O'), ('quam', 'O'), ('uti', 'O'), ('ea', 'O'), ('quae', 'O'), ('vellent', 'O'), ('impetrarent,', 'O'), ('propterea', 'O'), ('quod,', 'O'), ('si', 'O'), ('enuntiatum', 'O'), ('esset,', 'O'), ('summum', 'O'), ('in', 'O'), ('cruciatum', 'O'), ('se', 'O'), ('venturos', 'O'), ('viderent.', 'O'), Tree('PER', [('Locutus', 'PER')]), ('est', 'O'), ('pro', 'O'), ('his', 'O'), ('Diviciacus', 'O'), ('Haeduus:', 'O'), ('Galliae', 'O'), ('totius', 'O'), ('factiones', 'O'), ('esse', 'O'), ('duas;', 'O'), ('harum', 'O'), ('alterius', 'O'), ('principatum', 'O'), ('tenere', 'O'), ('Haeduos,', 'O'), ('alterius', 'O'), ('Arvernos.', 'O'), ('Hi', 'O'), ('cum', 'O'), ('tantopere', 'O'), ('de', 'O'), ('potentatu', 'O'), ('inter', 'O'), ('se', 'O'), ('multos', 'O'), ('annos', 'O'), ('contenderent,', 'O'), ('factum', 'O'), ('esse', 'O'), ('uti', 'O'), ('ab', 'O'), ('Arvernis', 'O'), ('Sequanisque', 'O'), ('Germani', 'O'), ('mercede', 'O'), ('arcesserentur.', 'O'), ('Horum', 'O'), ('primo', 'O'), ('circiter', 'O'), ('milia', 'O'), ('XV', 'O'), ('Rhenum', 'O'), ('transisse;', 'O'), ('postea', 'O'), ('quam', 'O'), ('agros', 'O'), ('et', 'O'), ('cultum', 'O'), ('et', 'O'), ('copias', 'O'), ('Gallorum', 'O'), ('homines', 'O'), ('feri', 'O'), ('ac', 'O'), ('barbari', 'O'), ('adamassent,', 'O'), ('traductos', 'O'), ('plures;', 'O'), ('nunc', 'O'), ('esse', 'O'), ('in', 'O'), Tree('LOC', [('Gallia', 'LOC')]), ('ad', 'O'), Tree('ORG', [('C', 'ORG')]), ('et', 'O'), ('XX', 'O'), ('milium', 'O'), ('numerum.', 'O'), ('Cum', 'O'), ('his', 'O'), ('Haeduos', 'O'), ('eorumque', 'O'), ('clientes', 'O'), ('semel', 'O'), ('atque', 'O'), ('iterum', 'O'), ('armis', 'O'), ('contendisse;', 'O'), ('magnam', 'O'), ('calamitatem', 'O'), ('pulsos', 'O'), ('accepisse,', 'O'), ('omnem', 'O'), ('nobilitatem,', 'O'), ('omnem', 'O'), ('senatum,', 'O'), ('omnem', 'O'), ('equitatum', 'O'), ('amisisse.', 'O'), ('Quibus', 'O'), ('proeliis', 'O'), ('calamitatibusque', 'O'), ('fractos,', 'O'), ('qui', 'O'), ('et', 'O'), ('sua', 'O'), ('virtute', 'O'), ('et', 'O'), ('populi', 'O'), ('Romani', 'O'), ('hospitio', 'O'), ('atque', 'O'), ('amicitia', 'O'), ('plurimum', 'O'), ('ante', 'O'), ('in', 'O'), Tree('LOC', [('Gallia', 'LOC')]), ('potuissent,', 'O'), ('coactos', 'O'), ('esse', 'O'), ('Sequanis', 'O'), ('obsides', 'O'), ('dare', 'O'), ('nobilissimos', 'O'), ('civitatis', 'O'), ('et', 'O'), ('iure', 'O'), ('iurando', 'O'), ('civitatem', 'O'), ('obstringere', 'O'), ('sese', 'O'), ('neque', 'O'), ('obsides', 'O'), ('repetituros', 'O'), ('neque', 'O'), ('auxilium', 'O'), ('a', 'O'), ('populo', 'O'), ('Romano', 'O'), ('imploraturos', 'O'), ('neque', 'O'), ('recusaturos', 'O'), ('quo', 'O'), ('minus', 'O'), ('perpetuo', 'O'), ('sub', 'O'), ('illorum', 'O'), ('dicione', 'O'), ('atque', 'O'), ('imperio', 'O'), ('essent.', 'O'), ('Unum', 'O'), ('se', 'O'), ('esse', 'O'), ('ex', 'O'), ('omni', 'O'), ('civitate', 'O'), ('Haeduorum', 'O'), ('qui', 'O'), ('adduci', 'O'), ('non', 'O'), ('potuerit', 'O'), ('ut', 'O'), ('iuraret', 'O'), ('aut', 'O'), ('liberos', 'O'), ('suos', 'O'), ('obsides', 'O'), ('daret.', 'O'), ('Ob', 'O'), ('eam', 'O'), ('rem', 'O'), ('se', 'O'), ('ex', 'O'), ('civitate', 'O'), ('profugisse', 'O'), ('et', 'O'), ('Romam', 'O'), ('ad', 'O'), ('senatum', 'O'), ('venisse', 'O'), ('auxilium', 'O'), ('postulatum,', 'O'), ('quod', 'O'), ('solus', 'O'), ('neque', 'O'), ('iure', 'O'), ('iurando', 'O'), ('neque', 'O'), ('obsidibus', 'O'), ('teneretur.', 'O'), ('Sed', 'O'), ('peius', 'O'), ('victoribus', 'O'), ('Sequanis', 'O'), ('quam', 'O'), ('Haeduis', 'O'), ('victis', 'O'), ('accidisse,', 'O'), ('propterea', 'O'), ('quod', 'O'), ('Ariovistus,', 'O'), ('rex', 'O'), ('Germanorum,', 'O'), ('in', 'O'), ('eorum', 'O'), ('finibus', 'O'), ('consedisset', 'O'), ('tertiamque', 'O'), ('partem', 'O'), ('agri', 'O'), ('Sequani,', 'O'), ('qui', 'O'), ('esset', 'O'), ('optimus', 'O'), ('totius', 'O'), ('Galliae,', 'O'), ('occupavisset', 'O'), ('et', 'O'), ('nunc', 'O'), ('de', 'O'), ('altera', 'O'), ('parte', 'O'), ('tertia', 'O'), ('Sequanos', 'O'), ('decedere', 'O'), ('iuberet,', 'O'), ('propterea', 'O'), ('quod', 'O'), ('paucis', 'O'), ('mensibus', 'O'), ('ante', 'O'), ('Harudum', 'O'), ('milia', 'O'), ('hominum', 'O'), ('XXIIII', 'O'), ('ad', 'O'), ('eum', 'O'), ('venissent,', 'O'), ('quibus', 'O'), ('locus', 'O'), ('ac', 'O'), ('sedes', 'O'), ('pararentur.', 'O'), ('Futurum', 'O'), ('esse', 'O'), ('paucis', 'O'), ('annis', 'O'), ('uti', 'O'), ('omnes', 'O'), ('ex', 'O'), ('Galliae', 'O'), ('finibus', 'O'), ('pellerentur', 'O'), ('atque', 'O'), ('omnes', 'O'), ('Germani', 'O'), ('Rhenum', 'O'), ('transirent;', 'O'), ('neque', 'O'), ('enim', 'O'), ('conferendum', 'O'), ('esse', 'O'), ('Gallicum', 'O'), ('cum', 'O'), ('Germanorum', 'O'), ('agro', 'O'), ('neque', 'O'), ('hanc', 'O'), ('consuetudinem', 'O'), ('victus', 'O'), ('cum', 'O'), ('illa', 'O'), ('comparandam.', 'O'), ('Ariovistum', 'O'), ('autem,', 'O'), ('ut', 'O'), ('semel', 'O'), ('Gallorum', 'O'), ('copias', 'O'), ('proelio', 'O'), ('vicerit,', 'O'), ('quod', 'O'), ('proelium', 'O'), ('factum', 'O'), ('sit', 'O'), ('ad', 'O'), ('Magetobrigam,', 'O'), ('superbe', 'O'), ('et', 'O'), ('crudeliter', 'O'), ('imperare,', 'O'), ('obsides', 'O'), ('nobilissimi', 'O'), ('cuiusque', 'O'), ('liberos', 'O'), ('poscere', 'O'), ('et', 'O'), ('in', 'O'), ('eos', 'O'), ('omnia', 'O'), ('exempla', 'O'), ('cruciatusque', 'O'), ('edere,', 'O'), ('si', 'O'), ('qua', 'O'), ('res', 'O'), ('non', 'O'), ('ad', 'O'), ('nutum', 'O'), ('aut', 'O'), ('ad', 'O'), ('voluntatem', 'O'), ('eius', 'O'), ('facta', 'O'), ('sit.', 'O'), ('Hominem', 'O'), ('esse', 'O'), ('barbarum,', 'O'), ('iracundum,', 'O'), ('temerarium:', 'O'), ('non', 'O'), ('posse', 'O'), ('eius', 'O'), ('imperia,', 'O'), ('diutius', 'O'), ('sustineri.', 'O'), ('Nisi', 'O'), ('quid', 'O'), ('in', 'O'), ('Caesare', 'O'), ('populoque', 'O'), ('Romano', 'O'), ('sit', 'O'), ('auxilii,', 'O'), ('omnibus', 'O'), ('Gallis', 'O'), ('idem', 'O'), ('esse', 'O'), ('faciendum', 'O'), ('quod', 'O'), ('Helvetii', 'O'), ('fecerint,', 'O'), ('ut', 'O'), ('domo', 'O'), ('emigrent,', 'O'), ('aliud', 'O'), ('domicilium,', 'O'), ('alias', 'O'), ('sedes,', 'O'), ('remotas', 'O'), ('a', 'O'), ('Germanis,', 'O'), ('petant', 'O'), ('fortunamque,', 'O'), ('quaecumque', 'O'), ('accidat,', 'O'), ('experiantur.', 'O'), ('Haec', 'O'), ('si', 'O'), ('enuntiata', 'O'), ('Ariovisto', 'O'), ('sint,', 'O'), ('non', 'O'), ('dubitare', 'O'), ('quin', 'O'), ('de', 'O'), ('omnibus', 'O'), ('obsidibus', 'O'), ('qui', 'O'), ('apud', 'O'), ('eum', 'O'), ('sint', 'O'), ('gravissimum', 'O'), ('supplicium', 'O'), ('sumat.', 'O'), Tree('PER', [('Caesarem', 'PER')]), ('vel', 'O'), ('auctoritate', 'O'), ('sua', 'O'), ('atque', 'O'), ('exercitus', 'O'), ('vel', 'O'), ('recenti', 'O'), ('victoria', 'O'), ('vel', 'O'), ('nomine', 'O'), ('populi', 'O'), ('Romani', 'O'), ('deterrere', 'O'), ('posse', 'O'), ('ne', 'O'), ('maior', 'O'), ('multitudo', 'O'), ('Germanorum', 'O'), ('Rhenum', 'O'), ('traducatur,', 'O'), ('Galliamque', 'O'), ('omnem', 'O'), ('ab', 'O'), ('Ariovisti', 'O'), ('iniuria', 'O'), ('posse', 'O'), ('defendere.', 'O'), ('Hac', 'O'), ('oratione', 'O'), ('ab', 'O'), Tree('PER', [('Diviciaco', 'PER')]), ('habita', 'O'), ('omnes', 'O'), ('qui', 'O'), ('aderant', 'O'), ('magno', 'O'), ('fletu', 'O'), ('auxilium', 'O'), ('a', 'O'), ('Caesare', 'O'), ('petere', 'O'), ('coeperunt.', 'O'), ('Animadvertit', 'O'), ('Caesar', 'O'), ('unos', 'O'), ('ex', 'O'), ('omnibus', 'O'), ('Sequanos', 'O'), ('nihil', 'O'), ('earum', 'O'), ('rerum', 'O'), ('facere', 'O'), ('quas', 'O'), ('ceteri', 'O'), ('facerent', 'O'), ('sed', 'O'), ('tristes', 'O'), ('capite', 'O'), ('demisso', 'O'), ('terram', 'O'), ('intueri.', 'O'), ('Eius', 'O'), ('rei', 'O'), ('quae', 'O'), ('causa', 'O'), ('esset', 'O'), ('miratus', 'O'), ('ex', 'O'), ('ipsis', 'O'), ('quaesiit.', 'O'), ('Nihil', 'O'), ('Sequani', 'O'), ('respondere,', 'O'), ('sed', 'O'), ('in', 'O'), ('eadem', 'O'), ('tristitia', 'O'), ('taciti', 'O'), ('permanere.', 'O'), ('Cum', 'O'), ('ab', 'O'), ('his', 'O'), ('saepius', 'O'), ('quaereret', 'O'), ('neque', 'O'), ('ullam', 'O'), ('omnino', 'O'), ('vocem', 'O'), ('exprimere', 'O'), ('posset,', 'O'), ('idem', 'O'), ('Diviacus', 'O'), ('Haeduus', 'O'), ('respondit:', 'O'), ('hoc', 'O'), ('esse', 'O'), ('miseriorem', 'O'), ('et', 'O'), ('graviorem', 'O'), ('fortunam', 'O'), ('Sequanorum', 'O'), ('quam', 'O'), ('reliquorum,', 'O'), ('quod', 'O'), ('soli', 'O'), ('ne', 'O'), ('in', 'O'), ('occulto', 'O'), ('quidem', 'O'), ('queri', 'O'), ('neque', 'O'), ('auxilium', 'O'), ('implorare', 'O'), ('auderent', 'O'), ('absentisque', 'O'), ('Ariovisti', 'O'), ('crudelitatem,', 'O'), ('velut', 'O'), ('si', 'O'), ('cora', 'O'), ('adesset,', 'O'), ('horrerent,', 'O'), ('propterea', 'O'), ('quod', 'O'), ('reliquis', 'O'), ('tamen', 'O'), ('fugae', 'O'), ('facultas', 'O'), ('daretur,', 'O'), ('Sequanis', 'O'), ('vero,', 'O'), ('qui', 'O'), ('intra', 'O'), ('fines', 'O'), ('suos', 'O'), ('Ariovistum', 'O'), ('recepissent,', 'O'), ('quorum', 'O'), ('oppida', 'O'), ('omnia', 'O'), ('in', 'O'), ('potestate', 'O'), ('eius', 'O'), ('essent,', 'O'), ('omnes', 'O'), ('cruciatus', 'O'), ('essent', 'O'), ('perferendi.', 'O'), ('His', 'O'), ('rebus', 'O'), ('cognitis', 'O'), ('Caesar', 'O'), ('Gallorum', 'O'), ('animos', 'O'), ('verbis', 'O'), ('confirmavit', 'O'), ('pollicitusque', 'O'), ('est', 'O'), ('sibi', 'O'), ('eam', 'O'), ('rem', 'O'), ('curae', 'O'), ('futuram;', 'O'), ('magnam', 'O'), ('se', 'O'), ('habere', 'O'), ('spem', 'O'), ('et', 'O'), ('beneficio', 'O'), ('suo', 'O'), ('et', 'O'), ('auctoritate', 'O'), ('adductum', 'O'), ('Ariovistum', 'O'), ('finem', 'O'), ('iniuriis', 'O'), ('facturum.', 'O'), ('Hac', 'O'), ('oratione', 'O'), ('habita,', 'O'), ('concilium', 'O'), ('dimisit.', 'O'), ('Et', 'O'), ('secundum', 'O'), ('ea', 'O'), ('multae', 'O'), ('res', 'O'), ('eum', 'O'), ('hortabantur', 'O'), ('quare', 'O'), ('sibi', 'O'), ('eam', 'O'), ('rem', 'O'), ('cogitandam', 'O'), ('et', 'O'), ('suscipiendam', 'O'), ('putaret,', 'O'), ('in', 'O'), ('primis', 'O'), ('quod', 'O'), ('Haeduos,', 'O'), ('fratres', 'O'), ('consanguineosque', 'O'), ('saepe', 'O'), ('numero', 'O'), ('a', 'O'), ('senatu', 'O'), ('appellatos,', 'O'), ('in', 'O'), ('servitute', 'O'), ('atque', 'O'), ('[in]', 'O'), ('dicione', 'O'), ('videbat', 'O'), ('Germanorum', 'O'), ('teneri', 'O'), ('eorumque', 'O'), ('obsides', 'O'), ('esse', 'O'), ('apud', 'O'), ('Ariovistum', 'O'), ('ac', 'O'), ('Sequanos', 'O'), ('intellegebat;', 'O'), ('quod', 'O'), ('in', 'O'), ('tanto', 'O'), ('imperio', 'O'), ('populi', 'O'), ('Romani', 'O'), ('turpissimum', 'O'), ('sibi', 'O'), ('et', 'O'), ('rei', 'O'), ('publicae', 'O'), ('esse', 'O'), ('arbitrabatur.', 'O'), ('Paulatim', 'O'), ('autem', 'O'), Tree('PER', [('Germanos', 'PER')]), ('consuescere', 'O'), ('Rhenum', 'O'), ('transire', 'O'), ('et', 'O'), ('in', 'O'), ('Galliam', 'O'), ('magnam', 'O'), ('eorum', 'O'), ('multitudinem', 'O'), ('venire', 'O'), ('populo', 'O'), ('Romano', 'O'), ('periculosum', 'O'), ('videbat,', 'O'), ('neque', 'O'), ('sibi', 'O'), ('homines', 'O'), ('feros', 'O'), ('ac', 'O'), ('barbaros', 'O'), ('temperaturos', 'O'), ('existimabat', 'O'), ('quin,', 'O'), ('cum', 'O'), ('omnem', 'O'), ('Galliam', 'O'), ('occupavissent,', 'O'), ('ut', 'O'), ('ante', 'O'), ('Cimbri', 'O'), ('Teutonique', 'O'), ('fecissent,', 'O'), ('in', 'O'), ('provinciam', 'O'), ('exirent', 'O'), ('atque', 'O'), ('inde', 'O'), ('in', 'O'), ('Italiam', 'O'), ('contenderent', 'O'), ('[,', 'O'), ('praesertim', 'O'), ('cum', 'O'), ('Sequanos', 'O'), ('a', 'O'), Tree('LOC', [('provincia', 'LOC')]), ('nostra', 'O'), Tree('PER', [('Rhodanus', 'PER')]), ('divideret];', 'O'), ('quibus', 'O'), ('rebus', 'O'), ('quam', 'O'), ('maturrime', 'O'), ('occurrendum', 'O'), ('putabat.', 'O'), Tree('ORG', [('Ipse', 'ORG'), ('autem', 'ORG'), ('Ariovistus', 'ORG')]), ('tantos', 'O'), ('sibi', 'O'), ('spiritus,', 'O'), ('tantam', 'O'), ('arrogantiam', 'O'), ('sumpserat,', 'O'), ('ut', 'O'), ('ferendus', 'O'), ('non', 'O'), ('videretur.', 'O'), ('Quam', 'O'), ('ob', 'O'), ('rem', 'O'), ('placuit', 'O'), ('ei', 'O'), ('ut', 'O'), ('ad', 'O'), ('Ariovistum', 'O'), ('legatos', 'O'), ('mitteret,', 'O'), ('qui', 'O'), ('ab', 'O'), ('eo', 'O'), ('postularent', 'O'), ('uti', 'O'), ('aliquem', 'O'), ('locum', 'O'), ('medium', 'O'), ('utrisque', 'O'), ('conloquio', 'O'), ('deligeret:', 'O'), ('velle', 'O'), ('sese', 'O'), ('de', 'O'), ('re', 'O'), ('publica', 'O'), ('et', 'O'), ('summis', 'O'), ('utriusque', 'O'), ('rebus', 'O'), ('cum', 'O'), ('eo', 'O'), ('agere.', 'O'), ('Ei', 'O'), ('legationi', 'O'), ('Ariovistus', 'O'), ('respondit:', 'O'), ('si', 'O'), ('quid', 'O'), ('ipsi', 'O'), ('a', 'O'), ('Caesare', 'O'), ('opus', 'O'), ('esset,', 'O'), ('sese', 'O'), ('ad', 'O'), ('eum', 'O'), ('venturum', 'O'), ('fuisse;', 'O'), ('si', 'O'), ('quid', 'O'), ('ille', 'O'), ('se', 'O'), ('velit,', 'O'), ('illum', 'O'), ('ad', 'O'), ('se', 'O'), ('venire', 'O'), ('oportere.', 'O'), Tree('PER', [('Praeterea', 'PER')]), ('se', 'O'), ('neque', 'O'), ('sine', 'O'), ('exercitu', 'O'), ('in', 'O'), ('eas', 'O'), ('partes', 'O'), ('Galliae', 'O'), ('venire', 'O'), ('audere', 'O'), ('quas', 'O'), ('Caesar', 'O'), ('possideret,', 'O'), ('neque', 'O'), ('exercitum', 'O'), ('sine', 'O'), ('magno', 'O'), ('commeatu', 'O'), ('atque', 'O'), ('molimento', 'O'), ('in', 'O'), ('unum', 'O'), ('locum', 'O'), ('contrahere', 'O'), ('posse.', 'O'), ('Sibi', 'O'), ('autem', 'O'), ('mirum', 'O'), ('videri', 'O'), ('quid', 'O'), ('in', 'O'), ('sua', 'O'), ('Gallia,', 'O'), ('quam', 'O'), ('bello', 'O'), ('vicisset,', 'O'), ('aut', 'O'), ('Caesari', 'O'), ('aut', 'O'), ('omnino', 'O'), ('populo', 'O'), ('Romano', 'O'), ('negotii', 'O'), ('esset.', 'O'), ('His', 'O'), ('responsis', 'O'), ('ad', 'O'), ('Caesarem', 'O'), ('relatis,', 'O'), ('iterum', 'O'), ('ad', 'O'), ('eum', 'O'), ('Caesar', 'O'), ('legatos', 'O'), ('cum', 'O'), ('his', 'O'), ('mandatis', 'O'), ('mittit:', 'O'), ('quoniam', 'O'), ('tanto', 'O'), ('suo', 'O'), ('populique', 'O'), ('Romani', 'O'), ('beneficio', 'O'), ('adfectus,', 'O'), ('cum', 'O'), ('in', 'O'), ('consulatu', 'O'), ('suo', 'O'), ('rex', 'O'), ('atque', 'O'), ('amicus', 'O'), ('a', 'O'), ('senatu', 'O'), ('appellatus', 'O'), ('esset,', 'O'), ('hanc', 'O'), ('sibi', 'O'), ('populoque', 'O'), ('Romano', 'O'), ('gratiam', 'O'), ('referret', 'O'), ('ut', 'O'), ('in', 'O'), ('conloquium', 'O'), ('venire', 'O'), ('invitatus', 'O'), ('gravaretur', 'O'), ('neque', 'O'), ('de', 'O'), ('communi', 'O'), ('re', 'O'), ('dicendum', 'O'), ('sibi', 'O'), ('et', 'O'), ('cognoscendum', 'O'), ('putaret,', 'O'), ('haec', 'O'), ('esse', 'O'), ('quae', 'O'), ('ab', 'O'), ('eo', 'O'), ('postularet:', 'O'), ('primum', 'O'), ('ne', 'O'), ('quam', 'O'), ('multitudinem', 'O'), ('hominum', 'O'), ('amplius', 'O'), ('trans', 'O'), ('Rhenum', 'O'), ('in', 'O'), ('Galliam', 'O'), ('traduceret;', 'O'), ('deinde', 'O'), ('obsides', 'O'), ('quos', 'O'), ('haberet', 'O'), ('ab', 'O'), ('Haeduis', 'O'), ('redderet', 'O'), ('Sequanisque', 'O'), ('permitteret', 'O'), ('ut', 'O'), ('quos', 'O'), ('illi', 'O'), ('haberent', 'O'), ('voluntate', 'O'), ('eius', 'O'), ('reddere', 'O'), ('illis', 'O'), ('liceret;', 'O'), ('neve', 'O'), ('Haeduos', 'O'), ('iniuria', 'O'), ('lacesseret', 'O'), ('neve', 'O'), ('his', 'O'), ('sociisque', 'O'), ('eorum', 'O'), ('bellum', 'O'), ('inferret.', 'O'), ('Si', 'O'), ('[id]', 'O'), ('ita', 'O'), ('fecisset,', 'O'), ('sibi', 'O'), ('populoque', 'O'), ('Romano', 'O'), ('perpetuam', 'O'), ('gratiam', 'O'), ('atque', 'O'), ('amicitiam', 'O'), ('cum', 'O'), ('eo', 'O'), ('futuram;', 'O'), ('si', 'O'), ('non', 'O'), ('impetraret,', 'O'), ('sese,', 'O'), ('quoniam', 'O'), Tree('PER', [('M.', 'PER'), ('Messala,', 'PER'), ('M.', 'PER'), ('Pisone', 'PER')]), ('consulibus', 'O'), ('senatus', 'O'), ('censuisset', 'O'), ('uti', 'O'), ('quicumque', 'O'), ('Galliam', 'O'), ('provinciam', 'O'), ('obtineret,', 'O'), ('quod', 'O'), ('commodo', 'O'), ('rei', 'O'), ('publicae', 'O'), ('facere', 'O'), ('posset,', 'O'), ('Haeduos', 'O'), ('ceterosque', 'O'), ('amicos', 'O'), ('populi', 'O'), ('Romani', 'O'), ('defenderet,', 'O'), ('se', 'O'), ('Haeduorum', 'O'), ('iniurias', 'O'), ('non', 'O'), ('neglecturum.', 'O'), ('Ad', 'O'), ('haec', 'O'), ('Ariovistus', 'O'), ('respondit:', 'O'), ('ius', 'O'), ('esse', 'O'), ('belli', 'O'), ('ut', 'O'), ('qui', 'O'), ('vicissent', 'O'), ('iis', 'O'), ('quos', 'O'), ('vicissent', 'O'), ('quem', 'O'), ('ad', 'O'), ('modum', 'O'), ('vellent', 'O'), ('imperarent.', 'O'), ('Item', 'O'), ('populum', 'O'), ('Romanum', 'O'), ('victis', 'O'), ('non', 'O'), ('ad', 'O'), ('alterius', 'O'), ('praescriptum,', 'O'), ('sed', 'O'), ('ad', 'O'), ('suum', 'O'), ('arbitrium', 'O'), ('imperare', 'O'), ('consuesse.', 'O'), ('Si', 'O'), ('ipse', 'O'), ('populo', 'O'), ('Romano', 'O'), ('non', 'O'), ('praescriberet', 'O'), ('quem', 'O'), ('ad', 'O'), ('modum', 'O'), ('suo', 'O'), ('iure', 'O'), ('uteretur,', 'O'), ('non', 'O'), ('oportere', 'O'), ('se', 'O'), ('a', 'O'), ('populo', 'O'), ('Romano', 'O'), ('in', 'O'), ('suo', 'O'), ('iure', 'O'), ('impediri.', 'O'), ('Haeduos', 'O'), ('sibi,', 'O'), ('quoniam', 'O'), ('belli', 'O'), ('fortunam', 'O'), ('temptassent', 'O'), ('et', 'O'), ('armis', 'O'), ('congressi', 'O'), ('ac', 'O'), ('superati', 'O'), ('essent,', 'O'), ('stipendiarios', 'O'), ('esse', 'O'), ('factos.', 'O'), Tree('PER', [('Magnam', 'PER'), ('Caesarem', 'PER')]), ('iniuriam', 'O'), ('facere,', 'O'), ('qui', 'O'), ('suo', 'O'), ('adventu', 'O'), ('vectigalia', 'O'), ('sibi', 'O'), ('deteriora', 'O'), ('faceret.', 'O'), ('Haeduis', 'O'), ('se', 'O'), ('obsides', 'O'), ('redditurum', 'O'), ('non', 'O'), ('esse', 'O'), ('neque', 'O'), ('his', 'O'), ('neque', 'O'), ('eorum', 'O'), ('sociis', 'O'), ('iniuria', 'O'), ('bellum', 'O'), ('inlaturum,', 'O'), ('si', 'O'), ('in', 'O'), ('eo', 'O'), ('manerent', 'O'), ('quod', 'O'), ('convenisset', 'O'), ('stipendiumque', 'O'), ('quotannis', 'O'), ('penderent;', 'O'), ('si', 'O'), ('id', 'O'), ('non', 'O'), ('fecissent,', 'O'), ('longe', 'O'), ('iis', 'O'), ('fraternum', 'O'), ('nomen', 'O'), ('populi', 'O'), ('Romani', 'O'), ('afuturum.', 'O'), ('Quod', 'O'), ('sibi', 'O'), ('Caesar', 'O'), ('denuntiaret', 'O'), ('se', 'O'), ('Haeduorum', 'O'), ('iniurias', 'O'), ('non', 'O'), ('neglecturum,', 'O'), ('neminem', 'O'), ('secum', 'O'), ('sine', 'O'), ('sua', 'O'), ('pernicie', 'O'), ('contendisse.', 'O'), ('Cum', 'O'), ('vellet,', 'O'), ('congrederetur:', 'O'), ('intellecturum', 'O'), ('quid', 'O'), ('invicti', 'O'), ('Germani,', 'O'), ('exercitatissimi', 'O'), ('in', 'O'), ('armis,', 'O'), ('qui', 'O'), ('inter', 'O'), ('annos', 'O'), ('XIIII', 'O'), ('tectum', 'O'), ('non', 'O'), ('subissent,', 'O'), ('virtute', 'O'), ('possent.', 'O'), ('Haec', 'O'), ('eodem', 'O'), ('tempore', 'O'), ('Caesari', 'O'), ('mandata', 'O'), ('referebantur', 'O'), ('et', 'O'), ('legati', 'O'), ('ab', 'O'), ('Haeduis', 'O'), ('et', 'O'), ('a', 'O'), Tree('LOC', [('Treveris', 'LOC')]), ('veniebant:', 'O'), ('Haedui', 'O'), ('questum', 'O'), ('quod', 'O'), ('Harudes,', 'O'), ('qui', 'O'), ('nuper', 'O'), ('in', 'O'), ('Galliam', 'O'), ('transportati', 'O'), ('essent,', 'O'), ('fines', 'O'), ('eorum', 'O'), ('popularentur:', 'O'), ('sese', 'O'), ('ne', 'O'), ('obsidibus', 'O'), ('quidem', 'O'), ('datis', 'O'), ('pacem', 'O'), ('Ariovisti', 'O'), ('redimere', 'O'), ('potuisse;', 'O'), ('Treveri', 'O'), ('autem,', 'O'), ('pagos', 'O'), ('centum', 'O'), ('Sueborum', 'O'), ('ad', 'O'), ('ripas', 'O'), ('Rheni', 'O'), ('consedisse,', 'O'), ('qui', 'O'), ('Rhenum', 'O'), ('transire', 'O'), ('conarentur;', 'O'), ('his', 'O'), ('praeesse', 'O'), ('Nasuam', 'O'), ('et', 'O'), ('Cimberium', 'O'), ('fratres.', 'O'), ('Quibus', 'O'), ('rebus', 'O'), Tree('PER', [('Caesar', 'PER')]), ('vehementer', 'O'), ('commotus', 'O'), ('maturandum', 'O'), ('sibi', 'O'), ('existimavit,', 'O'), ('ne,', 'O'), ('si', 'O'), ('nova', 'O'), ('manus', 'O'), ('Sueborum', 'O'), ('cum', 'O'), ('veteribus', 'O'), ('copiis', 'O'), ('Ariovisti', 'O'), ('sese', 'O'), ('coniunxisset,', 'O'), ('minus', 'O'), ('facile', 'O'), ('resisti', 'O'), ('posset.', 'O'), ('Itaque', 'O'), ('re', 'O'), ('frumentaria', 'O'), ('quam', 'O'), ('celerrime', 'O'), ('potuit', 'O'), ('comparata', 'O'), ('magnis', 'O'), ('itineribus', 'O'), ('ad', 'O'), ('Ariovistum', 'O'), ('contendit.', 'O'), ('Cum', 'O'), ('tridui', 'O'), ('viam', 'O'), ('processisset,', 'O'), ('nuntiatum', 'O'), ('est', 'O'), ('ei', 'O'), ('Ariovistum', 'O'), ('cum', 'O'), ('suis', 'O'), ('omnibus', 'O'), ('copiis', 'O'), ('ad', 'O'), ('occupandum', 'O'), ('Vesontionem,', 'O'), ('quod', 'O'), ('est', 'O'), ('oppidum', 'O'), ('maximum', 'O'), ('Sequanorum,', 'O'), ('contendere', 'O'), ('[triduique', 'O'), ('viam', 'O'), ('a', 'O'), ('suis', 'O'), ('finibus', 'O'), ('processisse].', 'O'), ('Id', 'O'), ('ne', 'O'), ('accideret,', 'O'), ('magnopere', 'O'), ('sibi', 'O'), ('praecavendum', 'O'), ('Caesar', 'O'), ('existimabat.', 'O'), ('Namque', 'O'), ('omnium', 'O'), ('rerum', 'O'), ('quae', 'O'), ('ad', 'O'), ('bellum', 'O'), ('usui', 'O'), ('erant', 'O'), ('summa', 'O'), ('erat', 'O'), ('in', 'O'), ('eo', 'O'), ('oppido', 'O'), ('facultas,', 'O'), ('idque', 'O'), ('natura', 'O'), ('loci', 'O'), ('sic', 'O'), ('muniebatur', 'O'), ('ut', 'O'), ('magnam', 'O'), ('ad', 'O'), ('ducendum', 'O'), ('bellum', 'O'), ('daret', 'O'), ('facultatem,', 'O'), ('propterea', 'O'), ('quod', 'O'), ('flumen', 'O'), ('[alduas]', 'O'), Tree('PER', [('Dubis', 'PER')]), ('ut', 'O'), ('circino', 'O'), ('circumductum', 'O'), ('paene', 'O'), ('totum', 'O'), ('oppidum', 'O'), ('cingit,', 'O'), ('reliquum', 'O'), ('spatium,', 'O'), ('quod', 'O'), ('est', 'O'), ('non', 'O'), ('amplius', 'O'), ('pedum', 'O'), ('MDC,', 'O'), ('qua', 'O'), ('flumen', 'O'), ('intermittit,', 'O'), ('mons', 'O'), ('continet', 'O'), ('magna', 'O'), ('altitudine,', 'O'), ('ita', 'O'), ('ut', 'O'), ('radices', 'O'), ('eius', 'O'), ('montis', 'O'), ('ex', 'O'), ('utraque', 'O'), ('parte', 'O'), ('ripae', 'O'), ('fluminis', 'O'), ('contingant,', 'O'), ('hunc', 'O'), ('murus', 'O'), ('circumdatus', 'O'), ('arcem', 'O'), ('efficit', 'O'), ('et', 'O'), ('cum', 'O'), ('oppido', 'O'), ('coniungit.', 'O'), Tree('PER', [('Huc', 'PER'), ('Caesar', 'PER')]), ('magnis', 'O'), ('nocturnis', 'O'), ('diurnisque', 'O'), ('itineribus', 'O'), ('contendit', 'O'), ('occupatoque', 'O'), ('oppido', 'O'), ('ibi', 'O'), ('praesidium', 'O'), ('conlocat.', 'O'), ('Dum', 'O'), ('paucos', 'O'), ('dies', 'O'), ('ad', 'O'), ('Vesontionem', 'O'), ('rei', 'O'), ('frumentariae', 'O'), ('commeatusque', 'O'), ('causa', 'O'), ('moratur,', 'O'), ('ex', 'O'), ('percontatione', 'O'), ('nostrorum', 'O'), ('vocibusque', 'O'), ('Gallorum', 'O'), ('ac', 'O'), ('mercatorum,', 'O'), ('qui', 'O'), ('ingenti', 'O'), ('magnitudine', 'O'), ('corporum', 'O'), ('Germanos,', 'O'), ('incredibili', 'O'), ('virtute', 'O'), ('atque', 'O'), ('exercitatione', 'O'), ('in', 'O'), ('armis', 'O'), ('esse', 'O'), ('praedicabant', 'O'), ('(saepe', 'O'), ('numero', 'O'), ('sese', 'O'), ('cum', 'O'), ('his', 'O'), ('congressos', 'O'), ('ne', 'O'), ('vultum', 'O'), ('quidem', 'O'), ('atque', 'O'), ('aciem', 'O'), ('oculorum', 'O'), ('dicebant', 'O'), ('ferre', 'O'), ('potuisse),', 'O'), ('tantus', 'O'), ('subito', 'O'), ('timor', 'O'), ('omnem', 'O'), ('exercitum', 'O'), ('occupavit', 'O'), ('ut', 'O'), ('non', 'O'), ('mediocriter', 'O'), ('omnium', 'O'), ('mentes', 'O'), ('animosque', 'O'), ('perturbaret.', 'O'), ('Hic', 'O'), ('primum', 'O'), ('ortus', 'O'), ('est', 'O'), ('a', 'O'), ('tribunis', 'O'), ('militum,', 'O'), ('praefectis,', 'O'), ('reliquisque', 'O'), ('qui', 'O'), ('ex', 'O'), ('urbe', 'O'), ('amicitiae', 'O'), ('causa', 'O'), ('Caesarem', 'O'), ('secuti', 'O'), ('non', 'O'), ('magnum', 'O'), ('in', 'O'), ('re', 'O'), ('militari', 'O'), ('usum', 'O'), ('habebant:', 'O'), ('quorum', 'O'), ('alius', 'O'), ('alia', 'O'), ('causa', 'O'), ('inlata,', 'O'), ('quam', 'O'), ('sibi', 'O'), ('ad', 'O'), ('proficiscendum', 'O'), ('necessariam', 'O'), ('esse', 'O'), ('diceret,', 'O'), ('petebat', 'O'), ('ut', 'O'), ('eius', 'O'), ('voluntate', 'O'), ('discedere', 'O'), ('liceret;', 'O'), ('non', 'O'), ('nulli', 'O'), ('pudore', 'O'), ('adducti,', 'O'), ('ut', 'O'), ('timoris', 'O'), ('suspicionem', 'O'), ('vitarent,', 'O'), ('remanebant.', 'O'), ('Hi', 'O'), ('neque', 'O'), ('vultum', 'O'), ('fingere', 'O'), ('neque', 'O'), ('interdum', 'O'), ('lacrimas', 'O'), ('tenere', 'O'), ('poterant:', 'O'), ('abditi', 'O'), ('in', 'O'), ('tabernaculis', 'O'), ('aut', 'O'), ('suum', 'O'), ('fatum', 'O'), ('querebantur', 'O'), ('aut', 'O'), ('cum', 'O'), ('familiaribus', 'O'), ('suis', 'O'), ('commune', 'O'), ('periculum', 'O'), ('miserabantur.', 'O'), ('Vulgo', 'O'), ('totis', 'O'), ('castris', 'O'), ('testamenta', 'O'), ('obsignabantur.', 'O'), ('Horum', 'O'), ('vocibus', 'O'), ('ac', 'O'), ('timore', 'O'), ('paulatim', 'O'), ('etiam', 'O'), ('ii', 'O'), ('qui', 'O'), ('magnum', 'O'), ('in', 'O'), ('castris', 'O'), ('usum', 'O'), ('habebant,', 'O'), ('milites', 'O'), ('centurionesque', 'O'), ('quique', 'O'), ('equitatui', 'O'), ('praeerant,', 'O'), ('perturbabantur.', 'O'), ('Qui', 'O'), ('se', 'O'), ('ex', 'O'), ('his', 'O'), ('minus', 'O'), ('timidos', 'O'), ('existimari', 'O'), ('volebant,', 'O'), ('non', 'O'), ('se', 'O'), ('hostem', 'O'), ('vereri,', 'O'), ('sed', 'O'), ('angustias', 'O'), ('itineris', 'O'), ('et', 'O'), ('magnitudinem', 'O'), ('silvarum', 'O'), ('quae', 'O'), ('intercederent', 'O'), ('inter', 'O'), ('ipsos', 'O'), ('atque', 'O'), ('Ariovistum,', 'O'), ('aut', 'O'), ('rem', 'O'), ('frumentariam,', 'O'), ('ut', 'O'), ('satis', 'O'), ('commode', 'O'), ('supportari', 'O'), ('posset,', 'O'), ('timere', 'O'), ('dicebant.', 'O'), ('Non', 'O'), ('nulli', 'O'), ('etiam', 'O'), ('Caesari', 'O'), ('nuntiabant,', 'O'), ('cum', 'O'), ('castra', 'O'), ('moveri', 'O'), ('ac', 'O'), ('signa', 'O'), ('ferri', 'O'), ('iussisset,', 'O'), ('non', 'O'), ('fore', 'O'), ('dicto', 'O'), ('audientes', 'O'), ('milites', 'O'), ('neque', 'O'), ('propter', 'O'), ('timorem', 'O'), ('signa', 'O'), ('laturos.', 'O'), ('Haec', 'O'), ('cum', 'O'), ('animadvertisset,', 'O'), ('convocato', 'O'), ('consilio', 'O'), ('omniumque', 'O'), ('ordinum', 'O'), ('ad', 'O'), ('id', 'O'), ('consilium', 'O'), ('adhibitis', 'O'), ('centurionibus,', 'O'), ('vehementer', 'O'), ('eos', 'O'), ('incusavit:', 'O'), ('primum,', 'O'), ('quod', 'O'), ('aut', 'O'), ('quam', 'O'), ('in', 'O'), ('partem', 'O'), ('aut', 'O'), ('quo', 'O'), ('consilio', 'O'), ('ducerentur', 'O'), ('sibi', 'O'), ('quaerendum', 'O'), ('aut', 'O'), ('cogitandum', 'O'), ('putarent.', 'O'), ('Ariovistum', 'O'), ('se', 'O'), ('consule', 'O'), ('cupidissime', 'O'), ('populi', 'O'), ('Romani', 'O'), ('amicitiam', 'O'), ('adpetisse;', 'O'), ('cur', 'O'), ('hunc', 'O'), ('tam', 'O'), ('temere', 'O'), ('quisquam', 'O'), ('ab', 'O'), ('officio', 'O'), ('discessurum', 'O'), ('iudicaret?', 'O'), ('Sibi', 'O'), ('quidem', 'O'), ('persuaderi', 'O'), ('cognitis', 'O'), ('suis', 'O'), ('postulatis', 'O'), ('atque', 'O'), ('aequitate', 'O'), ('condicionum', 'O'), ('perspecta', 'O'), ('eum', 'O'), ('neque', 'O'), ('suam', 'O'), ('neque', 'O'), ('populi', 'O'), ('Romani', 'O'), ('gratiam', 'O'), ('repudiaturum.', 'O'), ('Quod', 'O'), ('si', 'O'), ('furore', 'O'), ('atque', 'O'), ('amentia', 'O'), ('impulsum', 'O'), ('bellum', 'O'), ('intulisset,', 'O'), ('quid', 'O'), ('tandem', 'O'), ('vererentur?', 'O'), ('Aut', 'O'), ('cur', 'O'), ('de', 'O'), ('sua', 'O'), ('virtute', 'O'), ('aut', 'O'), ('de', 'O'), ('ipsius', 'O'), ('diligentia', 'O'), ('desperarent?', 'O'), ('Factum', 'O'), ('eius', 'O'), ('hostis', 'O'), ('periculum', 'O'), ('patrum', 'O'), ('nostrorum', 'O'), ('memoria', 'O'), Tree('ORG', [('Cimbris', 'ORG'), ('et', 'ORG'), ('Teutonis', 'ORG')]), ('a', 'O'), Tree('PER', [('C.', 'PER'), ('Mario', 'PER')]), ('pulsis', 'O'), ('[cum', 'O'), ('non', 'O'), ('minorem', 'O'), ('laudem', 'O'), ('exercitus', 'O'), ('quam', 'O'), ('ipse', 'O'), ('imperator', 'O'), ('meritus', 'O'), ('videbatur];', 'O'), ('factum', 'O'), ('etiam', 'O'), ('nuper', 'O'), ('in', 'O'), Tree('LOC', [('Italia', 'LOC')]), ('servili', 'O'), ('tumultu,', 'O'), ('quos', 'O'), ('tamen', 'O'), ('aliquid', 'O'), ('usus', 'O'), ('ac', 'O'), ('disciplina,', 'O'), ('quam', 'O'), ('a', 'O'), ('nobis', 'O'), ('accepissent,', 'O'), ('sublevarint.', 'O'), ('Ex', 'O'), ('quo', 'O'), ('iudicari', 'O'), ('posse', 'O'), ('quantum', 'O'), ('haberet', 'O'), ('in', 'O'), ('se', 'O'), ('boni', 'O'), ('constantia,', 'O'), ('propterea', 'O'), ('quod', 'O'), ('quos', 'O'), ('aliquam', 'O'), ('diu', 'O'), ('inermes', 'O'), ('sine', 'O'), ('causa', 'O'), ('timuissent', 'O'), ('hos', 'O'), ('postea', 'O'), ('armatos', 'O'), ('ac', 'O'), ('victores', 'O'), ('superassent.', 'O'), ('Denique', 'O'), ('hos', 'O'), ('esse', 'O'), ('eosdem', 'O'), Tree('PER', [('Germanos', 'PER')]), ('quibuscum', 'O'), ('saepe', 'O'), ('numero', 'O'), ('Helvetii', 'O'), ('congressi', 'O'), ('non', 'O'), ('solum', 'O'), ('in', 'O'), ('suis', 'O'), ('sed', 'O'), ('etiam', 'O'), ('in', 'O'), ('illorum', 'O'), ('finibus', 'O'), ('plerumque', 'O'), ('superarint,', 'O'), ('qui', 'O'), ('tamen', 'O'), ('pares', 'O'), ('esse', 'O'), ('nostro', 'O'), ('exercitui', 'O'), ('non', 'O'), ('potuerint.', 'O'), ('Si', 'O'), ('quos', 'O'), ('adversum', 'O'), ('proelium', 'O'), ('et', 'O'), ('fuga', 'O'), ('Gallorum', 'O'), ('commoveret,', 'O'), ('hos,', 'O'), ('si', 'O'), ('quaererent,', 'O'), ('reperire', 'O'), ('posse', 'O'), ('diuturnitate', 'O'), ('belli', 'O'), ('defatigatis', 'O'), ('Gallis', 'O'), ('Ariovistum,', 'O'), ('cum', 'O'), ('multos', 'O'), ('menses', 'O'), ('castris', 'O'), ('se', 'O'), ('ac', 'O'), ('paludibus', 'O'), ('tenuisset', 'O'), ('neque', 'O'), ('sui', 'O'), ('potestatem', 'O'), ('fecisset,', 'O'), ('desperantes', 'O'), ('iam', 'O'), ('de', 'O'), ('pugna', 'O'), ('et', 'O'), ('dispersos', 'O'), ('subito', 'O'), ('adortum', 'O'), ('magis', 'O'), ('ratione', 'O'), ('et', 'O'), ('consilio', 'O'), ('quam', 'O'), ('virtute', 'O'), ('vicisse.', 'O'), ('Cui', 'O'), ('rationi', 'O'), ('contra', 'O'), ('homines', 'O'), ('barbaros', 'O'), ('atque', 'O'), ('imperitos', 'O'), ('locus', 'O'), ('fuisset,', 'O'), ('hac', 'O'), ('ne', 'O'), ('ipsum', 'O'), ('quidem', 'O'), ('sperare', 'O'), ('nostros', 'O'), ('exercitus', 'O'), ('capi', 'O'), ('posse.', 'O'), ('Qui', 'O'), ('suum', 'O'), ('timorem', 'O'), ('in', 'O'), ('rei', 'O'), ('frumentariae', 'O'), ('simulationem', 'O'), ('angustiasque', 'O'), ('itineris', 'O'), ('conferrent,', 'O'), ('facere', 'O'), ('arroganter,', 'O'), ('cum', 'O'), ('aut', 'O'), ('de', 'O'), ('officio', 'O'), ('imperatoris', 'O'), ('desperare', 'O'), ('aut', 'O'), ('praescribere', 'O'), ('viderentur.', 'O'), ('Haec', 'O'), ('sibi', 'O'), ('esse', 'O'), ('curae;', 'O'), ('frumentum', 'O'), ('Sequanos,', 'O'), ('Leucos,', 'O'), ('Lingones', 'O'), ('subministrare,', 'O'), ('iamque', 'O'), ('esse', 'O'), ('in', 'O'), ('agris', 'O'), ('frumenta', 'O'), ('matura;', 'O'), ('de', 'O'), ('itinere', 'O'), ('ipsos', 'O'), ('brevi', 'O'), ('tempore', 'O'), ('iudicaturos.', 'O'), ('Quod', 'O'), ('non', 'O'), ('fore', 'O'), ('dicto', 'O'), ('audientes', 'O'), ('neque', 'O'), ('signa', 'O'), ('laturi', 'O'), ('dicantur,', 'O'), ('nihil', 'O'), ('se', 'O'), ('ea', 'O'), ('re', 'O'), ('commoveri:', 'O'), ('scire', 'O'), ('enim,', 'O'), ('quibuscumque', 'O'), ('exercitus', 'O'), ('dicto', 'O'), ('audiens', 'O'), ('non', 'O'), ('fuerit,', 'O'), ('aut', 'O'), ('male', 'O'), ('re', 'O'), ('gesta', 'O'), ('fortunam', 'O'), ('defuisse', 'O'), ('aut', 'O'), ('aliquo', 'O'), ('facinore', 'O'), ('comperto', 'O'), ('avaritiam', 'O'), ('esse', 'O'), ('convictam.', 'O'), ('Suam', 'O'), ('innocentiam', 'O'), ('perpetua', 'O'), ('vita,', 'O'), ('felicitatem', 'O'), ('Helvetiorum', 'O'), ('bello', 'O'), ('esse', 'O'), ('perspectam.', 'O'), ('Itaque', 'O'), ('se', 'O'), ('quod', 'O'), ('in', 'O'), ('longiorem', 'O'), ('diem', 'O'), ('conlaturus', 'O'), ('fuisset', 'O'), ('repraesentaturum', 'O'), ('et', 'O'), ('proxima', 'O'), ('nocte', 'O'), ('de', 'O'), ('quarta,', 'O'), ('vigilia', 'O'), ('castra', 'O'), ('moturum,', 'O'), ('ut', 'O'), ('quam', 'O'), ('primum', 'O'), ('intellegere', 'O'), ('posset', 'O'), ('utrum', 'O'), ('apud', 'O'), ('eos', 'O'), ('pudor', 'O'), ('atque', 'O'), ('officium', 'O'), ('an', 'O'), ('timor', 'O'), ('plus', 'O'), ('valeret.', 'O'), ('Quod', 'O'), ('si', 'O'), ('praeterea', 'O'), ('nemo', 'O'), ('sequatur,', 'O'), ('tamen', 'O'), ('se', 'O'), ('cum', 'O'), ('sola', 'O'), ('decima', 'O'), ('legione', 'O'), ('iturum,', 'O'), ('de', 'O'), ('qua', 'O'), ('non', 'O'), ('dubitet,', 'O'), ('sibique', 'O'), ('eam', 'O'), ('praetoriam', 'O'), ('cohortem', 'O'), ('futuram.', 'O'), Tree('ORG', [('Huic', 'ORG'), ('legioni', 'ORG'), ('Caesar', 'ORG')]), ('et', 'O'), ('indulserat', 'O'), ('praecipue', 'O'), ('et', 'O'), ('propter', 'O'), ('virtutem', 'O'), ('confidebat', 'O'), ('maxime.', 'O'), ('Hac', 'O'), ('oratione', 'O'), ('habita', 'O'), ('mirum', 'O'), ('in', 'O'), ('modum', 'O'), ('conversae', 'O'), ('sunt', 'O'), ('omnium', 'O'), ('mentes', 'O'), ('summaque', 'O'), ('alacritas', 'O'), ('et', 'O'), ('cupiditas', 'O'), ('belli', 'O'), ('gerendi', 'O'), ('innata', 'O'), ('est,', 'O'), ('princepsque', 'O'), ('X.', 'O'), ('legio', 'O'), ('per', 'O'), ('tribunos', 'O'), ('militum', 'O'), ('ei', 'O'), ('gratias', 'O'), ('egit', 'O'), ('quod', 'O'), ('de', 'O'), ('se', 'O'), ('optimum', 'O'), ('iudicium', 'O'), ('fecisset,', 'O'), ('seque', 'O'), ('esse', 'O'), ('ad', 'O'), ('bellum', 'O'), ('gerendum', 'O'), ('paratissimam', 'O'), ('confirmavit.', 'O'), ('Deinde', 'O'), ('reliquae', 'O'), ('legiones', 'O'), ('cum', 'O'), ('tribunis', 'O'), ('militum', 'O'), ('et', 'O'), ('primorum', 'O'), ('ordinum', 'O'), ('centurionibus', 'O'), ('egerunt', 'O'), ('uti', 'O'), ('Caesari', 'O'), ('satis', 'O'), ('facerent:', 'O'), ('se', 'O'), ('neque', 'O'), ('umquam', 'O'), ('dubitasse', 'O'), ('neque', 'O'), ('timuisse', 'O'), ('neque', 'O'), ('de', 'O'), ('summa', 'O'), ('belli', 'O'), ('suum', 'O'), ('iudicium', 'O'), ('sed', 'O'), ('imperatoris', 'O'), ('esse', 'O'), ('existimavisse.', 'O'), ('Eorum', 'O'), ('satisfactione', 'O'), ('accepta', 'O'), ('et', 'O'), ('itinere', 'O'), ('exquisito', 'O'), ('per', 'O'), ('Diviciacum,', 'O'), ('quod', 'O'), ('ex', 'O'), ('Gallis', 'O'), ('ei', 'O'), ('maximam', 'O'), ('fidem', 'O'), ('habebat,', 'O'), ('ut', 'O'), ('milium', 'O'), ('amplius', 'O'), ('quinquaginta', 'O'), ('circuitu', 'O'), ('locis', 'O'), ('apertis', 'O'), ('exercitum', 'O'), ('duceret,', 'O'), ('de', 'O'), ('quarta', 'O'), ('vigilia,', 'O'), ('ut', 'O'), ('dixerat,', 'O'), ('profectus', 'O'), ('est.', 'O'), ('Septimo', 'O'), ('die,', 'O'), ('cum', 'O'), ('iter', 'O'), ('non', 'O'), ('intermitteret,', 'O'), ('ab', 'O'), ('exploratoribus', 'O'), ('certior', 'O'), ('factus', 'O'), ('est', 'O'), ('Ariovisti', 'O'), ('copias', 'O'), ('a', 'O'), ('nostris', 'O'), ('milia', 'O'), ('passuum', 'O'), ('IIII', 'O'), ('et', 'O'), ('XX', 'O'), ('abesse.', 'O'), Tree('PER', [('Cognito', 'PER'), ('Caesaris', 'PER')]), ('adventu', 'O'), ('Ariovistus', 'O'), ('legatos', 'O'), ('ad', 'O'), ('eum', 'O'), ('mittit:', 'O'), ('quod', 'O'), ('antea', 'O'), ('de', 'O'), ('conloquio', 'O'), ('postulasset,', 'O'), ('id', 'O'), ('per', 'O'), ('se', 'O'), ('fieri', 'O'), ('licere,', 'O'), ('quoniam', 'O'), ('propius', 'O'), ('accessisset', 'O'), ('seque', 'O'), ('id', 'O'), ('sine', 'O'), ('periculo', 'O'), ('facere', 'O'), ('posse', 'O'), ('existimaret.', 'O'), ('Non', 'O'), ('respuit', 'O'), ('condicionem', 'O'), ('Caesar', 'O'), ('iamque', 'O'), ('eum', 'O'), ('ad', 'O'), ('sanitatem', 'O'), ('reverti', 'O'), ('arbitrabatur,', 'O'), ('cum', 'O'), ('id', 'O'), ('quod', 'O'), ('antea', 'O'), ('petenti', 'O'), ('denegasset', 'O'), ('ultro', 'O'), ('polliceretur,', 'O'), ('magnamque', 'O'), ('in', 'O'), ('spem', 'O'), ('veniebat', 'O'), ('pro', 'O'), ('suis', 'O'), ('tantis', 'O'), ('populique', 'O'), ('Romani', 'O'), ('in', 'O'), ('eum', 'O'), ('beneficiis', 'O'), ('cognitis', 'O'), ('suis', 'O'), ('postulatis', 'O'), ('fore', 'O'), ('uti', 'O'), ('pertinacia', 'O'), ('desisteret.', 'O'), ('Dies', 'O'), ('conloquio', 'O'), ('dictus', 'O'), ('est', 'O'), ('ex', 'O'), ('eo', 'O'), ('die', 'O'), ('quintus.', 'O'), ('Interim', 'O'), ('saepe', 'O'), ('cum', 'O'), ('legati', 'O'), ('ultro', 'O'), ('citroque', 'O'), ('inter', 'O'), ('eos', 'O'), ('mitterentur,', 'O'), ('Ariovistus', 'O'), ('postulavit', 'O'), ('ne', 'O'), ('quem', 'O'), ('peditem', 'O'), ('ad', 'O'), ('conloquium', 'O'), Tree('PER', [('Caesar', 'PER')]), ('adduceret:', 'O'), ('vereri', 'O'), ('se', 'O'), ('ne', 'O'), ('per', 'O'), ('insidias', 'O'), ('ab', 'O'), ('eo', 'O'), ('circumveniretur;', 'O'), ('uterque', 'O'), ('cum', 'O'), ('equitatu', 'O'), ('veniret:', 'O'), ('alia', 'O'), ('ratione', 'O'), ('sese', 'O'), ('non', 'O'), ('esse', 'O'), ('venturum.', 'O'), ('Caesar,', 'O'), ('quod', 'O'), ('neque', 'O'), ('conloquium', 'O'), ('interposita', 'O'), ('causa', 'O'), ('tolli', 'O'), ('volebat', 'O'), ('neque', 'O'), ('salutem', 'O'), ('suam', 'O'), ('Gallorum', 'O'), ('equitatui', 'O'), ('committere', 'O'), ('audebat,', 'O'), ('commodissimum', 'O'), ('esse', 'O'), ('statuit', 'O'), ('omnibus', 'O'), ('equis', 'O'), ('Gallis', 'O'), ('equitibus', 'O'), ('detractis', 'O'), ('eo', 'O'), ('legionarios', 'O'), ('milites', 'O'), ('legionis', 'O'), ('X.,', 'O'), ('cui', 'O'), ('quam', 'O'), ('maxime', 'O'), ('confidebat,', 'O'), ('imponere,', 'O'), ('ut', 'O'), ('praesidium', 'O'), ('quam', 'O'), ('amicissimum,', 'O'), ('si', 'O'), ('quid', 'O'), ('opus', 'O'), ('facto', 'O'), ('esset,', 'O'), ('haberet.', 'O'), ('Quod', 'O'), ('cum', 'O'), ('fieret,', 'O'), ('non', 'O'), ('inridicule', 'O'), ('quidam', 'O'), ('ex', 'O'), ('militibus', 'O'), ('X.', 'O'), ('legionis', 'O'), ('dixit:', 'O'), ('plus', 'O'), ('quam', 'O'), ('pollicitus', 'O'), ('esset', 'O'), ('Caesarem', 'O'), ('facere;', 'O'), ('pollicitum', 'O'), ('se', 'O'), ('in', 'O'), ('cohortis', 'O'), ('praetoriae', 'O'), ('loco', 'O'), ('X.', 'O'), ('legionem', 'O'), ('habiturum', 'O'), ('ad', 'O'), ('equum', 'O'), ('rescribere.', 'O'), ('Planities', 'O'), ('erat', 'O'), ('magna', 'O'), ('et', 'O'), ('in', 'O'), ('ea', 'O'), ('tumulus', 'O'), ('terrenus', 'O'), ('satis', 'O'), ('grandis.', 'O'), ('Hic', 'O'), ('locus', 'O'), ('aequum', 'O'), ('fere', 'O'), ('spatium', 'O'), ('a', 'O'), ('castris', 'O'), ('Ariovisti', 'O'), ('et', 'O'), Tree('PER', [('Caesaris', 'PER')]), ('aberat.', 'O'), ('Eo,', 'O'), ('ut', 'O'), ('erat', 'O'), ('dictum,', 'O'), ('ad', 'O'), ('conloquium', 'O'), ('venerunt.', 'O'), ('Legionem', 'O'), ('Caesar,', 'O'), ('quam', 'O'), ('equis', 'O'), ('devexerat,', 'O'), ('passibus', 'O'), ('CC', 'O'), ('ab', 'O'), ('eo', 'O'), ('tumulo', 'O'), ('constituit.', 'O'), ('Item', 'O'), ('equites', 'O'), ('Ariovisti', 'O'), ('pari', 'O'), ('intervallo', 'O'), ('constiterunt.', 'O'), ('Ariovistus', 'O'), ('ex', 'O'), ('equis', 'O'), ('ut', 'O'), ('conloquerentur', 'O'), ('et', 'O'), ('praeter', 'O'), ('se', 'O'), ('denos', 'O'), ('ad', 'O'), ('conloquium', 'O'), ('adducerent', 'O'), ('postulavit.', 'O'), Tree('ORG', [('Ubi', 'ORG')]), ('eo', 'O'), ('ventum', 'O'), ('est,', 'O'), Tree('PER', [('Caesar', 'PER')]), ('initio', 'O'), ('orationis', 'O'), ('sua', 'O'), ('senatusque', 'O'), ('in', 'O'), ('eum', 'O'), ('beneficia', 'O'), ('commemoravit,', 'O'), ('quod', 'O'), ('rex', 'O'), ('appellatus', 'O'), ('esset', 'O'), ('a', 'O'), ('senatu,', 'O'), ('quod', 'O'), ('amicus,', 'O'), ('quod', 'O'), ('munera', 'O'), ('amplissime', 'O'), ('missa;', 'O'), ('quam', 'O'), ('rem', 'O'), ('et', 'O'), ('paucis', 'O'), ('contigisse', 'O'), ('et', 'O'), ('pro', 'O'), ('magnis', 'O'), ('hominum', 'O'), ('officiis', 'O'), ('consuesse', 'O'), ('tribui', 'O'), ('docebat;', 'O'), ('illum,', 'O'), ('cum', 'O'), ('neque', 'O'), ('aditum', 'O'), ('neque', 'O'), ('causam', 'O'), ('postulandi', 'O'), ('iustam', 'O'), ('haberet,', 'O'), ('beneficio', 'O'), ('ac', 'O'), ('liberalitate', 'O'), ('sua', 'O'), ('ac', 'O'), ('senatus', 'O'), ('ea', 'O'), ('praemia', 'O'), ('consecutum.', 'O'), ('Docebat', 'O'), ('etiam', 'O'), ('quam', 'O'), ('veteres', 'O'), ('quamque', 'O'), ('iustae', 'O'), ('causae', 'O'), ('necessitudinis', 'O'), ('ipsis', 'O'), ('cum', 'O'), ('Haeduis', 'O'), ('intercederent,', 'O'), ('quae', 'O'), ('senatus', 'O'), ('consulta', 'O'), ('quotiens', 'O'), ('quamque', 'O'), ('honorifica', 'O'), ('in', 'O'), ('eos', 'O'), ('facta', 'O'), ('essent,', 'O'), ('ut', 'O'), ('omni', 'O'), ('tempore', 'O'), ('totius', 'O'), ('Galliae', 'O'), ('principatum', 'O'), ('Haedui', 'O'), ('tenuissent,', 'O'), ('prius', 'O'), ('etiam', 'O'), ('quam', 'O'), ('nostram', 'O'), ('amicitiam', 'O'), ('adpetissent.', 'O'), ('Populi', 'O'), ('Romani', 'O'), ('hanc', 'O'), ('esse', 'O'), ('consuetudinem,', 'O'), ('ut', 'O'), ('socios', 'O'), ('atque', 'O'), ('amicos', 'O'), ('non', 'O'), ('modo', 'O'), ('sui', 'O'), ('nihil', 'O'), ('deperdere,', 'O'), ('sed', 'O'), ('gratia,', 'O'), ('dignitate,', 'O'), ('honore', 'O'), ('auctiores', 'O'), ('velit', 'O'), ('esse;', 'O'), ('quod', 'O'), ('vero', 'O'), ('ad', 'O'), ('amicitiam', 'O'), ('populi', 'O'), ('Romani', 'O'), ('attulissent,', 'O'), ('id', 'O'), ('iis', 'O'), ('eripi', 'O'), ('quis', 'O'), ('pati', 'O'), ('posset?', 'O'), ('Postulavit', 'O'), ('deinde', 'O'), ('eadem', 'O'), ('quae', 'O'), ('legatis', 'O'), ('in', 'O'), ('mandatis', 'O'), ('dederat:', 'O'), ('ne', 'O'), ('aut', 'O'), ('Haeduis', 'O'), ('aut', 'O'), ('eorum', 'O'), ('sociis', 'O'), ('bellum', 'O'), ('inferret,', 'O'), ('obsides', 'O'), ('redderet,', 'O'), ('si', 'O'), ('nullam', 'O'), ('partem', 'O'), ('Germanorum', 'O'), ('domum', 'O'), ('remittere', 'O'), ('posset,', 'O'), ('at', 'O'), ('ne', 'O'), ('quos', 'O'), ('amplius', 'O'), ('Rhenum', 'O'), ('transire', 'O'), ('pateretur.', 'O'), Tree('PER', [('Ariovistus', 'PER')]), ('ad', 'O'), ('postulata', 'O'), Tree('PER', [('Caesaris', 'PER')]), ('pauca', 'O'), ('respondit,', 'O'), ('de', 'O'), ('suis', 'O'), ('virtutibus', 'O'), ('multa', 'O'), ('praedicavit:', 'O'), ('transisse', 'O'), ('Rhenum', 'O'), ('sese', 'O'), ('non', 'O'), ('sua', 'O'), ('sponte,', 'O'), ('sed', 'O'), ('rogatum', 'O'), ('et', 'O'), ('arcessitum', 'O'), ('a', 'O'), ('Gallis;', 'O'), ('non', 'O'), ('sine', 'O'), ('magna', 'O'), ('spe', 'O'), ('magnisque', 'O'), ('praemiis', 'O'), ('domum', 'O'), ('propinquosque', 'O'), ('reliquisse;', 'O'), ('sedes', 'O'), ('habere', 'O'), ('in', 'O'), Tree('LOC', [('Gallia', 'LOC')]), ('ab', 'O'), ('ipsis', 'O'), ('concessas,', 'O'), ('obsides', 'O'), ('ipsorum', 'O'), ('voluntate', 'O'), ('datos;', 'O'), ('stipendium', 'O'), ('capere', 'O'), ('iure', 'O'), ('belli,', 'O'), ('quod', 'O'), ('victores', 'O'), ('victis', 'O'), ('imponere', 'O'), ('consuerint.', 'O'), ('Non', 'O'), ('sese', 'O'), ('Gallis', 'O'), ('sed', 'O'), Tree('PER', [('Gallos', 'PER')]), ('sibi', 'O'), ('bellum', 'O'), ('intulisse:', 'O'), ('omnes', 'O'), ('Galliae', 'O'), ('civitates', 'O'), ('ad', 'O'), ('se', 'O'), ('oppugnandum', 'O'), ('venisse', 'O'), ('ac', 'O'), ('contra', 'O'), ('se', 'O'), ('castra', 'O'), ('habuisse;', 'O'), ('eas', 'O'), ('omnes', 'O'), ('copias', 'O'), ('a', 'O'), ('se', 'O'), ('uno', 'O'), ('proelio', 'O'), ('pulsas', 'O'), ('ac', 'O'), ('superatas', 'O'), ('esse.', 'O'), ('Si', 'O'), ('iterum', 'O'), ('experiri', 'O'), ('velint,', 'O'), ('se', 'O'), ('iterum', 'O'), ('paratum', 'O'), ('esse', 'O'), ('decertare;', 'O'), ('si', 'O'), ('pace', 'O'), ('uti', 'O'), ('velint,', 'O'), ('iniquum', 'O'), ('esse', 'O'), ('de', 'O'), ('stipendio', 'O'), ('recusare,', 'O'), ('quod', 'O'), ('sua', 'O'), ('voluntate', 'O'), ('ad', 'O'), ('id', 'O'), ('tempus', 'O'), ('pependerint.', 'O'), ('Amicitiam', 'O'), ('populi', 'O'), ('Romani', 'O'), ('sibi', 'O'), ('ornamento', 'O'), ('et', 'O'), ('praesidio,', 'O'), ('non', 'O'), ('detrimento', 'O'), ('esse', 'O'), ('oportere,', 'O'), ('atque', 'O'), ('se', 'O'), ('hac', 'O'), ('spe', 'O'), ('petisse.', 'O'), ('Si', 'O'), ('per', 'O'), ('populum', 'O'), ('Romanum', 'O'), ('stipendium', 'O'), ('remittatur', 'O'), ('et', 'O'), ('dediticii', 'O'), ('subtrahantur,', 'O'), ('non', 'O'), ('minus', 'O'), ('libenter', 'O'), ('sese', 'O'), ('recusaturum', 'O'), ('populi', 'O'), ('Romani', 'O'), ('amicitiam', 'O'), ('quam', 'O'), ('adpetierit.', 'O'), ('Quod', 'O'), ('multitudinem', 'O'), ('Germanorum', 'O'), ('in', 'O'), ('Galliam', 'O'), ('traducat,', 'O'), ('id', 'O'), ('se', 'O'), ('sui', 'O'), ('muniendi,', 'O'), ('non', 'O'), ('Galliae', 'O'), ('oppugnandae', 'O'), ('causa', 'O'), ('facere;', 'O'), ('eius', 'O'), ('rei', 'O'), ('testimonium', 'O'), ('esse', 'O'), ('quod', 'O'), ('nisi', 'O'), ('rogatus', 'O'), ('non', 'O'), ('venerit', 'O'), ('et', 'O'), ('quod', 'O'), ('bellum', 'O'), ('non', 'O'), ('intulerit', 'O'), ('sed', 'O'), ('defenderit.', 'O'), ('Se', 'O'), ('prius', 'O'), ('in', 'O'), ('Galliam', 'O'), ('venisse', 'O'), ('quam', 'O'), ('populum', 'O'), ('Romanum.', 'O'), ('Numquam', 'O'), ('ante', 'O'), ('hoc', 'O'), ('tempus', 'O'), ('exercitum', 'O'), ('populi', 'O'), ('Romani', 'O'), ('Galliae', 'O'), ('provinciae', 'O'), ('finibus', 'O'), ('egressum.', 'O'), ('Quid', 'O'), ('sibi', 'O'), ('vellet?', 'O'), ('Cur', 'O'), ('in', 'O'), ('suas', 'O'), ('possessiones', 'O'), ('veniret?', 'O'), ('Provinciam', 'O'), ('suam', 'O'), ('hanc', 'O'), ('esse', 'O'), ('Galliam,', 'O'), ('sicut', 'O'), ('illam', 'O'), ('nostram.', 'O'), ('Ut', 'O'), ('ipsi', 'O'), ('concedi', 'O'), ('non', 'O'), ('oporteret,', 'O'), ('si', 'O'), ('in', 'O'), ('nostros', 'O'), ('fines', 'O'), ('impetum', 'O'), ('faceret,', 'O'), ('sic', 'O'), ('item', 'O'), ('nos', 'O'), ('esse', 'O'), ('iniquos,', 'O'), ('quod', 'O'), ('in', 'O'), ('suo', 'O'), ('iure', 'O'), ('se', 'O'), ('interpellaremus.', 'O'), ('Quod', 'O'), ('fratres', 'O'), ('a', 'O'), ('senatu', 'O'), ('Haeduos', 'O'), ('appellatos', 'O'), ('diceret,', 'O'), ('non', 'O'), ('se', 'O'), ('tam', 'O'), ('barbarum', 'O'), ('neque', 'O'), ('tam', 'O'), ('imperitum', 'O'), ('esse', 'O'), ('rerum', 'O'), ('ut', 'O'), ('non', 'O'), ('sciret', 'O'), ('neque', 'O'), ('bello', 'O'), ('Allobrogum', 'O'), ('proximo', 'O'), Tree('PER', [('Haeduos', 'PER'), ('Romanis', 'PER')]), ('auxilium', 'O'), ('tulisse', 'O'), ('neque', 'O'), ('ipsos', 'O'), ('in', 'O'), ('iis', 'O'), ('contentionibus', 'O'), ('quas', 'O'), ('Haedui', 'O'), ('secum', 'O'), ('et', 'O'), ('cum', 'O'), ('Sequanis', 'O'), ('habuissent', 'O'), ('auxilio', 'O'), ('populi', 'O'), ('Romani', 'O'), ('usos', 'O'), ('esse.', 'O'), ('Debere', 'O'), ('se', 'O'), ('suspicari', 'O'), ('simulata', 'O'), ('Caesarem', 'O'), ('amicitia,', 'O'), ('quod', 'O'), ('exercitum', 'O'), ('in', 'O'), Tree('LOC', [('Gallia', 'LOC')]), ('habeat,', 'O'), ('sui', 'O'), ('opprimendi', 'O'), ('causa', 'O'), ('habere.', 'O'), ('Qui', 'O'), ('nisi', 'O'), ('decedat', 'O'), ('atque', 'O'), ('exercitum', 'O'), ('deducat', 'O'), ('ex', 'O'), ('his', 'O'), ('regionibus,', 'O'), ('sese', 'O'), ('illum', 'O'), ('non', 'O'), ('pro', 'O'), ('amico', 'O'), ('sed', 'O'), ('pro', 'O'), ('hoste', 'O'), ('habiturum.', 'O'), ('Quod', 'O'), ('si', 'O'), ('eum', 'O'), ('interfecerit,', 'O'), ('multis', 'O'), ('sese', 'O'), ('nobilibus', 'O'), ('principibusque', 'O'), ('populi', 'O'), ('Romani', 'O'), ('gratum', 'O'), ('esse', 'O'), ('facturum', 'O'), ('(id', 'O'), ('se', 'O'), ('ab', 'O'), ('ipsis', 'O'), ('per', 'O'), ('eorum', 'O'), ('nuntios', 'O'), ('compertum', 'O'), ('habere),', 'O'), ('quorum', 'O'), ('omnium', 'O'), ('gratiam', 'O'), ('atque', 'O'), ('amicitiam', 'O'), ('eius', 'O'), ('morte', 'O'), ('redimere', 'O'), ('posset.', 'O'), ('Quod', 'O'), ('si', 'O'), ('decessisset', 'O'), ('et', 'O'), ('liberam', 'O'), ('possessionem', 'O'), ('Galliae', 'O'), ('sibi', 'O'), ('tradidisset,', 'O'), ('magno', 'O'), ('se', 'O'), ('illum', 'O'), ('praemio', 'O'), ('remuneraturum', 'O'), ('et', 'O'), ('quaecumque', 'O'), ('bella', 'O'), ('geri', 'O'), ('vellet', 'O'), ('sine', 'O'), ('ullo', 'O'), ('eius', 'O'), ('labore', 'O'), ('et', 'O'), ('periculo', 'O'), ('confecturum.', 'O'), ('Multa', 'O'), ('a', 'O'), Tree('PER', [('Caesare', 'PER')]), ('in', 'O'), ('eam', 'O'), ('sententiam', 'O'), ('dicta', 'O'), ('sunt', 'O'), ('quare', 'O'), ('negotio', 'O'), ('desistere', 'O'), ('non', 'O'), ('posset:', 'O'), ('neque', 'O'), ('suam', 'O'), ('neque', 'O'), ('populi', 'O'), ('Romani', 'O'), ('consuetudinem', 'O'), ('pati', 'O'), ('ut', 'O'), ('optime', 'O'), ('meritos', 'O'), ('socios', 'O'), ('desereret,', 'O'), ('neque', 'O'), ('se', 'O'), ('iudicare', 'O'), ('Galliam', 'O'), ('potius', 'O'), ('esse', 'O'), ('Ariovisti', 'O'), ('quam', 'O'), ('populi', 'O'), ('Romani.', 'O'), Tree('PER', [('Bello', 'PER')]), ('superatos', 'O'), ('esse', 'O'), ('Arvernos', 'O'), ('et', 'O'), ('Rutenos', 'O'), ('a', 'O'), Tree('PER', [('Q.', 'PER'), ('Fabio', 'PER')]), ('Maximo,', 'O'), ('quibus', 'O'), ('populus', 'O'), Tree('PER', [('Romanus', 'PER')]), ('ignovisset', 'O'), ('neque', 'O'), ('in', 'O'), ('provinciam', 'O'), ('redegisset', 'O'), ('neque', 'O'), ('stipendium', 'O'), ('posuisset.', 'O'), ('Quod', 'O'), ('si', 'O'), ('antiquissimum', 'O'), ('quodque', 'O'), ('tempus', 'O'), ('spectari', 'O'), ('oporteret,', 'O'), ('populi', 'O'), ('Romani', 'O'), ('iustissimum', 'O'), ('esse', 'O'), ('in', 'O'), Tree('LOC', [('Gallia', 'LOC')]), ('imperium;', 'O'), ('si', 'O'), ('iudicium', 'O'), ('senatus', 'O'), ('observari', 'O'), ('oporteret,', 'O'), ('liberam', 'O'), ('debere', 'O'), ('esse', 'O'), ('Galliam,', 'O'), ('quam', 'O'), ('bello', 'O'), ('victam', 'O'), ('suis', 'O'), ('legibus', 'O'), ('uti', 'O'), ('voluisset.', 'O'), ('Dum', 'O'), ('haec', 'O'), ('in', 'O'), ('conloquio', 'O'), ('geruntur,', 'O'), ('Caesari', 'O'), ('nuntiatum', 'O'), ('est', 'O'), ('equites', 'O'), ('Ariovisti', 'O'), ('propius', 'O'), ('tumulum', 'O'), ('accedere', 'O'), ('et', 'O'), ('ad', 'O'), ('nostros', 'O'), ('adequitare,', 'O'), ('lapides', 'O'), ('telaque', 'O'), ('in', 'O'), ('nostros', 'O'), ('coicere.', 'O'), Tree('PER', [('Caesar', 'PER')]), ('loquendi', 'O'), ('finem', 'O'), ('fecit', 'O'), ('seque', 'O'), ('ad', 'O'), ('suos', 'O'), ('recepit', 'O'), ('suisque', 'O'), ('imperavit', 'O'), ('ne', 'O'), ('quod', 'O'), ('omnino', 'O'), ('telum', 'O'), ('in', 'O'), ('hostes', 'O'), ('reicerent.', 'O'), ('Nam', 'O'), ('etsi', 'O'), ('sine', 'O'), ('ullo', 'O'), ('periculo', 'O'), ('legionis', 'O'), ('delectae', 'O'), ('cum', 'O'), ('equitatu', 'O'), ('proelium', 'O'), ('fore', 'O'), ('videbat,', 'O'), ('tamen', 'O'), ('committendum', 'O'), ('non', 'O'), ('putabat', 'O'), ('ut,', 'O'), ('pulsis', 'O'), ('hostibus,', 'O'), ('dici', 'O'), ('posset', 'O'), ('eos', 'O'), ('ab', 'O'), ('se', 'O'), ('per', 'O'), ('fidem', 'O'), ('in', 'O'), ('conloquio', 'O'), ('circumventos.', 'O'), ('Postea', 'O'), ('quam', 'O'), ('in', 'O'), ('vulgus', 'O'), ('militum', 'O'), ('elatum', 'O'), ('est', 'O'), ('qua', 'O'), ('arrogantia', 'O'), ('in', 'O'), ('conloquio', 'O'), ('Ariovistus', 'O'), ('usus', 'O'), ('omni', 'O'), Tree('PER', [('Gallia', 'PER'), ('Romanis', 'PER')]), ('interdixisset,', 'O'), ('impetumque', 'O'), ('in', 'O'), ('nostros', 'O'), ('eius', 'O'), ('equites', 'O'), ('fecissent,', 'O'), ('eaque', 'O'), ('res', 'O'), ('conloquium', 'O'), ('ut', 'O'), ('diremisset,', 'O'), ('multo', 'O'), ('maior', 'O'), ('alacritas', 'O'), ('studiumque', 'O'), ('pugnandi', 'O'), ('maius', 'O'), ('exercitui', 'O'), ('iniectum', 'O'), ('est.', 'O'), ('Biduo', 'O'), ('post', 'O'), ('Ariovistus', 'O'), ('ad', 'O'), ('Caesarem', 'O'), ('legatos', 'O'), ('misit:', 'O'), ('velle', 'O'), ('se', 'O'), ('de', 'O'), ('iis', 'O'), ('rebus', 'O'), ('quae', 'O'), ('inter', 'O'), ('eos', 'O'), ('egi', 'O'), ('coeptae', 'O'), ('neque', 'O'), ('perfectae', 'O'), ('essent', 'O'), ('agere', 'O'), ('cum', 'O'), ('eo:', 'O'), ('uti', 'O'), ('aut', 'O'), ('iterum', 'O'), ('conloquio', 'O'), ('diem', 'O'), ('constitueret', 'O'), ('aut,', 'O'), ('si', 'O'), ('id', 'O'), ('minus', 'O'), ('vellet,', 'O'), ('ex', 'O'), ('suis', 'O'), ('legatis', 'O'), ('aliquem', 'O'), ('ad', 'O'), ('se', 'O'), ('mitteret.', 'O'), Tree('PER', [('Conloquendi', 'PER'), ('Caesari', 'PER')]), ('causa', 'O'), ('visa', 'O'), ('non', 'O'), ('est,', 'O'), ('et', 'O'), ('eo', 'O'), ('magis', 'O'), ('quod', 'O'), ('pridie', 'O'), ('eius', 'O'), ('diei', 'O'), ('Germani', 'O'), ('retineri', 'O'), ('non', 'O'), ('potuerant', 'O'), ('quin', 'O'), ('tela', 'O'), ('in', 'O'), ('nostros', 'O'), ('coicerent.', 'O'), ('Legatum', 'O'), ('ex', 'O'), ('suis', 'O'), ('sese', 'O'), ('magno', 'O'), ('cum', 'O'), ('periculo', 'O'), ('ad', 'O'), ('eum', 'O'), ('missurum', 'O'), ('et', 'O'), ('hominibus', 'O'), ('feris', 'O'), ('obiecturum', 'O'), ('existimabat.', 'O'), ('Commodissimum', 'O'), ('visum', 'O'), ('est', 'O'), ('C.', 'O'), ('Valerium', 'O'), ('Procillum,', 'O'), Tree('PER', [('C.', 'PER'), ('Valerii', 'PER'), ('Caburi', 'PER')]), ('filium,', 'O'), ('summa', 'O'), ('virtute', 'O'), ('et', 'O'), ('humanitate', 'O'), ('adulescentem,', 'O'), ('cuius', 'O'), ('pater', 'O'), ('a', 'O'), Tree('PER', [('C.', 'PER'), ('Valerio', 'PER'), ('Flacco', 'PER')]), ('civitate', 'O'), ('donatus', 'O'), ('erat,', 'O'), ('et', 'O'), ('propter', 'O'), ('fidem', 'O'), ('et', 'O'), ('propter', 'O'), ('linguae', 'O'), ('Gallicae', 'O'), ('scientiam,', 'O'), ('qua', 'O'), ('multa', 'O'), ('iam', 'O'), ('Ariovistus', 'O'), ('longinqua', 'O'), ('consuetudine', 'O'), ('utebatur,', 'O'), ('et', 'O'), ('quod', 'O'), ('in', 'O'), ('eo', 'O'), ('peccandi', 'O'), ('Germanis', 'O'), ('causa', 'O'), ('non', 'O'), ('esset,', 'O'), ('ad', 'O'), ('eum', 'O'), ('mittere,', 'O'), ('et', 'O'), ('una', 'O'), ('M.', 'O'), ('Metium,', 'O'), ('qui', 'O'), ('hospitio', 'O'), ('Ariovisti', 'O'), ('utebatur.', 'O'), ('His', 'O'), ('mandavit', 'O'), ('quae', 'O'), ('diceret', 'O'), ('Ariovistus', 'O'), ('cognoscerent', 'O'), ('et', 'O'), ('ad', 'O'), ('se', 'O'), ('referrent.', 'O'), ('Quos', 'O'), ('cum', 'O'), ('apud', 'O'), ('se', 'O'), ('in', 'O'), ('castris', 'O'), ('Ariovistus', 'O'), ('conspexisset,', 'O'), ('exercitu', 'O'), ('suo', 'O'), ('praesente', 'O'), ('conclamavit:', 'O'), ('quid', 'O'), ('ad', 'O'), ('se', 'O'), ('venirent?', 'O'), ('an', 'O'), ('speculandi', 'O'), ('causa?', 'O'), ('Conantes', 'O'), ('dicere', 'O'), ('prohibuit', 'O'), ('et', 'O'), ('in', 'O'), ('catenas', 'O'), ('coniecit.', 'O'), ('Eodem', 'O'), ('die', 'O'), ('castra', 'O'), ('promovit', 'O'), ('et', 'O'), ('milibus', 'O'), ('passuum', 'O'), ('VI', 'O'), ('a', 'O'), Tree('PER', [('Caesaris', 'PER')]), ('castris', 'O'), ('sub', 'O'), ('monte', 'O'), ('consedit.', 'O'), ('Postridie', 'O'), ('eius', 'O'), ('diei', 'O'), ('praeter', 'O'), ('castra', 'O'), Tree('PER', [('Caesaris', 'PER')]), ('suas', 'O'), ('copias', 'O'), ('traduxit', 'O'), ('et', 'O'), ('milibus', 'O'), ('passuum', 'O'), ('duobus', 'O'), ('ultra', 'O'), ('eum', 'O'), ('castra', 'O'), ('fecit', 'O'), ('eo', 'O'), ('consilio', 'O'), ('uti', 'O'), ('frumento', 'O'), ('commeatuque', 'O'), ('qui', 'O'), ('ex', 'O'), ('Sequanis', 'O'), ('et', 'O'), ('Haeduis', 'O'), ('supportaretur', 'O'), ('Caesarem', 'O'), ('intercluderet.', 'O'), ('Ex', 'O'), ('eo', 'O'), ('die', 'O'), ('dies', 'O'), ('continuos', 'O'), Tree('PER', [('V', 'PER'), ('Caesar', 'PER')]), ('pro', 'O'), ('castris', 'O'), ('suas', 'O'), ('copias', 'O'), ('produxit', 'O'), ('et', 'O'), ('aciem', 'O'), ('instructam', 'O'), ('habuit,', 'O'), ('ut,', 'O'), ('si', 'O'), ('vellet', 'O'), ('Ariovistus', 'O'), ('proelio', 'O'), ('contendere,', 'O'), ('ei', 'O'), ('potestas', 'O'), ('non', 'O'), ('deesset.', 'O'), ('Ariovistus', 'O'), ('his', 'O'), ('omnibus', 'O'), ('diebus', 'O'), ('exercitum', 'O'), ('castris', 'O'), ('continuit,', 'O'), ('equestri', 'O'), ('proelio', 'O'), ('cotidie', 'O'), ('contendit.', 'O'), Tree('PER', [('Genus', 'PER')]), ('hoc', 'O'), ('erat', 'O'), ('pugnae,', 'O'), ('quo', 'O'), ('se', 'O'), ('Germani', 'O'), ('exercuerant:', 'O'), ('equitum', 'O'), ('milia', 'O'), ('erant', 'O'), ('VI,', 'O'), ('totidem', 'O'), ('numero', 'O'), ('pedites', 'O'), ('velocissimi', 'O'), ('ac', 'O'), ('fortissimi,', 'O'), ('quos', 'O'), ('ex', 'O'), ('omni', 'O'), ('copia', 'O'), ('singuli', 'O'), ('singulos', 'O'), ('suae', 'O'), ('salutis', 'O'), ('causa', 'O'), ('delegerant:', 'O'), ('cum', 'O'), ('his', 'O'), ('in', 'O'), ('proeliis', 'O'), ('versabantur,', 'O'), ('ad', 'O'), ('eos', 'O'), ('se', 'O'), ('equites', 'O'), ('recipiebant;', 'O'), ('hi,', 'O'), ('si', 'O'), ('quid', 'O'), ('erat', 'O'), ('durius,', 'O'), ('concurrebant,', 'O'), ('si', 'O'), ('qui', 'O'), ('graviore', 'O'), ('vulnere', 'O'), ('accepto', 'O'), ('equo', 'O'), ('deciderat,', 'O'), ('circumsistebant;', 'O'), ('si', 'O'), ('quo', 'O'), ('erat', 'O'), ('longius', 'O'), ('prodeundum', 'O'), ('aut', 'O'), ('celerius', 'O'), ('recipiendum,', 'O'), ('tanta', 'O'), ('erat', 'O'), ('horum', 'O'), ('exercitatione', 'O'), ('celeritas', 'O'), ('ut', 'O'), ('iubis', 'O'), ('sublevati', 'O'), ('equorum', 'O'), ('cursum', 'O'), ('adaequarent.', 'O'), Tree('ORG', [('Ubi', 'ORG')]), ('eum', 'O'), ('castris', 'O'), ('se', 'O'), ('tenere', 'O'), Tree('PER', [('Caesar', 'PER')]), ('intellexit,', 'O'), ('ne', 'O'), ('diutius', 'O'), ('commeatu', 'O'), ('prohiberetur,', 'O'), ('ultra', 'O'), ('eum', 'O'), ('locum,', 'O'), ('quo', 'O'), ('in', 'O'), ('loco', 'O'), ('Germani', 'O'), ('consederant,', 'O'), ('circiter', 'O'), ('passus', 'O'), ('DC', 'O'), ('ab', 'O'), ('his,', 'O'), ('castris', 'O'), ('idoneum', 'O'), ('locum', 'O'), ('delegit', 'O'), ('acieque', 'O'), ('triplici', 'O'), ('instructa', 'O'), ('ad', 'O'), ('eum', 'O'), ('locum', 'O'), ('venit.', 'O'), ('Primam', 'O'), ('et', 'O'), ('secundam', 'O'), ('aciem', 'O'), ('in', 'O'), ('armis', 'O'), ('esse,', 'O'), ('tertiam', 'O'), ('castra', 'O'), ('munire', 'O'), ('iussit.', 'O'), ('[Hic', 'O'), ('locus', 'O'), ('ab', 'O'), ('hoste', 'O'), ('circiter', 'O'), ('passus', 'O'), ('DC,', 'O'), ('uti', 'O'), ('dictum', 'O'), ('est,', 'O'), ('aberat.]', 'O'), ('Eo', 'O'), ('circiter', 'O'), ('hominum', 'O'), ('XVI', 'O'), ('milia', 'O'), ('expedita', 'O'), ('cum', 'O'), ('omni', 'O'), ('equitatu', 'O'), ('Ariovistus', 'O'), ('misit,', 'O'), ('quae', 'O'), ('copiae', 'O'), ('nostros', 'O'), ('terrerent', 'O'), ('et', 'O'), ('munitione', 'O'), ('prohiberent.', 'O'), ('Nihilo', 'O'), ('setius', 'O'), ('Caesar,', 'O'), ('ut', 'O'), ('ante', 'O'), ('constituerat,', 'O'), ('duas', 'O'), ('acies', 'O'), ('hostem', 'O'), ('propulsare,', 'O'), ('tertiam', 'O'), ('opus', 'O'), ('perficere', 'O'), ('iussit.', 'O'), Tree('PER', [('Munitis', 'PER')]), ('castris', 'O'), ('duas', 'O'), ('ibi', 'O'), ('legiones', 'O'), ('reliquit', 'O'), ('et', 'O'), ('partem', 'O'), ('auxiliorum,', 'O'), ('quattuor', 'O'), ('reliquas', 'O'), ('legiones', 'O'), ('in', 'O'), ('castra', 'O'), ('maiora', 'O'), ('reduxit.', 'O'), ('Proximo', 'O'), ('die', 'O'), ('instituto', 'O'), ('suo', 'O'), Tree('PER', [('Caesar', 'PER')]), ('ex', 'O'), ('castris', 'O'), ('utrisque', 'O'), ('copias', 'O'), ('suas', 'O'), ('eduxit', 'O'), ('paulumque', 'O'), ('a', 'O'), ('maioribus', 'O'), ('castris', 'O'), ('progressus', 'O'), ('aciem', 'O'), ('instruxit', 'O'), ('hostibusque', 'O'), ('pugnandi', 'O'), ('potestatem', 'O'), ('fecit.', 'O'), Tree('ORG', [('Ubi', 'ORG')]), ('ne', 'O'), ('tum', 'O'), ('quidem', 'O'), ('eos', 'O'), ('prodire', 'O'), ('intellexit,', 'O'), ('circiter', 'O'), ('meridiem', 'O'), ('exercitum', 'O'), ('in', 'O'), ('castra', 'O'), ('reduxit.', 'O'), ('Tum', 'O'), ('demum', 'O'), ('Ariovistus', 'O'), ('partem', 'O'), ('suarum', 'O'), ('copiarum,', 'O'), ('quae', 'O'), ('castra', 'O'), ('minora', 'O'), ('oppugnaret,', 'O'), ('misit.', 'O'), ('Acriter', 'O'), ('utrimque', 'O'), ('usque', 'O'), ('ad', 'O'), ('vesperum', 'O'), ('pugnatum', 'O'), ('est.', 'O'), ('Solis', 'O'), ('occasu', 'O'), ('suas', 'O'), ('copias', 'O'), ('Ariovistus', 'O'), ('multis', 'O'), ('et', 'O'), ('inlatis', 'O'), ('et', 'O'), ('acceptis', 'O'), ('vulneribus', 'O'), ('in', 'O'), ('castra', 'O'), ('reduxit.', 'O'), ('Cum', 'O'), ('ex', 'O'), ('captivis', 'O'), ('quaereret', 'O'), ('Caesar', 'O'), ('quam', 'O'), ('ob', 'O'), ('rem', 'O'), ('Ariovistus', 'O'), ('proelio', 'O'), ('non', 'O'), ('decertaret,', 'O'), ('hanc', 'O'), ('reperiebat', 'O'), ('causam,', 'O'), ('quod', 'O'), ('apud', 'O'), Tree('PER', [('Germanos', 'PER')]), ('ea', 'O'), ('consuetudo', 'O'), ('esset', 'O'), ('ut', 'O'), ('matres', 'O'), ('familiae', 'O'), ('eorum', 'O'), ('sortibus', 'O'), ('et', 'O'), ('vaticinationibus', 'O'), ('declararent', 'O'), ('utrum', 'O'), ('proelium', 'O'), ('committi', 'O'), ('ex', 'O'), ('usu', 'O'), ('esset', 'O'), ('necne;', 'O'), ('eas', 'O'), ('ita', 'O'), ('dicere:', 'O'), ('non', 'O'), ('esse', 'O'), ('fas', 'O'), Tree('PER', [('Germanos', 'PER')]), ('superare,', 'O'), ('si', 'O'), ('ante', 'O'), ('novam', 'O'), ('lunam', 'O'), ('proelio', 'O'), ('contendissent.', 'O'), ('Postridie', 'O'), ('eius', 'O'), ('diei', 'O'), ('Caesar', 'O'), ('praesidio', 'O'), ('utrisque', 'O'), ('castris', 'O'), ('quod', 'O'), ('satis', 'O'), ('esse', 'O'), ('visum', 'O'), ('est', 'O'), ('reliquit,', 'O'), ('alarios', 'O'), ('omnes', 'O'), ('in', 'O'), ('conspectu', 'O'), ('hostium', 'O'), ('pro', 'O'), ('castris', 'O'), ('minoribus', 'O'), ('constituit,', 'O'), ('quod', 'O'), ('minus', 'O'), ('multitudine', 'O'), ('militum', 'O'), ('legionariorum', 'O'), ('pro', 'O'), ('hostium', 'O'), ('numero', 'O'), ('valebat,', 'O'), ('ut', 'O'), ('ad', 'O'), ('speciem', 'O'), ('alariis', 'O'), ('uteretur;', 'O'), ('ipse', 'O'), ('triplici', 'O'), ('instructa', 'O'), ('acie', 'O'), ('usque', 'O'), ('ad', 'O'), ('castra', 'O'), ('hostium', 'O'), ('accessit.', 'O'), ('Tum', 'O'), ('demum', 'O'), ('necessario', 'O'), ('Germani', 'O'), ('suas', 'O'), ('copias', 'O'), ('castris', 'O'), ('eduxerunt', 'O'), ('generatimque', 'O'), ('constituerunt', 'O'), ('paribus', 'O'), ('intervallis,', 'O'), ('Harudes,', 'O'), ('Marcomanos,', 'O'), ('Tribocos,', 'O'), ('Vangiones,', 'O'), ('Nemetes,', 'O'), ('Sedusios,', 'O'), ('Suebos,', 'O'), ('omnemque', 'O'), ('aciem', 'O'), ('suam', 'O'), ('raedis', 'O'), ('et', 'O'), ('carris', 'O'), ('circumdederunt,', 'O'), ('ne', 'O'), ('qua', 'O'), ('spes', 'O'), ('in', 'O'), ('fuga', 'O'), ('relinqueretur.', 'O'), ('Eo', 'O'), ('mulieres', 'O'), ('imposuerunt,', 'O'), ('quae', 'O'), ('ad', 'O'), ('proelium', 'O'), ('proficiscentes', 'O'), ('milites', 'O'), ('passis', 'O'), ('manibus', 'O'), ('flentes', 'O'), ('implorabant', 'O'), ('ne', 'O'), ('se', 'O'), ('in', 'O'), ('servitutem', 'O'), ('Romanis', 'O'), ('traderent.', 'O'), Tree('PER', [('Caesar', 'PER')]), ('singulis', 'O'), ('legionibus', 'O'), ('singulos', 'O'), ('legatos', 'O'), ('et', 'O'), ('quaestorem', 'O'), ('praefecit,', 'O'), ('uti', 'O'), ('eos', 'O'), ('testes', 'O'), ('suae', 'O'), ('quisque', 'O'), ('virtutis', 'O'), ('haberet;', 'O'), ('ipse', 'O'), ('a', 'O'), ('dextro', 'O'), ('cornu,', 'O'), ('quod', 'O'), ('eam', 'O'), ('partem', 'O'), ('minime', 'O'), ('firmam', 'O'), ('hostium', 'O'), ('esse', 'O'), ('animadverterat,', 'O'), ('proelium', 'O'), ('commisit.', 'O'), ('Ita', 'O'), ('nostri', 'O'), ('acriter', 'O'), ('in', 'O'), ('hostes', 'O'), ('signo', 'O'), ('dato', 'O'), ('impetum', 'O'), ('fecerunt', 'O'), ('itaque', 'O'), ('hostes', 'O'), ('repente', 'O'), ('celeriterque', 'O'), ('procurrerunt,', 'O'), ('ut', 'O'), ('spatium', 'O'), ('pila', 'O'), ('in', 'O'), ('hostes', 'O'), ('coiciendi', 'O'), ('non', 'O'), ('daretur.', 'O'), ('Relictis', 'O'), ('pilis', 'O'), ('comminus', 'O'), ('gladiis', 'O'), ('pugnatum', 'O'), ('est.', 'O'), ('At', 'O'), ('Germani', 'O'), ('celeriter', 'O'), ('ex', 'O'), ('consuetudine', 'O'), ('sua', 'O'), ('phalange', 'O'), ('facta', 'O'), ('impetus', 'O'), ('gladiorum', 'O'), ('exceperunt.', 'O'), ('Reperti', 'O'), ('sunt', 'O'), ('complures', 'O'), ('nostri', 'O'), ('qui', 'O'), ('in', 'O'), ('phalanga', 'O'), ('insilirent', 'O'), ('et', 'O'), ('scuta', 'O'), ('manibus', 'O'), ('revellerent', 'O'), ('et', 'O'), ('desuper', 'O'), ('vulnerarent.', 'O'), ('Cum', 'O'), ('hostium', 'O'), ('acies', 'O'), ('a', 'O'), ('sinistro', 'O'), ('cornu', 'O'), ('pulsa', 'O'), ('atque', 'O'), ('in', 'O'), ('fugam', 'O'), ('coniecta', 'O'), ('esset,', 'O'), ('a', 'O'), ('dextro', 'O'), ('cornu', 'O'), ('vehementer', 'O'), ('multitudine', 'O'), ('suorum', 'O'), ('nostram', 'O'), ('aciem', 'O'), ('premebant.', 'O'), ('Id', 'O'), ('cum', 'O'), ('animadvertisset', 'O'), ('P.', 'O'), ('Crassus', 'O'), ('adulescens,', 'O'), ('qui', 'O'), ('equitatui', 'O'), ('praeerat,', 'O'), ('quod', 'O'), ('expeditior', 'O'), ('erat', 'O'), ('quam', 'O'), ('ii', 'O'), ('qui', 'O'), ('inter', 'O'), ('aciem', 'O'), ('versabantur,', 'O'), ('tertiam', 'O'), ('aciem', 'O'), ('laborantibus', 'O'), ('nostris', 'O'), ('subsidio', 'O'), ('misit.', 'O'), ('Ita', 'O'), ('proelium', 'O'), ('restitutum', 'O'), ('est,', 'O'), ('atque', 'O'), ('omnes', 'O'), ('hostes', 'O'), ('terga', 'O'), ('verterunt', 'O'), ('nec', 'O'), ('prius', 'O'), ('fugere', 'O'), ('destiterunt', 'O'), ('quam', 'O'), ('ad', 'O'), ('flumen', 'O'), ('Rhenum', 'O'), ('milia', 'O'), ('passuum', 'O'), ('ex', 'O'), ('eo', 'O'), ('loco', 'O'), ('circiter', 'O'), ('L', 'O'), ('pervenerunt.', 'O'), ('Ibi', 'O'), ('perpauci', 'O'), ('aut', 'O'), ('viribus', 'O'), ('confisi', 'O'), ('tranare', 'O'), ('contenderunt', 'O'), ('aut', 'O'), ('lintribus', 'O'), ('inventis', 'O'), ('sibi', 'O'), ('salutem', 'O'), ('reppererunt.', 'O'), ('In', 'O'), ('his', 'O'), ('fuit', 'O'), ('Ariovistus,', 'O'), ('qui', 'O'), ('naviculam', 'O'), ('deligatam', 'O'), ('ad', 'O'), ('ripam', 'O'), ('nactus', 'O'), ('ea', 'O'), ('profugit;', 'O'), ('reliquos', 'O'), ('omnes', 'O'), ('consecuti', 'O'), ('equites', 'O'), ('nostri', 'O'), ('interfecerunt.', 'O'), ('Duae', 'O'), ('fuerunt', 'O'), ('Ariovisti', 'O'), ('uxores,', 'O'), ('una', 'O'), ('Sueba', 'O'), ('natione,', 'O'), ('quam', 'O'), ('domo', 'O'), ('secum', 'O'), ('eduxerat,', 'O'), ('altera', 'O'), ('Norica,', 'O'), ('regis', 'O'), ('Voccionis', 'O'), ('soror,', 'O'), ('quam', 'O'), ('in', 'O'), Tree('LOC', [('Gallia', 'LOC')]), ('duxerat', 'O'), ('a', 'O'), ('fratre', 'O'), ('missam:', 'O'), ('utraque', 'O'), ('in', 'O'), ('ea', 'O'), ('fuga', 'O'), ('periit;', 'O'), ('duae', 'O'), ('filiae:', 'O'), ('harum', 'O'), ('altera', 'O'), ('occisa,', 'O'), ('altera', 'O'), ('capta', 'O'), ('est.', 'O'), Tree('PER', [('C.', 'PER'), ('Valerius', 'PER')]), ('Procillus,', 'O'), ('cum', 'O'), ('a', 'O'), ('custodibus', 'O'), ('in', 'O'), ('fuga', 'O'), ('trinis', 'O'), ('catenis', 'O'), ('vinctus', 'O'), ('traheretur,', 'O'), ('in', 'O'), ('ipsum', 'O'), ('Caesarem', 'O'), ('hostes', 'O'), ('equitatu', 'O'), ('insequentem', 'O'), ('incidit.', 'O'), ('Quae', 'O'), ('quidem', 'O'), ('res', 'O'), ('Caesari', 'O'), ('non', 'O'), ('minorem', 'O'), ('quam', 'O'), ('ipsa', 'O'), ('victoria', 'O'), ('voluptatem', 'O'), ('attulit,', 'O'), ('quod', 'O'), ('hominem', 'O'), ('honestissimum', 'O'), ('provinciae', 'O'), ('Galliae,', 'O'), ('suum', 'O'), ('familiarem', 'O'), ('et', 'O'), ('hospitem,', 'O'), ('ereptum', 'O'), ('ex', 'O'), ('manibus', 'O'), ('hostium', 'O'), ('sibi', 'O'), ('restitutum', 'O'), ('videbat', 'O'), ('neque', 'O'), ('eius', 'O'), ('calamitate', 'O'), ('de', 'O'), ('tanta', 'O'), ('voluptate', 'O'), ('et', 'O'), ('gratulatione', 'O'), ('quicquam', 'O'), ('fortuna', 'O'), ('deminuerat.', 'O'), ('Is', 'O'), ('se', 'O'), ('praesente', 'O'), ('de', 'O'), ('se', 'O'), ('ter', 'O'), ('sortibus', 'O'), ('consultum', 'O'), ('dicebat,', 'O'), ('utrum', 'O'), ('igni', 'O'), ('statim', 'O'), ('necaretur', 'O'), ('an', 'O'), ('in', 'O'), ('aliud', 'O'), ('tempus', 'O'), ('reservaretur:', 'O'), ('sortium', 'O'), ('beneficio', 'O'), ('se', 'O'), ('esse', 'O'), ('incolumem.', 'O'), Tree('PER', [('Item', 'PER'), ('M.', 'PER'), ('Metius', 'PER')]), ('repertus', 'O'), ('et', 'O'), ('ad', 'O'), ('eum', 'O'), ('reductus', 'O'), ('est.', 'O'), ('Hoc', 'O'), ('proelio', 'O'), ('trans', 'O'), ('Rhenum', 'O'), ('nuntiato,', 'O'), ('Suebi,', 'O'), ('qui', 'O'), ('ad', 'O'), ('ripas', 'O'), ('Rheni', 'O'), ('venerant,', 'O'), ('domum', 'O'), ('reverti', 'O'), ('coeperunt;', 'O'), ('quos', 'O'), ('ubi', 'O'), ('qui', 'O'), ('proximi', 'O'), ('Rhenum', 'O'), ('incolunt', 'O'), ('perterritos', 'O'), ('senserunt,', 'O'), ('insecuti', 'O'), ('magnum', 'O'), ('ex', 'O'), ('iis', 'O'), ('numerum', 'O'), ('occiderunt.', 'O'), ('Caesar', 'O'), ('una', 'O'), ('aestate', 'O'), ('duobus', 'O'), ('maximis', 'O'), ('bellis', 'O'), ('confectis', 'O'), ('maturius', 'O'), ('paulo', 'O'), ('quam', 'O'), ('tempus', 'O'), ('anni', 'O'), ('postulabat', 'O'), ('in', 'O'), ('hiberna', 'O'), ('in', 'O'), ('Sequanos', 'O'), ('exercitum', 'O'), ('deduxit;', 'O'), ('hibernis', 'O'), ('Labienum', 'O'), ('praeposuit;', 'O'), ('ipse', 'O'), ('in', 'O'), Tree('ORG', [('citeriorem', 'ORG'), ('Galliam', 'ORG')]), ('ad', 'O'), ('conventus', 'O'), ('agendos', 'O'), ('profectus', 'O'), ('est.', 'O')])"
      ]
     },
     "execution_count": 25,
     "metadata": {},
     "output_type": "execute_result"
    }
   ],
   "source": [
    "trees"
   ]
  },
  {
   "cell_type": "code",
   "execution_count": 29,
   "metadata": {
    "collapsed": false,
    "deletable": true,
    "editable": true
   },
   "outputs": [
    {
     "data": {
      "text/plain": [
       "[[('Ubi', 'ORG')],\n",
       " [('Ubi', 'ORG')],\n",
       " [('Ubi', 'ORG')],\n",
       " [('Sequanis', 'ORG')],\n",
       " [('Caesari', 'ORG'), ('renuntiatur', 'ORG'), ('Helvetiis', 'ORG')],\n",
       " [('Sequanorum', 'ORG'), ('et', 'ORG'), ('Haeduorum', 'ORG')],\n",
       " [('Caesarem', 'ORG'), ('certiorem', 'ORG')],\n",
       " [('Ubi', 'ORG'), ('per', 'ORG'), ('exploratores', 'ORG'), ('Caesar', 'ORG')],\n",
       " [('Ubi', 'ORG')],\n",
       " [('Ipse', 'ORG')],\n",
       " [('exploratores', 'ORG'), ('Caesar', 'ORG'), ('cognovit', 'ORG')],\n",
       " [('Ipse', 'ORG')],\n",
       " [('Nam', 'ORG')],\n",
       " [('Diu', 'ORG')],\n",
       " [('Ipse', 'ORG')],\n",
       " [('C', 'ORG')],\n",
       " [('Ipse', 'ORG'), ('autem', 'ORG'), ('Ariovistus', 'ORG')],\n",
       " [('Cimbris', 'ORG'), ('et', 'ORG'), ('Teutonis', 'ORG')],\n",
       " [('Huic', 'ORG'), ('legioni', 'ORG'), ('Caesar', 'ORG')],\n",
       " [('Ubi', 'ORG')],\n",
       " [('Ubi', 'ORG')],\n",
       " [('Ubi', 'ORG')],\n",
       " [('citeriorem', 'ORG'), ('Galliam', 'ORG')]]"
      ]
     },
     "execution_count": 29,
     "metadata": {},
     "output_type": "execute_result"
    }
   ],
   "source": [
    "sub_leaves(trees, label=\"ORG\")"
   ]
  },
  {
   "cell_type": "markdown",
   "metadata": {
    "deletable": true,
    "editable": true
   },
   "source": [
    "# NER with NLTK on the translation"
   ]
  },
  {
   "cell_type": "markdown",
   "metadata": {
    "deletable": true,
    "editable": true
   },
   "source": [
    "`urn:cts:latinLit:phi0448.phi001.perseus-eng2:1`"
   ]
  },
  {
   "cell_type": "markdown",
   "metadata": {
    "deletable": true,
    "editable": true
   },
   "source": [
    "# Let's create some *indices*"
   ]
  },
  {
   "cell_type": "code",
   "execution_count": null,
   "metadata": {
    "collapsed": true,
    "deletable": true,
    "editable": true
   },
   "outputs": [],
   "source": []
  }
 ],
 "metadata": {
  "kernelspec": {
   "display_name": "Python 3",
   "language": "python",
   "name": "python3"
  },
  "language_info": {
   "codemirror_mode": {
    "name": "ipython",
    "version": 3
   },
   "file_extension": ".py",
   "mimetype": "text/x-python",
   "name": "python",
   "nbconvert_exporter": "python",
   "pygments_lexer": "ipython3",
   "version": "3.5.0"
  },
  "toc": {
   "colors": {
    "hover_highlight": "#DAA520",
    "running_highlight": "#FF0000",
    "selected_highlight": "#FFD700"
   },
   "moveMenuLeft": true,
   "nav_menu": {
    "height": "172px",
    "width": "303px"
   },
   "navigate_menu": true,
   "number_sections": true,
   "sideBar": true,
   "threshold": 4,
   "toc_cell": true,
   "toc_position": {
    "height": "693px",
    "left": "0px",
    "right": "1210px",
    "top": "106px",
    "width": "212px"
   },
   "toc_section_display": "block",
   "toc_window_display": true
  }
 },
 "nbformat": 4,
 "nbformat_minor": 2
}

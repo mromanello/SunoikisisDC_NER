{
 "cells": [
  {
   "cell_type": "markdown",
   "metadata": {
    "deletable": true,
    "editable": true
   },
   "source": [
    "# Welcome"
   ]
  },
  {
   "cell_type": "markdown",
   "metadata": {
    "deletable": true,
    "editable": true
   },
   "source": [
    "This notebook accompanies the Sunokisis Digital Classics common session on Named Entity Extraction, see <https://github.com/SunoikisisDC/SunoikisisDC-2016-2017/wiki/Named-Entity-Extraction-I>.\n",
    "\n",
    "In this notebook we are going to experiment with three different methods for extracting named entities from a Latin text."
   ]
  },
  {
   "cell_type": "markdown",
   "metadata": {
    "deletable": true,
    "editable": true
   },
   "source": [
    "# Library imports"
   ]
  },
  {
   "cell_type": "markdown",
   "metadata": {
    "deletable": true,
    "editable": true
   },
   "source": [
    "External modules and libraries can be imported using `import` statements.\n",
    "\n",
    "Let's the [Natural Language ToolKit (NLTK)](http://www.nltk.org/), the [Classical Language ToolKit (CLTK)](http://cltk.org/), [MyCapytain](http://mycapytain.readthedocs.io/en/latest/) and some local libraries that are used in this notebook."
   ]
  },
  {
   "cell_type": "code",
   "execution_count": 39,
   "metadata": {
    "collapsed": false,
    "deletable": true,
    "editable": true,
    "init_cell": true
   },
   "outputs": [],
   "source": [
    "########\n",
    "# NLTK #\n",
    "########\n",
    "import nltk\n",
    "from nltk.tag import StanfordNERTagger\n",
    "########\n",
    "# CLTK #\n",
    "########\n",
    "import cltk\n",
    "from cltk.tag.ner import tag_ner\n",
    "##############\n",
    "# MyCapytain #\n",
    "##############\n",
    "import MyCapytain \n",
    "from MyCapytain.resolvers.cts.api import HttpCTSResolver\n",
    "from MyCapytain.retrievers.cts5 import CTS\n",
    "from MyCapytain.common.constants import Mimetypes\n",
    "#################\n",
    "# other imports #\n",
    "#################\n",
    "import sys\n",
    "sys.path.append(\"/opt/nlp/pymodules/\")\n",
    "from idai_journals.nlp import sub_leaves"
   ]
  },
  {
   "cell_type": "markdown",
   "metadata": {
    "deletable": true,
    "editable": true
   },
   "source": [
    "And more precisely, we are using the following versions:"
   ]
  },
  {
   "cell_type": "code",
   "execution_count": 3,
   "metadata": {
    "collapsed": false,
    "deletable": true,
    "editable": true
   },
   "outputs": [
    {
     "name": "stdout",
     "output_type": "stream",
     "text": [
      "3.2.2\n"
     ]
    }
   ],
   "source": [
    "print(nltk.__version__)"
   ]
  },
  {
   "cell_type": "code",
   "execution_count": 4,
   "metadata": {
    "collapsed": false,
    "deletable": true,
    "editable": true
   },
   "outputs": [
    {
     "name": "stdout",
     "output_type": "stream",
     "text": [
      "0.1.47\n"
     ]
    }
   ],
   "source": [
    "print(cltk.__version__)"
   ]
  },
  {
   "cell_type": "code",
   "execution_count": 5,
   "metadata": {
    "collapsed": false,
    "deletable": true,
    "editable": true
   },
   "outputs": [
    {
     "name": "stdout",
     "output_type": "stream",
     "text": [
      "2.0.0b18\n"
     ]
    }
   ],
   "source": [
    "print(MyCapytain.__version__)"
   ]
  },
  {
   "cell_type": "markdown",
   "metadata": {
    "collapsed": true,
    "deletable": true,
    "editable": true
   },
   "source": [
    "# Let's grab some text"
   ]
  },
  {
   "cell_type": "markdown",
   "metadata": {
    "deletable": true,
    "editable": true
   },
   "source": [
    "To start with, we need some text from which we'll try to extract named entities using various methods and libraries."
   ]
  },
  {
   "cell_type": "markdown",
   "metadata": {
    "deletable": true,
    "editable": true
   },
   "source": [
    "There are several ways of doing this e.g.:\n",
    "1. copy and paste the text from Perseus or the Latin Library into a text document, and read it into a variable\n",
    "2. load a text from one of the Latin corpora available via `cltk` (cfr. this [blog post](https://disiectamembra.wordpress.com/2016/05/29/cltk-importing-the-latin-library-as-a-corpus/))\n",
    "3. or load it from Perseus by leveraging its [Canonical Text Services]() API"
   ]
  },
  {
   "cell_type": "markdown",
   "metadata": {
    "deletable": true,
    "editable": true
   },
   "source": [
    "Let's gor for #3 :)"
   ]
  },
  {
   "cell_type": "markdown",
   "metadata": {
    "deletable": true,
    "editable": true
   },
   "source": [
    "## What's CTS?"
   ]
  },
  {
   "cell_type": "markdown",
   "metadata": {
    "deletable": true,
    "editable": true
   },
   "source": [
    "CTS URNs stand for Canonical Text Service Uniform Resource Names."
   ]
  },
  {
   "cell_type": "markdown",
   "metadata": {
    "deletable": true,
    "editable": true
   },
   "source": [
    "You can think of a CTS URN like a **social security number** for texts (or parts of texts)."
   ]
  },
  {
   "cell_type": "markdown",
   "metadata": {
    "deletable": true,
    "editable": true
   },
   "source": [
    "![caption](imgs/cts_urn_syntax.png)"
   ]
  },
  {
   "cell_type": "markdown",
   "metadata": {
    "deletable": true,
    "editable": true
   },
   "source": [
    "Here are some examples of CTS URNs with different levels of granularity:\n",
    "- `urn:cts:latinLit:phi0448` (Caesar)\n",
    "- `urn:cts:latinLit:phi0448.phi001` (Caesar's *De Bello Gallico*)\n",
    "- `urn:cts:latinLit:phi0448.phi001.perseus-lat2` DBG Latin edtion\n",
    "- `urn:cts:latinLit:phi0448.phi001.perseus-lat2:1` DBG Latin edition, book 1\n",
    "- `urn:cts:latinLit:phi0448.phi001.perseus-lat2:1.1.1` DBG Latin edition, book 1, chapter 1, section 1"
   ]
  },
  {
   "cell_type": "markdown",
   "metadata": {
    "deletable": true,
    "editable": true
   },
   "source": [
    "How do I find out the CTS URN of a given author or text? The [Perseus Catalog](http://catalog.perseus.org/) is your friend! (crf. e.g. <http://catalog.perseus.org/catalog/urn:cts:latinLit:phi0448>)"
   ]
  },
  {
   "cell_type": "markdown",
   "metadata": {
    "deletable": true,
    "editable": true
   },
   "source": [
    "## Querying a CTS API"
   ]
  },
  {
   "cell_type": "markdown",
   "metadata": {
    "deletable": true,
    "editable": true
   },
   "source": [
    "The URN of the Latin edition of Caesar's **De Bello Gallico** is `urn:cts:latinLit:phi0448.phi001.perseus-lat2`."
   ]
  },
  {
   "cell_type": "code",
   "execution_count": 6,
   "metadata": {
    "collapsed": true,
    "deletable": true,
    "editable": true
   },
   "outputs": [],
   "source": [
    "my_passage = \"urn:cts:latinLit:phi0448.phi001.perseus-lat2\""
   ]
  },
  {
   "cell_type": "markdown",
   "metadata": {
    "deletable": true,
    "editable": true
   },
   "source": [
    "With this information, we can query a CTS API and get some information about this text.\n",
    "\n",
    "For example, we can \"discover\" its canonical text structure, an essential information to be able to *cite* this text."
   ]
  },
  {
   "cell_type": "code",
   "execution_count": 7,
   "metadata": {
    "collapsed": true,
    "deletable": true,
    "editable": true
   },
   "outputs": [],
   "source": [
    "# We set up a resolver which communicates with an API available in Leipzig\n",
    "resolver = HttpCTSResolver(CTS(\"http://cts.dh.uni-leipzig.de/api/cts/\"))"
   ]
  },
  {
   "cell_type": "code",
   "execution_count": 8,
   "metadata": {
    "collapsed": false,
    "deletable": true,
    "editable": true
   },
   "outputs": [
    {
     "name": "stdout",
     "output_type": "stream",
     "text": [
      "['Book', 'Chapter', 'Section']\n"
     ]
    }
   ],
   "source": [
    "# We require some metadata information\n",
    "textMetadata = resolver.getMetadata(\"urn:cts:latinLit:phi0448.phi001.perseus-lat2\")\n",
    "# Texts in CTS Metadata have one interesting property : its citation scheme.\n",
    "# Citation are embedded objects that carries information about how a text can be quoted, what depth it has\n",
    "print([citation.name for citation in textMetadata.citation])"
   ]
  },
  {
   "cell_type": "markdown",
   "metadata": {
    "deletable": true,
    "editable": true
   },
   "source": [
    "But we can also query the same API and get back the text of a specific text section, for example the entire book 1.\n",
    "\n",
    "To do so, we need to append the indication of the reference scope (i.e. book 1) to the URN."
   ]
  },
  {
   "cell_type": "code",
   "execution_count": 9,
   "metadata": {
    "collapsed": true,
    "deletable": true,
    "editable": true
   },
   "outputs": [],
   "source": [
    "my_passage = \"urn:cts:latinLit:phi0448.phi001.perseus-lat2:1\""
   ]
  },
  {
   "cell_type": "markdown",
   "metadata": {
    "deletable": true,
    "editable": true
   },
   "source": [
    "So we retrieve the first book of the **De Bello Gallico** by passing its CTS URN (that we just stored in the variable `my_passage`) to the CTS API, via the resolver provided by `MyCapytains`:"
   ]
  },
  {
   "cell_type": "code",
   "execution_count": 10,
   "metadata": {
    "collapsed": false,
    "deletable": true,
    "editable": true
   },
   "outputs": [],
   "source": [
    "passage = resolver.getTextualNode(my_passage)"
   ]
  },
  {
   "cell_type": "markdown",
   "metadata": {
    "deletable": true,
    "editable": true
   },
   "source": [
    "At this point the passage is available in various formats: text, but also TEI XML, etc.\n",
    "\n",
    "Thus, we need to specify that we are interested in getting the text only:"
   ]
  },
  {
   "cell_type": "code",
   "execution_count": 11,
   "metadata": {
    "collapsed": true,
    "deletable": true,
    "editable": true
   },
   "outputs": [],
   "source": [
    "de_bello_gallico_book1 = passage.export(Mimetypes.PLAINTEXT)"
   ]
  },
  {
   "cell_type": "markdown",
   "metadata": {
    "deletable": true,
    "editable": true
   },
   "source": [
    "Let's check that the text is there by printing the content of the variable `de_bello_gallico_book1` where we stored it:"
   ]
  },
  {
   "cell_type": "code",
   "execution_count": 12,
   "metadata": {
    "collapsed": false,
    "deletable": true,
    "editable": true
   },
   "outputs": [
    {
     "name": "stdout",
     "output_type": "stream",
     "text": [
      "COMMENTARIUS PRIMUS Gallia est omnis divisa in partes tres, quarum unam incolunt Belgae, aliam Aquitani, tertiam qui ipsorum lingua Celtae, nostra Galli appellantur. Hi omnes lingua, institutis, legibus inter se differunt. Gallos ab Aquitanis Garumna flumen, a Belgis Matrona et Sequana dividit. Horum omnium fortissimi sunt Belgae, propterea quod a cultu atque humanitate provinciae longissime absunt, minimeque ad eos mercatores saepe commeant atque ea quae ad effeminandos animos pertinent important, proximique sunt Germanis, qui trans Rhenum incolunt, quibuscum continenter bellum gerunt. Qua de causa Helvetii quoque reliquos Gallos virtute praecedunt, quod fere cotidianis proeliis cum Germanis contendunt, cum aut suis finibus eos prohibent aut ipsi in eorum finibus bellum gerunt. [Eorum una, pars, quam Gallos obtinere dictum est, initium capit a flumine Rhodano, continetur Garumna flumine, Oceano, finibus Belgarum, attingit etiam ab Sequanis et Helvetiis flumen Rhenum, vergit ad septentriones. Belgae ab extremis Galliae finibus oriuntur, pertinent ad inferiorem partem fluminis Rheni, spectant in septentrionem et orientem solem. Aquitania a Garumna flumine ad Pyrenaeos montes et eam partem Oceani quae est ad Hispaniam pertinet; spectat inter occasum solis et septentriones.] Apud Helvetios longe nobilissimus fuit et ditissimus Orgetorix. Is M. Messala, [et P.] M. Pisone consulibus regni cupiditate inductus coniurationem nobilitatis fecit et civitati persuasit ut de finibus suis cum omnibus copiis exirent: perfacile esse, cum virtute omnibus praestarent, totius Galliae imperio potiri. Id hoc facilius iis persuasit, quod undique loci natura Helvetii continentur: una ex parte flumine Rheno latissimo atque altissimo, qui agrum Helvetium a Germanis dividit; altera ex parte monte Iura altissimo, qui est inter Sequanos et Helvetios; tertia lacu Lemanno et flumine Rhodano, qui provinciam nostram ab Helvetiis dividit. His rebus fiebat ut et minus late vagarentur et minus facile finitimis bellum inferre possent; qua ex parte homines bellandi cupidi magno dolore adficiebantur. Pro multitudine autem hominum et pro gloria belli atque fortitudinis angustos se fines habere arbitrabantur, qui in longitudinem milia passuum CCXL, in latitudinem CLXXX patebant. His rebus adducti et auctoritate Orgetorigis permoti constituerunt ea quae ad proficiscendum pertinerent comparare, iumentorum et carrorum quam maximum numerum coemere, sementes quam maximas facere, ut in itinere copia frumenti suppeteret, cum proximis civitatibus pacem et amicitiam confirmare. Ad eas res conficiendas biennium sibi satis esse duxerunt; in tertium annum profectionem lege confirmant. Ad eas res conficiendas Orgetorix deligitur. Is sibi legationem ad civitates suscipit. In eo itinere persuadet Castico, Catamantaloedis filio, Sequano, cuius pater regnum in Sequanis multos annos obtinuerat et a senatu populi Romani amicus appellatus erat, ut regnum in civitate sua occuparet, quod pater ante habuerit; itemque Dumnorigi Haeduo, fratri Diviciaci, qui eo tempore principatum in civitate obtinebat ac maxime plebi acceptus erat, ut idem conaretur persuadet eique filiam suam in matrimonium dat. Perfacile factu esse illis probat conata perficere, propterea quod ipse suae civitatis imperium obtenturus esset: non esse dubium quin totius Galliae plurimum Helvetii possent; se suis copiis suoque exercitu illis regna conciliaturum confirmat. Hac oratione adducti inter se fidem et ius iurandum dant et regno occupato per tres potentissimos ac firmissimos populos totius Galliae sese potiri posse sperant. Ea res est Helvetiis per indicium enuntiata. Moribus suis Orgetoricem ex vinculis causam dicere coegerunt; damnatum poenam sequi oportebat, ut igni cremaretur. Die constituta causae dictionis Orgetorix ad iudicium omnem suam familiam, ad hominum milia decem, undique coegit, et omnes clientes obaeratosque suos, quorum magnum numerum habebat, eodem conduxit; per eos ne causam diceret se eripuit. Cum civitas ob eam rem incitata armis ius suum exequi conaretur multitudinemque hominum ex agris magistratus cogerent, Orgetorix mortuus est; neque abest suspicio, ut Helvetii arbitrantur, quin ipse sibi mortem consciverit. Post eius mortem nihilo minus Helvetii id quod constituerant facere conantur, ut e finibus suis exeant. Ubi iam se ad eam rem paratos esse arbitrati sunt, oppida sua omnia, numero ad duodecim, vicos ad quadringentos, reliqua privata aedificia incendunt; frumentum omne, praeter quod secum portaturi erant, comburunt, ut domum reditionis spe sublata paratiores ad omnia pericula subeunda essent; trium mensum molita cibaria sibi quemque domo efferre iubent. Persuadent Rauracis et Tulingis et Latobrigis finitimis, uti eodem usi consilio oppidis suis vicisque exustis una cum iis proficiscantur, Boiosque, qui trans Rhenum incoluerant et in agrum Noricum transierant Noreiamque oppugnabant, receptos ad se socios sibi adsciscunt. Erant omnino itinera duo, quibus itineribus domo exire possent: unum per Sequanos, angustum et difficile, inter montem Iuram et flumen Rhodanum, vix qua singuli carri ducerentur, mons autem altissimus impendebat, ut facile perpauci prohibere possent; alterum per provinciam nostram, multo facilius atque expeditius, propterea quod inter fines Helvetiorum et Allobrogum, qui nuper pacati erant, Rhodanus fluit isque non nullis locis vado transitur. Extremum oppidum Allobrogum est proximumque Helvetiorum finibus Genava. Ex eo oppido pons ad Helvetios pertinet. Allobrogibus sese vel persuasuros, quod nondum bono animo in populum Romanum viderentur, existimabant vel vi coacturos ut per suos fines eos ire paterentur. Omnibus rebus ad profectionem comparatis diem dicunt, qua die ad ripam Rhodani omnes conveniant. \n",
      "is dies erat a. d. V. Kal. Apr. L. Pisone, A. Gabinio consulibus. Caesari cum id nuntiatum esset, eos per provinciam nostram iter facere conari, maturat ab urbe proficisci et quam maximis potest itineribus in Galliam ulteriorem contendit et ad Genavam pervenit. Provinciae toti quam maximum potest militum numerum imperat (erat omnino in Gallia ulteriore legio una), pontem, qui erat ad Genavam, iubet rescindi. Ubi de eius aventu Helvetii certiores facti sunt, legatos ad eum mittunt nobilissimos civitatis, cuius legationis Nammeius et Verucloetius principem locum obtinebant, qui dicerent sibi esse in animo sine ullo maleficio iter per provinciam facere, propterea quod aliud iter haberent nullum: rogare ut eius voluntate id sibi facere liceat. Caesar, quod memoria tenebat L. Cassium consulem occisum exercitumque eius ab Helvetiis pulsum et sub iugum missum, concedendum non putabat; neque homines inimico animo, data facultate per provinciam itineris faciundi, temperaturos ab iniuria et maleficio existimabat. Tamen, ut spatium intercedere posset dum milites quos imperaverat convenirent, legatis respondit diem se ad deliberandum sumpturum: si quid vellent, ad Id. April. reverterentur. Interea ea legione quam secum habebat militibusque, qui ex provincia convenerant, a lacu Lemanno, qui in flumen Rhodanum influit, ad montem Iuram, qui fines Sequanorum ab Helvetiis dividit, milia passuum XVIIII murum in altitudinem pedum sedecim fossamque perducit. Eo opere perfecto praesidia disponit, castella communit, quo facilius, si se invito transire conentur, prohibere possit. Ubi ea dies quam constituerat cum legatis venit et legati ad eum reverterunt, negat se more et exemplo populi Romani posse iter ulli per provinciam dare et, si vim facere conentur, prohibiturum ostendit. Helvetii ea spe deiecti navibus iunctis ratibusque compluribus factis, alii vadis Rhodani, qua minima altitudo fluminis erat, non numquam interdiu, saepius noctu si perrumpere possent conati, operis munitione et militum concursu et telis repulsi, hoc conatu destiterunt. Relinquebatur una per Sequanos via, qua Sequanis invitis propter angustias ire non poterant. His cum sua sponte persuadere non possent, legatos ad Dumnorigem Haeduum mittunt, ut eo deprecatore a Sequanis impetrarent. Dumnorix gratia et largitione apud Sequanos plurimum poterat et Helvetiis erat amicus, quod ex ea civitate Orgetorigis filiam in matrimonium duxerat, et cupiditate regni adductus novis rebus studebat et quam plurimas civitates suo beneficio habere obstrictas volebat. Itaque rem suscipit et a Sequanis impetrat ut per fines suos Helvetios ire patiantur, obsidesque uti inter sese dent perficit: Sequani, ne itinere Helvetios prohibeant, Helvetii, ut sine maleficio et iniuria transeant. Caesari renuntiatur Helvetiis esse in animo per agrum Sequanorum et Haeduorum iter in Santonum fines facere, qui non longe a Tolosatium finibus absunt, quae civitas est in provincia. Id si fieret, intellegebat magno cum periculo provinciae futurum ut homines bellicosos, populi Romani inimicos, locis patentibus maximeque frumentariis finitimos haberet. Ob eas causas ei munitioni quam fecerat T. Labienum legatum praeficit; ipse in Italiam magnis itineribus contendit duasque ibi legiones conscribit et tres, quae circum Aquileiam hiemabant, ex hibernis educit et, qua proximum iter in ulteriorem Galliam per Alpes erat, cum his quinque legionibus ire contendit. Ibi Ceutrones et Graioceli et Caturiges locis superioribus occupatis itinere exercitum prohibere conantur. Compluribus his proeliis pulsis ab Ocelo, quod est oppidum citerioris provinciae extremum, in fines Vocontiorum ulterioris provinciae die septimo pervenit; inde in Allobrogum fines, ab Allobrogibus in Segusiavos exercitum ducit. Hi sunt extra provinciam trans Rhodanum primi. Helvetii iam per angustias et fines Sequanorum suas copias traduxerant et in Haeduorum fines pervenerant eorumque agros populabantur. Haedui, cum se suaque ab iis defendere non possent, legatos ad Caesarem mittunt rogatum auxilium: ita se omni tempore de populo Romano meritos esse ut paene in conspectu exercitus nostri agri vastari, liberi [eorum] in servitutem abduci, oppida expugnari non debuerint. Eodem tempore quo Haedui Ambarri, necessarii et consanguinei Haeduorum, Caesarem certiorem faciunt sese depopulatis agris non facile ab oppidis vim hostium prohibere. Item Allobroges, qui trans Rhodanum vicos possessionesque habebant, fuga se ad Caesarem recipiunt et demonstrant sibi praeter agri solum nihil esse reliqui. Quibus rebus adductus Caesar non expectandum sibi statuit dum, omnibus, fortunis sociorum consumptis, in Santonos Helvetii pervenirent. Flumen est Arar, quod per fines Haeduorum et Sequanorum in Rhodanum influit, incredibili lenitate, ita ut oculis in utram partem fluat iudicari non possit. Id Helvetii ratibus ac lintribus iunctis transibant. Ubi per exploratores Caesar certior factus est tres iam partes copiarum Helvetios id flumen traduxisse, quartam vero partem citra flumen Ararim reliquam esse, de tertia vigilia cum legionibus tribus e castris profectus ad eam partem pervenit quae nondum flumen transierat. Eos impeditos et inopinantes adgressus magnam partem eorum concidit; reliqui sese fugae mandarunt atque in proximas silvas abdiderunt. Is pagus appellabatur Tigurinus; nam omnis civitas Helvetia in quattuor pagos divisa est. Hic pagus unus, cum domo exisset, patrum nostrorum memoria L. Cassium consulem interfecerat et eius exercitum sub iugum miserat. Ita sive casu sive consilio deorum immortalium quae pars civitatis Helvetiae insignem calamitatem populo Romano intulerat, ea princeps poenam persolvit. Qua in re Caesar non solum publicas, sed etiam privatas iniurias ultus est, quod eius soceri L. Pisonis avum, L. Pisonem legatum, Tigurini eodem proelio quo Cassium interfecerant. Hoc proelio facto, reliquas copias Helvetiorum ut consequi posset, pontem in Arari faciendum curat atque ita exercitum traducit. Helvetii repentino eius adventu commoti cum id quod ipsi diebus XX aegerrime confecerant, ut flumen transirent, illum uno die fecisse intellegerent, legatos ad eum mittunt; cuius legationis Divico princeps fuit, qui bello Cassiano dux Helvetiorum fuerat. Is ita cum Caesare egit: si pacem populus Romanus cum Helvetiis faceret, in eam partem ituros atque ibi futuros Helvetios ubi eos Caesar constituisset atque esse voluisset; sin bello persequi perseveraret, reminisceretur et veteris incommodi populi Romani et pristinae virtutis Helvetiorum. Quod improviso unum pagum adortus esset, cum ii qui flumen transissent suis auxilium ferre non possent, ne ob eam rem aut suae magnopere virtuti tribueret aut ipsos despiceret. Se ita a patribus maioribusque suis didicisse, ut magis virtute contenderent quam dolo aut insidiis niterentur. Quare ne committeret ut is locus ubi constitissent ex calamitate populi Romani et internecione exercitus nomen caperet aut memoriam proderet. His Caesar ita respondit: eo sibi minus dubitationis dari, quod eas res quas legati Helvetii commemorassent memoria teneret, atque eo gravius ferre quo minus merito populi Romani accidissent; qui si alicuius iniuriae sibi conscius fuisset, non fuisse difficile cavere; sed eo deceptum, quod neque commissum a se intellegeret quare timeret neque sine causa timendum putaret. Quod si veteris contumeliae oblivisci vellet, num etiam recentium iniuriarum, quod eo invito iter per provinciam per vim temptassent, quod Haeduos, quod Ambarros, quod Allobrogas vexassent, memoriam deponere posse? Quod sua victoria tam insolenter gloriarentur quodque tam diu se impune iniurias tulisse admirarentur, eodem pertinere. Consuesse enim deos immortales, quo gravius homines ex commutatione rerum doleant, quos pro scelere eorum ulcisci velint, his secundiores interdum res et diuturniorem impunitatem concedere. Cum ea ita sint, tamen, si obsides ab iis sibi dentur, uti ea quae polliceantur facturos intellegat, et si Haeduis de iniuriis quas ipsis sociisque eorum intulerint, item si Allobrogibus satis faciunt, sese cum iis pacem esse facturum. Divico respondit: ita Helvetios a maioribus suis institutos esse uti obsides accipere, non dare, consuerint; eius rei populum Romanum esse testem. Hoc responso dato discessit. Postero die castra ex eo loco movent. Idem facit Caesar equitatumque omnem, ad numerum quattuor milium, quem ex omni provincia et Haeduis atque eorum sociis coactum habebat, praemittit, qui videant quas in partes hostes iter faciant. Qui cupidius novissimum agmen insecuti alieno loco cum equitatu Helvetiorum proelium committunt; et pauci de nostris cadunt. Quo proelio sublati Helvetii, quod quingentis equitibus tantam multitudinem equitum propulerant, audacius subsistere non numquam et novissimo agmine proelio nostros lacessere coeperunt. Caesar suos a proelio continebat, ac satis habebat in praesentia hostem rapinis, pabulationibus populationibusque prohibere. Ita dies circiter XV iter fecerunt uti inter novissimum hostium agmen et nostrum primum non amplius quinis aut senis milibus passuum interesset. Interim cotidie Caesar Haeduos frumentum, quod essent publice polliciti, flagitare. Nam propter frigora [quod Gallia sub septentrionibus, ut ante dictum est, posita est,] non modo frumenta in agris matura non erant, sed ne pabuli quidem satis magna copia suppetebat; eo autem frumento quod flumine Arari navibus subvexerat propterea uti minus poterat quod iter ab Arari Helvetii averterant, a quibus discedere nolebat. Diem ex die ducere Haedui: conferri, comportari, adesse dicere. Ubi se diutius duci intellexit et diem instare quo die frumentum militibus metiri oporteret, convocatis eorum principibus, quorum magnam copiam in castris habebat, in his Diviciaco et Lisco, qui summo magistratui praeerat, quem vergobretum appellant Haedui, qui creatur annuus et vitae necisque in suos habet potestatem, graviter eos accusat, quod, cum neque emi neque ex agris sumi possit, tam necessario tempore, tam propinquis hostibus ab iis non sublevetur, praesertim cum magna ex parte eorum precibus adductus bellum susceperit[; multo etiam gravius quod sit destitutus queritur]. Tum demum Liscus oratione Caesaris adductus quod antea tacuerat proponit: esse non nullos, quorum auctoritas apud plebem plurimum valeat, qui privatim plus possint quam ipsi magistratus. Hos seditiosa atque improba oratione multitudinem deterrere, ne frumentum conferant quod debeant: praestare, si iam principatum Galliae obtinere non possint, Gallorum quam Romanorum imperia perferre, neque dubitare [debeant] quin, si Helvetios superaverint Romani, una cum reliqua Gallia Haeduis libertatem sint erepturi. Ab isdem nostra consilia quaeque in castris gerantur hostibus enuntiari; hos a se coerceri non posse. Quin etiam, quod necessariam rem coactus Caesari enuntiarit, intellegere sese quanto id cum periculo fecerit, et ob eam causam quam diu potuerit tacuisse. Caesar hac oratione Lisci Dumnorigem, Diviciaci fratrem, designari sentiebat, sed, quod pluribus praesentibus eas res iactari nolebat, celeriter concilium dimittit, Liscum retinet. Quaerit ex solo ea quae in conventu dixerat. Dicit liberius atque audacius. Eadem secreto ab aliis quaerit; reperit esse vera: ipsum esse Dumnorigem, summa audacia, magna apud plebem propter liberalitatem gratia, cupidum rerum novarum. Complures annos portoria reliquaque omnia Haeduorum vectigalia parvo pretio redempta habere, propterea quod illo licente contra liceri audeat nemo. His rebus et suam rem familiarem auxisse et facultates ad largiendum magnas comparasse; magnum numerum equitatus suo sumptu semper alere et circum se habere, neque solum domi, sed etiam apud finitimas civitates largiter posse, atque huius potentiae causa matrem in Biturigibus homini illic nobilissimo ac potentissimo conlocasse; ipsum ex Helvetiis uxorem habere, sororum ex matre et propinquas suas nuptum in alias civitates conlocasse. Favere et cupere Helvetiis propter eam adfinitatem, odisse etiam suo nomine Caesarem et Romanos, quod eorum adventu potentia eius deminuta et Diviciacus frater in antiquum locum gratiae atque honoris sit restitutus. Si quid accidat Romanis, summam in spem per Helvetios regni obtinendi venire; imperio populi Romani non modo de regno, sed etiam de ea quam habeat gratia desperare. Reperiebat etiam in quaerendo Caesar, quod proelium equestre adversum paucis ante diebus esset factum, initium eius fugae factum a Dumnorige atque eius equitibus (nam equitatui, quem auxilio Caesari Haedui miserant, Dumnorix praeerat): eorum fuga reliquum esse equitatum perterritum. Quibus rebus cognitis, cum ad has suspiciones certissimae res accederent, quod per fines Sequanorum Helvetios traduxisset, quod obsides inter eos dandos curasset, quod ea omnia non modo iniussu suo et civitatis sed etiam inscientibus ipsis fecisset, quod a magistratu Haeduorum accusaretur, satis esse causae arbitrabatur quare in eum aut ipse animadverteret aut civitatem animadvertere iuberet. His omnibus rebus unum repugnabat, quod Diviciaci fratris summum in populum Romanum studium, summum in se voluntatem, egregiam fidem, iustitiam, temperantiam cognoverat; nam ne eius supplicio Diviciaci animum offenderet verebatur. Itaque prius quam quicquam conaretur, Diviciacum ad se vocari iubet et, cotidianis interpretibus remotis, per C. Valerium Troucillum, principem Galliae provinciae, familiarem suum, cui summam omnium rerum fidem habebat, cum eo conloquitur; simul commonefacit quae ipso praesente in concilio [Gallorum] de Dumnorige sint dicta, et ostendit quae separatim quisque de eo apud se dixerit. Petit atque hortatur ut sine eius offensione animi vel ipse de eo causa cognita statuat vel civitatem statuere iubeat. Diviciacus multis cum lacrimis Caesarem complexus obsecrare coepit ne quid gravius in fratrem statueret: scire se illa esse vera, nec quemquam ex eo plus quam se doloris capere, propterea quod, cum ipse gratia plurimum domi atque in reliqua Gallia, ille minimum propter adulescentiam posset, per se crevisset; quibus opibus ac nervis non solum ad minuendam gratiam, sed paene ad perniciem suam uteretur. Sese tamen et amore fraterno et existimatione vulgi commoveri. Quod si quid ei a Caesare gravius accidisset, cum ipse eum locum amicitiae apud eum teneret, neminem existimaturum non sua voluntate factum; qua ex re futurum uti totius Galliae animi a se averterentur. Haec cum pluribus verbis flens a Caesare peteret, Caesar eius dextram prendit; consolatus rogat finem orandi faciat; tanti eius apud se gratiam esse ostendit uti et rei publicae iniuriam et suum dolorem eius voluntati ac precibus condonet. Dumnorigem ad se vocat, fratrem adhibet; quae in eo reprehendat ostendit; quae ipse intellegat, quae civitas queratur proponit; monet ut in reliquum tempus omnes suspiciones vitet; praeterita se Diviciaco fratri condonare dicit. Dumnorigi custodes ponit, ut quae agat, quibuscum loquatur scire possit. Eodem die ab exploratoribus certior factus hostes sub monte consedisse milia passuum ab ipsius castris octo, qualis esset natura montis et qualis in circuitu ascensus qui cognoscerent misit. Renuntiatum est facilem esse. De tertia vigilia T. Labienum, legatum pro praetore, cum duabus legionibus et iis ducibus qui iter cognoverant summum iugum montis ascendere iubet; quid sui consilii sit ostendit. Ipse de quarta vigilia eodem itinere quo hostes ierant ad eos contendit equitatumque omnem ante se mittit. P. Considius, qui rei militaris peritissimus habebatur et in exercitu L. Sullae et postea in M. Crassi fuerat, cum exploratoribus praemittitur. Prima luce, cum summus mons a [Lucio] Labieno teneretur, ipse ab hostium castris non longius mille et quingentis passibus abesset neque, ut postea ex captivis comperit, aut ipsius adventus aut Labieni cognitus esset, Considius equo admisso ad eum accurrit, dicit montem, quem a Labieno occupari voluerit, ab hostibus teneri: id se a Gallicis armis atque insignibus cognovisse. Caesar suas copias in proximum collem subducit, aciem instruit. Labienus, ut erat ei praeceptum a Caesare ne proelium committeret, nisi ipsius copiae prope hostium castra visae essent, ut undique uno tempore in hostes impetus fieret, monte occupato nostros expectabat proelioque abstinebat. Multo denique die per exploratores Caesar cognovit et montem a suis teneri et Helvetios castra, movisse et Considium timore perterritum quod non vidisset pro viso sibi renuntiavisse. Eo die quo consuerat intervallo hostes sequitur et milia passuum tria ab eorum castris castra ponit. Postridie eius diei, quod omnino biduum supererat, cum exercitui frumentum metiri oporteret, et quod a Bibracte, oppido Haeduorum longe maximo et copiosissimo, non amplius milibus passuum XVIII aberat, rei frumentariae prospiciendum existimavit; itaque iter ab Helvetiis avertit ac Bibracte ire contendit. Ea res per fugitivos L. Aemilii, decurionis equitum Gallorum, hostibus nuntiatur. Helvetii, seu quod timore perterritos Romanos discedere a se existimarent, eo magis quod pridie superioribus locis occupatis proelium non commisissent, sive eo quod re frumentaria intercludi posse confiderent, commutato consilio atque itinere converso nostros a novissimo agmine insequi ac lacessere coeperunt. Postquam id animum advertit, copias suas Caesar in proximum collem subduxit equitatumque, qui sustineret hostium petum, misit. Ipse interim in colle medio triplicem aciem instruxit legionum quattuor veteranarum; in summo iugo duas legiones quas in Gallia citeriore proxime conscripserat et omnia auxilia conlocavit, ita ut supra se totum montem hominibus compleret; impedimenta sarcinasque in unum locum conferri et eum ab iis qui in superiore acie constiterant muniri iussit. Helvetii cum omnibus suis carris secuti impedimenta in unum locum contulerunt; ipsi confertissima acie, reiecto nostro equitatu, phalange facta sub primam nostram aciem successerunt. Caesar primum suo, deinde omnium ex conspectu remotis equis, ut aequato omnium periculo spem fugae tolleret, cohortatus suos proelium commisit. Milites loco superiore pilis missis facile hostium phalangem perfregerunt. Ea disiecta gladiis destrictis in eos impetum fecerunt. Gallis magno ad pugnam erat impedimento quod pluribus eorum scutis uno ictu pilorum transfixis et conligatis, cum ferrum se inflexisset, neque evellere neque sinistra impedita satis commode pugnare poterant, multi ut diu iactato bracchio praeoptarent scutum manu emittere et nudo corpore pugnare. Tandem vulneribus defessi et pedem referre et, quod mons suberit circiter mille passuum spatio , eo se recipere coeperunt. Capto monte et succedentibus nostris, Boi et Tulingi, qui hominum milibus circiter XV agmen hostium claudebant et novissimis praesidio erant, ex itinere nostros ab latere aperto adgressi circumvenire, et id conspicati Helvetii, qui in montem sese receperant, rursus instare et proelium redintegrare coeperunt. Romani [conversa] signa bipertito intulerunt: prima et secunda acies, ut victis ac submotis resisteret, tertia, ut venientes sustineret. Ita ancipiti proelio diu atque acriter pugnatum est. Diutius cum sustinere nostrorum impetus non possent, alteri se, ut coeperant, in montem receperunt, alteri ad impedimenta et carros suos se contulerunt. Nam hoc toto proelio, cum ab hora septima ad vesperum pugnatum sit, aversum hostem videre nemo potuit. Ad multam noctem etiam ad impedimenta pugnatum est, propterea quod pro vallo carros obiecerunt et e loco superiore in nostros venientes tela coiciebant et non nulli inter carros rotasque mataras ac tragulas subiciebant nostrosque vulnerabant. Diu cum esset pugnatum, impedimentis castrisque nostri potiti sunt. Ibi Orgetorigis filia atque unus e filiis captus est. Ex eo proelio circiter hominum milia CXXX superfuerunt eaque tota nocte continenter ierunt [nullam partem noctis itinere intermisso]; in fines Lingonum die quarto pervenerunt, cum et propter vulnera militum et propter sepulturam occisorum nostri [triduum morati] eos sequi non potuissent. Caesar ad Lingonas litteras nuntiosque misit, ne eos frumento neve alia re iuvarent: qui si iuvissent, se eodem loco quo Helvetios habiturum. Ipse triduo intermisso cum omnibus copiis eos sequi coepit. Helvetii omnium rerum inopia adducti legatos de deditione ad eum miserunt. Qui cum eum in itinere convenissent seque ad pedes proiecissent suppliciterque locuti flentes pacem petissent, atque eos in eo loco quo tum essent suum adventum expectare iussisset, paruerunt. Eo postquam Caesar pervenit, obsides, arma, servos qui ad eos perfugissent, poposcit. Dum ea conquiruntur et conferuntur, [nocte intermissa] circiter hominum milia VI eius pagi qui Verbigenus appellatur, sive timore perterriti, ne armis traditis supplicio adficerentur, sive spe salutis inducti, quod in tanta multitudine dediticiorum suam fugam aut occultari aut omnino ignorari posse existimarent, prima nocte e castris Helvetiorum egressi ad Rhenum finesque Germanorum contenderunt. Quod ubi Caesar resciit, quorum per fines ierant his uti conquirerent et reducerent, si sibi purgati esse vellent, imperavit; reductos in hostium numero habuit; reliquos omnes obsidibus, armis, perfugis traditis in deditionem accepit. Helvetios, Tulingos, Latobrigos in fines suos, unde erant profecti, reverti iussit, et, quod omnibus frugibus amissis domi nihil erat quo famem tolerarent, Allobrogibus imperavit ut iis frumenti copiam facerent; ipsos oppida vicosque, quos incenderant, restituere iussit. Id ea maxime ratione fecit, quod noluit eum locum unde Helvetii discesserant vacare, ne propter bonitatem agrorum Germani, qui trans Rhenum incolunt, ex suis finibus in Helvetiorum fines transirent et finitimi Galliae provinciae Allobrogibusque essent. Boios petentibus Haeduis, quod egregia virtute erant cogniti, ut in finibus suis conlocarent, concessit; quibus illi agros dederunt quosque postea in parem iuris libertatisque condicionem atque ipsi erant receperunt. In castris Helvetiorum tabulae repertae sunt litteris Graecis confectae et ad Caesarem relatae, quibus in tabulis nominatim ratio confecta erat, qui numerus domo exisset eorum qui arma ferre possent, et item separatim, quot pueri, senes mulieresque. [Quarum omnium rerum] summa erat capitum Helvetiorum milium CCLXIII, Tulingorum milium XXXVI, Latobrigorum XIIII, Rauracorum XXIII, Boiorum XXXII; ex his qui arma ferre possent ad milia nonaginta duo. Summa omnium fuerunt ad milia CCCLXVIII. Eorum qui domum redierunt censu habito, ut Caesar imperaverat, repertus est numerus milium C et X. Bello Helvetiorum confecto totius fere Galliae legati, principes civitatum, ad Caesarem gratulatum convenerunt: intellegere sese, tametsi pro veteribus Helvetiorum iniuriis populi Romani ab his poenas bello repetisset, tamen eam rem non minus ex usu [terrae] Galliae quam populi Romani accidisse, propterea quod eo consilio florentissimis rebus domos suas Helvetii reliquissent uti toti Galliae bellum inferrent imperioque potirentur, locumque domicilio ex magna copia deligerent quem ex omni Gallia oportunissimum ac fructuosissimum iudicassent, reliquasque civitates stipendiarias haberent. Petierunt uti sibi concilium totius Galliae in diem certam indicere idque Caesaris facere voluntate liceret: sese habere quasdam res quas ex communi consensu ab eo petere vellent. Ea re permissa diem concilio constituerunt et iure iurando ne quis enuntiaret, nisi quibus communi consilio mandatum esset, inter se sanxerunt. Eo concilio dimisso, idem princeps civitatum qui ante fuerant ad Caesarem reverterunt petieruntque uti sibi secreto in occulto de sua omniumque salute cum eo agere liceret. Ea re impetrata sese omnes flentes Caesari ad pedes proiecerunt: non minus se id contendere et laborare ne ea quae dixissent enuntiarentur quam uti ea quae vellent impetrarent, propterea quod, si enuntiatum esset, summum in cruciatum se venturos viderent. Locutus est pro his Diviciacus Haeduus: Galliae totius factiones esse duas; harum alterius principatum tenere Haeduos, alterius Arvernos. Hi cum tantopere de potentatu inter se multos annos contenderent, factum esse uti ab Arvernis Sequanisque Germani mercede arcesserentur. Horum primo circiter milia XV Rhenum transisse; postea quam agros et cultum et copias Gallorum homines feri ac barbari adamassent, traductos plures; nunc esse in Gallia ad C et XX milium numerum. Cum his Haeduos eorumque clientes semel atque iterum armis contendisse; magnam calamitatem pulsos accepisse, omnem nobilitatem, omnem senatum, omnem equitatum amisisse. Quibus proeliis calamitatibusque fractos, qui et sua virtute et populi Romani hospitio atque amicitia plurimum ante in Gallia potuissent, coactos esse Sequanis obsides dare nobilissimos civitatis et iure iurando civitatem obstringere sese neque obsides repetituros neque auxilium a populo Romano imploraturos neque recusaturos quo minus perpetuo sub illorum dicione atque imperio essent. Unum se esse ex omni civitate Haeduorum qui adduci non potuerit ut iuraret aut liberos suos obsides daret. Ob eam rem se ex civitate profugisse et Romam ad senatum venisse auxilium postulatum, quod solus neque iure iurando neque obsidibus teneretur. Sed peius victoribus Sequanis quam Haeduis victis accidisse, propterea quod Ariovistus, rex Germanorum, in eorum finibus consedisset tertiamque partem agri Sequani, qui esset optimus totius Galliae, occupavisset et nunc de altera parte tertia Sequanos decedere iuberet, propterea quod paucis mensibus ante Harudum milia hominum XXIIII ad eum venissent, quibus locus ac sedes pararentur. Futurum esse paucis annis uti omnes ex Galliae finibus pellerentur atque omnes Germani Rhenum transirent; neque enim conferendum esse Gallicum cum Germanorum agro neque hanc consuetudinem victus cum illa comparandam. Ariovistum autem, ut semel Gallorum copias proelio vicerit, quod proelium factum sit ad Magetobrigam, superbe et crudeliter imperare, obsides nobilissimi cuiusque liberos poscere et in eos omnia exempla cruciatusque edere, si qua res non ad nutum aut ad voluntatem eius facta sit. Hominem esse barbarum, iracundum, temerarium: non posse eius imperia, diutius sustineri. Nisi quid in Caesare populoque Romano sit auxilii, omnibus Gallis idem esse faciendum quod Helvetii fecerint, ut domo emigrent, aliud domicilium, alias sedes, remotas a Germanis, petant fortunamque, quaecumque accidat, experiantur. Haec si enuntiata Ariovisto sint, non dubitare quin de omnibus obsidibus qui apud eum sint gravissimum supplicium sumat. Caesarem vel auctoritate sua atque exercitus vel recenti victoria vel nomine populi Romani deterrere posse ne maior multitudo Germanorum Rhenum traducatur, Galliamque omnem ab Ariovisti iniuria posse defendere. Hac oratione ab Diviciaco habita omnes qui aderant magno fletu auxilium a Caesare petere coeperunt. Animadvertit Caesar unos ex omnibus Sequanos nihil earum rerum facere quas ceteri facerent sed tristes capite demisso terram intueri. Eius rei quae causa esset miratus ex ipsis quaesiit. Nihil Sequani respondere, sed in eadem tristitia taciti permanere. Cum ab his saepius quaereret neque ullam omnino vocem exprimere posset, idem Diviacus Haeduus respondit: hoc esse miseriorem et graviorem fortunam Sequanorum quam reliquorum, quod soli ne in occulto quidem queri neque auxilium implorare auderent absentisque Ariovisti crudelitatem, velut si cora adesset, horrerent, propterea quod reliquis tamen fugae facultas daretur, Sequanis vero, qui intra fines suos Ariovistum recepissent, quorum oppida omnia in potestate eius essent, omnes cruciatus essent perferendi. His rebus cognitis Caesar Gallorum animos verbis confirmavit pollicitusque est sibi eam rem curae futuram; magnam se habere spem et beneficio suo et auctoritate adductum Ariovistum finem iniuriis facturum. Hac oratione habita, concilium dimisit. Et secundum ea multae res eum hortabantur quare sibi eam rem cogitandam et suscipiendam putaret, in primis quod Haeduos, fratres consanguineosque saepe numero a senatu appellatos, in servitute atque [in] dicione videbat Germanorum teneri eorumque obsides esse apud Ariovistum ac Sequanos intellegebat; quod in tanto imperio populi Romani turpissimum sibi et rei publicae esse arbitrabatur. Paulatim autem Germanos consuescere Rhenum transire et in Galliam magnam eorum multitudinem venire populo Romano periculosum videbat, neque sibi homines feros ac barbaros temperaturos existimabat quin, cum omnem Galliam occupavissent, ut ante Cimbri Teutonique fecissent, in provinciam exirent atque inde in Italiam contenderent [, praesertim cum Sequanos a provincia nostra Rhodanus divideret]; quibus rebus quam maturrime occurrendum putabat. Ipse autem Ariovistus tantos sibi spiritus, tantam arrogantiam sumpserat, ut ferendus non videretur. Quam ob rem placuit ei ut ad Ariovistum legatos mitteret, qui ab eo postularent uti aliquem locum medium utrisque conloquio deligeret: velle sese de re publica et summis utriusque rebus cum eo agere. Ei legationi Ariovistus respondit: si quid ipsi a Caesare opus esset, sese ad eum venturum fuisse; si quid ille se velit, illum ad se venire oportere. Praeterea se neque sine exercitu in eas partes Galliae venire audere quas Caesar possideret, neque exercitum sine magno commeatu atque molimento in unum locum contrahere posse. Sibi autem mirum videri quid in sua Gallia, quam bello vicisset, aut Caesari aut omnino populo Romano negotii esset. His responsis ad Caesarem relatis, iterum ad eum Caesar legatos cum his mandatis mittit: quoniam tanto suo populique Romani beneficio adfectus, cum in consulatu suo rex atque amicus a senatu appellatus esset, hanc sibi populoque Romano gratiam referret ut in conloquium venire invitatus gravaretur neque de communi re dicendum sibi et cognoscendum putaret, haec esse quae ab eo postularet: primum ne quam multitudinem hominum amplius trans Rhenum in Galliam traduceret; deinde obsides quos haberet ab Haeduis redderet Sequanisque permitteret ut quos illi haberent voluntate eius reddere illis liceret; neve Haeduos iniuria lacesseret neve his sociisque eorum bellum inferret. Si [id] ita fecisset, sibi populoque Romano perpetuam gratiam atque amicitiam cum eo futuram; si non impetraret, sese, quoniam M. Messala, M. Pisone consulibus senatus censuisset uti quicumque Galliam provinciam obtineret, quod commodo rei publicae facere posset, Haeduos ceterosque amicos populi Romani defenderet, se Haeduorum iniurias non neglecturum. Ad haec Ariovistus respondit: ius esse belli ut qui vicissent iis quos vicissent quem ad modum vellent imperarent. Item populum Romanum victis non ad alterius praescriptum, sed ad suum arbitrium imperare consuesse. Si ipse populo Romano non praescriberet quem ad modum suo iure uteretur, non oportere se a populo Romano in suo iure impediri. Haeduos sibi, quoniam belli fortunam temptassent et armis congressi ac superati essent, stipendiarios esse factos. Magnam Caesarem iniuriam facere, qui suo adventu vectigalia sibi deteriora faceret. Haeduis se obsides redditurum non esse neque his neque eorum sociis iniuria bellum inlaturum, si in eo manerent quod convenisset stipendiumque quotannis penderent; si id non fecissent, longe iis fraternum nomen populi Romani afuturum. Quod sibi Caesar denuntiaret se Haeduorum iniurias non neglecturum, neminem secum sine sua pernicie contendisse. Cum vellet, congrederetur: intellecturum quid invicti Germani, exercitatissimi in armis, qui inter annos XIIII tectum non subissent, virtute possent. Haec eodem tempore Caesari mandata referebantur et legati ab Haeduis et a Treveris veniebant: Haedui questum quod Harudes, qui nuper in Galliam transportati essent, fines eorum popularentur: sese ne obsidibus quidem datis pacem Ariovisti redimere potuisse; Treveri autem, pagos centum Sueborum ad ripas Rheni consedisse, qui Rhenum transire conarentur; his praeesse Nasuam et Cimberium fratres. Quibus rebus Caesar vehementer commotus maturandum sibi existimavit, ne, si nova manus Sueborum cum veteribus copiis Ariovisti sese coniunxisset, minus facile resisti posset. Itaque re frumentaria quam celerrime potuit comparata magnis itineribus ad Ariovistum contendit. Cum tridui viam processisset, nuntiatum est ei Ariovistum cum suis omnibus copiis ad occupandum Vesontionem, quod est oppidum maximum Sequanorum, contendere [triduique viam a suis finibus processisse]. Id ne accideret, magnopere sibi praecavendum Caesar existimabat. Namque omnium rerum quae ad bellum usui erant summa erat in eo oppido facultas, idque natura loci sic muniebatur ut magnam ad ducendum bellum daret facultatem, propterea quod flumen [alduas] Dubis ut circino circumductum paene totum oppidum cingit, reliquum spatium, quod est non amplius pedum MDC, qua flumen intermittit, mons continet magna altitudine, ita ut radices eius montis ex utraque parte ripae fluminis contingant, hunc murus circumdatus arcem efficit et cum oppido coniungit. Huc Caesar magnis nocturnis diurnisque itineribus contendit occupatoque oppido ibi praesidium conlocat. Dum paucos dies ad Vesontionem rei frumentariae commeatusque causa moratur, ex percontatione nostrorum vocibusque Gallorum ac mercatorum, qui ingenti magnitudine corporum Germanos, incredibili virtute atque exercitatione in armis esse praedicabant (saepe numero sese cum his congressos ne vultum quidem atque aciem oculorum dicebant ferre potuisse), tantus subito timor omnem exercitum occupavit ut non mediocriter omnium mentes animosque perturbaret. Hic primum ortus est a tribunis militum, praefectis, reliquisque qui ex urbe amicitiae causa Caesarem secuti non magnum in re militari usum habebant: quorum alius alia causa inlata, quam sibi ad proficiscendum necessariam esse diceret, petebat ut eius voluntate discedere liceret; non nulli pudore adducti, ut timoris suspicionem vitarent, remanebant. Hi neque vultum fingere neque interdum lacrimas tenere poterant: abditi in tabernaculis aut suum fatum querebantur aut cum familiaribus suis commune periculum miserabantur. Vulgo totis castris testamenta obsignabantur. Horum vocibus ac timore paulatim etiam ii qui magnum in castris usum habebant, milites centurionesque quique equitatui praeerant, perturbabantur. Qui se ex his minus timidos existimari volebant, non se hostem vereri, sed angustias itineris et magnitudinem silvarum quae intercederent inter ipsos atque Ariovistum, aut rem frumentariam, ut satis commode supportari posset, timere dicebant. Non nulli etiam Caesari nuntiabant, cum castra moveri ac signa ferri iussisset, non fore dicto audientes milites neque propter timorem signa laturos. Haec cum animadvertisset, convocato consilio omniumque ordinum ad id consilium adhibitis centurionibus, vehementer eos incusavit: primum, quod aut quam in partem aut quo consilio ducerentur sibi quaerendum aut cogitandum putarent. Ariovistum se consule cupidissime populi Romani amicitiam adpetisse; cur hunc tam temere quisquam ab officio discessurum iudicaret? Sibi quidem persuaderi cognitis suis postulatis atque aequitate condicionum perspecta eum neque suam neque populi Romani gratiam repudiaturum. Quod si furore atque amentia impulsum bellum intulisset, quid tandem vererentur? Aut cur de sua virtute aut de ipsius diligentia desperarent? Factum eius hostis periculum patrum nostrorum memoria Cimbris et Teutonis a C. Mario pulsis [cum non minorem laudem exercitus quam ipse imperator meritus videbatur]; factum etiam nuper in Italia servili tumultu, quos tamen aliquid usus ac disciplina, quam a nobis accepissent, sublevarint. Ex quo iudicari posse quantum haberet in se boni constantia, propterea quod quos aliquam diu inermes sine causa timuissent hos postea armatos ac victores superassent. Denique hos esse eosdem Germanos quibuscum saepe numero Helvetii congressi non solum in suis sed etiam in illorum finibus plerumque superarint, qui tamen pares esse nostro exercitui non potuerint. Si quos adversum proelium et fuga Gallorum commoveret, hos, si quaererent, reperire posse diuturnitate belli defatigatis Gallis Ariovistum, cum multos menses castris se ac paludibus tenuisset neque sui potestatem fecisset, desperantes iam de pugna et dispersos subito adortum magis ratione et consilio quam virtute vicisse. Cui rationi contra homines barbaros atque imperitos locus fuisset, hac ne ipsum quidem sperare nostros exercitus capi posse. Qui suum timorem in rei frumentariae simulationem angustiasque itineris conferrent, facere arroganter, cum aut de officio imperatoris desperare aut praescribere viderentur. Haec sibi esse curae; frumentum Sequanos, Leucos, Lingones subministrare, iamque esse in agris frumenta matura; de itinere ipsos brevi tempore iudicaturos. Quod non fore dicto audientes neque signa laturi dicantur, nihil se ea re commoveri: scire enim, quibuscumque exercitus dicto audiens non fuerit, aut male re gesta fortunam defuisse aut aliquo facinore comperto avaritiam esse convictam. Suam innocentiam perpetua vita, felicitatem Helvetiorum bello esse perspectam. Itaque se quod in longiorem diem conlaturus fuisset repraesentaturum et proxima nocte de quarta, vigilia castra moturum, ut quam primum intellegere posset utrum apud eos pudor atque officium an timor plus valeret. Quod si praeterea nemo sequatur, tamen se cum sola decima legione iturum, de qua non dubitet, sibique eam praetoriam cohortem futuram. Huic legioni Caesar et indulserat praecipue et propter virtutem confidebat maxime. Hac oratione habita mirum in modum conversae sunt omnium mentes summaque alacritas et cupiditas belli gerendi innata est, princepsque X. legio per tribunos militum ei gratias egit quod de se optimum iudicium fecisset, seque esse ad bellum gerendum paratissimam confirmavit. Deinde reliquae legiones cum tribunis militum et primorum ordinum centurionibus egerunt uti Caesari satis facerent: se neque umquam dubitasse neque timuisse neque de summa belli suum iudicium sed imperatoris esse existimavisse. Eorum satisfactione accepta et itinere exquisito per Diviciacum, quod ex Gallis ei maximam fidem habebat, ut milium amplius quinquaginta circuitu locis apertis exercitum duceret, de quarta vigilia, ut dixerat, profectus est. Septimo die, cum iter non intermitteret, ab exploratoribus certior factus est Ariovisti copias a nostris milia passuum IIII et XX abesse. Cognito Caesaris adventu Ariovistus legatos ad eum mittit: quod antea de conloquio postulasset, id per se fieri licere, quoniam propius accessisset seque id sine periculo facere posse existimaret. Non respuit condicionem Caesar iamque eum ad sanitatem reverti arbitrabatur, cum id quod antea petenti denegasset ultro polliceretur, magnamque in spem veniebat pro suis tantis populique Romani in eum beneficiis cognitis suis postulatis fore uti pertinacia desisteret. Dies conloquio dictus est ex eo die quintus. Interim saepe cum legati ultro citroque inter eos mitterentur, Ariovistus postulavit ne quem peditem ad conloquium Caesar adduceret: vereri se ne per insidias ab eo circumveniretur; uterque cum equitatu veniret: alia ratione sese non esse venturum. Caesar, quod neque conloquium interposita causa tolli volebat neque salutem suam Gallorum equitatui committere audebat, commodissimum esse statuit omnibus equis Gallis equitibus detractis eo legionarios milites legionis X., cui quam maxime confidebat, imponere, ut praesidium quam amicissimum, si quid opus facto esset, haberet. Quod cum fieret, non inridicule quidam ex militibus X. legionis dixit: plus quam pollicitus esset Caesarem facere; pollicitum se in cohortis praetoriae loco X. legionem habiturum ad equum rescribere. Planities erat magna et in ea tumulus terrenus satis grandis. Hic locus aequum fere spatium a castris Ariovisti et Caesaris aberat. Eo, ut erat dictum, ad conloquium venerunt. Legionem Caesar, quam equis devexerat, passibus CC ab eo tumulo constituit. Item equites Ariovisti pari intervallo constiterunt. Ariovistus ex equis ut conloquerentur et praeter se denos ad conloquium adducerent postulavit. Ubi eo ventum est, Caesar initio orationis sua senatusque in eum beneficia commemoravit, quod rex appellatus esset a senatu, quod amicus, quod munera amplissime missa; quam rem et paucis contigisse et pro magnis hominum officiis consuesse tribui docebat; illum, cum neque aditum neque causam postulandi iustam haberet, beneficio ac liberalitate sua ac senatus ea praemia consecutum. Docebat etiam quam veteres quamque iustae causae necessitudinis ipsis cum Haeduis intercederent, quae senatus consulta quotiens quamque honorifica in eos facta essent, ut omni tempore totius Galliae principatum Haedui tenuissent, prius etiam quam nostram amicitiam adpetissent. Populi Romani hanc esse consuetudinem, ut socios atque amicos non modo sui nihil deperdere, sed gratia, dignitate, honore auctiores velit esse; quod vero ad amicitiam populi Romani attulissent, id iis eripi quis pati posset? Postulavit deinde eadem quae legatis in mandatis dederat: ne aut Haeduis aut eorum sociis bellum inferret, obsides redderet, si nullam partem Germanorum domum remittere posset, at ne quos amplius Rhenum transire pateretur. Ariovistus ad postulata Caesaris pauca respondit, de suis virtutibus multa praedicavit: transisse Rhenum sese non sua sponte, sed rogatum et arcessitum a Gallis; non sine magna spe magnisque praemiis domum propinquosque reliquisse; sedes habere in Gallia ab ipsis concessas, obsides ipsorum voluntate datos; stipendium capere iure belli, quod victores victis imponere consuerint. Non sese Gallis sed Gallos sibi bellum intulisse: omnes Galliae civitates ad se oppugnandum venisse ac contra se castra habuisse; eas omnes copias a se uno proelio pulsas ac superatas esse. Si iterum experiri velint, se iterum paratum esse decertare; si pace uti velint, iniquum esse de stipendio recusare, quod sua voluntate ad id tempus pependerint. Amicitiam populi Romani sibi ornamento et praesidio, non detrimento esse oportere, atque se hac spe petisse. Si per populum Romanum stipendium remittatur et dediticii subtrahantur, non minus libenter sese recusaturum populi Romani amicitiam quam adpetierit. Quod multitudinem Germanorum in Galliam traducat, id se sui muniendi, non Galliae oppugnandae causa facere; eius rei testimonium esse quod nisi rogatus non venerit et quod bellum non intulerit sed defenderit. Se prius in Galliam venisse quam populum Romanum. Numquam ante hoc tempus exercitum populi Romani Galliae provinciae finibus egressum. Quid sibi vellet? Cur in suas possessiones veniret? Provinciam suam hanc esse Galliam, sicut illam nostram. Ut ipsi concedi non oporteret, si in nostros fines impetum faceret, sic item nos esse iniquos, quod in suo iure se interpellaremus. Quod fratres a senatu Haeduos appellatos diceret, non se tam barbarum neque tam imperitum esse rerum ut non sciret neque bello Allobrogum proximo Haeduos Romanis auxilium tulisse neque ipsos in iis contentionibus quas Haedui secum et cum Sequanis habuissent auxilio populi Romani usos esse. Debere se suspicari simulata Caesarem amicitia, quod exercitum in Gallia habeat, sui opprimendi causa habere. Qui nisi decedat atque exercitum deducat ex his regionibus, sese illum non pro amico sed pro hoste habiturum. Quod si eum interfecerit, multis sese nobilibus principibusque populi Romani gratum esse facturum (id se ab ipsis per eorum nuntios compertum habere), quorum omnium gratiam atque amicitiam eius morte redimere posset. Quod si decessisset et liberam possessionem Galliae sibi tradidisset, magno se illum praemio remuneraturum et quaecumque bella geri vellet sine ullo eius labore et periculo confecturum. Multa a Caesare in eam sententiam dicta sunt quare negotio desistere non posset: neque suam neque populi Romani consuetudinem pati ut optime meritos socios desereret, neque se iudicare Galliam potius esse Ariovisti quam populi Romani. Bello superatos esse Arvernos et Rutenos a Q. Fabio Maximo, quibus populus Romanus ignovisset neque in provinciam redegisset neque stipendium posuisset. Quod si antiquissimum quodque tempus spectari oporteret, populi Romani iustissimum esse in Gallia imperium; si iudicium senatus observari oporteret, liberam debere esse Galliam, quam bello victam suis legibus uti voluisset. Dum haec in conloquio geruntur, Caesari nuntiatum est equites Ariovisti propius tumulum accedere et ad nostros adequitare, lapides telaque in nostros coicere. Caesar loquendi finem fecit seque ad suos recepit suisque imperavit ne quod omnino telum in hostes reicerent. Nam etsi sine ullo periculo legionis delectae cum equitatu proelium fore videbat, tamen committendum non putabat ut, pulsis hostibus, dici posset eos ab se per fidem in conloquio circumventos. Postea quam in vulgus militum elatum est qua arrogantia in conloquio Ariovistus usus omni Gallia Romanis interdixisset, impetumque in nostros eius equites fecissent, eaque res conloquium ut diremisset, multo maior alacritas studiumque pugnandi maius exercitui iniectum est. Biduo post Ariovistus ad Caesarem legatos misit: velle se de iis rebus quae inter eos egi coeptae neque perfectae essent agere cum eo: uti aut iterum conloquio diem constitueret aut, si id minus vellet, ex suis legatis aliquem ad se mitteret. Conloquendi Caesari causa visa non est, et eo magis quod pridie eius diei Germani retineri non potuerant quin tela in nostros coicerent. Legatum ex suis sese magno cum periculo ad eum missurum et hominibus feris obiecturum existimabat. Commodissimum visum est C. Valerium Procillum, C. Valerii Caburi filium, summa virtute et humanitate adulescentem, cuius pater a C. Valerio Flacco civitate donatus erat, et propter fidem et propter linguae Gallicae scientiam, qua multa iam Ariovistus longinqua consuetudine utebatur, et quod in eo peccandi Germanis causa non esset, ad eum mittere, et una M. Metium, qui hospitio Ariovisti utebatur. His mandavit quae diceret Ariovistus cognoscerent et ad se referrent. Quos cum apud se in castris Ariovistus conspexisset, exercitu suo praesente conclamavit: quid ad se venirent? an speculandi causa? Conantes dicere prohibuit et in catenas coniecit. Eodem die castra promovit et milibus passuum VI a Caesaris castris sub monte consedit. Postridie eius diei praeter castra Caesaris suas copias traduxit et milibus passuum duobus ultra eum castra fecit eo consilio uti frumento commeatuque qui ex Sequanis et Haeduis supportaretur Caesarem intercluderet. Ex eo die dies continuos V Caesar pro castris suas copias produxit et aciem instructam habuit, ut, si vellet Ariovistus proelio contendere, ei potestas non deesset. Ariovistus his omnibus diebus exercitum castris continuit, equestri proelio cotidie contendit. Genus hoc erat pugnae, quo se Germani exercuerant: equitum milia erant VI, totidem numero pedites velocissimi ac fortissimi, quos ex omni copia singuli singulos suae salutis causa delegerant: cum his in proeliis versabantur, ad eos se equites recipiebant; hi, si quid erat durius, concurrebant, si qui graviore vulnere accepto equo deciderat, circumsistebant; si quo erat longius prodeundum aut celerius recipiendum, tanta erat horum exercitatione celeritas ut iubis sublevati equorum cursum adaequarent. Ubi eum castris se tenere Caesar intellexit, ne diutius commeatu prohiberetur, ultra eum locum, quo in loco Germani consederant, circiter passus DC ab his, castris idoneum locum delegit acieque triplici instructa ad eum locum venit. Primam et secundam aciem in armis esse, tertiam castra munire iussit. [Hic locus ab hoste circiter passus DC, uti dictum est, aberat.] Eo circiter hominum XVI milia expedita cum omni equitatu Ariovistus misit, quae copiae nostros terrerent et munitione prohiberent. Nihilo setius Caesar, ut ante constituerat, duas acies hostem propulsare, tertiam opus perficere iussit. Munitis castris duas ibi legiones reliquit et partem auxiliorum, quattuor reliquas legiones in castra maiora reduxit. Proximo die instituto suo Caesar ex castris utrisque copias suas eduxit paulumque a maioribus castris progressus aciem instruxit hostibusque pugnandi potestatem fecit. Ubi ne tum quidem eos prodire intellexit, circiter meridiem exercitum in castra reduxit. Tum demum Ariovistus partem suarum copiarum, quae castra minora oppugnaret, misit. Acriter utrimque usque ad vesperum pugnatum est. Solis occasu suas copias Ariovistus multis et inlatis et acceptis vulneribus in castra reduxit. Cum ex captivis quaereret Caesar quam ob rem Ariovistus proelio non decertaret, hanc reperiebat causam, quod apud Germanos ea consuetudo esset ut matres familiae eorum sortibus et vaticinationibus declararent utrum proelium committi ex usu esset necne; eas ita dicere: non esse fas Germanos superare, si ante novam lunam proelio contendissent. Postridie eius diei Caesar praesidio utrisque castris quod satis esse visum est reliquit, alarios omnes in conspectu hostium pro castris minoribus constituit, quod minus multitudine militum legionariorum pro hostium numero valebat, ut ad speciem alariis uteretur; ipse triplici instructa acie usque ad castra hostium accessit. Tum demum necessario Germani suas copias castris eduxerunt generatimque constituerunt paribus intervallis, Harudes, Marcomanos, Tribocos, Vangiones, Nemetes, Sedusios, Suebos, omnemque aciem suam raedis et carris circumdederunt, ne qua spes in fuga relinqueretur. Eo mulieres imposuerunt, quae ad proelium proficiscentes milites passis manibus flentes implorabant ne se in servitutem Romanis traderent. Caesar singulis legionibus singulos legatos et quaestorem praefecit, uti eos testes suae quisque virtutis haberet; ipse a dextro cornu, quod eam partem minime firmam hostium esse animadverterat, proelium commisit. Ita nostri acriter in hostes signo dato impetum fecerunt itaque hostes repente celeriterque procurrerunt, ut spatium pila in hostes coiciendi non daretur. Relictis pilis comminus gladiis pugnatum est. At Germani celeriter ex consuetudine sua phalange facta impetus gladiorum exceperunt. Reperti sunt complures nostri qui in phalanga insilirent et scuta manibus revellerent et desuper vulnerarent. Cum hostium acies a sinistro cornu pulsa atque in fugam coniecta esset, a dextro cornu vehementer multitudine suorum nostram aciem premebant. Id cum animadvertisset P. Crassus adulescens, qui equitatui praeerat, quod expeditior erat quam ii qui inter aciem versabantur, tertiam aciem laborantibus nostris subsidio misit. Ita proelium restitutum est, atque omnes hostes terga verterunt nec prius fugere destiterunt quam ad flumen Rhenum milia passuum ex eo loco circiter L pervenerunt. Ibi perpauci aut viribus confisi tranare contenderunt aut lintribus inventis sibi salutem reppererunt. In his fuit Ariovistus, qui naviculam deligatam ad ripam nactus ea profugit; reliquos omnes consecuti equites nostri interfecerunt. Duae fuerunt Ariovisti uxores, una Sueba natione, quam domo secum eduxerat, altera Norica, regis Voccionis soror, quam in Gallia duxerat a fratre missam: utraque in ea fuga periit; duae filiae: harum altera occisa, altera capta est. C. Valerius Procillus, cum a custodibus in fuga trinis catenis vinctus traheretur, in ipsum Caesarem hostes equitatu insequentem incidit. Quae quidem res Caesari non minorem quam ipsa victoria voluptatem attulit, quod hominem honestissimum provinciae Galliae, suum familiarem et hospitem, ereptum ex manibus hostium sibi restitutum videbat neque eius calamitate de tanta voluptate et gratulatione quicquam fortuna deminuerat. Is se praesente de se ter sortibus consultum dicebat, utrum igni statim necaretur an in aliud tempus reservaretur: sortium beneficio se esse incolumem. Item M. Metius repertus et ad eum reductus est. Hoc proelio trans Rhenum nuntiato, Suebi, qui ad ripas Rheni venerant, domum reverti coeperunt; quos ubi qui proximi Rhenum incolunt perterritos senserunt, insecuti magnum ex iis numerum occiderunt. Caesar una aestate duobus maximis bellis confectis maturius paulo quam tempus anni postulabat in hiberna in Sequanos exercitum deduxit; hibernis Labienum praeposuit; ipse in citeriorem Galliam ad conventus agendos profectus est.\n"
     ]
    }
   ],
   "source": [
    "print(de_bello_gallico_book1)"
   ]
  },
  {
   "cell_type": "markdown",
   "metadata": {
    "deletable": true,
    "editable": true
   },
   "source": [
    "The text that we have just fetched by using a programming interface (API) can also be [viewed in the browser](http://cts.dh.uni-leipzig.de/read/latinLit/phi0448/phi001/perseus-lat2/1)."
   ]
  },
  {
   "cell_type": "markdown",
   "metadata": {
    "deletable": true,
    "editable": true
   },
   "source": [
    "Or even imported as an iframe into this notebook! "
   ]
  },
  {
   "cell_type": "code",
   "execution_count": 13,
   "metadata": {
    "collapsed": false,
    "deletable": true,
    "editable": true
   },
   "outputs": [
    {
     "data": {
      "text/html": [
       "\n",
       "        <iframe\n",
       "            width=\"1000\"\n",
       "            height=\"350\"\n",
       "            src=\"http://cts.dh.uni-leipzig.de/read/latinLit/phi0448/phi001/perseus-lat2/1\"\n",
       "            frameborder=\"0\"\n",
       "            allowfullscreen\n",
       "        ></iframe>\n",
       "        "
      ],
      "text/plain": [
       "<IPython.lib.display.IFrame at 0x7f92ec248a58>"
      ]
     },
     "execution_count": 13,
     "metadata": {},
     "output_type": "execute_result"
    }
   ],
   "source": [
    "from IPython.display import IFrame\n",
    "IFrame('http://cts.dh.uni-leipzig.de/read/latinLit/phi0448/phi001/perseus-lat2/1', width=1000, height=350)"
   ]
  },
  {
   "cell_type": "markdown",
   "metadata": {
    "deletable": true,
    "editable": true
   },
   "source": [
    "Let's see how many words (tokens, more properly) there are in Caesar's *De Bello Gallico* I:"
   ]
  },
  {
   "cell_type": "code",
   "execution_count": 14,
   "metadata": {
    "collapsed": false,
    "deletable": true,
    "editable": true
   },
   "outputs": [
    {
     "data": {
      "text/plain": [
       "8176"
      ]
     },
     "execution_count": 14,
     "metadata": {},
     "output_type": "execute_result"
    }
   ],
   "source": [
    "len(de_bello_gallico_book1.split(\" \"))"
   ]
  },
  {
   "cell_type": "markdown",
   "metadata": {
    "deletable": true,
    "editable": true
   },
   "source": [
    "# Very simple baseline"
   ]
  },
  {
   "cell_type": "markdown",
   "metadata": {
    "deletable": true,
    "editable": true
   },
   "source": [
    "Now let's write what in NLP jargon is called a *baseline*, that is a method for extracting named entities that can serve as a term of comparison to evaluate the accuracy of other methods. \n",
    "\n",
    "**Baseline method**: \n",
    "- cycle through each token of the text\n",
    "- if the token starts with a capital letter it's a named entity (only one type, i.e. `Entity`)"
   ]
  },
  {
   "cell_type": "code",
   "execution_count": 15,
   "metadata": {
    "collapsed": false,
    "deletable": true,
    "editable": true
   },
   "outputs": [
    {
     "data": {
      "text/plain": [
       "True"
      ]
     },
     "execution_count": 15,
     "metadata": {},
     "output_type": "execute_result"
    }
   ],
   "source": [
    "\"T\".istitle()"
   ]
  },
  {
   "cell_type": "code",
   "execution_count": 16,
   "metadata": {
    "collapsed": false,
    "deletable": true,
    "editable": true
   },
   "outputs": [
    {
     "data": {
      "text/plain": [
       "False"
      ]
     },
     "execution_count": 16,
     "metadata": {},
     "output_type": "execute_result"
    }
   ],
   "source": [
    "\"t\".istitle()"
   ]
  },
  {
   "cell_type": "code",
   "execution_count": 17,
   "metadata": {
    "collapsed": true,
    "deletable": true,
    "editable": true
   },
   "outputs": [],
   "source": [
    "# we need a list to store the tagged tokens\n",
    "tagged_tokens = []\n",
    "\n",
    "# tokenisation is done by using the string method `split(\" \")` \n",
    "# that splits a string upon white spaces\n",
    "for n, token in enumerate(de_bello_gallico_book1.split(\" \")):\n",
    "    if(token.istitle()):\n",
    "        tagged_tokens.append((token, \"Entity\"))\n",
    "    #else:\n",
    "        #tagged_tokens.append((token, \"O\"))    "
   ]
  },
  {
   "cell_type": "markdown",
   "metadata": {
    "deletable": true,
    "editable": true
   },
   "source": [
    "Let's a havea  look at the first 50 tokens that we just tagged:"
   ]
  },
  {
   "cell_type": "code",
   "execution_count": 18,
   "metadata": {
    "collapsed": false,
    "deletable": true,
    "editable": true
   },
   "outputs": [
    {
     "data": {
      "text/plain": [
       "[('Gallia', 'Entity'),\n",
       " ('Belgae,', 'Entity'),\n",
       " ('Aquitani,', 'Entity'),\n",
       " ('Celtae,', 'Entity'),\n",
       " ('Galli', 'Entity'),\n",
       " ('Hi', 'Entity'),\n",
       " ('Gallos', 'Entity'),\n",
       " ('Aquitanis', 'Entity'),\n",
       " ('Garumna', 'Entity'),\n",
       " ('Belgis', 'Entity'),\n",
       " ('Matrona', 'Entity'),\n",
       " ('Sequana', 'Entity'),\n",
       " ('Horum', 'Entity'),\n",
       " ('Belgae,', 'Entity'),\n",
       " ('Germanis,', 'Entity'),\n",
       " ('Rhenum', 'Entity'),\n",
       " ('Qua', 'Entity'),\n",
       " ('Helvetii', 'Entity'),\n",
       " ('Gallos', 'Entity'),\n",
       " ('Germanis', 'Entity'),\n",
       " ('[Eorum', 'Entity'),\n",
       " ('Gallos', 'Entity'),\n",
       " ('Rhodano,', 'Entity'),\n",
       " ('Garumna', 'Entity'),\n",
       " ('Oceano,', 'Entity'),\n",
       " ('Belgarum,', 'Entity'),\n",
       " ('Sequanis', 'Entity'),\n",
       " ('Helvetiis', 'Entity'),\n",
       " ('Rhenum,', 'Entity'),\n",
       " ('Belgae', 'Entity'),\n",
       " ('Galliae', 'Entity'),\n",
       " ('Rheni,', 'Entity'),\n",
       " ('Aquitania', 'Entity'),\n",
       " ('Garumna', 'Entity'),\n",
       " ('Pyrenaeos', 'Entity'),\n",
       " ('Oceani', 'Entity'),\n",
       " ('Hispaniam', 'Entity'),\n",
       " ('Apud', 'Entity'),\n",
       " ('Helvetios', 'Entity'),\n",
       " ('Orgetorix.', 'Entity'),\n",
       " ('Is', 'Entity'),\n",
       " ('M.', 'Entity'),\n",
       " ('Messala,', 'Entity'),\n",
       " ('P.]', 'Entity'),\n",
       " ('M.', 'Entity'),\n",
       " ('Pisone', 'Entity'),\n",
       " ('Galliae', 'Entity'),\n",
       " ('Id', 'Entity'),\n",
       " ('Helvetii', 'Entity'),\n",
       " ('Rheno', 'Entity')]"
      ]
     },
     "execution_count": 18,
     "metadata": {},
     "output_type": "execute_result"
    }
   ],
   "source": [
    "tagged_tokens[:50]"
   ]
  },
  {
   "cell_type": "markdown",
   "metadata": {
    "deletable": true,
    "editable": true
   },
   "source": [
    "For convenience we can also wrap our baseline code into a function that we call `extract_baseline`. Let's define it:"
   ]
  },
  {
   "cell_type": "code",
   "execution_count": 19,
   "metadata": {
    "collapsed": true,
    "deletable": true,
    "editable": true
   },
   "outputs": [],
   "source": [
    "def extract_baseline(input_text):\n",
    "    \"\"\"\n",
    "    :param input_text: the text to tag (string)\n",
    "    :return: a list of tuples, where tuple[0] is the token and tuple[1] is the named entity tag\n",
    "    \"\"\"\n",
    "    # we need a list to store the tagged tokens\n",
    "    tagged_tokens = []\n",
    "\n",
    "    # tokenisation is done by using the string method `split(\" \")` \n",
    "    # that splits a string upon white spaces\n",
    "    for n, token in enumerate(input_text.split(\" \")):\n",
    "        if(token.istitle()):\n",
    "            tagged_tokens.append((token, \"Entity\"))\n",
    "        #else:\n",
    "            #tagged_tokens.append((token, \"O\")) \n",
    "    return tagged_tokens"
   ]
  },
  {
   "cell_type": "markdown",
   "metadata": {
    "deletable": true,
    "editable": true
   },
   "source": [
    "And now we can call it like this:"
   ]
  },
  {
   "cell_type": "code",
   "execution_count": 20,
   "metadata": {
    "collapsed": true,
    "deletable": true,
    "editable": true
   },
   "outputs": [],
   "source": [
    "tagged_tokens_baseline = extract_baseline(de_bello_gallico_book1)"
   ]
  },
  {
   "cell_type": "code",
   "execution_count": 21,
   "metadata": {
    "collapsed": false,
    "deletable": true,
    "editable": true
   },
   "outputs": [
    {
     "data": {
      "text/plain": [
       "[('Marcomanos,', 'Entity'),\n",
       " ('Tribocos,', 'Entity'),\n",
       " ('Vangiones,', 'Entity'),\n",
       " ('Nemetes,', 'Entity'),\n",
       " ('Sedusios,', 'Entity'),\n",
       " ('Suebos,', 'Entity'),\n",
       " ('Eo', 'Entity'),\n",
       " ('Romanis', 'Entity'),\n",
       " ('Caesar', 'Entity'),\n",
       " ('Ita', 'Entity'),\n",
       " ('Relictis', 'Entity'),\n",
       " ('At', 'Entity'),\n",
       " ('Germani', 'Entity'),\n",
       " ('Reperti', 'Entity'),\n",
       " ('Cum', 'Entity'),\n",
       " ('Id', 'Entity'),\n",
       " ('P.', 'Entity'),\n",
       " ('Crassus', 'Entity'),\n",
       " ('Ita', 'Entity'),\n",
       " ('Rhenum', 'Entity'),\n",
       " ('L', 'Entity'),\n",
       " ('Ibi', 'Entity'),\n",
       " ('In', 'Entity'),\n",
       " ('Ariovistus,', 'Entity'),\n",
       " ('Duae', 'Entity'),\n",
       " ('Ariovisti', 'Entity'),\n",
       " ('Sueba', 'Entity'),\n",
       " ('Norica,', 'Entity'),\n",
       " ('Voccionis', 'Entity'),\n",
       " ('Gallia', 'Entity'),\n",
       " ('C.', 'Entity'),\n",
       " ('Valerius', 'Entity'),\n",
       " ('Procillus,', 'Entity'),\n",
       " ('Caesarem', 'Entity'),\n",
       " ('Quae', 'Entity'),\n",
       " ('Caesari', 'Entity'),\n",
       " ('Galliae,', 'Entity'),\n",
       " ('Is', 'Entity'),\n",
       " ('Item', 'Entity'),\n",
       " ('M.', 'Entity'),\n",
       " ('Metius', 'Entity'),\n",
       " ('Hoc', 'Entity'),\n",
       " ('Rhenum', 'Entity'),\n",
       " ('Suebi,', 'Entity'),\n",
       " ('Rheni', 'Entity'),\n",
       " ('Rhenum', 'Entity'),\n",
       " ('Caesar', 'Entity'),\n",
       " ('Sequanos', 'Entity'),\n",
       " ('Labienum', 'Entity'),\n",
       " ('Galliam', 'Entity')]"
      ]
     },
     "execution_count": 21,
     "metadata": {},
     "output_type": "execute_result"
    }
   ],
   "source": [
    "tagged_tokens_baseline[-50:]"
   ]
  },
  {
   "cell_type": "markdown",
   "metadata": {
    "collapsed": true,
    "deletable": true,
    "editable": true
   },
   "source": [
    "We can modify slightly our function so that it prints the snippet of text where an entity is found:"
   ]
  },
  {
   "cell_type": "code",
   "execution_count": 22,
   "metadata": {
    "collapsed": false,
    "deletable": true,
    "editable": true
   },
   "outputs": [],
   "source": [
    "def extract_baseline(input_text):\n",
    "    \"\"\"\n",
    "    :param input_text: the text to tag (string)\n",
    "    :return: a list of tuples, where tuple[0] is the token and tuple[1] is the named entity tag\n",
    "    \"\"\"\n",
    "    # we need a list to store the tagged tokens\n",
    "    tagged_tokens = []\n",
    "\n",
    "    # tokenisation is done by using the string method `split(\" \")` \n",
    "    # that splits a string upon white spaces\n",
    "    for n, token in enumerate(input_text.split(\" \")):\n",
    "        if(token.istitle()):\n",
    "            tagged_tokens.append((token, \"Entity\"))\n",
    "            context = input_text.split(\" \")[n-5:n+5]\n",
    "            print(\"Found entity \\\"%s\\\" in context \\\"%s\\\"\"%(token, \" \".join(context)))\n",
    "        #else:\n",
    "            #tagged_tokens.append((token, \"O\"))  \n",
    "    return tagged_tokens"
   ]
  },
  {
   "cell_type": "code",
   "execution_count": 23,
   "metadata": {
    "collapsed": false,
    "deletable": true,
    "editable": true
   },
   "outputs": [
    {
     "name": "stdout",
     "output_type": "stream",
     "text": [
      "Found entity \"Gallia\" in context \"\"\n",
      "Found entity \"Belgae,\" in context \"partes tres, quarum unam incolunt Belgae, aliam Aquitani, tertiam qui\"\n",
      "Found entity \"Aquitani,\" in context \"quarum unam incolunt Belgae, aliam Aquitani, tertiam qui ipsorum lingua\"\n",
      "Found entity \"Celtae,\" in context \"Aquitani, tertiam qui ipsorum lingua Celtae, nostra Galli appellantur. Hi\"\n",
      "Found entity \"Galli\" in context \"qui ipsorum lingua Celtae, nostra Galli appellantur. Hi omnes lingua,\"\n",
      "Found entity \"Hi\" in context \"lingua Celtae, nostra Galli appellantur. Hi omnes lingua, institutis, legibus\"\n",
      "Found entity \"Gallos\" in context \"institutis, legibus inter se differunt. Gallos ab Aquitanis Garumna flumen,\"\n",
      "Found entity \"Aquitanis\" in context \"inter se differunt. Gallos ab Aquitanis Garumna flumen, a Belgis\"\n",
      "Found entity \"Garumna\" in context \"se differunt. Gallos ab Aquitanis Garumna flumen, a Belgis Matrona\"\n",
      "Found entity \"Belgis\" in context \"ab Aquitanis Garumna flumen, a Belgis Matrona et Sequana dividit.\"\n",
      "Found entity \"Matrona\" in context \"Aquitanis Garumna flumen, a Belgis Matrona et Sequana dividit. Horum\"\n",
      "Found entity \"Sequana\" in context \"flumen, a Belgis Matrona et Sequana dividit. Horum omnium fortissimi\"\n",
      "Found entity \"Horum\" in context \"Belgis Matrona et Sequana dividit. Horum omnium fortissimi sunt Belgae,\"\n",
      "Found entity \"Belgae,\" in context \"dividit. Horum omnium fortissimi sunt Belgae, propterea quod a cultu\"\n",
      "Found entity \"Germanis,\" in context \"animos pertinent important, proximique sunt Germanis, qui trans Rhenum incolunt,\"\n",
      "Found entity \"Rhenum\" in context \"proximique sunt Germanis, qui trans Rhenum incolunt, quibuscum continenter bellum\"\n",
      "Found entity \"Qua\" in context \"incolunt, quibuscum continenter bellum gerunt. Qua de causa Helvetii quoque\"\n",
      "Found entity \"Helvetii\" in context \"bellum gerunt. Qua de causa Helvetii quoque reliquos Gallos virtute\"\n",
      "Found entity \"Gallos\" in context \"de causa Helvetii quoque reliquos Gallos virtute praecedunt, quod fere\"\n",
      "Found entity \"Germanis\" in context \"quod fere cotidianis proeliis cum Germanis contendunt, cum aut suis\"\n",
      "Found entity \"[Eorum\" in context \"in eorum finibus bellum gerunt. [Eorum una, pars, quam Gallos\"\n",
      "Found entity \"Gallos\" in context \"gerunt. [Eorum una, pars, quam Gallos obtinere dictum est, initium\"\n",
      "Found entity \"Rhodano,\" in context \"est, initium capit a flumine Rhodano, continetur Garumna flumine, Oceano,\"\n",
      "Found entity \"Garumna\" in context \"capit a flumine Rhodano, continetur Garumna flumine, Oceano, finibus Belgarum,\"\n",
      "Found entity \"Oceano,\" in context \"flumine Rhodano, continetur Garumna flumine, Oceano, finibus Belgarum, attingit etiam\"\n",
      "Found entity \"Belgarum,\" in context \"continetur Garumna flumine, Oceano, finibus Belgarum, attingit etiam ab Sequanis\"\n",
      "Found entity \"Sequanis\" in context \"finibus Belgarum, attingit etiam ab Sequanis et Helvetiis flumen Rhenum,\"\n",
      "Found entity \"Helvetiis\" in context \"attingit etiam ab Sequanis et Helvetiis flumen Rhenum, vergit ad\"\n",
      "Found entity \"Rhenum,\" in context \"ab Sequanis et Helvetiis flumen Rhenum, vergit ad septentriones. Belgae\"\n",
      "Found entity \"Belgae\" in context \"flumen Rhenum, vergit ad septentriones. Belgae ab extremis Galliae finibus\"\n",
      "Found entity \"Galliae\" in context \"ad septentriones. Belgae ab extremis Galliae finibus oriuntur, pertinent ad\"\n",
      "Found entity \"Rheni,\" in context \"pertinent ad inferiorem partem fluminis Rheni, spectant in septentrionem et\"\n",
      "Found entity \"Aquitania\" in context \"in septentrionem et orientem solem. Aquitania a Garumna flumine ad\"\n",
      "Found entity \"Garumna\" in context \"et orientem solem. Aquitania a Garumna flumine ad Pyrenaeos montes\"\n",
      "Found entity \"Pyrenaeos\" in context \"Aquitania a Garumna flumine ad Pyrenaeos montes et eam partem\"\n",
      "Found entity \"Oceani\" in context \"Pyrenaeos montes et eam partem Oceani quae est ad Hispaniam\"\n",
      "Found entity \"Hispaniam\" in context \"partem Oceani quae est ad Hispaniam pertinet; spectat inter occasum\"\n",
      "Found entity \"Apud\" in context \"inter occasum solis et septentriones.] Apud Helvetios longe nobilissimus fuit\"\n",
      "Found entity \"Helvetios\" in context \"occasum solis et septentriones.] Apud Helvetios longe nobilissimus fuit et\"\n",
      "Found entity \"Orgetorix.\" in context \"longe nobilissimus fuit et ditissimus Orgetorix. Is M. Messala, [et\"\n",
      "Found entity \"Is\" in context \"nobilissimus fuit et ditissimus Orgetorix. Is M. Messala, [et P.]\"\n",
      "Found entity \"M.\" in context \"fuit et ditissimus Orgetorix. Is M. Messala, [et P.] M.\"\n",
      "Found entity \"Messala,\" in context \"et ditissimus Orgetorix. Is M. Messala, [et P.] M. Pisone\"\n",
      "Found entity \"P.]\" in context \"Orgetorix. Is M. Messala, [et P.] M. Pisone consulibus regni\"\n",
      "Found entity \"M.\" in context \"Is M. Messala, [et P.] M. Pisone consulibus regni cupiditate\"\n",
      "Found entity \"Pisone\" in context \"M. Messala, [et P.] M. Pisone consulibus regni cupiditate inductus\"\n",
      "Found entity \"Galliae\" in context \"cum virtute omnibus praestarent, totius Galliae imperio potiri. Id hoc\"\n",
      "Found entity \"Id\" in context \"praestarent, totius Galliae imperio potiri. Id hoc facilius iis persuasit,\"\n",
      "Found entity \"Helvetii\" in context \"persuasit, quod undique loci natura Helvetii continentur: una ex parte\"\n",
      "Found entity \"Rheno\" in context \"continentur: una ex parte flumine Rheno latissimo atque altissimo, qui\"\n",
      "Found entity \"Helvetium\" in context \"latissimo atque altissimo, qui agrum Helvetium a Germanis dividit; altera\"\n",
      "Found entity \"Germanis\" in context \"altissimo, qui agrum Helvetium a Germanis dividit; altera ex parte\"\n",
      "Found entity \"Iura\" in context \"dividit; altera ex parte monte Iura altissimo, qui est inter\"\n",
      "Found entity \"Sequanos\" in context \"Iura altissimo, qui est inter Sequanos et Helvetios; tertia lacu\"\n",
      "Found entity \"Helvetios;\" in context \"qui est inter Sequanos et Helvetios; tertia lacu Lemanno et\"\n",
      "Found entity \"Lemanno\" in context \"Sequanos et Helvetios; tertia lacu Lemanno et flumine Rhodano, qui\"\n",
      "Found entity \"Rhodano,\" in context \"tertia lacu Lemanno et flumine Rhodano, qui provinciam nostram ab\"\n",
      "Found entity \"Helvetiis\" in context \"Rhodano, qui provinciam nostram ab Helvetiis dividit. His rebus fiebat\"\n",
      "Found entity \"His\" in context \"provinciam nostram ab Helvetiis dividit. His rebus fiebat ut et\"\n",
      "Found entity \"Pro\" in context \"bellandi cupidi magno dolore adficiebantur. Pro multitudine autem hominum et\"\n",
      "Found entity \"His\" in context \"CCXL, in latitudinem CLXXX patebant. His rebus adducti et auctoritate\"\n",
      "Found entity \"Orgetorigis\" in context \"His rebus adducti et auctoritate Orgetorigis permoti constituerunt ea quae\"\n",
      "Found entity \"Ad\" in context \"civitatibus pacem et amicitiam confirmare. Ad eas res conficiendas biennium\"\n",
      "Found entity \"Ad\" in context \"tertium annum profectionem lege confirmant. Ad eas res conficiendas Orgetorix\"\n",
      "Found entity \"Orgetorix\" in context \"confirmant. Ad eas res conficiendas Orgetorix deligitur. Is sibi legationem\"\n",
      "Found entity \"Is\" in context \"eas res conficiendas Orgetorix deligitur. Is sibi legationem ad civitates\"\n",
      "Found entity \"In\" in context \"sibi legationem ad civitates suscipit. In eo itinere persuadet Castico,\"\n",
      "Found entity \"Castico,\" in context \"suscipit. In eo itinere persuadet Castico, Catamantaloedis filio, Sequano, cuius\"\n",
      "Found entity \"Catamantaloedis\" in context \"In eo itinere persuadet Castico, Catamantaloedis filio, Sequano, cuius pater\"\n",
      "Found entity \"Sequano,\" in context \"itinere persuadet Castico, Catamantaloedis filio, Sequano, cuius pater regnum in\"\n",
      "Found entity \"Sequanis\" in context \"Sequano, cuius pater regnum in Sequanis multos annos obtinuerat et\"\n",
      "Found entity \"Romani\" in context \"obtinuerat et a senatu populi Romani amicus appellatus erat, ut\"\n",
      "Found entity \"Dumnorigi\" in context \"quod pater ante habuerit; itemque Dumnorigi Haeduo, fratri Diviciaci, qui\"\n",
      "Found entity \"Haeduo,\" in context \"pater ante habuerit; itemque Dumnorigi Haeduo, fratri Diviciaci, qui eo\"\n",
      "Found entity \"Diviciaci,\" in context \"habuerit; itemque Dumnorigi Haeduo, fratri Diviciaci, qui eo tempore principatum\"\n",
      "Found entity \"Perfacile\" in context \"filiam suam in matrimonium dat. Perfacile factu esse illis probat\"\n",
      "Found entity \"Galliae\" in context \"non esse dubium quin totius Galliae plurimum Helvetii possent; se\"\n",
      "Found entity \"Helvetii\" in context \"dubium quin totius Galliae plurimum Helvetii possent; se suis copiis\"\n",
      "Found entity \"Hac\" in context \"exercitu illis regna conciliaturum confirmat. Hac oratione adducti inter se\"\n",
      "Found entity \"Galliae\" in context \"potentissimos ac firmissimos populos totius Galliae sese potiri posse sperant.\"\n",
      "Found entity \"Ea\" in context \"Galliae sese potiri posse sperant. Ea res est Helvetiis per\"\n",
      "Found entity \"Helvetiis\" in context \"posse sperant. Ea res est Helvetiis per indicium enuntiata. Moribus\"\n",
      "Found entity \"Moribus\" in context \"est Helvetiis per indicium enuntiata. Moribus suis Orgetoricem ex vinculis\"\n",
      "Found entity \"Orgetoricem\" in context \"per indicium enuntiata. Moribus suis Orgetoricem ex vinculis causam dicere\"\n",
      "Found entity \"Die\" in context \"sequi oportebat, ut igni cremaretur. Die constituta causae dictionis Orgetorix\"\n",
      "Found entity \"Orgetorix\" in context \"cremaretur. Die constituta causae dictionis Orgetorix ad iudicium omnem suam\"\n",
      "Found entity \"Cum\" in context \"ne causam diceret se eripuit. Cum civitas ob eam rem\"\n",
      "Found entity \"Orgetorix\" in context \"hominum ex agris magistratus cogerent, Orgetorix mortuus est; neque abest\"\n",
      "Found entity \"Helvetii\" in context \"est; neque abest suspicio, ut Helvetii arbitrantur, quin ipse sibi\"\n",
      "Found entity \"Post\" in context \"quin ipse sibi mortem consciverit. Post eius mortem nihilo minus\"\n",
      "Found entity \"Helvetii\" in context \"Post eius mortem nihilo minus Helvetii id quod constituerant facere\"\n",
      "Found entity \"Ubi\" in context \"ut e finibus suis exeant. Ubi iam se ad eam\"\n",
      "Found entity \"Persuadent\" in context \"sibi quemque domo efferre iubent. Persuadent Rauracis et Tulingis et\"\n",
      "Found entity \"Rauracis\" in context \"quemque domo efferre iubent. Persuadent Rauracis et Tulingis et Latobrigis\"\n",
      "Found entity \"Tulingis\" in context \"efferre iubent. Persuadent Rauracis et Tulingis et Latobrigis finitimis, uti\"\n",
      "Found entity \"Latobrigis\" in context \"Persuadent Rauracis et Tulingis et Latobrigis finitimis, uti eodem usi\"\n",
      "Found entity \"Boiosque,\" in context \"exustis una cum iis proficiscantur, Boiosque, qui trans Rhenum incoluerant\"\n",
      "Found entity \"Rhenum\" in context \"iis proficiscantur, Boiosque, qui trans Rhenum incoluerant et in agrum\"\n",
      "Found entity \"Noricum\" in context \"Rhenum incoluerant et in agrum Noricum transierant Noreiamque oppugnabant, receptos\"\n",
      "Found entity \"Noreiamque\" in context \"et in agrum Noricum transierant Noreiamque oppugnabant, receptos ad se\"\n",
      "Found entity \"Erant\" in context \"ad se socios sibi adsciscunt. Erant omnino itinera duo, quibus\"\n",
      "Found entity \"Sequanos,\" in context \"domo exire possent: unum per Sequanos, angustum et difficile, inter\"\n",
      "Found entity \"Iuram\" in context \"angustum et difficile, inter montem Iuram et flumen Rhodanum, vix\"\n",
      "Found entity \"Rhodanum,\" in context \"inter montem Iuram et flumen Rhodanum, vix qua singuli carri\"\n",
      "Found entity \"Helvetiorum\" in context \"expeditius, propterea quod inter fines Helvetiorum et Allobrogum, qui nuper\"\n",
      "Found entity \"Allobrogum,\" in context \"quod inter fines Helvetiorum et Allobrogum, qui nuper pacati erant,\"\n",
      "Found entity \"Rhodanus\" in context \"Allobrogum, qui nuper pacati erant, Rhodanus fluit isque non nullis\"\n",
      "Found entity \"Extremum\" in context \"non nullis locis vado transitur. Extremum oppidum Allobrogum est proximumque\"\n",
      "Found entity \"Allobrogum\" in context \"locis vado transitur. Extremum oppidum Allobrogum est proximumque Helvetiorum finibus\"\n",
      "Found entity \"Helvetiorum\" in context \"Extremum oppidum Allobrogum est proximumque Helvetiorum finibus Genava. Ex eo\"\n",
      "Found entity \"Genava.\" in context \"Allobrogum est proximumque Helvetiorum finibus Genava. Ex eo oppido pons\"\n",
      "Found entity \"Ex\" in context \"est proximumque Helvetiorum finibus Genava. Ex eo oppido pons ad\"\n",
      "Found entity \"Helvetios\" in context \"Ex eo oppido pons ad Helvetios pertinet. Allobrogibus sese vel\"\n",
      "Found entity \"Allobrogibus\" in context \"oppido pons ad Helvetios pertinet. Allobrogibus sese vel persuasuros, quod\"\n",
      "Found entity \"Romanum\" in context \"nondum bono animo in populum Romanum viderentur, existimabant vel vi\"\n",
      "Found entity \"Omnibus\" in context \"suos fines eos ire paterentur. Omnibus rebus ad profectionem comparatis\"\n",
      "Found entity \"Rhodani\" in context \"dicunt, qua die ad ripam Rhodani omnes conveniant. \n",
      "is dies\"\n",
      "Found entity \"V.\" in context \"\n",
      "is dies erat a. d. V. Kal. Apr. L. Pisone,\"\n",
      "Found entity \"Kal.\" in context \"dies erat a. d. V. Kal. Apr. L. Pisone, A.\"\n",
      "Found entity \"Apr.\" in context \"erat a. d. V. Kal. Apr. L. Pisone, A. Gabinio\"\n",
      "Found entity \"L.\" in context \"a. d. V. Kal. Apr. L. Pisone, A. Gabinio consulibus.\"\n",
      "Found entity \"Pisone,\" in context \"d. V. Kal. Apr. L. Pisone, A. Gabinio consulibus. Caesari\"\n",
      "Found entity \"A.\" in context \"V. Kal. Apr. L. Pisone, A. Gabinio consulibus. Caesari cum\"\n",
      "Found entity \"Gabinio\" in context \"Kal. Apr. L. Pisone, A. Gabinio consulibus. Caesari cum id\"\n",
      "Found entity \"Caesari\" in context \"L. Pisone, A. Gabinio consulibus. Caesari cum id nuntiatum esset,\"\n",
      "Found entity \"Galliam\" in context \"quam maximis potest itineribus in Galliam ulteriorem contendit et ad\"\n",
      "Found entity \"Genavam\" in context \"Galliam ulteriorem contendit et ad Genavam pervenit. Provinciae toti quam\"\n",
      "Found entity \"Provinciae\" in context \"contendit et ad Genavam pervenit. Provinciae toti quam maximum potest\"\n",
      "Found entity \"Gallia\" in context \"numerum imperat (erat omnino in Gallia ulteriore legio una), pontem,\"\n",
      "Found entity \"Genavam,\" in context \"una), pontem, qui erat ad Genavam, iubet rescindi. Ubi de\"\n",
      "Found entity \"Ubi\" in context \"erat ad Genavam, iubet rescindi. Ubi de eius aventu Helvetii\"\n",
      "Found entity \"Helvetii\" in context \"rescindi. Ubi de eius aventu Helvetii certiores facti sunt, legatos\"\n",
      "Found entity \"Nammeius\" in context \"mittunt nobilissimos civitatis, cuius legationis Nammeius et Verucloetius principem locum\"\n",
      "Found entity \"Verucloetius\" in context \"civitatis, cuius legationis Nammeius et Verucloetius principem locum obtinebant, qui\"\n",
      "Found entity \"Caesar,\" in context \"voluntate id sibi facere liceat. Caesar, quod memoria tenebat L.\"\n",
      "Found entity \"L.\" in context \"liceat. Caesar, quod memoria tenebat L. Cassium consulem occisum exercitumque\"\n",
      "Found entity \"Cassium\" in context \"Caesar, quod memoria tenebat L. Cassium consulem occisum exercitumque eius\"\n",
      "Found entity \"Helvetiis\" in context \"consulem occisum exercitumque eius ab Helvetiis pulsum et sub iugum\"\n",
      "Found entity \"Tamen,\" in context \"ab iniuria et maleficio existimabat. Tamen, ut spatium intercedere posset\"\n",
      "Found entity \"Id.\" in context \"sumpturum: si quid vellent, ad Id. April. reverterentur. Interea ea\"\n",
      "Found entity \"April.\" in context \"si quid vellent, ad Id. April. reverterentur. Interea ea legione\"\n",
      "Found entity \"Interea\" in context \"vellent, ad Id. April. reverterentur. Interea ea legione quam secum\"\n",
      "Found entity \"Lemanno,\" in context \"ex provincia convenerant, a lacu Lemanno, qui in flumen Rhodanum\"\n",
      "Found entity \"Rhodanum\" in context \"lacu Lemanno, qui in flumen Rhodanum influit, ad montem Iuram,\"\n",
      "Found entity \"Iuram,\" in context \"flumen Rhodanum influit, ad montem Iuram, qui fines Sequanorum ab\"\n",
      "Found entity \"Sequanorum\" in context \"ad montem Iuram, qui fines Sequanorum ab Helvetiis dividit, milia\"\n",
      "Found entity \"Helvetiis\" in context \"Iuram, qui fines Sequanorum ab Helvetiis dividit, milia passuum XVIIII\"\n",
      "Found entity \"Eo\" in context \"altitudinem pedum sedecim fossamque perducit. Eo opere perfecto praesidia disponit,\"\n",
      "Found entity \"Ubi\" in context \"invito transire conentur, prohibere possit. Ubi ea dies quam constituerat\"\n",
      "Found entity \"Romani\" in context \"se more et exemplo populi Romani posse iter ulli per\"\n",
      "Found entity \"Helvetii\" in context \"vim facere conentur, prohibiturum ostendit. Helvetii ea spe deiecti navibus\"\n",
      "Found entity \"Rhodani,\" in context \"ratibusque compluribus factis, alii vadis Rhodani, qua minima altitudo fluminis\"\n",
      "Found entity \"Relinquebatur\" in context \"telis repulsi, hoc conatu destiterunt. Relinquebatur una per Sequanos via,\"\n",
      "Found entity \"Sequanos\" in context \"conatu destiterunt. Relinquebatur una per Sequanos via, qua Sequanis invitis\"\n",
      "Found entity \"Sequanis\" in context \"una per Sequanos via, qua Sequanis invitis propter angustias ire\"\n",
      "Found entity \"His\" in context \"propter angustias ire non poterant. His cum sua sponte persuadere\"\n",
      "Found entity \"Dumnorigem\" in context \"persuadere non possent, legatos ad Dumnorigem Haeduum mittunt, ut eo\"\n",
      "Found entity \"Haeduum\" in context \"non possent, legatos ad Dumnorigem Haeduum mittunt, ut eo deprecatore\"\n",
      "Found entity \"Sequanis\" in context \"mittunt, ut eo deprecatore a Sequanis impetrarent. Dumnorix gratia et\"\n",
      "Found entity \"Dumnorix\" in context \"eo deprecatore a Sequanis impetrarent. Dumnorix gratia et largitione apud\"\n",
      "Found entity \"Sequanos\" in context \"Dumnorix gratia et largitione apud Sequanos plurimum poterat et Helvetiis\"\n",
      "Found entity \"Helvetiis\" in context \"apud Sequanos plurimum poterat et Helvetiis erat amicus, quod ex\"\n",
      "Found entity \"Orgetorigis\" in context \"amicus, quod ex ea civitate Orgetorigis filiam in matrimonium duxerat,\"\n",
      "Found entity \"Itaque\" in context \"suo beneficio habere obstrictas volebat. Itaque rem suscipit et a\"\n",
      "Found entity \"Sequanis\" in context \"Itaque rem suscipit et a Sequanis impetrat ut per fines\"\n",
      "Found entity \"Helvetios\" in context \"impetrat ut per fines suos Helvetios ire patiantur, obsidesque uti\"\n",
      "Found entity \"Sequani,\" in context \"uti inter sese dent perficit: Sequani, ne itinere Helvetios prohibeant,\"\n",
      "Found entity \"Helvetios\" in context \"dent perficit: Sequani, ne itinere Helvetios prohibeant, Helvetii, ut sine\"\n",
      "Found entity \"Helvetii,\" in context \"Sequani, ne itinere Helvetios prohibeant, Helvetii, ut sine maleficio et\"\n",
      "Found entity \"Caesari\" in context \"sine maleficio et iniuria transeant. Caesari renuntiatur Helvetiis esse in\"\n",
      "Found entity \"Helvetiis\" in context \"et iniuria transeant. Caesari renuntiatur Helvetiis esse in animo per\"\n",
      "Found entity \"Sequanorum\" in context \"esse in animo per agrum Sequanorum et Haeduorum iter in\"\n",
      "Found entity \"Haeduorum\" in context \"animo per agrum Sequanorum et Haeduorum iter in Santonum fines\"\n",
      "Found entity \"Santonum\" in context \"Sequanorum et Haeduorum iter in Santonum fines facere, qui non\"\n",
      "Found entity \"Tolosatium\" in context \"facere, qui non longe a Tolosatium finibus absunt, quae civitas\"\n",
      "Found entity \"Id\" in context \"quae civitas est in provincia. Id si fieret, intellegebat magno\"\n",
      "Found entity \"Romani\" in context \"futurum ut homines bellicosos, populi Romani inimicos, locis patentibus maximeque\"\n",
      "Found entity \"Ob\" in context \"patentibus maximeque frumentariis finitimos haberet. Ob eas causas ei munitioni\"\n",
      "Found entity \"T.\" in context \"causas ei munitioni quam fecerat T. Labienum legatum praeficit; ipse\"\n",
      "Found entity \"Labienum\" in context \"ei munitioni quam fecerat T. Labienum legatum praeficit; ipse in\"\n",
      "Found entity \"Italiam\" in context \"Labienum legatum praeficit; ipse in Italiam magnis itineribus contendit duasque\"\n",
      "Found entity \"Aquileiam\" in context \"conscribit et tres, quae circum Aquileiam hiemabant, ex hibernis educit\"\n",
      "Found entity \"Galliam\" in context \"qua proximum iter in ulteriorem Galliam per Alpes erat, cum\"\n",
      "Found entity \"Alpes\" in context \"iter in ulteriorem Galliam per Alpes erat, cum his quinque\"\n",
      "Found entity \"Ibi\" in context \"his quinque legionibus ire contendit. Ibi Ceutrones et Graioceli et\"\n",
      "Found entity \"Ceutrones\" in context \"quinque legionibus ire contendit. Ibi Ceutrones et Graioceli et Caturiges\"\n",
      "Found entity \"Graioceli\" in context \"ire contendit. Ibi Ceutrones et Graioceli et Caturiges locis superioribus\"\n",
      "Found entity \"Caturiges\" in context \"Ibi Ceutrones et Graioceli et Caturiges locis superioribus occupatis itinere\"\n",
      "Found entity \"Compluribus\" in context \"occupatis itinere exercitum prohibere conantur. Compluribus his proeliis pulsis ab\"\n",
      "Found entity \"Ocelo,\" in context \"Compluribus his proeliis pulsis ab Ocelo, quod est oppidum citerioris\"\n",
      "Found entity \"Vocontiorum\" in context \"citerioris provinciae extremum, in fines Vocontiorum ulterioris provinciae die septimo\"\n",
      "Found entity \"Allobrogum\" in context \"die septimo pervenit; inde in Allobrogum fines, ab Allobrogibus in\"\n",
      "Found entity \"Allobrogibus\" in context \"inde in Allobrogum fines, ab Allobrogibus in Segusiavos exercitum ducit.\"\n",
      "Found entity \"Segusiavos\" in context \"Allobrogum fines, ab Allobrogibus in Segusiavos exercitum ducit. Hi sunt\"\n",
      "Found entity \"Hi\" in context \"Allobrogibus in Segusiavos exercitum ducit. Hi sunt extra provinciam trans\"\n",
      "Found entity \"Rhodanum\" in context \"Hi sunt extra provinciam trans Rhodanum primi. Helvetii iam per\"\n",
      "Found entity \"Helvetii\" in context \"extra provinciam trans Rhodanum primi. Helvetii iam per angustias et\"\n",
      "Found entity \"Sequanorum\" in context \"iam per angustias et fines Sequanorum suas copias traduxerant et\"\n",
      "Found entity \"Haeduorum\" in context \"suas copias traduxerant et in Haeduorum fines pervenerant eorumque agros\"\n",
      "Found entity \"Haedui,\" in context \"fines pervenerant eorumque agros populabantur. Haedui, cum se suaque ab\"\n",
      "Found entity \"Caesarem\" in context \"defendere non possent, legatos ad Caesarem mittunt rogatum auxilium: ita\"\n",
      "Found entity \"Romano\" in context \"se omni tempore de populo Romano meritos esse ut paene\"\n",
      "Found entity \"Eodem\" in context \"abduci, oppida expugnari non debuerint. Eodem tempore quo Haedui Ambarri,\"\n",
      "Found entity \"Haedui\" in context \"non debuerint. Eodem tempore quo Haedui Ambarri, necessarii et consanguinei\"\n",
      "Found entity \"Ambarri,\" in context \"debuerint. Eodem tempore quo Haedui Ambarri, necessarii et consanguinei Haeduorum,\"\n",
      "Found entity \"Haeduorum,\" in context \"Haedui Ambarri, necessarii et consanguinei Haeduorum, Caesarem certiorem faciunt sese\"\n",
      "Found entity \"Caesarem\" in context \"Ambarri, necessarii et consanguinei Haeduorum, Caesarem certiorem faciunt sese depopulatis\"\n",
      "Found entity \"Item\" in context \"ab oppidis vim hostium prohibere. Item Allobroges, qui trans Rhodanum\"\n",
      "Found entity \"Allobroges,\" in context \"oppidis vim hostium prohibere. Item Allobroges, qui trans Rhodanum vicos\"\n",
      "Found entity \"Rhodanum\" in context \"prohibere. Item Allobroges, qui trans Rhodanum vicos possessionesque habebant, fuga\"\n",
      "Found entity \"Caesarem\" in context \"possessionesque habebant, fuga se ad Caesarem recipiunt et demonstrant sibi\"\n",
      "Found entity \"Quibus\" in context \"agri solum nihil esse reliqui. Quibus rebus adductus Caesar non\"\n",
      "Found entity \"Caesar\" in context \"esse reliqui. Quibus rebus adductus Caesar non expectandum sibi statuit\"\n",
      "Found entity \"Santonos\" in context \"omnibus, fortunis sociorum consumptis, in Santonos Helvetii pervenirent. Flumen est\"\n",
      "Found entity \"Helvetii\" in context \"fortunis sociorum consumptis, in Santonos Helvetii pervenirent. Flumen est Arar,\"\n",
      "Found entity \"Flumen\" in context \"consumptis, in Santonos Helvetii pervenirent. Flumen est Arar, quod per\"\n",
      "Found entity \"Arar,\" in context \"Santonos Helvetii pervenirent. Flumen est Arar, quod per fines Haeduorum\"\n",
      "Found entity \"Haeduorum\" in context \"est Arar, quod per fines Haeduorum et Sequanorum in Rhodanum\"\n",
      "Found entity \"Sequanorum\" in context \"quod per fines Haeduorum et Sequanorum in Rhodanum influit, incredibili\"\n",
      "Found entity \"Rhodanum\" in context \"fines Haeduorum et Sequanorum in Rhodanum influit, incredibili lenitate, ita\"\n",
      "Found entity \"Id\" in context \"partem fluat iudicari non possit. Id Helvetii ratibus ac lintribus\"\n",
      "Found entity \"Helvetii\" in context \"fluat iudicari non possit. Id Helvetii ratibus ac lintribus iunctis\"\n",
      "Found entity \"Ubi\" in context \"ratibus ac lintribus iunctis transibant. Ubi per exploratores Caesar certior\"\n",
      "Found entity \"Caesar\" in context \"iunctis transibant. Ubi per exploratores Caesar certior factus est tres\"\n",
      "Found entity \"Helvetios\" in context \"est tres iam partes copiarum Helvetios id flumen traduxisse, quartam\"\n",
      "Found entity \"Ararim\" in context \"quartam vero partem citra flumen Ararim reliquam esse, de tertia\"\n",
      "Found entity \"Eos\" in context \"pervenit quae nondum flumen transierat. Eos impeditos et inopinantes adgressus\"\n",
      "Found entity \"Is\" in context \"atque in proximas silvas abdiderunt. Is pagus appellabatur Tigurinus; nam\"\n",
      "Found entity \"Tigurinus;\" in context \"silvas abdiderunt. Is pagus appellabatur Tigurinus; nam omnis civitas Helvetia\"\n",
      "Found entity \"Helvetia\" in context \"appellabatur Tigurinus; nam omnis civitas Helvetia in quattuor pagos divisa\"\n",
      "Found entity \"Hic\" in context \"in quattuor pagos divisa est. Hic pagus unus, cum domo\"\n",
      "Found entity \"L.\" in context \"domo exisset, patrum nostrorum memoria L. Cassium consulem interfecerat et\"\n",
      "Found entity \"Cassium\" in context \"exisset, patrum nostrorum memoria L. Cassium consulem interfecerat et eius\"\n",
      "Found entity \"Ita\" in context \"eius exercitum sub iugum miserat. Ita sive casu sive consilio\"\n",
      "Found entity \"Helvetiae\" in context \"deorum immortalium quae pars civitatis Helvetiae insignem calamitatem populo Romano\"\n",
      "Found entity \"Romano\" in context \"civitatis Helvetiae insignem calamitatem populo Romano intulerat, ea princeps poenam\"\n",
      "Found entity \"Qua\" in context \"intulerat, ea princeps poenam persolvit. Qua in re Caesar non\"\n",
      "Found entity \"Caesar\" in context \"poenam persolvit. Qua in re Caesar non solum publicas, sed\"\n",
      "Found entity \"L.\" in context \"ultus est, quod eius soceri L. Pisonis avum, L. Pisonem\"\n",
      "Found entity \"Pisonis\" in context \"est, quod eius soceri L. Pisonis avum, L. Pisonem legatum,\"\n",
      "Found entity \"L.\" in context \"eius soceri L. Pisonis avum, L. Pisonem legatum, Tigurini eodem\"\n",
      "Found entity \"Pisonem\" in context \"soceri L. Pisonis avum, L. Pisonem legatum, Tigurini eodem proelio\"\n",
      "Found entity \"Tigurini\" in context \"Pisonis avum, L. Pisonem legatum, Tigurini eodem proelio quo Cassium\"\n",
      "Found entity \"Cassium\" in context \"legatum, Tigurini eodem proelio quo Cassium interfecerant. Hoc proelio facto,\"\n",
      "Found entity \"Hoc\" in context \"eodem proelio quo Cassium interfecerant. Hoc proelio facto, reliquas copias\"\n",
      "Found entity \"Helvetiorum\" in context \"Hoc proelio facto, reliquas copias Helvetiorum ut consequi posset, pontem\"\n",
      "Found entity \"Arari\" in context \"ut consequi posset, pontem in Arari faciendum curat atque ita\"\n",
      "Found entity \"Helvetii\" in context \"curat atque ita exercitum traducit. Helvetii repentino eius adventu commoti\"\n",
      "Found entity \"Divico\" in context \"ad eum mittunt; cuius legationis Divico princeps fuit, qui bello\"\n",
      "Found entity \"Cassiano\" in context \"Divico princeps fuit, qui bello Cassiano dux Helvetiorum fuerat. Is\"\n",
      "Found entity \"Helvetiorum\" in context \"fuit, qui bello Cassiano dux Helvetiorum fuerat. Is ita cum\"\n",
      "Found entity \"Is\" in context \"bello Cassiano dux Helvetiorum fuerat. Is ita cum Caesare egit:\"\n",
      "Found entity \"Caesare\" in context \"Helvetiorum fuerat. Is ita cum Caesare egit: si pacem populus\"\n",
      "Found entity \"Romanus\" in context \"Caesare egit: si pacem populus Romanus cum Helvetiis faceret, in\"\n",
      "Found entity \"Helvetiis\" in context \"si pacem populus Romanus cum Helvetiis faceret, in eam partem\"\n",
      "Found entity \"Helvetios\" in context \"partem ituros atque ibi futuros Helvetios ubi eos Caesar constituisset\"\n",
      "Found entity \"Caesar\" in context \"ibi futuros Helvetios ubi eos Caesar constituisset atque esse voluisset;\"\n",
      "Found entity \"Romani\" in context \"reminisceretur et veteris incommodi populi Romani et pristinae virtutis Helvetiorum.\"\n",
      "Found entity \"Helvetiorum.\" in context \"populi Romani et pristinae virtutis Helvetiorum. Quod improviso unum pagum\"\n",
      "Found entity \"Quod\" in context \"Romani et pristinae virtutis Helvetiorum. Quod improviso unum pagum adortus\"\n",
      "Found entity \"Se\" in context \"virtuti tribueret aut ipsos despiceret. Se ita a patribus maioribusque\"\n",
      "Found entity \"Quare\" in context \"quam dolo aut insidiis niterentur. Quare ne committeret ut is\"\n",
      "Found entity \"Romani\" in context \"ubi constitissent ex calamitate populi Romani et internecione exercitus nomen\"\n",
      "Found entity \"His\" in context \"nomen caperet aut memoriam proderet. His Caesar ita respondit: eo\"\n",
      "Found entity \"Caesar\" in context \"caperet aut memoriam proderet. His Caesar ita respondit: eo sibi\"\n",
      "Found entity \"Helvetii\" in context \"quod eas res quas legati Helvetii commemorassent memoria teneret, atque\"\n",
      "Found entity \"Romani\" in context \"ferre quo minus merito populi Romani accidissent; qui si alicuius\"\n",
      "Found entity \"Quod\" in context \"neque sine causa timendum putaret. Quod si veteris contumeliae oblivisci\"\n",
      "Found entity \"Haeduos,\" in context \"provinciam per vim temptassent, quod Haeduos, quod Ambarros, quod Allobrogas\"\n",
      "Found entity \"Ambarros,\" in context \"vim temptassent, quod Haeduos, quod Ambarros, quod Allobrogas vexassent, memoriam\"\n",
      "Found entity \"Allobrogas\" in context \"quod Haeduos, quod Ambarros, quod Allobrogas vexassent, memoriam deponere posse?\"\n",
      "Found entity \"Quod\" in context \"Allobrogas vexassent, memoriam deponere posse? Quod sua victoria tam insolenter\"\n",
      "Found entity \"Consuesse\" in context \"iniurias tulisse admirarentur, eodem pertinere. Consuesse enim deos immortales, quo\"\n",
      "Found entity \"Cum\" in context \"res et diuturniorem impunitatem concedere. Cum ea ita sint, tamen,\"\n",
      "Found entity \"Haeduis\" in context \"polliceantur facturos intellegat, et si Haeduis de iniuriis quas ipsis\"\n",
      "Found entity \"Allobrogibus\" in context \"sociisque eorum intulerint, item si Allobrogibus satis faciunt, sese cum\"\n",
      "Found entity \"Divico\" in context \"cum iis pacem esse facturum. Divico respondit: ita Helvetios a\"\n",
      "Found entity \"Helvetios\" in context \"esse facturum. Divico respondit: ita Helvetios a maioribus suis institutos\"\n",
      "Found entity \"Romanum\" in context \"dare, consuerint; eius rei populum Romanum esse testem. Hoc responso\"\n",
      "Found entity \"Hoc\" in context \"rei populum Romanum esse testem. Hoc responso dato discessit. Postero\"\n",
      "Found entity \"Postero\" in context \"testem. Hoc responso dato discessit. Postero die castra ex eo\"\n",
      "Found entity \"Idem\" in context \"castra ex eo loco movent. Idem facit Caesar equitatumque omnem,\"\n",
      "Found entity \"Caesar\" in context \"eo loco movent. Idem facit Caesar equitatumque omnem, ad numerum\"\n",
      "Found entity \"Haeduis\" in context \"quem ex omni provincia et Haeduis atque eorum sociis coactum\"\n",
      "Found entity \"Qui\" in context \"in partes hostes iter faciant. Qui cupidius novissimum agmen insecuti\"\n",
      "Found entity \"Helvetiorum\" in context \"insecuti alieno loco cum equitatu Helvetiorum proelium committunt; et pauci\"\n",
      "Found entity \"Quo\" in context \"et pauci de nostris cadunt. Quo proelio sublati Helvetii, quod\"\n",
      "Found entity \"Helvetii,\" in context \"nostris cadunt. Quo proelio sublati Helvetii, quod quingentis equitibus tantam\"\n",
      "Found entity \"Caesar\" in context \"agmine proelio nostros lacessere coeperunt. Caesar suos a proelio continebat,\"\n",
      "Found entity \"Ita\" in context \"hostem rapinis, pabulationibus populationibusque prohibere. Ita dies circiter XV iter\"\n",
      "Found entity \"Interim\" in context \"aut senis milibus passuum interesset. Interim cotidie Caesar Haeduos frumentum,\"\n",
      "Found entity \"Caesar\" in context \"milibus passuum interesset. Interim cotidie Caesar Haeduos frumentum, quod essent\"\n",
      "Found entity \"Haeduos\" in context \"passuum interesset. Interim cotidie Caesar Haeduos frumentum, quod essent publice\"\n",
      "Found entity \"Nam\" in context \"quod essent publice polliciti, flagitare. Nam propter frigora [quod Gallia\"\n",
      "Found entity \"Gallia\" in context \"flagitare. Nam propter frigora [quod Gallia sub septentrionibus, ut ante\"\n",
      "Found entity \"Arari\" in context \"eo autem frumento quod flumine Arari navibus subvexerat propterea uti\"\n",
      "Found entity \"Arari\" in context \"minus poterat quod iter ab Arari Helvetii averterant, a quibus\"\n",
      "Found entity \"Helvetii\" in context \"poterat quod iter ab Arari Helvetii averterant, a quibus discedere\"\n",
      "Found entity \"Diem\" in context \"averterant, a quibus discedere nolebat. Diem ex die ducere Haedui:\"\n",
      "Found entity \"Haedui:\" in context \"nolebat. Diem ex die ducere Haedui: conferri, comportari, adesse dicere.\"\n",
      "Found entity \"Ubi\" in context \"Haedui: conferri, comportari, adesse dicere. Ubi se diutius duci intellexit\"\n",
      "Found entity \"Diviciaco\" in context \"in castris habebat, in his Diviciaco et Lisco, qui summo\"\n",
      "Found entity \"Lisco,\" in context \"habebat, in his Diviciaco et Lisco, qui summo magistratui praeerat,\"\n",
      "Found entity \"Haedui,\" in context \"magistratui praeerat, quem vergobretum appellant Haedui, qui creatur annuus et\"\n",
      "Found entity \"Tum\" in context \"gravius quod sit destitutus queritur]. Tum demum Liscus oratione Caesaris\"\n",
      "Found entity \"Liscus\" in context \"sit destitutus queritur]. Tum demum Liscus oratione Caesaris adductus quod\"\n",
      "Found entity \"Caesaris\" in context \"queritur]. Tum demum Liscus oratione Caesaris adductus quod antea tacuerat\"\n",
      "Found entity \"Hos\" in context \"plus possint quam ipsi magistratus. Hos seditiosa atque improba oratione\"\n",
      "Found entity \"Galliae\" in context \"debeant: praestare, si iam principatum Galliae obtinere non possint, Gallorum\"\n",
      "Found entity \"Gallorum\" in context \"principatum Galliae obtinere non possint, Gallorum quam Romanorum imperia perferre,\"\n",
      "Found entity \"Romanorum\" in context \"obtinere non possint, Gallorum quam Romanorum imperia perferre, neque dubitare\"\n",
      "Found entity \"Helvetios\" in context \"neque dubitare [debeant] quin, si Helvetios superaverint Romani, una cum\"\n",
      "Found entity \"Romani,\" in context \"[debeant] quin, si Helvetios superaverint Romani, una cum reliqua Gallia\"\n",
      "Found entity \"Gallia\" in context \"superaverint Romani, una cum reliqua Gallia Haeduis libertatem sint erepturi.\"\n",
      "Found entity \"Haeduis\" in context \"Romani, una cum reliqua Gallia Haeduis libertatem sint erepturi. Ab\"\n",
      "Found entity \"Ab\" in context \"Gallia Haeduis libertatem sint erepturi. Ab isdem nostra consilia quaeque\"\n",
      "Found entity \"Quin\" in context \"a se coerceri non posse. Quin etiam, quod necessariam rem\"\n",
      "Found entity \"Caesari\" in context \"etiam, quod necessariam rem coactus Caesari enuntiarit, intellegere sese quanto\"\n",
      "Found entity \"Caesar\" in context \"causam quam diu potuerit tacuisse. Caesar hac oratione Lisci Dumnorigem,\"\n",
      "Found entity \"Lisci\" in context \"potuerit tacuisse. Caesar hac oratione Lisci Dumnorigem, Diviciaci fratrem, designari\"\n",
      "Found entity \"Dumnorigem,\" in context \"tacuisse. Caesar hac oratione Lisci Dumnorigem, Diviciaci fratrem, designari sentiebat,\"\n",
      "Found entity \"Diviciaci\" in context \"Caesar hac oratione Lisci Dumnorigem, Diviciaci fratrem, designari sentiebat, sed,\"\n",
      "Found entity \"Liscum\" in context \"iactari nolebat, celeriter concilium dimittit, Liscum retinet. Quaerit ex solo\"\n",
      "Found entity \"Quaerit\" in context \"celeriter concilium dimittit, Liscum retinet. Quaerit ex solo ea quae\"\n",
      "Found entity \"Dicit\" in context \"ea quae in conventu dixerat. Dicit liberius atque audacius. Eadem\"\n",
      "Found entity \"Eadem\" in context \"dixerat. Dicit liberius atque audacius. Eadem secreto ab aliis quaerit;\"\n",
      "Found entity \"Dumnorigem,\" in context \"reperit esse vera: ipsum esse Dumnorigem, summa audacia, magna apud\"\n",
      "Found entity \"Complures\" in context \"liberalitatem gratia, cupidum rerum novarum. Complures annos portoria reliquaque omnia\"\n",
      "Found entity \"Haeduorum\" in context \"Complures annos portoria reliquaque omnia Haeduorum vectigalia parvo pretio redempta\"\n",
      "Found entity \"His\" in context \"licente contra liceri audeat nemo. His rebus et suam rem\"\n",
      "Found entity \"Biturigibus\" in context \"huius potentiae causa matrem in Biturigibus homini illic nobilissimo ac\"\n",
      "Found entity \"Helvetiis\" in context \"ac potentissimo conlocasse; ipsum ex Helvetiis uxorem habere, sororum ex\"\n",
      "Found entity \"Favere\" in context \"nuptum in alias civitates conlocasse. Favere et cupere Helvetiis propter\"\n",
      "Found entity \"Helvetiis\" in context \"civitates conlocasse. Favere et cupere Helvetiis propter eam adfinitatem, odisse\"\n",
      "Found entity \"Caesarem\" in context \"adfinitatem, odisse etiam suo nomine Caesarem et Romanos, quod eorum\"\n",
      "Found entity \"Romanos,\" in context \"etiam suo nomine Caesarem et Romanos, quod eorum adventu potentia\"\n",
      "Found entity \"Diviciacus\" in context \"adventu potentia eius deminuta et Diviciacus frater in antiquum locum\"\n",
      "Found entity \"Si\" in context \"gratiae atque honoris sit restitutus. Si quid accidat Romanis, summam\"\n",
      "Found entity \"Romanis,\" in context \"sit restitutus. Si quid accidat Romanis, summam in spem per\"\n",
      "Found entity \"Helvetios\" in context \"Romanis, summam in spem per Helvetios regni obtinendi venire; imperio\"\n",
      "Found entity \"Romani\" in context \"regni obtinendi venire; imperio populi Romani non modo de regno,\"\n",
      "Found entity \"Reperiebat\" in context \"ea quam habeat gratia desperare. Reperiebat etiam in quaerendo Caesar,\"\n",
      "Found entity \"Caesar,\" in context \"desperare. Reperiebat etiam in quaerendo Caesar, quod proelium equestre adversum\"\n",
      "Found entity \"Dumnorige\" in context \"initium eius fugae factum a Dumnorige atque eius equitibus (nam\"\n",
      "Found entity \"Caesari\" in context \"equitibus (nam equitatui, quem auxilio Caesari Haedui miserant, Dumnorix praeerat):\"\n",
      "Found entity \"Haedui\" in context \"(nam equitatui, quem auxilio Caesari Haedui miserant, Dumnorix praeerat): eorum\"\n",
      "Found entity \"Dumnorix\" in context \"quem auxilio Caesari Haedui miserant, Dumnorix praeerat): eorum fuga reliquum\"\n",
      "Found entity \"Quibus\" in context \"fuga reliquum esse equitatum perterritum. Quibus rebus cognitis, cum ad\"\n",
      "Found entity \"Sequanorum\" in context \"res accederent, quod per fines Sequanorum Helvetios traduxisset, quod obsides\"\n",
      "Found entity \"Helvetios\" in context \"accederent, quod per fines Sequanorum Helvetios traduxisset, quod obsides inter\"\n",
      "Found entity \"Haeduorum\" in context \"ipsis fecisset, quod a magistratu Haeduorum accusaretur, satis esse causae\"\n",
      "Found entity \"His\" in context \"animadverteret aut civitatem animadvertere iuberet. His omnibus rebus unum repugnabat,\"\n",
      "Found entity \"Diviciaci\" in context \"omnibus rebus unum repugnabat, quod Diviciaci fratris summum in populum\"\n",
      "Found entity \"Romanum\" in context \"Diviciaci fratris summum in populum Romanum studium, summum in se\"\n",
      "Found entity \"Diviciaci\" in context \"cognoverat; nam ne eius supplicio Diviciaci animum offenderet verebatur. Itaque\"\n",
      "Found entity \"Itaque\" in context \"supplicio Diviciaci animum offenderet verebatur. Itaque prius quam quicquam conaretur,\"\n",
      "Found entity \"Diviciacum\" in context \"Itaque prius quam quicquam conaretur, Diviciacum ad se vocari iubet\"\n",
      "Found entity \"C.\" in context \"et, cotidianis interpretibus remotis, per C. Valerium Troucillum, principem Galliae\"\n",
      "Found entity \"Valerium\" in context \"cotidianis interpretibus remotis, per C. Valerium Troucillum, principem Galliae provinciae,\"\n",
      "Found entity \"Troucillum,\" in context \"interpretibus remotis, per C. Valerium Troucillum, principem Galliae provinciae, familiarem\"\n",
      "Found entity \"Galliae\" in context \"per C. Valerium Troucillum, principem Galliae provinciae, familiarem suum, cui\"\n",
      "Found entity \"[Gallorum]\" in context \"quae ipso praesente in concilio [Gallorum] de Dumnorige sint dicta,\"\n",
      "Found entity \"Dumnorige\" in context \"praesente in concilio [Gallorum] de Dumnorige sint dicta, et ostendit\"\n",
      "Found entity \"Petit\" in context \"de eo apud se dixerit. Petit atque hortatur ut sine\"\n",
      "Found entity \"Diviciacus\" in context \"statuat vel civitatem statuere iubeat. Diviciacus multis cum lacrimis Caesarem\"\n",
      "Found entity \"Caesarem\" in context \"iubeat. Diviciacus multis cum lacrimis Caesarem complexus obsecrare coepit ne\"\n",
      "Found entity \"Gallia,\" in context \"plurimum domi atque in reliqua Gallia, ille minimum propter adulescentiam\"\n",
      "Found entity \"Sese\" in context \"paene ad perniciem suam uteretur. Sese tamen et amore fraterno\"\n",
      "Found entity \"Quod\" in context \"fraterno et existimatione vulgi commoveri. Quod si quid ei a\"\n",
      "Found entity \"Caesare\" in context \"Quod si quid ei a Caesare gravius accidisset, cum ipse\"\n",
      "Found entity \"Galliae\" in context \"ex re futurum uti totius Galliae animi a se averterentur.\"\n",
      "Found entity \"Haec\" in context \"Galliae animi a se averterentur. Haec cum pluribus verbis flens\"\n",
      "Found entity \"Caesare\" in context \"cum pluribus verbis flens a Caesare peteret, Caesar eius dextram\"\n",
      "Found entity \"Caesar\" in context \"verbis flens a Caesare peteret, Caesar eius dextram prendit; consolatus\"\n",
      "Found entity \"Dumnorigem\" in context \"eius voluntati ac precibus condonet. Dumnorigem ad se vocat, fratrem\"\n",
      "Found entity \"Diviciaco\" in context \"omnes suspiciones vitet; praeterita se Diviciaco fratri condonare dicit. Dumnorigi\"\n",
      "Found entity \"Dumnorigi\" in context \"se Diviciaco fratri condonare dicit. Dumnorigi custodes ponit, ut quae\"\n",
      "Found entity \"Eodem\" in context \"agat, quibuscum loquatur scire possit. Eodem die ab exploratoribus certior\"\n",
      "Found entity \"Renuntiatum\" in context \"circuitu ascensus qui cognoscerent misit. Renuntiatum est facilem esse. De\"\n",
      "Found entity \"De\" in context \"misit. Renuntiatum est facilem esse. De tertia vigilia T. Labienum,\"\n",
      "Found entity \"T.\" in context \"facilem esse. De tertia vigilia T. Labienum, legatum pro praetore,\"\n",
      "Found entity \"Labienum,\" in context \"esse. De tertia vigilia T. Labienum, legatum pro praetore, cum\"\n",
      "Found entity \"Ipse\" in context \"quid sui consilii sit ostendit. Ipse de quarta vigilia eodem\"\n",
      "Found entity \"P.\" in context \"equitatumque omnem ante se mittit. P. Considius, qui rei militaris\"\n",
      "Found entity \"Considius,\" in context \"omnem ante se mittit. P. Considius, qui rei militaris peritissimus\"\n",
      "Found entity \"L.\" in context \"peritissimus habebatur et in exercitu L. Sullae et postea in\"\n",
      "Found entity \"Sullae\" in context \"habebatur et in exercitu L. Sullae et postea in M.\"\n",
      "Found entity \"M.\" in context \"L. Sullae et postea in M. Crassi fuerat, cum exploratoribus\"\n",
      "Found entity \"Crassi\" in context \"Sullae et postea in M. Crassi fuerat, cum exploratoribus praemittitur.\"\n",
      "Found entity \"Prima\" in context \"Crassi fuerat, cum exploratoribus praemittitur. Prima luce, cum summus mons\"\n",
      "Found entity \"[Lucio]\" in context \"luce, cum summus mons a [Lucio] Labieno teneretur, ipse ab\"\n",
      "Found entity \"Labieno\" in context \"cum summus mons a [Lucio] Labieno teneretur, ipse ab hostium\"\n",
      "Found entity \"Labieni\" in context \"comperit, aut ipsius adventus aut Labieni cognitus esset, Considius equo\"\n",
      "Found entity \"Considius\" in context \"adventus aut Labieni cognitus esset, Considius equo admisso ad eum\"\n",
      "Found entity \"Labieno\" in context \"accurrit, dicit montem, quem a Labieno occupari voluerit, ab hostibus\"\n",
      "Found entity \"Gallicis\" in context \"hostibus teneri: id se a Gallicis armis atque insignibus cognovisse.\"\n",
      "Found entity \"Caesar\" in context \"Gallicis armis atque insignibus cognovisse. Caesar suas copias in proximum\"\n",
      "Found entity \"Labienus,\" in context \"proximum collem subducit, aciem instruit. Labienus, ut erat ei praeceptum\"\n",
      "Found entity \"Caesare\" in context \"ut erat ei praeceptum a Caesare ne proelium committeret, nisi\"\n",
      "Found entity \"Multo\" in context \"occupato nostros expectabat proelioque abstinebat. Multo denique die per exploratores\"\n",
      "Found entity \"Caesar\" in context \"Multo denique die per exploratores Caesar cognovit et montem a\"\n",
      "Found entity \"Helvetios\" in context \"montem a suis teneri et Helvetios castra, movisse et Considium\"\n",
      "Found entity \"Considium\" in context \"et Helvetios castra, movisse et Considium timore perterritum quod non\"\n",
      "Found entity \"Eo\" in context \"vidisset pro viso sibi renuntiavisse. Eo die quo consuerat intervallo\"\n",
      "Found entity \"Postridie\" in context \"ab eorum castris castra ponit. Postridie eius diei, quod omnino\"\n",
      "Found entity \"Bibracte,\" in context \"metiri oporteret, et quod a Bibracte, oppido Haeduorum longe maximo\"\n",
      "Found entity \"Haeduorum\" in context \"et quod a Bibracte, oppido Haeduorum longe maximo et copiosissimo,\"\n",
      "Found entity \"Helvetiis\" in context \"prospiciendum existimavit; itaque iter ab Helvetiis avertit ac Bibracte ire\"\n",
      "Found entity \"Bibracte\" in context \"iter ab Helvetiis avertit ac Bibracte ire contendit. Ea res\"\n",
      "Found entity \"Ea\" in context \"avertit ac Bibracte ire contendit. Ea res per fugitivos L.\"\n",
      "Found entity \"L.\" in context \"contendit. Ea res per fugitivos L. Aemilii, decurionis equitum Gallorum,\"\n",
      "Found entity \"Aemilii,\" in context \"Ea res per fugitivos L. Aemilii, decurionis equitum Gallorum, hostibus\"\n",
      "Found entity \"Gallorum,\" in context \"fugitivos L. Aemilii, decurionis equitum Gallorum, hostibus nuntiatur. Helvetii, seu\"\n",
      "Found entity \"Helvetii,\" in context \"decurionis equitum Gallorum, hostibus nuntiatur. Helvetii, seu quod timore perterritos\"\n",
      "Found entity \"Romanos\" in context \"Helvetii, seu quod timore perterritos Romanos discedere a se existimarent,\"\n",
      "Found entity \"Postquam\" in context \"agmine insequi ac lacessere coeperunt. Postquam id animum advertit, copias\"\n",
      "Found entity \"Caesar\" in context \"id animum advertit, copias suas Caesar in proximum collem subduxit\"\n",
      "Found entity \"Ipse\" in context \"qui sustineret hostium petum, misit. Ipse interim in colle medio\"\n",
      "Found entity \"Gallia\" in context \"iugo duas legiones quas in Gallia citeriore proxime conscripserat et\"\n",
      "Found entity \"Helvetii\" in context \"superiore acie constiterant muniri iussit. Helvetii cum omnibus suis carris\"\n",
      "Found entity \"Caesar\" in context \"sub primam nostram aciem successerunt. Caesar primum suo, deinde omnium\"\n",
      "Found entity \"Milites\" in context \"tolleret, cohortatus suos proelium commisit. Milites loco superiore pilis missis\"\n",
      "Found entity \"Ea\" in context \"missis facile hostium phalangem perfregerunt. Ea disiecta gladiis destrictis in\"\n",
      "Found entity \"Gallis\" in context \"destrictis in eos impetum fecerunt. Gallis magno ad pugnam erat\"\n",
      "Found entity \"Tandem\" in context \"emittere et nudo corpore pugnare. Tandem vulneribus defessi et pedem\"\n",
      "Found entity \"Capto\" in context \", eo se recipere coeperunt. Capto monte et succedentibus nostris,\"\n",
      "Found entity \"Boi\" in context \"Capto monte et succedentibus nostris, Boi et Tulingi, qui hominum\"\n",
      "Found entity \"Tulingi,\" in context \"et succedentibus nostris, Boi et Tulingi, qui hominum milibus circiter\"\n",
      "Found entity \"Helvetii,\" in context \"adgressi circumvenire, et id conspicati Helvetii, qui in montem sese\"\n",
      "Found entity \"Romani\" in context \"instare et proelium redintegrare coeperunt. Romani [conversa] signa bipertito intulerunt:\"\n",
      "Found entity \"Ita\" in context \"resisteret, tertia, ut venientes sustineret. Ita ancipiti proelio diu atque\"\n",
      "Found entity \"Diutius\" in context \"diu atque acriter pugnatum est. Diutius cum sustinere nostrorum impetus\"\n",
      "Found entity \"Nam\" in context \"et carros suos se contulerunt. Nam hoc toto proelio, cum\"\n",
      "Found entity \"Ad\" in context \"aversum hostem videre nemo potuit. Ad multam noctem etiam ad\"\n",
      "Found entity \"Diu\" in context \"ac tragulas subiciebant nostrosque vulnerabant. Diu cum esset pugnatum, impedimentis\"\n",
      "Found entity \"Ibi\" in context \"impedimentis castrisque nostri potiti sunt. Ibi Orgetorigis filia atque unus\"\n",
      "Found entity \"Orgetorigis\" in context \"castrisque nostri potiti sunt. Ibi Orgetorigis filia atque unus e\"\n",
      "Found entity \"Ex\" in context \"unus e filiis captus est. Ex eo proelio circiter hominum\"\n",
      "Found entity \"Lingonum\" in context \"noctis itinere intermisso]; in fines Lingonum die quarto pervenerunt, cum\"\n",
      "Found entity \"Caesar\" in context \"morati] eos sequi non potuissent. Caesar ad Lingonas litteras nuntiosque\"\n",
      "Found entity \"Lingonas\" in context \"sequi non potuissent. Caesar ad Lingonas litteras nuntiosque misit, ne\"\n",
      "Found entity \"Helvetios\" in context \"iuvissent, se eodem loco quo Helvetios habiturum. Ipse triduo intermisso\"\n",
      "Found entity \"Ipse\" in context \"eodem loco quo Helvetios habiturum. Ipse triduo intermisso cum omnibus\"\n",
      "Found entity \"Helvetii\" in context \"omnibus copiis eos sequi coepit. Helvetii omnium rerum inopia adducti\"\n",
      "Found entity \"Qui\" in context \"de deditione ad eum miserunt. Qui cum eum in itinere\"\n",
      "Found entity \"Eo\" in context \"suum adventum expectare iussisset, paruerunt. Eo postquam Caesar pervenit, obsides,\"\n",
      "Found entity \"Caesar\" in context \"expectare iussisset, paruerunt. Eo postquam Caesar pervenit, obsides, arma, servos\"\n",
      "Found entity \"Dum\" in context \"qui ad eos perfugissent, poposcit. Dum ea conquiruntur et conferuntur,\"\n",
      "Found entity \"Verbigenus\" in context \"milia VI eius pagi qui Verbigenus appellatur, sive timore perterriti,\"\n",
      "Found entity \"Helvetiorum\" in context \"existimarent, prima nocte e castris Helvetiorum egressi ad Rhenum finesque\"\n",
      "Found entity \"Rhenum\" in context \"e castris Helvetiorum egressi ad Rhenum finesque Germanorum contenderunt. Quod\"\n",
      "Found entity \"Germanorum\" in context \"Helvetiorum egressi ad Rhenum finesque Germanorum contenderunt. Quod ubi Caesar\"\n",
      "Found entity \"Quod\" in context \"ad Rhenum finesque Germanorum contenderunt. Quod ubi Caesar resciit, quorum\"\n",
      "Found entity \"Caesar\" in context \"finesque Germanorum contenderunt. Quod ubi Caesar resciit, quorum per fines\"\n",
      "Found entity \"Helvetios,\" in context \"perfugis traditis in deditionem accepit. Helvetios, Tulingos, Latobrigos in fines\"\n",
      "Found entity \"Tulingos,\" in context \"traditis in deditionem accepit. Helvetios, Tulingos, Latobrigos in fines suos,\"\n",
      "Found entity \"Latobrigos\" in context \"in deditionem accepit. Helvetios, Tulingos, Latobrigos in fines suos, unde\"\n",
      "Found entity \"Allobrogibus\" in context \"nihil erat quo famem tolerarent, Allobrogibus imperavit ut iis frumenti\"\n",
      "Found entity \"Id\" in context \"vicosque, quos incenderant, restituere iussit. Id ea maxime ratione fecit,\"\n",
      "Found entity \"Helvetii\" in context \"quod noluit eum locum unde Helvetii discesserant vacare, ne propter\"\n",
      "Found entity \"Germani,\" in context \"vacare, ne propter bonitatem agrorum Germani, qui trans Rhenum incolunt,\"\n",
      "Found entity \"Rhenum\" in context \"bonitatem agrorum Germani, qui trans Rhenum incolunt, ex suis finibus\"\n",
      "Found entity \"Helvetiorum\" in context \"incolunt, ex suis finibus in Helvetiorum fines transirent et finitimi\"\n",
      "Found entity \"Galliae\" in context \"Helvetiorum fines transirent et finitimi Galliae provinciae Allobrogibusque essent. Boios\"\n",
      "Found entity \"Allobrogibusque\" in context \"transirent et finitimi Galliae provinciae Allobrogibusque essent. Boios petentibus Haeduis,\"\n",
      "Found entity \"Boios\" in context \"finitimi Galliae provinciae Allobrogibusque essent. Boios petentibus Haeduis, quod egregia\"\n",
      "Found entity \"Haeduis,\" in context \"provinciae Allobrogibusque essent. Boios petentibus Haeduis, quod egregia virtute erant\"\n",
      "Found entity \"In\" in context \"condicionem atque ipsi erant receperunt. In castris Helvetiorum tabulae repertae\"\n",
      "Found entity \"Helvetiorum\" in context \"ipsi erant receperunt. In castris Helvetiorum tabulae repertae sunt litteris\"\n",
      "Found entity \"Graecis\" in context \"Helvetiorum tabulae repertae sunt litteris Graecis confectae et ad Caesarem\"\n",
      "Found entity \"Caesarem\" in context \"litteris Graecis confectae et ad Caesarem relatae, quibus in tabulis\"\n",
      "Found entity \"[Quarum\" in context \"separatim, quot pueri, senes mulieresque. [Quarum omnium rerum] summa erat\"\n",
      "Found entity \"Helvetiorum\" in context \"omnium rerum] summa erat capitum Helvetiorum milium CCLXIII, Tulingorum milium\"\n",
      "Found entity \"Tulingorum\" in context \"erat capitum Helvetiorum milium CCLXIII, Tulingorum milium XXXVI, Latobrigorum XIIII,\"\n",
      "Found entity \"Latobrigorum\" in context \"milium CCLXIII, Tulingorum milium XXXVI, Latobrigorum XIIII, Rauracorum XXIII, Boiorum\"\n",
      "Found entity \"Rauracorum\" in context \"Tulingorum milium XXXVI, Latobrigorum XIIII, Rauracorum XXIII, Boiorum XXXII; ex\"\n",
      "Found entity \"Boiorum\" in context \"XXXVI, Latobrigorum XIIII, Rauracorum XXIII, Boiorum XXXII; ex his qui\"\n",
      "Found entity \"Summa\" in context \"possent ad milia nonaginta duo. Summa omnium fuerunt ad milia\"\n",
      "Found entity \"Eorum\" in context \"omnium fuerunt ad milia CCCLXVIII. Eorum qui domum redierunt censu\"\n",
      "Found entity \"Caesar\" in context \"domum redierunt censu habito, ut Caesar imperaverat, repertus est numerus\"\n",
      "Found entity \"C\" in context \"imperaverat, repertus est numerus milium C et X. Bello Helvetiorum\"\n",
      "Found entity \"X.\" in context \"est numerus milium C et X. Bello Helvetiorum confecto totius\"\n",
      "Found entity \"Bello\" in context \"numerus milium C et X. Bello Helvetiorum confecto totius fere\"\n",
      "Found entity \"Helvetiorum\" in context \"milium C et X. Bello Helvetiorum confecto totius fere Galliae\"\n",
      "Found entity \"Galliae\" in context \"Bello Helvetiorum confecto totius fere Galliae legati, principes civitatum, ad\"\n",
      "Found entity \"Caesarem\" in context \"Galliae legati, principes civitatum, ad Caesarem gratulatum convenerunt: intellegere sese,\"\n",
      "Found entity \"Helvetiorum\" in context \"intellegere sese, tametsi pro veteribus Helvetiorum iniuriis populi Romani ab\"\n",
      "Found entity \"Romani\" in context \"pro veteribus Helvetiorum iniuriis populi Romani ab his poenas bello\"\n",
      "Found entity \"Galliae\" in context \"non minus ex usu [terrae] Galliae quam populi Romani accidisse,\"\n",
      "Found entity \"Romani\" in context \"usu [terrae] Galliae quam populi Romani accidisse, propterea quod eo\"\n",
      "Found entity \"Helvetii\" in context \"consilio florentissimis rebus domos suas Helvetii reliquissent uti toti Galliae\"\n",
      "Found entity \"Galliae\" in context \"suas Helvetii reliquissent uti toti Galliae bellum inferrent imperioque potirentur,\"\n",
      "Found entity \"Gallia\" in context \"copia deligerent quem ex omni Gallia oportunissimum ac fructuosissimum iudicassent,\"\n",
      "Found entity \"Petierunt\" in context \"iudicassent, reliquasque civitates stipendiarias haberent. Petierunt uti sibi concilium totius\"\n",
      "Found entity \"Galliae\" in context \"Petierunt uti sibi concilium totius Galliae in diem certam indicere\"\n",
      "Found entity \"Caesaris\" in context \"in diem certam indicere idque Caesaris facere voluntate liceret: sese\"\n",
      "Found entity \"Ea\" in context \"consensu ab eo petere vellent. Ea re permissa diem concilio\"\n",
      "Found entity \"Eo\" in context \"mandatum esset, inter se sanxerunt. Eo concilio dimisso, idem princeps\"\n",
      "Found entity \"Caesarem\" in context \"civitatum qui ante fuerant ad Caesarem reverterunt petieruntque uti sibi\"\n",
      "Found entity \"Ea\" in context \"salute cum eo agere liceret. Ea re impetrata sese omnes\"\n",
      "Found entity \"Caesari\" in context \"re impetrata sese omnes flentes Caesari ad pedes proiecerunt: non\"\n",
      "Found entity \"Locutus\" in context \"in cruciatum se venturos viderent. Locutus est pro his Diviciacus\"\n",
      "Found entity \"Diviciacus\" in context \"viderent. Locutus est pro his Diviciacus Haeduus: Galliae totius factiones\"\n",
      "Found entity \"Haeduus:\" in context \"Locutus est pro his Diviciacus Haeduus: Galliae totius factiones esse\"\n",
      "Found entity \"Galliae\" in context \"est pro his Diviciacus Haeduus: Galliae totius factiones esse duas;\"\n",
      "Found entity \"Haeduos,\" in context \"duas; harum alterius principatum tenere Haeduos, alterius Arvernos. Hi cum\"\n",
      "Found entity \"Arvernos.\" in context \"alterius principatum tenere Haeduos, alterius Arvernos. Hi cum tantopere de\"\n",
      "Found entity \"Hi\" in context \"principatum tenere Haeduos, alterius Arvernos. Hi cum tantopere de potentatu\"\n",
      "Found entity \"Arvernis\" in context \"contenderent, factum esse uti ab Arvernis Sequanisque Germani mercede arcesserentur.\"\n",
      "Found entity \"Sequanisque\" in context \"factum esse uti ab Arvernis Sequanisque Germani mercede arcesserentur. Horum\"\n",
      "Found entity \"Germani\" in context \"esse uti ab Arvernis Sequanisque Germani mercede arcesserentur. Horum primo\"\n",
      "Found entity \"Horum\" in context \"Arvernis Sequanisque Germani mercede arcesserentur. Horum primo circiter milia XV\"\n",
      "Found entity \"Rhenum\" in context \"Horum primo circiter milia XV Rhenum transisse; postea quam agros\"\n",
      "Found entity \"Gallorum\" in context \"agros et cultum et copias Gallorum homines feri ac barbari\"\n",
      "Found entity \"Gallia\" in context \"traductos plures; nunc esse in Gallia ad C et XX\"\n",
      "Found entity \"C\" in context \"nunc esse in Gallia ad C et XX milium numerum.\"\n",
      "Found entity \"Cum\" in context \"C et XX milium numerum. Cum his Haeduos eorumque clientes\"\n",
      "Found entity \"Haeduos\" in context \"XX milium numerum. Cum his Haeduos eorumque clientes semel atque\"\n",
      "Found entity \"Quibus\" in context \"omnem senatum, omnem equitatum amisisse. Quibus proeliis calamitatibusque fractos, qui\"\n",
      "Found entity \"Romani\" in context \"et sua virtute et populi Romani hospitio atque amicitia plurimum\"\n",
      "Found entity \"Gallia\" in context \"atque amicitia plurimum ante in Gallia potuissent, coactos esse Sequanis\"\n",
      "Found entity \"Sequanis\" in context \"in Gallia potuissent, coactos esse Sequanis obsides dare nobilissimos civitatis\"\n",
      "Found entity \"Romano\" in context \"repetituros neque auxilium a populo Romano imploraturos neque recusaturos quo\"\n",
      "Found entity \"Unum\" in context \"illorum dicione atque imperio essent. Unum se esse ex omni\"\n",
      "Found entity \"Haeduorum\" in context \"se esse ex omni civitate Haeduorum qui adduci non potuerit\"\n",
      "Found entity \"Ob\" in context \"aut liberos suos obsides daret. Ob eam rem se ex\"\n",
      "Found entity \"Romam\" in context \"se ex civitate profugisse et Romam ad senatum venisse auxilium\"\n",
      "Found entity \"Sed\" in context \"iure iurando neque obsidibus teneretur. Sed peius victoribus Sequanis quam\"\n",
      "Found entity \"Sequanis\" in context \"obsidibus teneretur. Sed peius victoribus Sequanis quam Haeduis victis accidisse,\"\n",
      "Found entity \"Haeduis\" in context \"Sed peius victoribus Sequanis quam Haeduis victis accidisse, propterea quod\"\n",
      "Found entity \"Ariovistus,\" in context \"Haeduis victis accidisse, propterea quod Ariovistus, rex Germanorum, in eorum\"\n",
      "Found entity \"Germanorum,\" in context \"accidisse, propterea quod Ariovistus, rex Germanorum, in eorum finibus consedisset\"\n",
      "Found entity \"Sequani,\" in context \"finibus consedisset tertiamque partem agri Sequani, qui esset optimus totius\"\n",
      "Found entity \"Galliae,\" in context \"Sequani, qui esset optimus totius Galliae, occupavisset et nunc de\"\n",
      "Found entity \"Sequanos\" in context \"nunc de altera parte tertia Sequanos decedere iuberet, propterea quod\"\n",
      "Found entity \"Harudum\" in context \"propterea quod paucis mensibus ante Harudum milia hominum XXIIII ad\"\n",
      "Found entity \"Futurum\" in context \"quibus locus ac sedes pararentur. Futurum esse paucis annis uti\"\n",
      "Found entity \"Galliae\" in context \"paucis annis uti omnes ex Galliae finibus pellerentur atque omnes\"\n",
      "Found entity \"Germani\" in context \"Galliae finibus pellerentur atque omnes Germani Rhenum transirent; neque enim\"\n",
      "Found entity \"Rhenum\" in context \"finibus pellerentur atque omnes Germani Rhenum transirent; neque enim conferendum\"\n",
      "Found entity \"Gallicum\" in context \"transirent; neque enim conferendum esse Gallicum cum Germanorum agro neque\"\n",
      "Found entity \"Germanorum\" in context \"enim conferendum esse Gallicum cum Germanorum agro neque hanc consuetudinem\"\n",
      "Found entity \"Ariovistum\" in context \"consuetudinem victus cum illa comparandam. Ariovistum autem, ut semel Gallorum\"\n",
      "Found entity \"Gallorum\" in context \"comparandam. Ariovistum autem, ut semel Gallorum copias proelio vicerit, quod\"\n",
      "Found entity \"Magetobrigam,\" in context \"quod proelium factum sit ad Magetobrigam, superbe et crudeliter imperare,\"\n",
      "Found entity \"Hominem\" in context \"ad voluntatem eius facta sit. Hominem esse barbarum, iracundum, temerarium:\"\n",
      "Found entity \"Nisi\" in context \"posse eius imperia, diutius sustineri. Nisi quid in Caesare populoque\"\n",
      "Found entity \"Caesare\" in context \"diutius sustineri. Nisi quid in Caesare populoque Romano sit auxilii,\"\n",
      "Found entity \"Romano\" in context \"Nisi quid in Caesare populoque Romano sit auxilii, omnibus Gallis\"\n",
      "Found entity \"Gallis\" in context \"populoque Romano sit auxilii, omnibus Gallis idem esse faciendum quod\"\n",
      "Found entity \"Helvetii\" in context \"Gallis idem esse faciendum quod Helvetii fecerint, ut domo emigrent,\"\n",
      "Found entity \"Germanis,\" in context \"domicilium, alias sedes, remotas a Germanis, petant fortunamque, quaecumque accidat,\"\n",
      "Found entity \"Haec\" in context \"petant fortunamque, quaecumque accidat, experiantur. Haec si enuntiata Ariovisto sint,\"\n",
      "Found entity \"Ariovisto\" in context \"accidat, experiantur. Haec si enuntiata Ariovisto sint, non dubitare quin\"\n",
      "Found entity \"Caesarem\" in context \"eum sint gravissimum supplicium sumat. Caesarem vel auctoritate sua atque\"\n",
      "Found entity \"Romani\" in context \"recenti victoria vel nomine populi Romani deterrere posse ne maior\"\n",
      "Found entity \"Germanorum\" in context \"deterrere posse ne maior multitudo Germanorum Rhenum traducatur, Galliamque omnem\"\n",
      "Found entity \"Rhenum\" in context \"posse ne maior multitudo Germanorum Rhenum traducatur, Galliamque omnem ab\"\n",
      "Found entity \"Galliamque\" in context \"maior multitudo Germanorum Rhenum traducatur, Galliamque omnem ab Ariovisti iniuria\"\n",
      "Found entity \"Ariovisti\" in context \"Rhenum traducatur, Galliamque omnem ab Ariovisti iniuria posse defendere. Hac\"\n",
      "Found entity \"Hac\" in context \"ab Ariovisti iniuria posse defendere. Hac oratione ab Diviciaco habita\"\n",
      "Found entity \"Diviciaco\" in context \"posse defendere. Hac oratione ab Diviciaco habita omnes qui aderant\"\n",
      "Found entity \"Caesare\" in context \"aderant magno fletu auxilium a Caesare petere coeperunt. Animadvertit Caesar\"\n",
      "Found entity \"Animadvertit\" in context \"auxilium a Caesare petere coeperunt. Animadvertit Caesar unos ex omnibus\"\n",
      "Found entity \"Caesar\" in context \"a Caesare petere coeperunt. Animadvertit Caesar unos ex omnibus Sequanos\"\n",
      "Found entity \"Sequanos\" in context \"Animadvertit Caesar unos ex omnibus Sequanos nihil earum rerum facere\"\n",
      "Found entity \"Eius\" in context \"tristes capite demisso terram intueri. Eius rei quae causa esset\"\n",
      "Found entity \"Nihil\" in context \"esset miratus ex ipsis quaesiit. Nihil Sequani respondere, sed in\"\n",
      "Found entity \"Sequani\" in context \"miratus ex ipsis quaesiit. Nihil Sequani respondere, sed in eadem\"\n",
      "Found entity \"Cum\" in context \"in eadem tristitia taciti permanere. Cum ab his saepius quaereret\"\n",
      "Found entity \"Diviacus\" in context \"omnino vocem exprimere posset, idem Diviacus Haeduus respondit: hoc esse\"\n",
      "Found entity \"Haeduus\" in context \"vocem exprimere posset, idem Diviacus Haeduus respondit: hoc esse miseriorem\"\n",
      "Found entity \"Sequanorum\" in context \"esse miseriorem et graviorem fortunam Sequanorum quam reliquorum, quod soli\"\n",
      "Found entity \"Ariovisti\" in context \"neque auxilium implorare auderent absentisque Ariovisti crudelitatem, velut si cora\"\n",
      "Found entity \"Sequanis\" in context \"reliquis tamen fugae facultas daretur, Sequanis vero, qui intra fines\"\n",
      "Found entity \"Ariovistum\" in context \"vero, qui intra fines suos Ariovistum recepissent, quorum oppida omnia\"\n",
      "Found entity \"His\" in context \"essent, omnes cruciatus essent perferendi. His rebus cognitis Caesar Gallorum\"\n",
      "Found entity \"Caesar\" in context \"essent perferendi. His rebus cognitis Caesar Gallorum animos verbis confirmavit\"\n",
      "Found entity \"Gallorum\" in context \"perferendi. His rebus cognitis Caesar Gallorum animos verbis confirmavit pollicitusque\"\n",
      "Found entity \"Ariovistum\" in context \"beneficio suo et auctoritate adductum Ariovistum finem iniuriis facturum. Hac\"\n",
      "Found entity \"Hac\" in context \"adductum Ariovistum finem iniuriis facturum. Hac oratione habita, concilium dimisit.\"\n",
      "Found entity \"Et\" in context \"Hac oratione habita, concilium dimisit. Et secundum ea multae res\"\n",
      "Found entity \"Haeduos,\" in context \"suscipiendam putaret, in primis quod Haeduos, fratres consanguineosque saepe numero\"\n",
      "Found entity \"Germanorum\" in context \"servitute atque [in] dicione videbat Germanorum teneri eorumque obsides esse\"\n",
      "Found entity \"Ariovistum\" in context \"teneri eorumque obsides esse apud Ariovistum ac Sequanos intellegebat; quod\"\n",
      "Found entity \"Sequanos\" in context \"obsides esse apud Ariovistum ac Sequanos intellegebat; quod in tanto\"\n",
      "Found entity \"Romani\" in context \"quod in tanto imperio populi Romani turpissimum sibi et rei\"\n",
      "Found entity \"Paulatim\" in context \"et rei publicae esse arbitrabatur. Paulatim autem Germanos consuescere Rhenum\"\n",
      "Found entity \"Germanos\" in context \"publicae esse arbitrabatur. Paulatim autem Germanos consuescere Rhenum transire et\"\n",
      "Found entity \"Rhenum\" in context \"arbitrabatur. Paulatim autem Germanos consuescere Rhenum transire et in Galliam\"\n",
      "Found entity \"Galliam\" in context \"consuescere Rhenum transire et in Galliam magnam eorum multitudinem venire\"\n",
      "Found entity \"Romano\" in context \"magnam eorum multitudinem venire populo Romano periculosum videbat, neque sibi\"\n",
      "Found entity \"Galliam\" in context \"temperaturos existimabat quin, cum omnem Galliam occupavissent, ut ante Cimbri\"\n",
      "Found entity \"Cimbri\" in context \"omnem Galliam occupavissent, ut ante Cimbri Teutonique fecissent, in provinciam\"\n",
      "Found entity \"Teutonique\" in context \"Galliam occupavissent, ut ante Cimbri Teutonique fecissent, in provinciam exirent\"\n",
      "Found entity \"Italiam\" in context \"provinciam exirent atque inde in Italiam contenderent [, praesertim cum\"\n",
      "Found entity \"Sequanos\" in context \"Italiam contenderent [, praesertim cum Sequanos a provincia nostra Rhodanus\"\n",
      "Found entity \"Rhodanus\" in context \"cum Sequanos a provincia nostra Rhodanus divideret]; quibus rebus quam\"\n",
      "Found entity \"Ipse\" in context \"rebus quam maturrime occurrendum putabat. Ipse autem Ariovistus tantos sibi\"\n",
      "Found entity \"Ariovistus\" in context \"maturrime occurrendum putabat. Ipse autem Ariovistus tantos sibi spiritus, tantam\"\n",
      "Found entity \"Quam\" in context \"sumpserat, ut ferendus non videretur. Quam ob rem placuit ei\"\n",
      "Found entity \"Ariovistum\" in context \"rem placuit ei ut ad Ariovistum legatos mitteret, qui ab\"\n",
      "Found entity \"Ei\" in context \"utriusque rebus cum eo agere. Ei legationi Ariovistus respondit: si\"\n",
      "Found entity \"Ariovistus\" in context \"cum eo agere. Ei legationi Ariovistus respondit: si quid ipsi\"\n",
      "Found entity \"Caesare\" in context \"respondit: si quid ipsi a Caesare opus esset, sese ad\"\n",
      "Found entity \"Praeterea\" in context \"illum ad se venire oportere. Praeterea se neque sine exercitu\"\n",
      "Found entity \"Galliae\" in context \"sine exercitu in eas partes Galliae venire audere quas Caesar\"\n",
      "Found entity \"Caesar\" in context \"partes Galliae venire audere quas Caesar possideret, neque exercitum sine\"\n",
      "Found entity \"Sibi\" in context \"in unum locum contrahere posse. Sibi autem mirum videri quid\"\n",
      "Found entity \"Gallia,\" in context \"mirum videri quid in sua Gallia, quam bello vicisset, aut\"\n",
      "Found entity \"Caesari\" in context \"Gallia, quam bello vicisset, aut Caesari aut omnino populo Romano\"\n",
      "Found entity \"Romano\" in context \"aut Caesari aut omnino populo Romano negotii esset. His responsis\"\n",
      "Found entity \"His\" in context \"omnino populo Romano negotii esset. His responsis ad Caesarem relatis,\"\n",
      "Found entity \"Caesarem\" in context \"negotii esset. His responsis ad Caesarem relatis, iterum ad eum\"\n",
      "Found entity \"Caesar\" in context \"Caesarem relatis, iterum ad eum Caesar legatos cum his mandatis\"\n",
      "Found entity \"Romani\" in context \"mittit: quoniam tanto suo populique Romani beneficio adfectus, cum in\"\n",
      "Found entity \"Romano\" in context \"appellatus esset, hanc sibi populoque Romano gratiam referret ut in\"\n",
      "Found entity \"Rhenum\" in context \"quam multitudinem hominum amplius trans Rhenum in Galliam traduceret; deinde\"\n",
      "Found entity \"Galliam\" in context \"hominum amplius trans Rhenum in Galliam traduceret; deinde obsides quos\"\n",
      "Found entity \"Haeduis\" in context \"deinde obsides quos haberet ab Haeduis redderet Sequanisque permitteret ut\"\n",
      "Found entity \"Sequanisque\" in context \"quos haberet ab Haeduis redderet Sequanisque permitteret ut quos illi\"\n",
      "Found entity \"Haeduos\" in context \"eius reddere illis liceret; neve Haeduos iniuria lacesseret neve his\"\n",
      "Found entity \"Si\" in context \"his sociisque eorum bellum inferret. Si [id] ita fecisset, sibi\"\n",
      "Found entity \"Romano\" in context \"[id] ita fecisset, sibi populoque Romano perpetuam gratiam atque amicitiam\"\n",
      "Found entity \"M.\" in context \"si non impetraret, sese, quoniam M. Messala, M. Pisone consulibus\"\n",
      "Found entity \"Messala,\" in context \"non impetraret, sese, quoniam M. Messala, M. Pisone consulibus senatus\"\n",
      "Found entity \"M.\" in context \"impetraret, sese, quoniam M. Messala, M. Pisone consulibus senatus censuisset\"\n",
      "Found entity \"Pisone\" in context \"sese, quoniam M. Messala, M. Pisone consulibus senatus censuisset uti\"\n",
      "Found entity \"Galliam\" in context \"consulibus senatus censuisset uti quicumque Galliam provinciam obtineret, quod commodo\"\n",
      "Found entity \"Haeduos\" in context \"commodo rei publicae facere posset, Haeduos ceterosque amicos populi Romani\"\n",
      "Found entity \"Romani\" in context \"posset, Haeduos ceterosque amicos populi Romani defenderet, se Haeduorum iniurias\"\n",
      "Found entity \"Haeduorum\" in context \"amicos populi Romani defenderet, se Haeduorum iniurias non neglecturum. Ad\"\n",
      "Found entity \"Ad\" in context \"se Haeduorum iniurias non neglecturum. Ad haec Ariovistus respondit: ius\"\n",
      "Found entity \"Ariovistus\" in context \"iniurias non neglecturum. Ad haec Ariovistus respondit: ius esse belli\"\n",
      "Found entity \"Item\" in context \"quem ad modum vellent imperarent. Item populum Romanum victis non\"\n",
      "Found entity \"Romanum\" in context \"modum vellent imperarent. Item populum Romanum victis non ad alterius\"\n",
      "Found entity \"Si\" in context \"ad suum arbitrium imperare consuesse. Si ipse populo Romano non\"\n",
      "Found entity \"Romano\" in context \"imperare consuesse. Si ipse populo Romano non praescriberet quem ad\"\n",
      "Found entity \"Romano\" in context \"non oportere se a populo Romano in suo iure impediri.\"\n",
      "Found entity \"Haeduos\" in context \"Romano in suo iure impediri. Haeduos sibi, quoniam belli fortunam\"\n",
      "Found entity \"Magnam\" in context \"superati essent, stipendiarios esse factos. Magnam Caesarem iniuriam facere, qui\"\n",
      "Found entity \"Caesarem\" in context \"essent, stipendiarios esse factos. Magnam Caesarem iniuriam facere, qui suo\"\n",
      "Found entity \"Haeduis\" in context \"adventu vectigalia sibi deteriora faceret. Haeduis se obsides redditurum non\"\n",
      "Found entity \"Romani\" in context \"longe iis fraternum nomen populi Romani afuturum. Quod sibi Caesar\"\n",
      "Found entity \"Quod\" in context \"fraternum nomen populi Romani afuturum. Quod sibi Caesar denuntiaret se\"\n",
      "Found entity \"Caesar\" in context \"populi Romani afuturum. Quod sibi Caesar denuntiaret se Haeduorum iniurias\"\n",
      "Found entity \"Haeduorum\" in context \"Quod sibi Caesar denuntiaret se Haeduorum iniurias non neglecturum, neminem\"\n",
      "Found entity \"Cum\" in context \"secum sine sua pernicie contendisse. Cum vellet, congrederetur: intellecturum quid\"\n",
      "Found entity \"Germani,\" in context \"vellet, congrederetur: intellecturum quid invicti Germani, exercitatissimi in armis, qui\"\n",
      "Found entity \"Haec\" in context \"tectum non subissent, virtute possent. Haec eodem tempore Caesari mandata\"\n",
      "Found entity \"Caesari\" in context \"virtute possent. Haec eodem tempore Caesari mandata referebantur et legati\"\n",
      "Found entity \"Haeduis\" in context \"mandata referebantur et legati ab Haeduis et a Treveris veniebant:\"\n",
      "Found entity \"Treveris\" in context \"legati ab Haeduis et a Treveris veniebant: Haedui questum quod\"\n",
      "Found entity \"Haedui\" in context \"Haeduis et a Treveris veniebant: Haedui questum quod Harudes, qui\"\n",
      "Found entity \"Harudes,\" in context \"Treveris veniebant: Haedui questum quod Harudes, qui nuper in Galliam\"\n",
      "Found entity \"Galliam\" in context \"quod Harudes, qui nuper in Galliam transportati essent, fines eorum\"\n",
      "Found entity \"Ariovisti\" in context \"ne obsidibus quidem datis pacem Ariovisti redimere potuisse; Treveri autem,\"\n",
      "Found entity \"Treveri\" in context \"datis pacem Ariovisti redimere potuisse; Treveri autem, pagos centum Sueborum\"\n",
      "Found entity \"Sueborum\" in context \"potuisse; Treveri autem, pagos centum Sueborum ad ripas Rheni consedisse,\"\n",
      "Found entity \"Rheni\" in context \"pagos centum Sueborum ad ripas Rheni consedisse, qui Rhenum transire\"\n",
      "Found entity \"Rhenum\" in context \"ad ripas Rheni consedisse, qui Rhenum transire conarentur; his praeesse\"\n",
      "Found entity \"Nasuam\" in context \"Rhenum transire conarentur; his praeesse Nasuam et Cimberium fratres. Quibus\"\n",
      "Found entity \"Cimberium\" in context \"conarentur; his praeesse Nasuam et Cimberium fratres. Quibus rebus Caesar\"\n",
      "Found entity \"Quibus\" in context \"praeesse Nasuam et Cimberium fratres. Quibus rebus Caesar vehementer commotus\"\n",
      "Found entity \"Caesar\" in context \"et Cimberium fratres. Quibus rebus Caesar vehementer commotus maturandum sibi\"\n",
      "Found entity \"Sueborum\" in context \"existimavit, ne, si nova manus Sueborum cum veteribus copiis Ariovisti\"\n",
      "Found entity \"Ariovisti\" in context \"manus Sueborum cum veteribus copiis Ariovisti sese coniunxisset, minus facile\"\n",
      "Found entity \"Itaque\" in context \"coniunxisset, minus facile resisti posset. Itaque re frumentaria quam celerrime\"\n",
      "Found entity \"Ariovistum\" in context \"potuit comparata magnis itineribus ad Ariovistum contendit. Cum tridui viam\"\n",
      "Found entity \"Cum\" in context \"magnis itineribus ad Ariovistum contendit. Cum tridui viam processisset, nuntiatum\"\n",
      "Found entity \"Ariovistum\" in context \"viam processisset, nuntiatum est ei Ariovistum cum suis omnibus copiis\"\n",
      "Found entity \"Vesontionem,\" in context \"suis omnibus copiis ad occupandum Vesontionem, quod est oppidum maximum\"\n",
      "Found entity \"Sequanorum,\" in context \"Vesontionem, quod est oppidum maximum Sequanorum, contendere [triduique viam a\"\n",
      "Found entity \"Id\" in context \"viam a suis finibus processisse]. Id ne accideret, magnopere sibi\"\n",
      "Found entity \"Caesar\" in context \"ne accideret, magnopere sibi praecavendum Caesar existimabat. Namque omnium rerum\"\n",
      "Found entity \"Namque\" in context \"magnopere sibi praecavendum Caesar existimabat. Namque omnium rerum quae ad\"\n",
      "Found entity \"Dubis\" in context \"facultatem, propterea quod flumen [alduas] Dubis ut circino circumductum paene\"\n",
      "Found entity \"Huc\" in context \"efficit et cum oppido coniungit. Huc Caesar magnis nocturnis diurnisque\"\n",
      "Found entity \"Caesar\" in context \"et cum oppido coniungit. Huc Caesar magnis nocturnis diurnisque itineribus\"\n",
      "Found entity \"Dum\" in context \"occupatoque oppido ibi praesidium conlocat. Dum paucos dies ad Vesontionem\"\n",
      "Found entity \"Vesontionem\" in context \"conlocat. Dum paucos dies ad Vesontionem rei frumentariae commeatusque causa\"\n",
      "Found entity \"Gallorum\" in context \"moratur, ex percontatione nostrorum vocibusque Gallorum ac mercatorum, qui ingenti\"\n",
      "Found entity \"Germanos,\" in context \"mercatorum, qui ingenti magnitudine corporum Germanos, incredibili virtute atque exercitatione\"\n",
      "Found entity \"Hic\" in context \"mediocriter omnium mentes animosque perturbaret. Hic primum ortus est a\"\n",
      "Found entity \"Caesarem\" in context \"qui ex urbe amicitiae causa Caesarem secuti non magnum in\"\n",
      "Found entity \"Hi\" in context \"ut timoris suspicionem vitarent, remanebant. Hi neque vultum fingere neque\"\n",
      "Found entity \"Vulgo\" in context \"familiaribus suis commune periculum miserabantur. Vulgo totis castris testamenta obsignabantur.\"\n",
      "Found entity \"Horum\" in context \"Vulgo totis castris testamenta obsignabantur. Horum vocibus ac timore paulatim\"\n",
      "Found entity \"Qui\" in context \"centurionesque quique equitatui praeerant, perturbabantur. Qui se ex his minus\"\n",
      "Found entity \"Ariovistum,\" in context \"quae intercederent inter ipsos atque Ariovistum, aut rem frumentariam, ut\"\n",
      "Found entity \"Non\" in context \"commode supportari posset, timere dicebant. Non nulli etiam Caesari nuntiabant,\"\n",
      "Found entity \"Caesari\" in context \"timere dicebant. Non nulli etiam Caesari nuntiabant, cum castra moveri\"\n",
      "Found entity \"Haec\" in context \"neque propter timorem signa laturos. Haec cum animadvertisset, convocato consilio\"\n",
      "Found entity \"Ariovistum\" in context \"sibi quaerendum aut cogitandum putarent. Ariovistum se consule cupidissime populi\"\n",
      "Found entity \"Romani\" in context \"Ariovistum se consule cupidissime populi Romani amicitiam adpetisse; cur hunc\"\n",
      "Found entity \"Sibi\" in context \"quisquam ab officio discessurum iudicaret? Sibi quidem persuaderi cognitis suis\"\n",
      "Found entity \"Romani\" in context \"eum neque suam neque populi Romani gratiam repudiaturum. Quod si\"\n",
      "Found entity \"Quod\" in context \"neque populi Romani gratiam repudiaturum. Quod si furore atque amentia\"\n",
      "Found entity \"Aut\" in context \"bellum intulisset, quid tandem vererentur? Aut cur de sua virtute\"\n",
      "Found entity \"Factum\" in context \"aut de ipsius diligentia desperarent? Factum eius hostis periculum patrum\"\n",
      "Found entity \"Cimbris\" in context \"hostis periculum patrum nostrorum memoria Cimbris et Teutonis a C.\"\n",
      "Found entity \"Teutonis\" in context \"patrum nostrorum memoria Cimbris et Teutonis a C. Mario pulsis\"\n",
      "Found entity \"C.\" in context \"memoria Cimbris et Teutonis a C. Mario pulsis [cum non\"\n",
      "Found entity \"Mario\" in context \"Cimbris et Teutonis a C. Mario pulsis [cum non minorem\"\n",
      "Found entity \"Italia\" in context \"videbatur]; factum etiam nuper in Italia servili tumultu, quos tamen\"\n",
      "Found entity \"Ex\" in context \"quam a nobis accepissent, sublevarint. Ex quo iudicari posse quantum\"\n",
      "Found entity \"Denique\" in context \"postea armatos ac victores superassent. Denique hos esse eosdem Germanos\"\n",
      "Found entity \"Germanos\" in context \"superassent. Denique hos esse eosdem Germanos quibuscum saepe numero Helvetii\"\n",
      "Found entity \"Helvetii\" in context \"eosdem Germanos quibuscum saepe numero Helvetii congressi non solum in\"\n",
      "Found entity \"Si\" in context \"esse nostro exercitui non potuerint. Si quos adversum proelium et\"\n",
      "Found entity \"Gallorum\" in context \"quos adversum proelium et fuga Gallorum commoveret, hos, si quaererent,\"\n",
      "Found entity \"Gallis\" in context \"reperire posse diuturnitate belli defatigatis Gallis Ariovistum, cum multos menses\"\n",
      "Found entity \"Ariovistum,\" in context \"posse diuturnitate belli defatigatis Gallis Ariovistum, cum multos menses castris\"\n",
      "Found entity \"Cui\" in context \"et consilio quam virtute vicisse. Cui rationi contra homines barbaros\"\n",
      "Found entity \"Qui\" in context \"sperare nostros exercitus capi posse. Qui suum timorem in rei\"\n",
      "Found entity \"Haec\" in context \"imperatoris desperare aut praescribere viderentur. Haec sibi esse curae; frumentum\"\n",
      "Found entity \"Sequanos,\" in context \"Haec sibi esse curae; frumentum Sequanos, Leucos, Lingones subministrare, iamque\"\n",
      "Found entity \"Leucos,\" in context \"sibi esse curae; frumentum Sequanos, Leucos, Lingones subministrare, iamque esse\"\n",
      "Found entity \"Lingones\" in context \"esse curae; frumentum Sequanos, Leucos, Lingones subministrare, iamque esse in\"\n",
      "Found entity \"Quod\" in context \"itinere ipsos brevi tempore iudicaturos. Quod non fore dicto audientes\"\n",
      "Found entity \"Suam\" in context \"facinore comperto avaritiam esse convictam. Suam innocentiam perpetua vita, felicitatem\"\n",
      "Found entity \"Helvetiorum\" in context \"Suam innocentiam perpetua vita, felicitatem Helvetiorum bello esse perspectam. Itaque\"\n",
      "Found entity \"Itaque\" in context \"felicitatem Helvetiorum bello esse perspectam. Itaque se quod in longiorem\"\n",
      "Found entity \"Quod\" in context \"officium an timor plus valeret. Quod si praeterea nemo sequatur,\"\n",
      "Found entity \"Huic\" in context \"sibique eam praetoriam cohortem futuram. Huic legioni Caesar et indulserat\"\n",
      "Found entity \"Caesar\" in context \"praetoriam cohortem futuram. Huic legioni Caesar et indulserat praecipue et\"\n",
      "Found entity \"Hac\" in context \"et propter virtutem confidebat maxime. Hac oratione habita mirum in\"\n",
      "Found entity \"X.\" in context \"belli gerendi innata est, princepsque X. legio per tribunos militum\"\n",
      "Found entity \"Deinde\" in context \"ad bellum gerendum paratissimam confirmavit. Deinde reliquae legiones cum tribunis\"\n",
      "Found entity \"Caesari\" in context \"primorum ordinum centurionibus egerunt uti Caesari satis facerent: se neque\"\n",
      "Found entity \"Eorum\" in context \"iudicium sed imperatoris esse existimavisse. Eorum satisfactione accepta et itinere\"\n",
      "Found entity \"Diviciacum,\" in context \"accepta et itinere exquisito per Diviciacum, quod ex Gallis ei\"\n",
      "Found entity \"Gallis\" in context \"exquisito per Diviciacum, quod ex Gallis ei maximam fidem habebat,\"\n",
      "Found entity \"Septimo\" in context \"vigilia, ut dixerat, profectus est. Septimo die, cum iter non\"\n",
      "Found entity \"Ariovisti\" in context \"ab exploratoribus certior factus est Ariovisti copias a nostris milia\"\n",
      "Found entity \"Cognito\" in context \"passuum IIII et XX abesse. Cognito Caesaris adventu Ariovistus legatos\"\n",
      "Found entity \"Caesaris\" in context \"IIII et XX abesse. Cognito Caesaris adventu Ariovistus legatos ad\"\n",
      "Found entity \"Ariovistus\" in context \"XX abesse. Cognito Caesaris adventu Ariovistus legatos ad eum mittit:\"\n",
      "Found entity \"Non\" in context \"sine periculo facere posse existimaret. Non respuit condicionem Caesar iamque\"\n",
      "Found entity \"Caesar\" in context \"posse existimaret. Non respuit condicionem Caesar iamque eum ad sanitatem\"\n",
      "Found entity \"Romani\" in context \"veniebat pro suis tantis populique Romani in eum beneficiis cognitis\"\n",
      "Found entity \"Dies\" in context \"postulatis fore uti pertinacia desisteret. Dies conloquio dictus est ex\"\n",
      "Found entity \"Interim\" in context \"est ex eo die quintus. Interim saepe cum legati ultro\"\n",
      "Found entity \"Ariovistus\" in context \"ultro citroque inter eos mitterentur, Ariovistus postulavit ne quem peditem\"\n",
      "Found entity \"Caesar\" in context \"ne quem peditem ad conloquium Caesar adduceret: vereri se ne\"\n",
      "Found entity \"Caesar,\" in context \"ratione sese non esse venturum. Caesar, quod neque conloquium interposita\"\n",
      "Found entity \"Gallorum\" in context \"tolli volebat neque salutem suam Gallorum equitatui committere audebat, commodissimum\"\n",
      "Found entity \"Gallis\" in context \"commodissimum esse statuit omnibus equis Gallis equitibus detractis eo legionarios\"\n",
      "Found entity \"X.,\" in context \"detractis eo legionarios milites legionis X., cui quam maxime confidebat,\"\n",
      "Found entity \"Quod\" in context \"quid opus facto esset, haberet. Quod cum fieret, non inridicule\"\n",
      "Found entity \"X.\" in context \"non inridicule quidam ex militibus X. legionis dixit: plus quam\"\n",
      "Found entity \"Caesarem\" in context \"dixit: plus quam pollicitus esset Caesarem facere; pollicitum se in\"\n",
      "Found entity \"X.\" in context \"se in cohortis praetoriae loco X. legionem habiturum ad equum\"\n",
      "Found entity \"Planities\" in context \"legionem habiturum ad equum rescribere. Planities erat magna et in\"\n",
      "Found entity \"Hic\" in context \"ea tumulus terrenus satis grandis. Hic locus aequum fere spatium\"\n",
      "Found entity \"Ariovisti\" in context \"aequum fere spatium a castris Ariovisti et Caesaris aberat. Eo,\"\n",
      "Found entity \"Caesaris\" in context \"spatium a castris Ariovisti et Caesaris aberat. Eo, ut erat\"\n",
      "Found entity \"Eo,\" in context \"castris Ariovisti et Caesaris aberat. Eo, ut erat dictum, ad\"\n",
      "Found entity \"Legionem\" in context \"erat dictum, ad conloquium venerunt. Legionem Caesar, quam equis devexerat,\"\n",
      "Found entity \"Caesar,\" in context \"dictum, ad conloquium venerunt. Legionem Caesar, quam equis devexerat, passibus\"\n",
      "Found entity \"Item\" in context \"CC ab eo tumulo constituit. Item equites Ariovisti pari intervallo\"\n",
      "Found entity \"Ariovisti\" in context \"eo tumulo constituit. Item equites Ariovisti pari intervallo constiterunt. Ariovistus\"\n",
      "Found entity \"Ariovistus\" in context \"equites Ariovisti pari intervallo constiterunt. Ariovistus ex equis ut conloquerentur\"\n",
      "Found entity \"Ubi\" in context \"denos ad conloquium adducerent postulavit. Ubi eo ventum est, Caesar\"\n",
      "Found entity \"Caesar\" in context \"postulavit. Ubi eo ventum est, Caesar initio orationis sua senatusque\"\n",
      "Found entity \"Docebat\" in context \"ac senatus ea praemia consecutum. Docebat etiam quam veteres quamque\"\n",
      "Found entity \"Haeduis\" in context \"iustae causae necessitudinis ipsis cum Haeduis intercederent, quae senatus consulta\"\n",
      "Found entity \"Galliae\" in context \"essent, ut omni tempore totius Galliae principatum Haedui tenuissent, prius\"\n",
      "Found entity \"Haedui\" in context \"omni tempore totius Galliae principatum Haedui tenuissent, prius etiam quam\"\n",
      "Found entity \"Populi\" in context \"etiam quam nostram amicitiam adpetissent. Populi Romani hanc esse consuetudinem,\"\n",
      "Found entity \"Romani\" in context \"quam nostram amicitiam adpetissent. Populi Romani hanc esse consuetudinem, ut\"\n",
      "Found entity \"Romani\" in context \"quod vero ad amicitiam populi Romani attulissent, id iis eripi\"\n",
      "Found entity \"Postulavit\" in context \"iis eripi quis pati posset? Postulavit deinde eadem quae legatis\"\n",
      "Found entity \"Haeduis\" in context \"in mandatis dederat: ne aut Haeduis aut eorum sociis bellum\"\n",
      "Found entity \"Germanorum\" in context \"obsides redderet, si nullam partem Germanorum domum remittere posset, at\"\n",
      "Found entity \"Rhenum\" in context \"posset, at ne quos amplius Rhenum transire pateretur. Ariovistus ad\"\n",
      "Found entity \"Ariovistus\" in context \"quos amplius Rhenum transire pateretur. Ariovistus ad postulata Caesaris pauca\"\n",
      "Found entity \"Caesaris\" in context \"transire pateretur. Ariovistus ad postulata Caesaris pauca respondit, de suis\"\n",
      "Found entity \"Rhenum\" in context \"suis virtutibus multa praedicavit: transisse Rhenum sese non sua sponte,\"\n",
      "Found entity \"Gallis;\" in context \"sed rogatum et arcessitum a Gallis; non sine magna spe\"\n",
      "Found entity \"Gallia\" in context \"propinquosque reliquisse; sedes habere in Gallia ab ipsis concessas, obsides\"\n",
      "Found entity \"Non\" in context \"quod victores victis imponere consuerint. Non sese Gallis sed Gallos\"\n",
      "Found entity \"Gallis\" in context \"victis imponere consuerint. Non sese Gallis sed Gallos sibi bellum\"\n",
      "Found entity \"Gallos\" in context \"consuerint. Non sese Gallis sed Gallos sibi bellum intulisse: omnes\"\n",
      "Found entity \"Galliae\" in context \"Gallos sibi bellum intulisse: omnes Galliae civitates ad se oppugnandum\"\n",
      "Found entity \"Si\" in context \"proelio pulsas ac superatas esse. Si iterum experiri velint, se\"\n",
      "Found entity \"Amicitiam\" in context \"voluntate ad id tempus pependerint. Amicitiam populi Romani sibi ornamento\"\n",
      "Found entity \"Romani\" in context \"id tempus pependerint. Amicitiam populi Romani sibi ornamento et praesidio,\"\n",
      "Found entity \"Si\" in context \"atque se hac spe petisse. Si per populum Romanum stipendium\"\n",
      "Found entity \"Romanum\" in context \"spe petisse. Si per populum Romanum stipendium remittatur et dediticii\"\n",
      "Found entity \"Romani\" in context \"minus libenter sese recusaturum populi Romani amicitiam quam adpetierit. Quod\"\n",
      "Found entity \"Quod\" in context \"populi Romani amicitiam quam adpetierit. Quod multitudinem Germanorum in Galliam\"\n",
      "Found entity \"Germanorum\" in context \"amicitiam quam adpetierit. Quod multitudinem Germanorum in Galliam traducat, id\"\n",
      "Found entity \"Galliam\" in context \"adpetierit. Quod multitudinem Germanorum in Galliam traducat, id se sui\"\n",
      "Found entity \"Galliae\" in context \"id se sui muniendi, non Galliae oppugnandae causa facere; eius\"\n",
      "Found entity \"Se\" in context \"bellum non intulerit sed defenderit. Se prius in Galliam venisse\"\n",
      "Found entity \"Galliam\" in context \"sed defenderit. Se prius in Galliam venisse quam populum Romanum.\"\n",
      "Found entity \"Romanum.\" in context \"in Galliam venisse quam populum Romanum. Numquam ante hoc tempus\"\n",
      "Found entity \"Numquam\" in context \"Galliam venisse quam populum Romanum. Numquam ante hoc tempus exercitum\"\n",
      "Found entity \"Romani\" in context \"ante hoc tempus exercitum populi Romani Galliae provinciae finibus egressum.\"\n",
      "Found entity \"Galliae\" in context \"hoc tempus exercitum populi Romani Galliae provinciae finibus egressum. Quid\"\n",
      "Found entity \"Quid\" in context \"Romani Galliae provinciae finibus egressum. Quid sibi vellet? Cur in\"\n",
      "Found entity \"Cur\" in context \"finibus egressum. Quid sibi vellet? Cur in suas possessiones veniret?\"\n",
      "Found entity \"Provinciam\" in context \"Cur in suas possessiones veniret? Provinciam suam hanc esse Galliam,\"\n",
      "Found entity \"Galliam,\" in context \"veniret? Provinciam suam hanc esse Galliam, sicut illam nostram. Ut\"\n",
      "Found entity \"Ut\" in context \"esse Galliam, sicut illam nostram. Ut ipsi concedi non oporteret,\"\n",
      "Found entity \"Quod\" in context \"in suo iure se interpellaremus. Quod fratres a senatu Haeduos\"\n",
      "Found entity \"Haeduos\" in context \"interpellaremus. Quod fratres a senatu Haeduos appellatos diceret, non se\"\n",
      "Found entity \"Allobrogum\" in context \"ut non sciret neque bello Allobrogum proximo Haeduos Romanis auxilium\"\n",
      "Found entity \"Haeduos\" in context \"sciret neque bello Allobrogum proximo Haeduos Romanis auxilium tulisse neque\"\n",
      "Found entity \"Romanis\" in context \"neque bello Allobrogum proximo Haeduos Romanis auxilium tulisse neque ipsos\"\n",
      "Found entity \"Haedui\" in context \"ipsos in iis contentionibus quas Haedui secum et cum Sequanis\"\n",
      "Found entity \"Sequanis\" in context \"quas Haedui secum et cum Sequanis habuissent auxilio populi Romani\"\n",
      "Found entity \"Romani\" in context \"cum Sequanis habuissent auxilio populi Romani usos esse. Debere se\"\n",
      "Found entity \"Debere\" in context \"auxilio populi Romani usos esse. Debere se suspicari simulata Caesarem\"\n",
      "Found entity \"Caesarem\" in context \"esse. Debere se suspicari simulata Caesarem amicitia, quod exercitum in\"\n",
      "Found entity \"Gallia\" in context \"Caesarem amicitia, quod exercitum in Gallia habeat, sui opprimendi causa\"\n",
      "Found entity \"Qui\" in context \"habeat, sui opprimendi causa habere. Qui nisi decedat atque exercitum\"\n",
      "Found entity \"Quod\" in context \"amico sed pro hoste habiturum. Quod si eum interfecerit, multis\"\n",
      "Found entity \"Romani\" in context \"multis sese nobilibus principibusque populi Romani gratum esse facturum (id\"\n",
      "Found entity \"Quod\" in context \"amicitiam eius morte redimere posset. Quod si decessisset et liberam\"\n",
      "Found entity \"Galliae\" in context \"si decessisset et liberam possessionem Galliae sibi tradidisset, magno se\"\n",
      "Found entity \"Multa\" in context \"eius labore et periculo confecturum. Multa a Caesare in eam\"\n",
      "Found entity \"Caesare\" in context \"et periculo confecturum. Multa a Caesare in eam sententiam dicta\"\n",
      "Found entity \"Romani\" in context \"posset: neque suam neque populi Romani consuetudinem pati ut optime\"\n",
      "Found entity \"Galliam\" in context \"socios desereret, neque se iudicare Galliam potius esse Ariovisti quam\"\n",
      "Found entity \"Ariovisti\" in context \"se iudicare Galliam potius esse Ariovisti quam populi Romani. Bello\"\n",
      "Found entity \"Romani.\" in context \"potius esse Ariovisti quam populi Romani. Bello superatos esse Arvernos\"\n",
      "Found entity \"Bello\" in context \"esse Ariovisti quam populi Romani. Bello superatos esse Arvernos et\"\n",
      "Found entity \"Arvernos\" in context \"populi Romani. Bello superatos esse Arvernos et Rutenos a Q.\"\n",
      "Found entity \"Rutenos\" in context \"Bello superatos esse Arvernos et Rutenos a Q. Fabio Maximo,\"\n",
      "Found entity \"Q.\" in context \"esse Arvernos et Rutenos a Q. Fabio Maximo, quibus populus\"\n",
      "Found entity \"Fabio\" in context \"Arvernos et Rutenos a Q. Fabio Maximo, quibus populus Romanus\"\n",
      "Found entity \"Maximo,\" in context \"et Rutenos a Q. Fabio Maximo, quibus populus Romanus ignovisset\"\n",
      "Found entity \"Romanus\" in context \"Q. Fabio Maximo, quibus populus Romanus ignovisset neque in provinciam\"\n",
      "Found entity \"Quod\" in context \"provinciam redegisset neque stipendium posuisset. Quod si antiquissimum quodque tempus\"\n",
      "Found entity \"Romani\" in context \"quodque tempus spectari oporteret, populi Romani iustissimum esse in Gallia\"\n",
      "Found entity \"Gallia\" in context \"populi Romani iustissimum esse in Gallia imperium; si iudicium senatus\"\n",
      "Found entity \"Galliam,\" in context \"observari oporteret, liberam debere esse Galliam, quam bello victam suis\"\n",
      "Found entity \"Dum\" in context \"victam suis legibus uti voluisset. Dum haec in conloquio geruntur,\"\n",
      "Found entity \"Caesari\" in context \"Dum haec in conloquio geruntur, Caesari nuntiatum est equites Ariovisti\"\n",
      "Found entity \"Ariovisti\" in context \"geruntur, Caesari nuntiatum est equites Ariovisti propius tumulum accedere et\"\n",
      "Found entity \"Caesar\" in context \"lapides telaque in nostros coicere. Caesar loquendi finem fecit seque\"\n",
      "Found entity \"Nam\" in context \"omnino telum in hostes reicerent. Nam etsi sine ullo periculo\"\n",
      "Found entity \"Postea\" in context \"per fidem in conloquio circumventos. Postea quam in vulgus militum\"\n",
      "Found entity \"Ariovistus\" in context \"est qua arrogantia in conloquio Ariovistus usus omni Gallia Romanis\"\n",
      "Found entity \"Gallia\" in context \"in conloquio Ariovistus usus omni Gallia Romanis interdixisset, impetumque in\"\n",
      "Found entity \"Romanis\" in context \"conloquio Ariovistus usus omni Gallia Romanis interdixisset, impetumque in nostros\"\n",
      "Found entity \"Biduo\" in context \"pugnandi maius exercitui iniectum est. Biduo post Ariovistus ad Caesarem\"\n",
      "Found entity \"Ariovistus\" in context \"exercitui iniectum est. Biduo post Ariovistus ad Caesarem legatos misit:\"\n",
      "Found entity \"Caesarem\" in context \"est. Biduo post Ariovistus ad Caesarem legatos misit: velle se\"\n",
      "Found entity \"Conloquendi\" in context \"legatis aliquem ad se mitteret. Conloquendi Caesari causa visa non\"\n",
      "Found entity \"Caesari\" in context \"aliquem ad se mitteret. Conloquendi Caesari causa visa non est,\"\n",
      "Found entity \"Germani\" in context \"magis quod pridie eius diei Germani retineri non potuerant quin\"\n",
      "Found entity \"Legatum\" in context \"quin tela in nostros coicerent. Legatum ex suis sese magno\"\n",
      "Found entity \"Commodissimum\" in context \"et hominibus feris obiecturum existimabat. Commodissimum visum est C. Valerium\"\n",
      "Found entity \"C.\" in context \"obiecturum existimabat. Commodissimum visum est C. Valerium Procillum, C. Valerii\"\n",
      "Found entity \"Valerium\" in context \"existimabat. Commodissimum visum est C. Valerium Procillum, C. Valerii Caburi\"\n",
      "Found entity \"Procillum,\" in context \"Commodissimum visum est C. Valerium Procillum, C. Valerii Caburi filium,\"\n",
      "Found entity \"C.\" in context \"visum est C. Valerium Procillum, C. Valerii Caburi filium, summa\"\n",
      "Found entity \"Valerii\" in context \"est C. Valerium Procillum, C. Valerii Caburi filium, summa virtute\"\n",
      "Found entity \"Caburi\" in context \"C. Valerium Procillum, C. Valerii Caburi filium, summa virtute et\"\n",
      "Found entity \"C.\" in context \"humanitate adulescentem, cuius pater a C. Valerio Flacco civitate donatus\"\n",
      "Found entity \"Valerio\" in context \"adulescentem, cuius pater a C. Valerio Flacco civitate donatus erat,\"\n",
      "Found entity \"Flacco\" in context \"cuius pater a C. Valerio Flacco civitate donatus erat, et\"\n",
      "Found entity \"Gallicae\" in context \"propter fidem et propter linguae Gallicae scientiam, qua multa iam\"\n",
      "Found entity \"Ariovistus\" in context \"Gallicae scientiam, qua multa iam Ariovistus longinqua consuetudine utebatur, et\"\n",
      "Found entity \"Germanis\" in context \"et quod in eo peccandi Germanis causa non esset, ad\"\n",
      "Found entity \"M.\" in context \"ad eum mittere, et una M. Metium, qui hospitio Ariovisti\"\n",
      "Found entity \"Metium,\" in context \"eum mittere, et una M. Metium, qui hospitio Ariovisti utebatur.\"\n",
      "Found entity \"Ariovisti\" in context \"una M. Metium, qui hospitio Ariovisti utebatur. His mandavit quae\"\n",
      "Found entity \"His\" in context \"Metium, qui hospitio Ariovisti utebatur. His mandavit quae diceret Ariovistus\"\n",
      "Found entity \"Ariovistus\" in context \"utebatur. His mandavit quae diceret Ariovistus cognoscerent et ad se\"\n",
      "Found entity \"Quos\" in context \"cognoscerent et ad se referrent. Quos cum apud se in\"\n",
      "Found entity \"Ariovistus\" in context \"cum apud se in castris Ariovistus conspexisset, exercitu suo praesente\"\n",
      "Found entity \"Conantes\" in context \"se venirent? an speculandi causa? Conantes dicere prohibuit et in\"\n",
      "Found entity \"Eodem\" in context \"prohibuit et in catenas coniecit. Eodem die castra promovit et\"\n",
      "Found entity \"Caesaris\" in context \"et milibus passuum VI a Caesaris castris sub monte consedit.\"\n",
      "Found entity \"Postridie\" in context \"Caesaris castris sub monte consedit. Postridie eius diei praeter castra\"\n",
      "Found entity \"Caesaris\" in context \"Postridie eius diei praeter castra Caesaris suas copias traduxit et\"\n",
      "Found entity \"Sequanis\" in context \"uti frumento commeatuque qui ex Sequanis et Haeduis supportaretur Caesarem\"\n",
      "Found entity \"Haeduis\" in context \"commeatuque qui ex Sequanis et Haeduis supportaretur Caesarem intercluderet. Ex\"\n",
      "Found entity \"Caesarem\" in context \"ex Sequanis et Haeduis supportaretur Caesarem intercluderet. Ex eo die\"\n",
      "Found entity \"Ex\" in context \"et Haeduis supportaretur Caesarem intercluderet. Ex eo die dies continuos\"\n",
      "Found entity \"V\" in context \"Ex eo die dies continuos V Caesar pro castris suas\"\n",
      "Found entity \"Caesar\" in context \"eo die dies continuos V Caesar pro castris suas copias\"\n",
      "Found entity \"Ariovistus\" in context \"instructam habuit, ut, si vellet Ariovistus proelio contendere, ei potestas\"\n",
      "Found entity \"Ariovistus\" in context \"contendere, ei potestas non deesset. Ariovistus his omnibus diebus exercitum\"\n",
      "Found entity \"Genus\" in context \"continuit, equestri proelio cotidie contendit. Genus hoc erat pugnae, quo\"\n",
      "Found entity \"Germani\" in context \"hoc erat pugnae, quo se Germani exercuerant: equitum milia erant\"\n",
      "Found entity \"Ubi\" in context \"iubis sublevati equorum cursum adaequarent. Ubi eum castris se tenere\"\n",
      "Found entity \"Caesar\" in context \"Ubi eum castris se tenere Caesar intellexit, ne diutius commeatu\"\n",
      "Found entity \"Germani\" in context \"eum locum, quo in loco Germani consederant, circiter passus DC\"\n",
      "Found entity \"Primam\" in context \"instructa ad eum locum venit. Primam et secundam aciem in\"\n",
      "Found entity \"[Hic\" in context \"esse, tertiam castra munire iussit. [Hic locus ab hoste circiter\"\n",
      "Found entity \"Eo\" in context \"DC, uti dictum est, aberat.] Eo circiter hominum XVI milia\"\n",
      "Found entity \"Ariovistus\" in context \"milia expedita cum omni equitatu Ariovistus misit, quae copiae nostros\"\n",
      "Found entity \"Nihilo\" in context \"nostros terrerent et munitione prohiberent. Nihilo setius Caesar, ut ante\"\n",
      "Found entity \"Caesar,\" in context \"et munitione prohiberent. Nihilo setius Caesar, ut ante constituerat, duas\"\n",
      "Found entity \"Munitis\" in context \"propulsare, tertiam opus perficere iussit. Munitis castris duas ibi legiones\"\n",
      "Found entity \"Proximo\" in context \"legiones in castra maiora reduxit. Proximo die instituto suo Caesar\"\n",
      "Found entity \"Caesar\" in context \"reduxit. Proximo die instituto suo Caesar ex castris utrisque copias\"\n",
      "Found entity \"Ubi\" in context \"instruxit hostibusque pugnandi potestatem fecit. Ubi ne tum quidem eos\"\n",
      "Found entity \"Tum\" in context \"meridiem exercitum in castra reduxit. Tum demum Ariovistus partem suarum\"\n",
      "Found entity \"Ariovistus\" in context \"in castra reduxit. Tum demum Ariovistus partem suarum copiarum, quae\"\n",
      "Found entity \"Acriter\" in context \"quae castra minora oppugnaret, misit. Acriter utrimque usque ad vesperum\"\n",
      "Found entity \"Solis\" in context \"usque ad vesperum pugnatum est. Solis occasu suas copias Ariovistus\"\n",
      "Found entity \"Ariovistus\" in context \"est. Solis occasu suas copias Ariovistus multis et inlatis et\"\n",
      "Found entity \"Cum\" in context \"acceptis vulneribus in castra reduxit. Cum ex captivis quaereret Caesar\"\n",
      "Found entity \"Caesar\" in context \"reduxit. Cum ex captivis quaereret Caesar quam ob rem Ariovistus\"\n",
      "Found entity \"Ariovistus\" in context \"quaereret Caesar quam ob rem Ariovistus proelio non decertaret, hanc\"\n",
      "Found entity \"Germanos\" in context \"hanc reperiebat causam, quod apud Germanos ea consuetudo esset ut\"\n",
      "Found entity \"Germanos\" in context \"ita dicere: non esse fas Germanos superare, si ante novam\"\n",
      "Found entity \"Postridie\" in context \"ante novam lunam proelio contendissent. Postridie eius diei Caesar praesidio\"\n",
      "Found entity \"Caesar\" in context \"proelio contendissent. Postridie eius diei Caesar praesidio utrisque castris quod\"\n",
      "Found entity \"Tum\" in context \"usque ad castra hostium accessit. Tum demum necessario Germani suas\"\n",
      "Found entity \"Germani\" in context \"hostium accessit. Tum demum necessario Germani suas copias castris eduxerunt\"\n",
      "Found entity \"Harudes,\" in context \"eduxerunt generatimque constituerunt paribus intervallis, Harudes, Marcomanos, Tribocos, Vangiones, Nemetes,\"\n",
      "Found entity \"Marcomanos,\" in context \"generatimque constituerunt paribus intervallis, Harudes, Marcomanos, Tribocos, Vangiones, Nemetes, Sedusios,\"\n",
      "Found entity \"Tribocos,\" in context \"constituerunt paribus intervallis, Harudes, Marcomanos, Tribocos, Vangiones, Nemetes, Sedusios, Suebos,\"\n",
      "Found entity \"Vangiones,\" in context \"paribus intervallis, Harudes, Marcomanos, Tribocos, Vangiones, Nemetes, Sedusios, Suebos, omnemque\"\n",
      "Found entity \"Nemetes,\" in context \"intervallis, Harudes, Marcomanos, Tribocos, Vangiones, Nemetes, Sedusios, Suebos, omnemque aciem\"\n",
      "Found entity \"Sedusios,\" in context \"Harudes, Marcomanos, Tribocos, Vangiones, Nemetes, Sedusios, Suebos, omnemque aciem suam\"\n",
      "Found entity \"Suebos,\" in context \"Marcomanos, Tribocos, Vangiones, Nemetes, Sedusios, Suebos, omnemque aciem suam raedis\"\n",
      "Found entity \"Eo\" in context \"qua spes in fuga relinqueretur. Eo mulieres imposuerunt, quae ad\"\n",
      "Found entity \"Romanis\" in context \"implorabant ne se in servitutem Romanis traderent. Caesar singulis legionibus\"\n",
      "Found entity \"Caesar\" in context \"se in servitutem Romanis traderent. Caesar singulis legionibus singulos legatos\"\n",
      "Found entity \"Ita\" in context \"hostium esse animadverterat, proelium commisit. Ita nostri acriter in hostes\"\n",
      "Found entity \"Relictis\" in context \"in hostes coiciendi non daretur. Relictis pilis comminus gladiis pugnatum\"\n",
      "Found entity \"At\" in context \"pilis comminus gladiis pugnatum est. At Germani celeriter ex consuetudine\"\n",
      "Found entity \"Germani\" in context \"comminus gladiis pugnatum est. At Germani celeriter ex consuetudine sua\"\n",
      "Found entity \"Reperti\" in context \"phalange facta impetus gladiorum exceperunt. Reperti sunt complures nostri qui\"\n",
      "Found entity \"Cum\" in context \"manibus revellerent et desuper vulnerarent. Cum hostium acies a sinistro\"\n",
      "Found entity \"Id\" in context \"multitudine suorum nostram aciem premebant. Id cum animadvertisset P. Crassus\"\n",
      "Found entity \"P.\" in context \"aciem premebant. Id cum animadvertisset P. Crassus adulescens, qui equitatui\"\n",
      "Found entity \"Crassus\" in context \"premebant. Id cum animadvertisset P. Crassus adulescens, qui equitatui praeerat,\"\n",
      "Found entity \"Ita\" in context \"aciem laborantibus nostris subsidio misit. Ita proelium restitutum est, atque\"\n",
      "Found entity \"Rhenum\" in context \"fugere destiterunt quam ad flumen Rhenum milia passuum ex eo\"\n",
      "Found entity \"L\" in context \"passuum ex eo loco circiter L pervenerunt. Ibi perpauci aut\"\n",
      "Found entity \"Ibi\" in context \"eo loco circiter L pervenerunt. Ibi perpauci aut viribus confisi\"\n",
      "Found entity \"In\" in context \"lintribus inventis sibi salutem reppererunt. In his fuit Ariovistus, qui\"\n",
      "Found entity \"Ariovistus,\" in context \"salutem reppererunt. In his fuit Ariovistus, qui naviculam deligatam ad\"\n",
      "Found entity \"Duae\" in context \"omnes consecuti equites nostri interfecerunt. Duae fuerunt Ariovisti uxores, una\"\n",
      "Found entity \"Ariovisti\" in context \"equites nostri interfecerunt. Duae fuerunt Ariovisti uxores, una Sueba natione,\"\n",
      "Found entity \"Sueba\" in context \"Duae fuerunt Ariovisti uxores, una Sueba natione, quam domo secum\"\n",
      "Found entity \"Norica,\" in context \"quam domo secum eduxerat, altera Norica, regis Voccionis soror, quam\"\n",
      "Found entity \"Voccionis\" in context \"secum eduxerat, altera Norica, regis Voccionis soror, quam in Gallia\"\n",
      "Found entity \"Gallia\" in context \"regis Voccionis soror, quam in Gallia duxerat a fratre missam:\"\n",
      "Found entity \"C.\" in context \"altera occisa, altera capta est. C. Valerius Procillus, cum a\"\n",
      "Found entity \"Valerius\" in context \"occisa, altera capta est. C. Valerius Procillus, cum a custodibus\"\n",
      "Found entity \"Procillus,\" in context \"altera capta est. C. Valerius Procillus, cum a custodibus in\"\n",
      "Found entity \"Caesarem\" in context \"catenis vinctus traheretur, in ipsum Caesarem hostes equitatu insequentem incidit.\"\n",
      "Found entity \"Quae\" in context \"Caesarem hostes equitatu insequentem incidit. Quae quidem res Caesari non\"\n",
      "Found entity \"Caesari\" in context \"insequentem incidit. Quae quidem res Caesari non minorem quam ipsa\"\n",
      "Found entity \"Galliae,\" in context \"attulit, quod hominem honestissimum provinciae Galliae, suum familiarem et hospitem,\"\n",
      "Found entity \"Is\" in context \"et gratulatione quicquam fortuna deminuerat. Is se praesente de se\"\n",
      "Found entity \"Item\" in context \"sortium beneficio se esse incolumem. Item M. Metius repertus et\"\n",
      "Found entity \"M.\" in context \"beneficio se esse incolumem. Item M. Metius repertus et ad\"\n",
      "Found entity \"Metius\" in context \"se esse incolumem. Item M. Metius repertus et ad eum\"\n",
      "Found entity \"Hoc\" in context \"et ad eum reductus est. Hoc proelio trans Rhenum nuntiato,\"\n",
      "Found entity \"Rhenum\" in context \"reductus est. Hoc proelio trans Rhenum nuntiato, Suebi, qui ad\"\n",
      "Found entity \"Suebi,\" in context \"Hoc proelio trans Rhenum nuntiato, Suebi, qui ad ripas Rheni\"\n",
      "Found entity \"Rheni\" in context \"nuntiato, Suebi, qui ad ripas Rheni venerant, domum reverti coeperunt;\"\n",
      "Found entity \"Rhenum\" in context \"coeperunt; quos ubi qui proximi Rhenum incolunt perterritos senserunt, insecuti\"\n",
      "Found entity \"Caesar\" in context \"magnum ex iis numerum occiderunt. Caesar una aestate duobus maximis\"\n",
      "Found entity \"Sequanos\" in context \"anni postulabat in hiberna in Sequanos exercitum deduxit; hibernis Labienum\"\n",
      "Found entity \"Labienum\" in context \"in Sequanos exercitum deduxit; hibernis Labienum praeposuit; ipse in citeriorem\"\n",
      "Found entity \"Galliam\" in context \"Labienum praeposuit; ipse in citeriorem Galliam ad conventus agendos profectus\"\n"
     ]
    }
   ],
   "source": [
    "tagged_text_baseline = extract_baseline(de_bello_gallico_book1)"
   ]
  },
  {
   "cell_type": "code",
   "execution_count": 24,
   "metadata": {
    "collapsed": false,
    "deletable": true,
    "editable": true
   },
   "outputs": [
    {
     "data": {
      "text/plain": [
       "[('Gallia', 'Entity'),\n",
       " ('Belgae,', 'Entity'),\n",
       " ('Aquitani,', 'Entity'),\n",
       " ('Celtae,', 'Entity'),\n",
       " ('Galli', 'Entity'),\n",
       " ('Hi', 'Entity'),\n",
       " ('Gallos', 'Entity'),\n",
       " ('Aquitanis', 'Entity'),\n",
       " ('Garumna', 'Entity'),\n",
       " ('Belgis', 'Entity'),\n",
       " ('Matrona', 'Entity'),\n",
       " ('Sequana', 'Entity'),\n",
       " ('Horum', 'Entity'),\n",
       " ('Belgae,', 'Entity'),\n",
       " ('Germanis,', 'Entity'),\n",
       " ('Rhenum', 'Entity'),\n",
       " ('Qua', 'Entity'),\n",
       " ('Helvetii', 'Entity'),\n",
       " ('Gallos', 'Entity'),\n",
       " ('Germanis', 'Entity'),\n",
       " ('[Eorum', 'Entity'),\n",
       " ('Gallos', 'Entity'),\n",
       " ('Rhodano,', 'Entity'),\n",
       " ('Garumna', 'Entity'),\n",
       " ('Oceano,', 'Entity'),\n",
       " ('Belgarum,', 'Entity'),\n",
       " ('Sequanis', 'Entity'),\n",
       " ('Helvetiis', 'Entity'),\n",
       " ('Rhenum,', 'Entity'),\n",
       " ('Belgae', 'Entity'),\n",
       " ('Galliae', 'Entity'),\n",
       " ('Rheni,', 'Entity'),\n",
       " ('Aquitania', 'Entity'),\n",
       " ('Garumna', 'Entity'),\n",
       " ('Pyrenaeos', 'Entity'),\n",
       " ('Oceani', 'Entity'),\n",
       " ('Hispaniam', 'Entity'),\n",
       " ('Apud', 'Entity'),\n",
       " ('Helvetios', 'Entity'),\n",
       " ('Orgetorix.', 'Entity'),\n",
       " ('Is', 'Entity'),\n",
       " ('M.', 'Entity'),\n",
       " ('Messala,', 'Entity'),\n",
       " ('P.]', 'Entity'),\n",
       " ('M.', 'Entity'),\n",
       " ('Pisone', 'Entity'),\n",
       " ('Galliae', 'Entity'),\n",
       " ('Id', 'Entity'),\n",
       " ('Helvetii', 'Entity'),\n",
       " ('Rheno', 'Entity'),\n",
       " ('Helvetium', 'Entity'),\n",
       " ('Germanis', 'Entity'),\n",
       " ('Iura', 'Entity'),\n",
       " ('Sequanos', 'Entity'),\n",
       " ('Helvetios;', 'Entity'),\n",
       " ('Lemanno', 'Entity'),\n",
       " ('Rhodano,', 'Entity'),\n",
       " ('Helvetiis', 'Entity'),\n",
       " ('His', 'Entity'),\n",
       " ('Pro', 'Entity'),\n",
       " ('His', 'Entity'),\n",
       " ('Orgetorigis', 'Entity'),\n",
       " ('Ad', 'Entity'),\n",
       " ('Ad', 'Entity'),\n",
       " ('Orgetorix', 'Entity'),\n",
       " ('Is', 'Entity'),\n",
       " ('In', 'Entity'),\n",
       " ('Castico,', 'Entity'),\n",
       " ('Catamantaloedis', 'Entity'),\n",
       " ('Sequano,', 'Entity'),\n",
       " ('Sequanis', 'Entity'),\n",
       " ('Romani', 'Entity'),\n",
       " ('Dumnorigi', 'Entity'),\n",
       " ('Haeduo,', 'Entity'),\n",
       " ('Diviciaci,', 'Entity'),\n",
       " ('Perfacile', 'Entity'),\n",
       " ('Galliae', 'Entity'),\n",
       " ('Helvetii', 'Entity'),\n",
       " ('Hac', 'Entity'),\n",
       " ('Galliae', 'Entity'),\n",
       " ('Ea', 'Entity'),\n",
       " ('Helvetiis', 'Entity'),\n",
       " ('Moribus', 'Entity'),\n",
       " ('Orgetoricem', 'Entity'),\n",
       " ('Die', 'Entity'),\n",
       " ('Orgetorix', 'Entity'),\n",
       " ('Cum', 'Entity'),\n",
       " ('Orgetorix', 'Entity'),\n",
       " ('Helvetii', 'Entity'),\n",
       " ('Post', 'Entity'),\n",
       " ('Helvetii', 'Entity'),\n",
       " ('Ubi', 'Entity'),\n",
       " ('Persuadent', 'Entity'),\n",
       " ('Rauracis', 'Entity'),\n",
       " ('Tulingis', 'Entity'),\n",
       " ('Latobrigis', 'Entity'),\n",
       " ('Boiosque,', 'Entity'),\n",
       " ('Rhenum', 'Entity'),\n",
       " ('Noricum', 'Entity'),\n",
       " ('Noreiamque', 'Entity'),\n",
       " ('Erant', 'Entity'),\n",
       " ('Sequanos,', 'Entity'),\n",
       " ('Iuram', 'Entity'),\n",
       " ('Rhodanum,', 'Entity'),\n",
       " ('Helvetiorum', 'Entity'),\n",
       " ('Allobrogum,', 'Entity'),\n",
       " ('Rhodanus', 'Entity'),\n",
       " ('Extremum', 'Entity'),\n",
       " ('Allobrogum', 'Entity'),\n",
       " ('Helvetiorum', 'Entity'),\n",
       " ('Genava.', 'Entity'),\n",
       " ('Ex', 'Entity'),\n",
       " ('Helvetios', 'Entity'),\n",
       " ('Allobrogibus', 'Entity'),\n",
       " ('Romanum', 'Entity'),\n",
       " ('Omnibus', 'Entity'),\n",
       " ('Rhodani', 'Entity'),\n",
       " ('V.', 'Entity'),\n",
       " ('Kal.', 'Entity'),\n",
       " ('Apr.', 'Entity'),\n",
       " ('L.', 'Entity'),\n",
       " ('Pisone,', 'Entity'),\n",
       " ('A.', 'Entity'),\n",
       " ('Gabinio', 'Entity'),\n",
       " ('Caesari', 'Entity'),\n",
       " ('Galliam', 'Entity'),\n",
       " ('Genavam', 'Entity'),\n",
       " ('Provinciae', 'Entity'),\n",
       " ('Gallia', 'Entity'),\n",
       " ('Genavam,', 'Entity'),\n",
       " ('Ubi', 'Entity'),\n",
       " ('Helvetii', 'Entity'),\n",
       " ('Nammeius', 'Entity'),\n",
       " ('Verucloetius', 'Entity'),\n",
       " ('Caesar,', 'Entity'),\n",
       " ('L.', 'Entity'),\n",
       " ('Cassium', 'Entity'),\n",
       " ('Helvetiis', 'Entity'),\n",
       " ('Tamen,', 'Entity'),\n",
       " ('Id.', 'Entity'),\n",
       " ('April.', 'Entity'),\n",
       " ('Interea', 'Entity'),\n",
       " ('Lemanno,', 'Entity'),\n",
       " ('Rhodanum', 'Entity'),\n",
       " ('Iuram,', 'Entity'),\n",
       " ('Sequanorum', 'Entity'),\n",
       " ('Helvetiis', 'Entity'),\n",
       " ('Eo', 'Entity'),\n",
       " ('Ubi', 'Entity'),\n",
       " ('Romani', 'Entity')]"
      ]
     },
     "execution_count": 24,
     "metadata": {},
     "output_type": "execute_result"
    }
   ],
   "source": [
    "tagged_text_baseline[:150]"
   ]
  },
  {
   "cell_type": "markdown",
   "metadata": {
    "deletable": true,
    "editable": true
   },
   "source": [
    "# NER with CLTK"
   ]
  },
  {
   "cell_type": "markdown",
   "metadata": {
    "deletable": true,
    "editable": true
   },
   "source": [
    "The CLTK library has some basic support for the extraction of named entities from Latin and Greek texts (see [CLTK's documentation](http://docs.cltk.org/en/latest/latin.html#named-entity-recognition)).\n",
    "\n",
    "The current implementation (as of version 0.1.47) uses a lookup-based method.\n",
    "\n",
    "For each token in a text, the tagger checks whether that token is contained within a predefined list of possible named entities:\n",
    "- list of Latin proper nouns: <https://github.com/cltk/latin_proper_names_cltk>\n",
    "- list of Greek proper nouns: <https://github.com/cltk/greek_proper_names_cltk>"
   ]
  },
  {
   "cell_type": "markdown",
   "metadata": {
    "deletable": true,
    "editable": true
   },
   "source": [
    "Let's run CLTK's tagger (it takes a moment):"
   ]
  },
  {
   "cell_type": "code",
   "execution_count": 25,
   "metadata": {
    "collapsed": false,
    "deletable": true,
    "editable": true
   },
   "outputs": [
    {
     "name": "stdout",
     "output_type": "stream",
     "text": [
      "CPU times: user 14.2 s, sys: 0 ns, total: 14.2 s\n",
      "Wall time: 14.2 s\n"
     ]
    }
   ],
   "source": [
    "%%time\n",
    "tagged_text_cltk = tag_ner('latin', input_text=de_bello_gallico_book1)"
   ]
  },
  {
   "cell_type": "markdown",
   "metadata": {
    "deletable": true,
    "editable": true
   },
   "source": [
    "Let's have a look at the ouput, only the first 10 tokens (by using the list slicing notation):"
   ]
  },
  {
   "cell_type": "code",
   "execution_count": 26,
   "metadata": {
    "collapsed": false,
    "deletable": true,
    "editable": true
   },
   "outputs": [
    {
     "data": {
      "text/plain": [
       "[('COMMENTARIUS',),\n",
       " ('PRIMUS',),\n",
       " ('Gallia', 'Entity'),\n",
       " ('est',),\n",
       " ('omnis',),\n",
       " ('divisa',),\n",
       " ('in',),\n",
       " ('partes',),\n",
       " ('tres',),\n",
       " (',',)]"
      ]
     },
     "execution_count": 26,
     "metadata": {},
     "output_type": "execute_result"
    }
   ],
   "source": [
    "tagged_text_cltk[:10]"
   ]
  },
  {
   "cell_type": "markdown",
   "metadata": {
    "deletable": true,
    "editable": true
   },
   "source": [
    "The output looks slightly different from the one of our baseline function (the size of the tuples in the list varies). \n",
    "\n",
    "But we can write a function to fix this, we call it `reshape_cltk_output`:"
   ]
  },
  {
   "cell_type": "code",
   "execution_count": 27,
   "metadata": {
    "collapsed": false,
    "deletable": true,
    "editable": true
   },
   "outputs": [],
   "source": [
    "def reshape_cltk_output(tagged_tokens):\n",
    "    reshaped_output = []\n",
    "    for tagged_token in tagged_tokens:\n",
    "        if(len(tagged_token)==1):\n",
    "            continue\n",
    "            #reshaped_output.append((tagged_token[0], \"O\"))\n",
    "        else:\n",
    "            reshaped_output.append((tagged_token[0], tagged_token[1]))\n",
    "    return reshaped_output"
   ]
  },
  {
   "cell_type": "markdown",
   "metadata": {
    "deletable": true,
    "editable": true
   },
   "source": [
    "We apply this function to CLTK's output:"
   ]
  },
  {
   "cell_type": "code",
   "execution_count": 28,
   "metadata": {
    "collapsed": false,
    "deletable": true,
    "editable": true
   },
   "outputs": [],
   "source": [
    "tagged_text_cltk = reshape_cltk_output(tagged_text_cltk)"
   ]
  },
  {
   "cell_type": "markdown",
   "metadata": {
    "deletable": true,
    "editable": true
   },
   "source": [
    "And the resulting output looks now ok:"
   ]
  },
  {
   "cell_type": "code",
   "execution_count": 29,
   "metadata": {
    "collapsed": false,
    "deletable": true,
    "editable": true,
    "scrolled": true
   },
   "outputs": [
    {
     "data": {
      "text/plain": [
       "[('Gallia', 'Entity'),\n",
       " ('Belgae', 'Entity'),\n",
       " ('Aquitani', 'Entity'),\n",
       " ('Celtae', 'Entity'),\n",
       " ('Galli', 'Entity'),\n",
       " ('Hi', 'Entity'),\n",
       " ('Gallos', 'Entity'),\n",
       " ('Aquitanis', 'Entity'),\n",
       " ('Belgis', 'Entity'),\n",
       " ('Matrona', 'Entity'),\n",
       " ('Sequana', 'Entity'),\n",
       " ('Belgae', 'Entity'),\n",
       " ('Germanis', 'Entity'),\n",
       " ('Rhenum', 'Entity'),\n",
       " ('Gallos', 'Entity'),\n",
       " ('Germanis', 'Entity'),\n",
       " ('Eorum', 'Entity'),\n",
       " ('Gallos', 'Entity'),\n",
       " ('Rhodano', 'Entity'),\n",
       " ('Oceano', 'Entity')]"
      ]
     },
     "execution_count": 29,
     "metadata": {},
     "output_type": "execute_result"
    }
   ],
   "source": [
    "tagged_text_cltk[:20]"
   ]
  },
  {
   "cell_type": "markdown",
   "metadata": {
    "deletable": true,
    "editable": true
   },
   "source": [
    "Now let's compare the two list of tagged tokens by using a python function called `zip`, which allows us to read multiple lists simultaneously:"
   ]
  },
  {
   "cell_type": "code",
   "execution_count": 30,
   "metadata": {
    "collapsed": false,
    "deletable": true,
    "editable": true
   },
   "outputs": [
    {
     "data": {
      "text/plain": [
       "[(('Gallia', 'Entity'), ('Gallia', 'Entity')),\n",
       " (('Belgae,', 'Entity'), ('Belgae', 'Entity')),\n",
       " (('Aquitani,', 'Entity'), ('Aquitani', 'Entity')),\n",
       " (('Celtae,', 'Entity'), ('Celtae', 'Entity')),\n",
       " (('Galli', 'Entity'), ('Galli', 'Entity')),\n",
       " (('Hi', 'Entity'), ('Hi', 'Entity')),\n",
       " (('Gallos', 'Entity'), ('Gallos', 'Entity')),\n",
       " (('Aquitanis', 'Entity'), ('Aquitanis', 'Entity')),\n",
       " (('Garumna', 'Entity'), ('Belgis', 'Entity')),\n",
       " (('Belgis', 'Entity'), ('Matrona', 'Entity')),\n",
       " (('Matrona', 'Entity'), ('Sequana', 'Entity')),\n",
       " (('Sequana', 'Entity'), ('Belgae', 'Entity')),\n",
       " (('Horum', 'Entity'), ('Germanis', 'Entity')),\n",
       " (('Belgae,', 'Entity'), ('Rhenum', 'Entity')),\n",
       " (('Germanis,', 'Entity'), ('Gallos', 'Entity')),\n",
       " (('Rhenum', 'Entity'), ('Germanis', 'Entity')),\n",
       " (('Qua', 'Entity'), ('Eorum', 'Entity')),\n",
       " (('Helvetii', 'Entity'), ('Gallos', 'Entity')),\n",
       " (('Gallos', 'Entity'), ('Rhodano', 'Entity')),\n",
       " (('Germanis', 'Entity'), ('Oceano', 'Entity'))]"
      ]
     },
     "execution_count": 30,
     "metadata": {},
     "output_type": "execute_result"
    }
   ],
   "source": [
    "list(zip(tagged_text_baseline[:20], tagged_text_cltk[:20]))"
   ]
  },
  {
   "cell_type": "markdown",
   "metadata": {
    "deletable": true,
    "editable": true
   },
   "source": [
    "But, as you can see, the two lists are not aligned.\n",
    "\n",
    "This is due to how the CLTK function tokenises the text. The comma after \"tres\" becomes a token on its own, whereas when we tokenise by white space the comma is attached to \"tres\" (i.e. \"tres,\").\n"
   ]
  },
  {
   "cell_type": "markdown",
   "metadata": {
    "deletable": true,
    "editable": true
   },
   "source": [
    "A solution to this is to pass to the `tag_ner` function the text already tokenised by text."
   ]
  },
  {
   "cell_type": "code",
   "execution_count": 31,
   "metadata": {
    "collapsed": true,
    "deletable": true,
    "editable": true
   },
   "outputs": [],
   "source": [
    "tagged_text_cltk = reshape_cltk_output(tag_ner('latin', input_text=de_bello_gallico_book1.split(\" \")))"
   ]
  },
  {
   "cell_type": "code",
   "execution_count": 32,
   "metadata": {
    "collapsed": false,
    "deletable": true,
    "editable": true,
    "scrolled": true
   },
   "outputs": [
    {
     "data": {
      "text/plain": [
       "[(('Gallia', 'Entity'), ('Gallia', 'Entity')),\n",
       " (('Belgae,', 'Entity'), ('Galli', 'Entity')),\n",
       " (('Aquitani,', 'Entity'), ('Hi', 'Entity')),\n",
       " (('Celtae,', 'Entity'), ('Gallos', 'Entity')),\n",
       " (('Galli', 'Entity'), ('Aquitanis', 'Entity')),\n",
       " (('Hi', 'Entity'), ('Belgis', 'Entity')),\n",
       " (('Gallos', 'Entity'), ('Matrona', 'Entity')),\n",
       " (('Aquitanis', 'Entity'), ('Sequana', 'Entity')),\n",
       " (('Garumna', 'Entity'), ('Rhenum', 'Entity')),\n",
       " (('Belgis', 'Entity'), ('Gallos', 'Entity')),\n",
       " (('Matrona', 'Entity'), ('Germanis', 'Entity')),\n",
       " (('Sequana', 'Entity'), ('Gallos', 'Entity')),\n",
       " (('Horum', 'Entity'), ('Sequanis', 'Entity')),\n",
       " (('Belgae,', 'Entity'), ('Belgae', 'Entity')),\n",
       " (('Germanis,', 'Entity'), ('Galliae', 'Entity')),\n",
       " (('Rhenum', 'Entity'), ('Aquitania', 'Entity')),\n",
       " (('Qua', 'Entity'), ('Pyrenaeos', 'Entity')),\n",
       " (('Helvetii', 'Entity'), ('Oceani', 'Entity')),\n",
       " (('Gallos', 'Entity'), ('Hispaniam', 'Entity')),\n",
       " (('Germanis', 'Entity'), ('Is', 'Entity'))]"
      ]
     },
     "execution_count": 32,
     "metadata": {},
     "output_type": "execute_result"
    }
   ],
   "source": [
    "list(zip(tagged_text_baseline[:20], tagged_text_cltk[:20]))"
   ]
  },
  {
   "cell_type": "markdown",
   "metadata": {
    "deletable": true,
    "editable": true
   },
   "source": [
    "# NER with NLTK"
   ]
  },
  {
   "cell_type": "code",
   "execution_count": 33,
   "metadata": {
    "collapsed": true,
    "deletable": true,
    "editable": true
   },
   "outputs": [],
   "source": [
    "stanford_model_italian = \"/opt/nlp/stanford-tools/stanford-ner-2015-12-09/classifiers/ner-ita-nogpe-noiob_gaz_wikipedia_sloppy.ser.gz\""
   ]
  },
  {
   "cell_type": "code",
   "execution_count": 34,
   "metadata": {
    "collapsed": false,
    "deletable": true,
    "editable": true
   },
   "outputs": [],
   "source": [
    "ner_tagger = StanfordNERTagger(stanford_model_italian)"
   ]
  },
  {
   "cell_type": "code",
   "execution_count": 35,
   "metadata": {
    "collapsed": false,
    "deletable": true,
    "editable": true
   },
   "outputs": [],
   "source": [
    "tagged_text_nltk = ner_tagger.tag(de_bello_gallico_book1.split(\" \"))"
   ]
  },
  {
   "cell_type": "markdown",
   "metadata": {
    "deletable": true,
    "editable": true
   },
   "source": [
    "Let's have a look at the output"
   ]
  },
  {
   "cell_type": "code",
   "execution_count": 36,
   "metadata": {
    "collapsed": false,
    "deletable": true,
    "editable": true
   },
   "outputs": [
    {
     "data": {
      "text/plain": [
       "[('COMMENTARIUS', 'LOC'),\n",
       " ('PRIMUS', 'LOC'),\n",
       " ('Gallia', 'LOC'),\n",
       " ('est', 'O'),\n",
       " ('omnis', 'O'),\n",
       " ('divisa', 'O'),\n",
       " ('in', 'O'),\n",
       " ('partes', 'O'),\n",
       " ('tres,', 'O'),\n",
       " ('quarum', 'O'),\n",
       " ('unam', 'O'),\n",
       " ('incolunt', 'O'),\n",
       " ('Belgae,', 'O'),\n",
       " ('aliam', 'O'),\n",
       " ('Aquitani,', 'O'),\n",
       " ('tertiam', 'O'),\n",
       " ('qui', 'O'),\n",
       " ('ipsorum', 'O'),\n",
       " ('lingua', 'O'),\n",
       " ('Celtae,', 'O'),\n",
       " ('nostra', 'O'),\n",
       " ('Galli', 'PER'),\n",
       " ('appellantur.', 'PER'),\n",
       " ('Hi', 'PER'),\n",
       " ('omnes', 'O'),\n",
       " ('lingua,', 'O'),\n",
       " ('institutis,', 'O'),\n",
       " ('legibus', 'O'),\n",
       " ('inter', 'O'),\n",
       " ('se', 'O'),\n",
       " ('differunt.', 'O'),\n",
       " ('Gallos', 'PER'),\n",
       " ('ab', 'O'),\n",
       " ('Aquitanis', 'O'),\n",
       " ('Garumna', 'O'),\n",
       " ('flumen,', 'O'),\n",
       " ('a', 'O'),\n",
       " ('Belgis', 'PER'),\n",
       " ('Matrona', 'PER'),\n",
       " ('et', 'O'),\n",
       " ('Sequana', 'O'),\n",
       " ('dividit.', 'O'),\n",
       " ('Horum', 'O'),\n",
       " ('omnium', 'O'),\n",
       " ('fortissimi', 'O'),\n",
       " ('sunt', 'O'),\n",
       " ('Belgae,', 'O'),\n",
       " ('propterea', 'O'),\n",
       " ('quod', 'O'),\n",
       " ('a', 'O'),\n",
       " ('cultu', 'O'),\n",
       " ('atque', 'O'),\n",
       " ('humanitate', 'O'),\n",
       " ('provinciae', 'O'),\n",
       " ('longissime', 'O'),\n",
       " ('absunt,', 'O'),\n",
       " ('minimeque', 'O'),\n",
       " ('ad', 'O'),\n",
       " ('eos', 'O'),\n",
       " ('mercatores', 'O'),\n",
       " ('saepe', 'O'),\n",
       " ('commeant', 'O'),\n",
       " ('atque', 'O'),\n",
       " ('ea', 'O'),\n",
       " ('quae', 'O'),\n",
       " ('ad', 'O'),\n",
       " ('effeminandos', 'O'),\n",
       " ('animos', 'O'),\n",
       " ('pertinent', 'O'),\n",
       " ('important,', 'O'),\n",
       " ('proximique', 'O'),\n",
       " ('sunt', 'O'),\n",
       " ('Germanis,', 'O'),\n",
       " ('qui', 'O'),\n",
       " ('trans', 'O'),\n",
       " ('Rhenum', 'O'),\n",
       " ('incolunt,', 'O'),\n",
       " ('quibuscum', 'O'),\n",
       " ('continenter', 'O'),\n",
       " ('bellum', 'O'),\n",
       " ('gerunt.', 'O'),\n",
       " ('Qua', 'O'),\n",
       " ('de', 'O'),\n",
       " ('causa', 'O'),\n",
       " ('Helvetii', 'O'),\n",
       " ('quoque', 'O'),\n",
       " ('reliquos', 'O'),\n",
       " ('Gallos', 'PER'),\n",
       " ('virtute', 'O'),\n",
       " ('praecedunt,', 'O'),\n",
       " ('quod', 'O'),\n",
       " ('fere', 'O'),\n",
       " ('cotidianis', 'O'),\n",
       " ('proeliis', 'O'),\n",
       " ('cum', 'O'),\n",
       " ('Germanis', 'O'),\n",
       " ('contendunt,', 'O'),\n",
       " ('cum', 'O'),\n",
       " ('aut', 'O'),\n",
       " ('suis', 'O'),\n",
       " ('finibus', 'O'),\n",
       " ('eos', 'O'),\n",
       " ('prohibent', 'O'),\n",
       " ('aut', 'O'),\n",
       " ('ipsi', 'O'),\n",
       " ('in', 'O'),\n",
       " ('eorum', 'O'),\n",
       " ('finibus', 'O'),\n",
       " ('bellum', 'O'),\n",
       " ('gerunt.', 'O'),\n",
       " ('[Eorum', 'O'),\n",
       " ('una,', 'O'),\n",
       " ('pars,', 'O'),\n",
       " ('quam', 'O'),\n",
       " ('Gallos', 'PER'),\n",
       " ('obtinere', 'O'),\n",
       " ('dictum', 'O'),\n",
       " ('est,', 'O'),\n",
       " ('initium', 'O'),\n",
       " ('capit', 'O'),\n",
       " ('a', 'O'),\n",
       " ('flumine', 'O'),\n",
       " ('Rhodano,', 'O'),\n",
       " ('continetur', 'O'),\n",
       " ('Garumna', 'O'),\n",
       " ('flumine,', 'O'),\n",
       " ('Oceano,', 'O'),\n",
       " ('finibus', 'O'),\n",
       " ('Belgarum,', 'O'),\n",
       " ('attingit', 'O'),\n",
       " ('etiam', 'O'),\n",
       " ('ab', 'O'),\n",
       " ('Sequanis', 'O'),\n",
       " ('et', 'O'),\n",
       " ('Helvetiis', 'O'),\n",
       " ('flumen', 'O'),\n",
       " ('Rhenum,', 'O'),\n",
       " ('vergit', 'O'),\n",
       " ('ad', 'O'),\n",
       " ('septentriones.', 'O'),\n",
       " ('Belgae', 'O'),\n",
       " ('ab', 'O'),\n",
       " ('extremis', 'O'),\n",
       " ('Galliae', 'O'),\n",
       " ('finibus', 'O'),\n",
       " ('oriuntur,', 'O'),\n",
       " ('pertinent', 'O'),\n",
       " ('ad', 'O'),\n",
       " ('inferiorem', 'O'),\n",
       " ('partem', 'O')]"
      ]
     },
     "execution_count": 36,
     "metadata": {},
     "output_type": "execute_result"
    }
   ],
   "source": [
    "tagged_text_nltk[0:150]"
   ]
  },
  {
   "cell_type": "markdown",
   "metadata": {
    "deletable": true,
    "editable": true
   },
   "source": [
    "# Wrap up"
   ]
  },
  {
   "cell_type": "markdown",
   "metadata": {
    "deletable": true,
    "editable": true
   },
   "source": [
    "At this point we can \"compare\" the output of the three different methods we used, again by using the `zip` function. "
   ]
  },
  {
   "cell_type": "code",
   "execution_count": 37,
   "metadata": {
    "collapsed": false,
    "deletable": true,
    "editable": true
   },
   "outputs": [
    {
     "data": {
      "text/plain": [
       "[(('Gallia', 'Entity'), ('Gallia', 'Entity'), ('COMMENTARIUS', 'LOC')),\n",
       " (('Belgae,', 'Entity'), ('Galli', 'Entity'), ('PRIMUS', 'LOC')),\n",
       " (('Aquitani,', 'Entity'), ('Hi', 'Entity'), ('Gallia', 'LOC')),\n",
       " (('Celtae,', 'Entity'), ('Gallos', 'Entity'), ('est', 'O')),\n",
       " (('Galli', 'Entity'), ('Aquitanis', 'Entity'), ('omnis', 'O')),\n",
       " (('Hi', 'Entity'), ('Belgis', 'Entity'), ('divisa', 'O')),\n",
       " (('Gallos', 'Entity'), ('Matrona', 'Entity'), ('in', 'O')),\n",
       " (('Aquitanis', 'Entity'), ('Sequana', 'Entity'), ('partes', 'O')),\n",
       " (('Garumna', 'Entity'), ('Rhenum', 'Entity'), ('tres,', 'O')),\n",
       " (('Belgis', 'Entity'), ('Gallos', 'Entity'), ('quarum', 'O')),\n",
       " (('Matrona', 'Entity'), ('Germanis', 'Entity'), ('unam', 'O')),\n",
       " (('Sequana', 'Entity'), ('Gallos', 'Entity'), ('incolunt', 'O')),\n",
       " (('Horum', 'Entity'), ('Sequanis', 'Entity'), ('Belgae,', 'O')),\n",
       " (('Belgae,', 'Entity'), ('Belgae', 'Entity'), ('aliam', 'O')),\n",
       " (('Germanis,', 'Entity'), ('Galliae', 'Entity'), ('Aquitani,', 'O')),\n",
       " (('Rhenum', 'Entity'), ('Aquitania', 'Entity'), ('tertiam', 'O')),\n",
       " (('Qua', 'Entity'), ('Pyrenaeos', 'Entity'), ('qui', 'O')),\n",
       " (('Helvetii', 'Entity'), ('Oceani', 'Entity'), ('ipsorum', 'O')),\n",
       " (('Gallos', 'Entity'), ('Hispaniam', 'Entity'), ('lingua', 'O')),\n",
       " (('Germanis', 'Entity'), ('Is', 'Entity'), ('Celtae,', 'O')),\n",
       " (('[Eorum', 'Entity'), ('Pisone', 'Entity'), ('nostra', 'O')),\n",
       " (('Gallos', 'Entity'), ('Galliae', 'Entity'), ('Galli', 'PER')),\n",
       " (('Rhodano,', 'Entity'), ('Id', 'Entity'), ('appellantur.', 'PER')),\n",
       " (('Garumna', 'Entity'), ('Rheno', 'Entity'), ('Hi', 'PER')),\n",
       " (('Oceano,', 'Entity'), ('Germanis', 'Entity'), ('omnes', 'O')),\n",
       " (('Belgarum,', 'Entity'), ('Iura', 'Entity'), ('lingua,', 'O')),\n",
       " (('Sequanis', 'Entity'), ('Sequanos', 'Entity'), ('institutis,', 'O')),\n",
       " (('Helvetiis', 'Entity'), ('Lemanno', 'Entity'), ('legibus', 'O')),\n",
       " (('Rhenum,', 'Entity'), ('His', 'Entity'), ('inter', 'O')),\n",
       " (('Belgae', 'Entity'), ('Pro', 'Entity'), ('se', 'O')),\n",
       " (('Galliae', 'Entity'), ('His', 'Entity'), ('differunt.', 'O')),\n",
       " (('Rheni,', 'Entity'), ('Orgetorigis', 'Entity'), ('Gallos', 'PER')),\n",
       " (('Aquitania', 'Entity'), ('Orgetorix', 'Entity'), ('ab', 'O')),\n",
       " (('Garumna', 'Entity'), ('Is', 'Entity'), ('Aquitanis', 'O')),\n",
       " (('Pyrenaeos', 'Entity'), ('In', 'Entity'), ('Garumna', 'O')),\n",
       " (('Oceani', 'Entity'), ('Sequanis', 'Entity'), ('flumen,', 'O')),\n",
       " (('Hispaniam', 'Entity'), ('Romani', 'Entity'), ('a', 'O')),\n",
       " (('Apud', 'Entity'), ('Dumnorigi', 'Entity'), ('Belgis', 'PER')),\n",
       " (('Helvetios', 'Entity'), ('Galliae', 'Entity'), ('Matrona', 'PER')),\n",
       " (('Orgetorix.', 'Entity'), ('Hac', 'Entity'), ('et', 'O')),\n",
       " (('Is', 'Entity'), ('Galliae', 'Entity'), ('Sequana', 'O')),\n",
       " (('M.', 'Entity'), ('Ea', 'Entity'), ('dividit.', 'O')),\n",
       " (('Messala,', 'Entity'), ('Die', 'Entity'), ('Horum', 'O')),\n",
       " (('P.]', 'Entity'), ('Orgetorix', 'Entity'), ('omnium', 'O')),\n",
       " (('M.', 'Entity'), ('Cum', 'Entity'), ('fortissimi', 'O')),\n",
       " (('Pisone', 'Entity'), ('Orgetorix', 'Entity'), ('sunt', 'O')),\n",
       " (('Galliae', 'Entity'), ('Rauracis', 'Entity'), ('Belgae,', 'O')),\n",
       " (('Id', 'Entity'), ('Latobrigis', 'Entity'), ('propterea', 'O')),\n",
       " (('Helvetii', 'Entity'), ('Rhenum', 'Entity'), ('quod', 'O')),\n",
       " (('Rheno', 'Entity'), ('Noricum', 'Entity'), ('a', 'O'))]"
      ]
     },
     "execution_count": 37,
     "metadata": {},
     "output_type": "execute_result"
    }
   ],
   "source": [
    "list(zip(tagged_text_baseline[:50], tagged_text_cltk[:50],tagged_text_nltk[:50]))"
   ]
  },
  {
   "cell_type": "code",
   "execution_count": 38,
   "metadata": {
    "collapsed": false,
    "deletable": true,
    "editable": true
   },
   "outputs": [
    {
     "name": "stdout",
     "output_type": "stream",
     "text": [
      "Baseline: ('Gallia', 'Entity')\n",
      "CLTK: ('Gallia', 'Entity')\n",
      "NLTK: ('COMMENTARIUS', 'LOC')\n",
      "\n",
      "Baseline: ('Belgae,', 'Entity')\n",
      "CLTK: ('Galli', 'Entity')\n",
      "NLTK: ('PRIMUS', 'LOC')\n",
      "\n",
      "Baseline: ('Aquitani,', 'Entity')\n",
      "CLTK: ('Hi', 'Entity')\n",
      "NLTK: ('Gallia', 'LOC')\n",
      "\n",
      "Baseline: ('Celtae,', 'Entity')\n",
      "CLTK: ('Gallos', 'Entity')\n",
      "NLTK: ('est', 'O')\n",
      "\n",
      "Baseline: ('Galli', 'Entity')\n",
      "CLTK: ('Aquitanis', 'Entity')\n",
      "NLTK: ('omnis', 'O')\n",
      "\n",
      "Baseline: ('Hi', 'Entity')\n",
      "CLTK: ('Belgis', 'Entity')\n",
      "NLTK: ('divisa', 'O')\n",
      "\n",
      "Baseline: ('Gallos', 'Entity')\n",
      "CLTK: ('Matrona', 'Entity')\n",
      "NLTK: ('in', 'O')\n",
      "\n",
      "Baseline: ('Aquitanis', 'Entity')\n",
      "CLTK: ('Sequana', 'Entity')\n",
      "NLTK: ('partes', 'O')\n",
      "\n",
      "Baseline: ('Garumna', 'Entity')\n",
      "CLTK: ('Rhenum', 'Entity')\n",
      "NLTK: ('tres,', 'O')\n",
      "\n",
      "Baseline: ('Belgis', 'Entity')\n",
      "CLTK: ('Gallos', 'Entity')\n",
      "NLTK: ('quarum', 'O')\n",
      "\n",
      "Baseline: ('Matrona', 'Entity')\n",
      "CLTK: ('Germanis', 'Entity')\n",
      "NLTK: ('unam', 'O')\n",
      "\n",
      "Baseline: ('Sequana', 'Entity')\n",
      "CLTK: ('Gallos', 'Entity')\n",
      "NLTK: ('incolunt', 'O')\n",
      "\n",
      "Baseline: ('Horum', 'Entity')\n",
      "CLTK: ('Sequanis', 'Entity')\n",
      "NLTK: ('Belgae,', 'O')\n",
      "\n",
      "Baseline: ('Belgae,', 'Entity')\n",
      "CLTK: ('Belgae', 'Entity')\n",
      "NLTK: ('aliam', 'O')\n",
      "\n",
      "Baseline: ('Germanis,', 'Entity')\n",
      "CLTK: ('Galliae', 'Entity')\n",
      "NLTK: ('Aquitani,', 'O')\n",
      "\n",
      "Baseline: ('Rhenum', 'Entity')\n",
      "CLTK: ('Aquitania', 'Entity')\n",
      "NLTK: ('tertiam', 'O')\n",
      "\n",
      "Baseline: ('Qua', 'Entity')\n",
      "CLTK: ('Pyrenaeos', 'Entity')\n",
      "NLTK: ('qui', 'O')\n",
      "\n",
      "Baseline: ('Helvetii', 'Entity')\n",
      "CLTK: ('Oceani', 'Entity')\n",
      "NLTK: ('ipsorum', 'O')\n",
      "\n",
      "Baseline: ('Gallos', 'Entity')\n",
      "CLTK: ('Hispaniam', 'Entity')\n",
      "NLTK: ('lingua', 'O')\n",
      "\n",
      "Baseline: ('Germanis', 'Entity')\n",
      "CLTK: ('Is', 'Entity')\n",
      "NLTK: ('Celtae,', 'O')\n",
      "\n",
      "Baseline: ('[Eorum', 'Entity')\n",
      "CLTK: ('Pisone', 'Entity')\n",
      "NLTK: ('nostra', 'O')\n",
      "\n",
      "Baseline: ('Gallos', 'Entity')\n",
      "CLTK: ('Galliae', 'Entity')\n",
      "NLTK: ('Galli', 'PER')\n",
      "\n",
      "Baseline: ('Rhodano,', 'Entity')\n",
      "CLTK: ('Id', 'Entity')\n",
      "NLTK: ('appellantur.', 'PER')\n",
      "\n",
      "Baseline: ('Garumna', 'Entity')\n",
      "CLTK: ('Rheno', 'Entity')\n",
      "NLTK: ('Hi', 'PER')\n",
      "\n",
      "Baseline: ('Oceano,', 'Entity')\n",
      "CLTK: ('Germanis', 'Entity')\n",
      "NLTK: ('omnes', 'O')\n",
      "\n",
      "Baseline: ('Belgarum,', 'Entity')\n",
      "CLTK: ('Iura', 'Entity')\n",
      "NLTK: ('lingua,', 'O')\n",
      "\n",
      "Baseline: ('Sequanis', 'Entity')\n",
      "CLTK: ('Sequanos', 'Entity')\n",
      "NLTK: ('institutis,', 'O')\n",
      "\n",
      "Baseline: ('Helvetiis', 'Entity')\n",
      "CLTK: ('Lemanno', 'Entity')\n",
      "NLTK: ('legibus', 'O')\n",
      "\n",
      "Baseline: ('Rhenum,', 'Entity')\n",
      "CLTK: ('His', 'Entity')\n",
      "NLTK: ('inter', 'O')\n",
      "\n",
      "Baseline: ('Belgae', 'Entity')\n",
      "CLTK: ('Pro', 'Entity')\n",
      "NLTK: ('se', 'O')\n",
      "\n",
      "Baseline: ('Galliae', 'Entity')\n",
      "CLTK: ('His', 'Entity')\n",
      "NLTK: ('differunt.', 'O')\n",
      "\n",
      "Baseline: ('Rheni,', 'Entity')\n",
      "CLTK: ('Orgetorigis', 'Entity')\n",
      "NLTK: ('Gallos', 'PER')\n",
      "\n",
      "Baseline: ('Aquitania', 'Entity')\n",
      "CLTK: ('Orgetorix', 'Entity')\n",
      "NLTK: ('ab', 'O')\n",
      "\n",
      "Baseline: ('Garumna', 'Entity')\n",
      "CLTK: ('Is', 'Entity')\n",
      "NLTK: ('Aquitanis', 'O')\n",
      "\n",
      "Baseline: ('Pyrenaeos', 'Entity')\n",
      "CLTK: ('In', 'Entity')\n",
      "NLTK: ('Garumna', 'O')\n",
      "\n",
      "Baseline: ('Oceani', 'Entity')\n",
      "CLTK: ('Sequanis', 'Entity')\n",
      "NLTK: ('flumen,', 'O')\n",
      "\n",
      "Baseline: ('Hispaniam', 'Entity')\n",
      "CLTK: ('Romani', 'Entity')\n",
      "NLTK: ('a', 'O')\n",
      "\n",
      "Baseline: ('Apud', 'Entity')\n",
      "CLTK: ('Dumnorigi', 'Entity')\n",
      "NLTK: ('Belgis', 'PER')\n",
      "\n",
      "Baseline: ('Helvetios', 'Entity')\n",
      "CLTK: ('Galliae', 'Entity')\n",
      "NLTK: ('Matrona', 'PER')\n",
      "\n",
      "Baseline: ('Orgetorix.', 'Entity')\n",
      "CLTK: ('Hac', 'Entity')\n",
      "NLTK: ('et', 'O')\n",
      "\n",
      "Baseline: ('Is', 'Entity')\n",
      "CLTK: ('Galliae', 'Entity')\n",
      "NLTK: ('Sequana', 'O')\n",
      "\n",
      "Baseline: ('M.', 'Entity')\n",
      "CLTK: ('Ea', 'Entity')\n",
      "NLTK: ('dividit.', 'O')\n",
      "\n",
      "Baseline: ('Messala,', 'Entity')\n",
      "CLTK: ('Die', 'Entity')\n",
      "NLTK: ('Horum', 'O')\n",
      "\n",
      "Baseline: ('P.]', 'Entity')\n",
      "CLTK: ('Orgetorix', 'Entity')\n",
      "NLTK: ('omnium', 'O')\n",
      "\n",
      "Baseline: ('M.', 'Entity')\n",
      "CLTK: ('Cum', 'Entity')\n",
      "NLTK: ('fortissimi', 'O')\n",
      "\n",
      "Baseline: ('Pisone', 'Entity')\n",
      "CLTK: ('Orgetorix', 'Entity')\n",
      "NLTK: ('sunt', 'O')\n",
      "\n",
      "Baseline: ('Galliae', 'Entity')\n",
      "CLTK: ('Rauracis', 'Entity')\n",
      "NLTK: ('Belgae,', 'O')\n",
      "\n",
      "Baseline: ('Id', 'Entity')\n",
      "CLTK: ('Latobrigis', 'Entity')\n",
      "NLTK: ('propterea', 'O')\n",
      "\n",
      "Baseline: ('Helvetii', 'Entity')\n",
      "CLTK: ('Rhenum', 'Entity')\n",
      "NLTK: ('quod', 'O')\n",
      "\n",
      "Baseline: ('Rheno', 'Entity')\n",
      "CLTK: ('Noricum', 'Entity')\n",
      "NLTK: ('a', 'O')\n",
      "\n",
      "Baseline: ('Helvetium', 'Entity')\n",
      "CLTK: ('Noreiamque', 'Entity')\n",
      "NLTK: ('cultu', 'O')\n",
      "\n",
      "Baseline: ('Germanis', 'Entity')\n",
      "CLTK: ('Iuram', 'Entity')\n",
      "NLTK: ('atque', 'O')\n",
      "\n",
      "Baseline: ('Iura', 'Entity')\n",
      "CLTK: ('Rhodanus', 'Entity')\n",
      "NLTK: ('humanitate', 'O')\n",
      "\n",
      "Baseline: ('Sequanos', 'Entity')\n",
      "CLTK: ('Allobrogum', 'Entity')\n",
      "NLTK: ('provinciae', 'O')\n",
      "\n",
      "Baseline: ('Helvetios;', 'Entity')\n",
      "CLTK: ('Ex', 'Entity')\n",
      "NLTK: ('longissime', 'O')\n",
      "\n",
      "Baseline: ('Lemanno', 'Entity')\n",
      "CLTK: ('Allobrogibus', 'Entity')\n",
      "NLTK: ('absunt,', 'O')\n",
      "\n",
      "Baseline: ('Rhodano,', 'Entity')\n",
      "CLTK: ('Romanum', 'Entity')\n",
      "NLTK: ('minimeque', 'O')\n",
      "\n",
      "Baseline: ('Helvetiis', 'Entity')\n",
      "CLTK: ('Rhodani', 'Entity')\n",
      "NLTK: ('ad', 'O')\n",
      "\n",
      "Baseline: ('His', 'Entity')\n",
      "CLTK: ('Gabinio', 'Entity')\n",
      "NLTK: ('eos', 'O')\n",
      "\n",
      "Baseline: ('Pro', 'Entity')\n",
      "CLTK: ('Caesari', 'Entity')\n",
      "NLTK: ('mercatores', 'O')\n",
      "\n",
      "Baseline: ('His', 'Entity')\n",
      "CLTK: ('Galliam', 'Entity')\n",
      "NLTK: ('saepe', 'O')\n",
      "\n",
      "Baseline: ('Orgetorigis', 'Entity')\n",
      "CLTK: ('Gallia', 'Entity')\n",
      "NLTK: ('commeant', 'O')\n",
      "\n",
      "Baseline: ('Ad', 'Entity')\n",
      "CLTK: ('Nammeius', 'Entity')\n",
      "NLTK: ('atque', 'O')\n",
      "\n",
      "Baseline: ('Ad', 'Entity')\n",
      "CLTK: ('Cassium', 'Entity')\n",
      "NLTK: ('ea', 'O')\n",
      "\n",
      "Baseline: ('Orgetorix', 'Entity')\n",
      "CLTK: ('Interea', 'Entity')\n",
      "NLTK: ('quae', 'O')\n",
      "\n",
      "Baseline: ('Is', 'Entity')\n",
      "CLTK: ('Rhodanum', 'Entity')\n",
      "NLTK: ('ad', 'O')\n",
      "\n",
      "Baseline: ('In', 'Entity')\n",
      "CLTK: ('Sequanorum', 'Entity')\n",
      "NLTK: ('effeminandos', 'O')\n",
      "\n",
      "Baseline: ('Castico,', 'Entity')\n",
      "CLTK: ('Eo', 'Entity')\n",
      "NLTK: ('animos', 'O')\n",
      "\n",
      "Baseline: ('Catamantaloedis', 'Entity')\n",
      "CLTK: ('Romani', 'Entity')\n",
      "NLTK: ('pertinent', 'O')\n",
      "\n",
      "Baseline: ('Sequano,', 'Entity')\n",
      "CLTK: ('Sequanos', 'Entity')\n",
      "NLTK: ('important,', 'O')\n",
      "\n",
      "Baseline: ('Sequanis', 'Entity')\n",
      "CLTK: ('Sequanis', 'Entity')\n",
      "NLTK: ('proximique', 'O')\n",
      "\n",
      "Baseline: ('Romani', 'Entity')\n",
      "CLTK: ('His', 'Entity')\n",
      "NLTK: ('sunt', 'O')\n",
      "\n",
      "Baseline: ('Dumnorigi', 'Entity')\n",
      "CLTK: ('Dumnorigem', 'Entity')\n",
      "NLTK: ('Germanis,', 'O')\n",
      "\n",
      "Baseline: ('Haeduo,', 'Entity')\n",
      "CLTK: ('Sequanis', 'Entity')\n",
      "NLTK: ('qui', 'O')\n",
      "\n",
      "Baseline: ('Diviciaci,', 'Entity')\n",
      "CLTK: ('Dumnorix', 'Entity')\n",
      "NLTK: ('trans', 'O')\n",
      "\n",
      "Baseline: ('Perfacile', 'Entity')\n",
      "CLTK: ('Sequanos', 'Entity')\n",
      "NLTK: ('Rhenum', 'O')\n",
      "\n",
      "Baseline: ('Galliae', 'Entity')\n",
      "CLTK: ('Orgetorigis', 'Entity')\n",
      "NLTK: ('incolunt,', 'O')\n",
      "\n",
      "Baseline: ('Helvetii', 'Entity')\n",
      "CLTK: ('Sequanis', 'Entity')\n",
      "NLTK: ('quibuscum', 'O')\n",
      "\n",
      "Baseline: ('Hac', 'Entity')\n",
      "CLTK: ('Caesari', 'Entity')\n",
      "NLTK: ('continenter', 'O')\n",
      "\n",
      "Baseline: ('Galliae', 'Entity')\n",
      "CLTK: ('Sequanorum', 'Entity')\n",
      "NLTK: ('bellum', 'O')\n",
      "\n",
      "Baseline: ('Ea', 'Entity')\n",
      "CLTK: ('Haeduorum', 'Entity')\n",
      "NLTK: ('gerunt.', 'O')\n",
      "\n",
      "Baseline: ('Helvetiis', 'Entity')\n",
      "CLTK: ('Santonum', 'Entity')\n",
      "NLTK: ('Qua', 'O')\n",
      "\n",
      "Baseline: ('Moribus', 'Entity')\n",
      "CLTK: ('Tolosatium', 'Entity')\n",
      "NLTK: ('de', 'O')\n",
      "\n",
      "Baseline: ('Orgetoricem', 'Entity')\n",
      "CLTK: ('Id', 'Entity')\n",
      "NLTK: ('causa', 'O')\n",
      "\n",
      "Baseline: ('Die', 'Entity')\n",
      "CLTK: ('Romani', 'Entity')\n",
      "NLTK: ('Helvetii', 'O')\n",
      "\n",
      "Baseline: ('Orgetorix', 'Entity')\n",
      "CLTK: ('Ob', 'Entity')\n",
      "NLTK: ('quoque', 'O')\n",
      "\n",
      "Baseline: ('Cum', 'Entity')\n",
      "CLTK: ('Labienum', 'Entity')\n",
      "NLTK: ('reliquos', 'O')\n",
      "\n",
      "Baseline: ('Orgetorix', 'Entity')\n",
      "CLTK: ('Italiam', 'Entity')\n",
      "NLTK: ('Gallos', 'PER')\n",
      "\n",
      "Baseline: ('Helvetii', 'Entity')\n",
      "CLTK: ('Aquileiam', 'Entity')\n",
      "NLTK: ('virtute', 'O')\n",
      "\n",
      "Baseline: ('Post', 'Entity')\n",
      "CLTK: ('Galliam', 'Entity')\n",
      "NLTK: ('praecedunt,', 'O')\n",
      "\n",
      "Baseline: ('Helvetii', 'Entity')\n",
      "CLTK: ('Alpes', 'Entity')\n",
      "NLTK: ('quod', 'O')\n",
      "\n",
      "Baseline: ('Ubi', 'Entity')\n",
      "CLTK: ('Ceutrones', 'Entity')\n",
      "NLTK: ('fere', 'O')\n",
      "\n",
      "Baseline: ('Persuadent', 'Entity')\n",
      "CLTK: ('Graioceli', 'Entity')\n",
      "NLTK: ('cotidianis', 'O')\n",
      "\n",
      "Baseline: ('Rauracis', 'Entity')\n",
      "CLTK: ('Caturiges', 'Entity')\n",
      "NLTK: ('proeliis', 'O')\n",
      "\n",
      "Baseline: ('Tulingis', 'Entity')\n",
      "CLTK: ('Allobrogum', 'Entity')\n",
      "NLTK: ('cum', 'O')\n",
      "\n",
      "Baseline: ('Latobrigis', 'Entity')\n",
      "CLTK: ('Allobrogibus', 'Entity')\n",
      "NLTK: ('Germanis', 'O')\n",
      "\n",
      "Baseline: ('Boiosque,', 'Entity')\n",
      "CLTK: ('Hi', 'Entity')\n",
      "NLTK: ('contendunt,', 'O')\n",
      "\n",
      "Baseline: ('Rhenum', 'Entity')\n",
      "CLTK: ('Rhodanum', 'Entity')\n",
      "NLTK: ('cum', 'O')\n",
      "\n",
      "Baseline: ('Noricum', 'Entity')\n",
      "CLTK: ('Sequanorum', 'Entity')\n",
      "NLTK: ('aut', 'O')\n",
      "\n",
      "Baseline: ('Noreiamque', 'Entity')\n",
      "CLTK: ('Haeduorum', 'Entity')\n",
      "NLTK: ('suis', 'O')\n",
      "\n",
      "Baseline: ('Erant', 'Entity')\n",
      "CLTK: ('Caesarem', 'Entity')\n",
      "NLTK: ('finibus', 'O')\n",
      "\n",
      "Baseline: ('Sequanos,', 'Entity')\n",
      "CLTK: ('Romano', 'Entity')\n",
      "NLTK: ('eos', 'O')\n",
      "\n",
      "Baseline: ('Iuram', 'Entity')\n",
      "CLTK: ('Haedui', 'Entity')\n",
      "NLTK: ('prohibent', 'O')\n",
      "\n",
      "Baseline: ('Rhodanum,', 'Entity')\n",
      "CLTK: ('Caesarem', 'Entity')\n",
      "NLTK: ('aut', 'O')\n",
      "\n",
      "Baseline: ('Helvetiorum', 'Entity')\n",
      "CLTK: ('Rhodanum', 'Entity')\n",
      "NLTK: ('ipsi', 'O')\n",
      "\n",
      "Baseline: ('Allobrogum,', 'Entity')\n",
      "CLTK: ('Caesarem', 'Entity')\n",
      "NLTK: ('in', 'O')\n",
      "\n",
      "Baseline: ('Rhodanus', 'Entity')\n",
      "CLTK: ('Caesar', 'Entity')\n",
      "NLTK: ('eorum', 'O')\n",
      "\n",
      "Baseline: ('Extremum', 'Entity')\n",
      "CLTK: ('Santonos', 'Entity')\n",
      "NLTK: ('finibus', 'O')\n",
      "\n",
      "Baseline: ('Allobrogum', 'Entity')\n",
      "CLTK: ('Haeduorum', 'Entity')\n",
      "NLTK: ('bellum', 'O')\n",
      "\n",
      "Baseline: ('Helvetiorum', 'Entity')\n",
      "CLTK: ('Sequanorum', 'Entity')\n",
      "NLTK: ('gerunt.', 'O')\n",
      "\n",
      "Baseline: ('Genava.', 'Entity')\n",
      "CLTK: ('Rhodanum', 'Entity')\n",
      "NLTK: ('[Eorum', 'O')\n",
      "\n",
      "Baseline: ('Ex', 'Entity')\n",
      "CLTK: ('Id', 'Entity')\n",
      "NLTK: ('una,', 'O')\n",
      "\n",
      "Baseline: ('Helvetios', 'Entity')\n",
      "CLTK: ('Caesar', 'Entity')\n",
      "NLTK: ('pars,', 'O')\n",
      "\n",
      "Baseline: ('Allobrogibus', 'Entity')\n",
      "CLTK: ('Ararim', 'Entity')\n",
      "NLTK: ('quam', 'O')\n",
      "\n",
      "Baseline: ('Romanum', 'Entity')\n",
      "CLTK: ('Eos', 'Entity')\n",
      "NLTK: ('Gallos', 'PER')\n",
      "\n",
      "Baseline: ('Omnibus', 'Entity')\n",
      "CLTK: ('Is', 'Entity')\n",
      "NLTK: ('obtinere', 'O')\n",
      "\n",
      "Baseline: ('Rhodani', 'Entity')\n",
      "CLTK: ('Hic', 'Entity')\n",
      "NLTK: ('dictum', 'O')\n",
      "\n",
      "Baseline: ('V.', 'Entity')\n",
      "CLTK: ('Cassium', 'Entity')\n",
      "NLTK: ('est,', 'O')\n",
      "\n",
      "Baseline: ('Kal.', 'Entity')\n",
      "CLTK: ('Ita', 'Entity')\n",
      "NLTK: ('initium', 'O')\n",
      "\n",
      "Baseline: ('Apr.', 'Entity')\n",
      "CLTK: ('Romano', 'Entity')\n",
      "NLTK: ('capit', 'O')\n",
      "\n",
      "Baseline: ('L.', 'Entity')\n",
      "CLTK: ('Caesar', 'Entity')\n",
      "NLTK: ('a', 'O')\n",
      "\n",
      "Baseline: ('Pisone,', 'Entity')\n",
      "CLTK: ('Pisonis', 'Entity')\n",
      "NLTK: ('flumine', 'O')\n",
      "\n",
      "Baseline: ('A.', 'Entity')\n",
      "CLTK: ('Pisonem', 'Entity')\n",
      "NLTK: ('Rhodano,', 'O')\n",
      "\n",
      "Baseline: ('Gabinio', 'Entity')\n",
      "CLTK: ('Tigurini', 'Entity')\n",
      "NLTK: ('continetur', 'O')\n",
      "\n",
      "Baseline: ('Caesari', 'Entity')\n",
      "CLTK: ('Cassium', 'Entity')\n",
      "NLTK: ('Garumna', 'O')\n",
      "\n",
      "Baseline: ('Galliam', 'Entity')\n",
      "CLTK: ('Arari', 'Entity')\n",
      "NLTK: ('flumine,', 'O')\n",
      "\n",
      "Baseline: ('Genavam', 'Entity')\n",
      "CLTK: ('Cassiano', 'Entity')\n",
      "NLTK: ('Oceano,', 'O')\n",
      "\n",
      "Baseline: ('Provinciae', 'Entity')\n",
      "CLTK: ('Is', 'Entity')\n",
      "NLTK: ('finibus', 'O')\n",
      "\n",
      "Baseline: ('Gallia', 'Entity')\n",
      "CLTK: ('Caesare', 'Entity')\n",
      "NLTK: ('Belgarum,', 'O')\n",
      "\n",
      "Baseline: ('Genavam,', 'Entity')\n",
      "CLTK: ('Romanus', 'Entity')\n",
      "NLTK: ('attingit', 'O')\n",
      "\n",
      "Baseline: ('Ubi', 'Entity')\n",
      "CLTK: ('Caesar', 'Entity')\n",
      "NLTK: ('etiam', 'O')\n",
      "\n",
      "Baseline: ('Helvetii', 'Entity')\n",
      "CLTK: ('Romani', 'Entity')\n",
      "NLTK: ('ab', 'O')\n",
      "\n",
      "Baseline: ('Nammeius', 'Entity')\n",
      "CLTK: ('Se', 'Entity')\n",
      "NLTK: ('Sequanis', 'O')\n",
      "\n",
      "Baseline: ('Verucloetius', 'Entity')\n",
      "CLTK: ('Romani', 'Entity')\n",
      "NLTK: ('et', 'O')\n",
      "\n",
      "Baseline: ('Caesar,', 'Entity')\n",
      "CLTK: ('His', 'Entity')\n",
      "NLTK: ('Helvetiis', 'O')\n",
      "\n",
      "Baseline: ('L.', 'Entity')\n",
      "CLTK: ('Caesar', 'Entity')\n",
      "NLTK: ('flumen', 'O')\n",
      "\n",
      "Baseline: ('Cassium', 'Entity')\n",
      "CLTK: ('Romani', 'Entity')\n",
      "NLTK: ('Rhenum,', 'O')\n",
      "\n",
      "Baseline: ('Helvetiis', 'Entity')\n",
      "CLTK: ('Allobrogas', 'Entity')\n",
      "NLTK: ('vergit', 'O')\n",
      "\n",
      "Baseline: ('Tamen,', 'Entity')\n",
      "CLTK: ('Cum', 'Entity')\n",
      "NLTK: ('ad', 'O')\n",
      "\n",
      "Baseline: ('Id.', 'Entity')\n",
      "CLTK: ('Haeduis', 'Entity')\n",
      "NLTK: ('septentriones.', 'O')\n",
      "\n",
      "Baseline: ('April.', 'Entity')\n",
      "CLTK: ('Allobrogibus', 'Entity')\n",
      "NLTK: ('Belgae', 'O')\n",
      "\n",
      "Baseline: ('Interea', 'Entity')\n",
      "CLTK: ('Romanum', 'Entity')\n",
      "NLTK: ('ab', 'O')\n",
      "\n",
      "Baseline: ('Lemanno,', 'Entity')\n",
      "CLTK: ('Caesar', 'Entity')\n",
      "NLTK: ('extremis', 'O')\n",
      "\n",
      "Baseline: ('Rhodanum', 'Entity')\n",
      "CLTK: ('Haeduis', 'Entity')\n",
      "NLTK: ('Galliae', 'O')\n",
      "\n",
      "Baseline: ('Iuram,', 'Entity')\n",
      "CLTK: ('Caesar', 'Entity')\n",
      "NLTK: ('finibus', 'O')\n",
      "\n",
      "Baseline: ('Sequanorum', 'Entity')\n",
      "CLTK: ('Ita', 'Entity')\n",
      "NLTK: ('oriuntur,', 'O')\n",
      "\n",
      "Baseline: ('Helvetiis', 'Entity')\n",
      "CLTK: ('Caesar', 'Entity')\n",
      "NLTK: ('pertinent', 'O')\n",
      "\n",
      "Baseline: ('Eo', 'Entity')\n",
      "CLTK: ('Haeduos', 'Entity')\n",
      "NLTK: ('ad', 'O')\n",
      "\n",
      "Baseline: ('Ubi', 'Entity')\n",
      "CLTK: ('Nam', 'Entity')\n",
      "NLTK: ('inferiorem', 'O')\n",
      "\n",
      "Baseline: ('Romani', 'Entity')\n",
      "CLTK: ('Gallia', 'Entity')\n",
      "NLTK: ('partem', 'O')\n",
      "\n"
     ]
    }
   ],
   "source": [
    "for baseline_out, cltk_out, nltk_out in zip(tagged_text_baseline[:150], tagged_text_cltk[:150], tagged_text_nltk[:150]):\n",
    "    print(\"Baseline: %s\\nCLTK: %s\\nNLTK: %s\\n\"%(baseline_out, cltk_out, nltk_out))"
   ]
  },
  {
   "cell_type": "markdown",
   "metadata": {
    "deletable": true,
    "editable": true
   },
   "source": [
    "# Exercise"
   ]
  },
  {
   "cell_type": "markdown",
   "metadata": {
    "deletable": true,
    "editable": true
   },
   "source": [
    "Extract the named entities from the English translation of the *De Bello Gallico* book 1.\n",
    "\n",
    "The CTS URN for this translation is `urn:cts:latinLit:phi0448.phi001.perseus-eng2:1`."
   ]
  },
  {
   "cell_type": "markdown",
   "metadata": {
    "deletable": true,
    "editable": true
   },
   "source": [
    "Modify the code above to use the English model of the Stanford tagger instead of the italian one.\n",
    "\n",
    "Hint:"
   ]
  },
  {
   "cell_type": "code",
   "execution_count": null,
   "metadata": {
    "collapsed": false,
    "deletable": true,
    "editable": true
   },
   "outputs": [],
   "source": []
  }
 ],
 "metadata": {
  "kernelspec": {
   "display_name": "Python 3",
   "language": "python",
   "name": "python3"
  },
  "language_info": {
   "codemirror_mode": {
    "name": "ipython",
    "version": 3
   },
   "file_extension": ".py",
   "mimetype": "text/x-python",
   "name": "python",
   "nbconvert_exporter": "python",
   "pygments_lexer": "ipython3",
   "version": "3.5.0"
  },
  "toc": {
   "colors": {
    "hover_highlight": "#DAA520",
    "running_highlight": "#FF0000",
    "selected_highlight": "#FFD700"
   },
   "moveMenuLeft": true,
   "nav_menu": {
    "height": "172px",
    "width": "303px"
   },
   "navigate_menu": true,
   "number_sections": true,
   "sideBar": true,
   "threshold": 4,
   "toc_cell": false,
   "toc_position": {
    "height": "693px",
    "left": "0px",
    "right": "1210px",
    "top": "106px",
    "width": "212px"
   },
   "toc_section_display": "block",
   "toc_window_display": false
  }
 },
 "nbformat": 4,
 "nbformat_minor": 2
}
